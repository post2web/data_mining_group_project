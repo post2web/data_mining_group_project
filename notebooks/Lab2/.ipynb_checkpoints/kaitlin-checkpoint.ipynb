{
 "cells": [
  {
   "cell_type": "markdown",
   "metadata": {
    "deletable": true,
    "editable": true
   },
   "source": [
    "# FYI directions, delete later\n",
    "\n",
    "You are to build upon the predictive analysis (classification) that you already completed in the previous mini-project, adding additional modeling from new classification algorithms as well as more explanations that are inline with the CRISP-DM framework. You should use appropriate cross validation for all of your analysis (explain your chosen method of performance validation in detail). Try to use as much testing data as possible in a realistic manner (you should define what you think\n",
    "is realistic and why). \n",
    "\n",
    "This report is worth 20% of the final grade. Please upload a report (one per team) with all code used, visualizations, and text in a single document. The format of the document can be PDF, *.ipynb, or HTML. You can write the report in whatever format you like, but it is easiest to turn in the rendered Jupyter notebook. The results should be reproducible using your report. Please carefully describe every assumption and every step in your report.\n",
    "\n",
    "Dataset Selection\n",
    "\n",
    "Select a dataset identically to the way you selected for the first project work week and mini-project.\n",
    "You are not required to use the same dataset that you used in the past, but you are encouraged.\n",
    "You must identify two tasks from the dataset to regress or classify. That is:\n",
    "\n",
    "* two classification tasks OR\n",
    "* two regression tasks OR\n",
    "* one classification task and one regression task\n",
    "\n",
    "For example, if your dataset was from the diabetes data you might try to predict two tasks: (1)\n",
    "classifying if a patient will be readmitted within a 30 day period or not, and (2) regressing what the\n",
    "total number of days a patient will spend in the hospital, given their history and specifics of the\n",
    "encounter like tests administered and previous admittance."
   ]
  },
  {
   "cell_type": "markdown",
   "metadata": {
    "deletable": true,
    "editable": true
   },
   "source": [
    "# Lab 2: Zillow Dataset Classification \n",
    "MSDS 7331 Data Mining - Section 403 - Lab 2\n",
    "\n",
    "Team: Ivelin Angelov, Yao Yao, Kaitlin Kirasich, Albert Asuncion\n",
    "\n",
    "<a id=\"top\"></a>\n",
    "## Contents\n",
    "* <a href=\"#Imports\">Imports</a>\n",
    "* <a href=\"#Define\">Define and Prepare Class Variables</a>\n",
    "* <a href=\"#Describe\">Describe the Final Dataset</a>\n",
    "* <a href=\"#Evaluation\">Explain Evaluation Metrics</a>\n",
    "* <a href=\"#Splits\">Training and Testing Splits</a>\n",
    "* <a href=\"#Models\">Three Different Classification/Regression Models</a>\n",
    "* <a href=\"#Analysis\">Visualizations of Results and Analysis</a>\n",
    "* <a href=\"#Advantages\">Advantages of Each Model</a>\n",
    "* <a href=\"#Attributes\">Important Attributes</a>\n",
    "* <a href=\"#Deployment\">Deployment</a>\n",
    "* <a href=\"#Exceptional\">Exceptional Work</a>\n",
    "* <a href=\"#References\">References</a>\n",
    "________________________________________________________________________________________________________\n",
    "<a id=\"Imports\"></a>\n",
    "# Imports"
   ]
  },
  {
   "cell_type": "code",
   "execution_count": 1,
   "metadata": {
    "collapsed": false,
    "deletable": true,
    "editable": true
   },
   "outputs": [
    {
     "data": {
      "text/plain": [
       "'The dataset has 116761 rows and 54 columns'"
      ]
     },
     "execution_count": 1,
     "metadata": {},
     "output_type": "execute_result"
    }
   ],
   "source": [
    "%matplotlib inline\n",
    "import numpy as np\n",
    "import pandas as pd\n",
    "import matplotlib.pyplot as plt\n",
    "import seaborn as sns\n",
    "from IPython.display import display, HTML\n",
    "from sklearn.model_selection import train_test_split\n",
    "\n",
    "\n",
    "variables = pd.read_csv('../../datasets/variables.csv').set_index('name')\n",
    "dataset = pd.read_csv('../../datasets/train.csv', low_memory=False)\n",
    "\n",
    "variables = variables.loc[variables.index.isin(dataset.columns)]\n",
    "\n",
    "'The dataset has %d rows and %d columns' % dataset.shape"
   ]
  },
  {
   "cell_type": "markdown",
   "metadata": {
    "deletable": true,
    "editable": true
   },
   "source": [
    "<a href=\"#top\">Back to Top</a>\n",
    "<a id=\"Define\"></a>\n",
    "# Define and Prepare Class Variables\n",
    "<b>10 points</b>\n",
    "\n",
    "<i>\n",
    "<b>Description:</b><br/>\n",
    "Define and prepare your class variables. Use proper variable representations (int, float, one-hot, etc.). Use pre-processing methods (as needed) for dimensionality reduction, scaling, etc. Remove variables that are not needed/useful for the analysis.\n",
    "</i>"
   ]
  },
  {
   "cell_type": "markdown",
   "metadata": {
    "collapsed": true,
    "deletable": true,
    "editable": true
   },
   "source": [
    "## Regression task\n",
    "\n",
    "In this dataset we will predict the value of taxamount"
   ]
  },
  {
   "cell_type": "code",
   "execution_count": 2,
   "metadata": {
    "collapsed": true,
    "deletable": true,
    "editable": true
   },
   "outputs": [],
   "source": [
    "X = dataset.copy()\n",
    "y = X['taxamount']\n",
    "del X['taxamount']\n",
    "# del X['taxvaluedollarcnt']????\n",
    "\n",
    "dataset_reg = {\n",
    "    'X': X,\n",
    "    'y': y\n",
    "}"
   ]
  },
  {
   "cell_type": "markdown",
   "metadata": {
    "deletable": true,
    "editable": true
   },
   "source": [
    "## Classification task\n",
    "I this task we are creating a variable: has_garage with posible values 1 or 0 representing has garage or doesn't have garage. The class is a little bit skewed with only 0.368 percent having garage."
   ]
  },
  {
   "cell_type": "code",
   "execution_count": 3,
   "metadata": {
    "collapsed": false,
    "deletable": true,
    "editable": true
   },
   "outputs": [
    {
     "data": {
      "text/plain": [
       "0.36825652401058573"
      ]
     },
     "execution_count": 3,
     "metadata": {},
     "output_type": "execute_result"
    }
   ],
   "source": [
    "X = dataset.copy()\n",
    "y = (X['garagecarcnt'] > 0).astype(int)\n",
    "del X['garagetotalsqft']\n",
    "del X['garagecarcnt']\n",
    "\n",
    "dataset_class = {\n",
    "    'X': X,\n",
    "    'y': y\n",
    "}\n",
    "\n",
    "y.sum() / len(X)"
   ]
  },
  {
   "cell_type": "markdown",
   "metadata": {
    "deletable": true,
    "editable": true
   },
   "source": [
    "<a href=\"#top\">Back to Top</a>\n",
    "<a id=\"Describe\"></a>\n",
    "# Describe the Final Dataset\n",
    "<b>5 points</b>\n",
    "\n",
    "<i>\n",
    "<b>Description:</b><br/>\n",
    "Describe the final dataset that is used for classification/regression (include a description of any newly formed variables you created).\n",
    "</i>"
   ]
  },
  {
   "cell_type": "markdown",
   "metadata": {
    "deletable": true,
    "editable": true
   },
   "source": [
    "## List of all variables"
   ]
  },
  {
   "cell_type": "code",
   "execution_count": 4,
   "metadata": {
    "collapsed": false,
    "deletable": true,
    "editable": true
   },
   "outputs": [
    {
     "data": {
      "text/html": [
       "<table><tr><th>Variable</th><th>Type</th><th>Scale</th><th>Description</th></tr><tr><td>airconditioningtypeid</td><td>nominal</td><td>[0, 1, 5, 13, 11, 9, 3]</td><td>Type of cooling system present in the home (if any)</td></tr><tr><td>assessmentyear</td><td>interval</td><td>(2015, 2015)</td><td>The year of the property tax assessment</td></tr><tr><td>bathroomcnt</td><td>ordinal</td><td>[2.5, 1.0, 2.0, 1.5, 3.0, ... (23 More)]</td><td>Number of bathrooms in home including fractional bathrooms</td></tr><tr><td>bedroomcnt</td><td>ordinal</td><td>[3, 2, 4, 5, 6, ... (17 More)]</td><td>Number of bedrooms in home</td></tr><tr><td>buildingqualitytypeid</td><td>ordinal</td><td>[7, 4, 10, 1, 8, 12, 6, 11]</td><td>Overall assessment of condition of the building from best (lowest) to worst (highest)</td></tr><tr><td>calculatedbathnbr</td><td>ordinal</td><td>[2.5, 1.0, 2.0, 1.5, 3.0, ... (23 More)]</td><td>Number of bathrooms in home including fractional bathroom</td></tr><tr><td>calculatedfinishedsquarefeet</td><td>ratio</td><td>(0, 10925)</td><td>Calculated total finished living area of the home</td></tr><tr><td>censustractandblock</td><td>nominal</td><td>[61110023618600.0, 61110015230000.0, 61110006841300.0, 61110052978700.0, 61110040395800.0, ... (445 More)]</td><td>Census tract and block ID combined - also contains blockgroup assignment by extension</td></tr><tr><td>city</td><td>nominal</td><td>[nan, CORNELIUS, DAMASCUS, BORING, CLACKAMAS, ... (231 More)]</td><td>USPS offical city name(s)</td></tr><tr><td>finishedsquarefeet12</td><td>ratio</td><td>(0, 6615)</td><td>Finished living area</td></tr><tr><td>finishedsquarefeet50</td><td>ratio</td><td>(0, 8352)</td><td>Size of the finished living area on the first (entry) floor of the home</td></tr><tr><td>fips</td><td>nominal</td><td>[6111, 6037, 6059]</td><td>Federal Information Processing Standard code - see https://en.wikipedia.org/wiki/FIPS_county_code for more details</td></tr><tr><td>fireplacecnt</td><td>ordinal</td><td>[0, 1, 2, 3, 4, 5]</td><td>Number of fireplaces in a home (if any)</td></tr><tr><td>fullbathcnt</td><td>ordinal</td><td>[2.0, 1.0, 3.0, 7.0, 5.0, ... (19 More)]</td><td>Number of full bathrooms (sink, shower + bathtub, and toilet) present in home</td></tr><tr><td>garagecarcnt</td><td>ordinal</td><td>[2.0, 1.0, 3.0, 0.0, 4.0, ... (15 More)]</td><td>Total number of garages on the lot including an attached garage</td></tr><tr><td>garagetotalsqft</td><td>ratio</td><td>(0, 1610)</td><td>Total number of square feet of all garages on lot including an attached garage</td></tr><tr><td>hashottuborspa</td><td>ordinal</td><td>[0, 1]</td><td>Does the home have a hot tub or spa</td></tr><tr><td>heatingorsystemtypeid</td><td>nominal</td><td>[0, 2, 7, 6, 24, ... (13 More)]</td><td>Type of home heating system</td></tr><tr><td>landtaxvaluedollarcnt</td><td>ratio</td><td>(22, 2477536)</td><td>The assessed value of the land area of the parcel</td></tr><tr><td>latitude</td><td>interval</td><td>(33339296, 34816008)</td><td>Latitude of the middle of the parcel multiplied by 10e6</td></tr><tr><td>location_type</td><td>nominal</td><td>[nan, PRIMARY, ACCEPTABLE, NOT ACCEPTABLE]</td><td>Primary, Acceptable, Not Acceptable</td></tr><tr><td>logerror</td><td>interval</td><td>(-4, 4)</td><td>Error or the Zillow model response variable</td></tr><tr><td>longitude</td><td>interval</td><td>(-119447864, -117554928)</td><td>Longitude of the middle of the parcel multiplied by 10e6</td></tr><tr><td>lotsizesquarefeet</td><td>ratio</td><td>(0, 1710750)</td><td>Area of the lot in square feet</td></tr><tr><td>numberofstories</td><td>ordinal</td><td>[2, 1, 3, 4]</td><td>Number of stories or levels the home has</td></tr><tr><td>parcelid</td><td>nominal</td><td>[17073783, 17088994, 17100444, 17102429, 17109604, ... (90150 More)]</td><td>Unique identifier for parcels (lots)</td></tr><tr><td>poolcnt</td><td>ordinal</td><td>[0.0, 1.0]</td><td>Number of pools on the lot (if any)</td></tr><tr><td>poolsizesum</td><td>ratio</td><td>(0, 1476)</td><td>Total square footage of all pools on property</td></tr><tr><td>pooltypeid10</td><td>nominal</td><td>[0, 1]</td><td>Spa or Hot Tub</td></tr><tr><td>pooltypeid2</td><td>nominal</td><td>[0, 1]</td><td>Pool with Spa/Hot Tub</td></tr><tr><td>pooltypeid7</td><td>nominal</td><td>[0, 1]</td><td>Pool without hot tub</td></tr><tr><td>price_per_sqft</td><td>ratio</td><td>(0, 2081)</td><td>Tax per SQFT</td></tr><tr><td>propertycountylandusecode</td><td>nominal</td><td>[1128, 1129, 1111, 1110, 010C, ... (77 More)]</td><td>County land use code i.e. it's zoning at the county level</td></tr><tr><td>propertylandusetypeid</td><td>nominal</td><td>[265, 266, 261, 269, 246, ... (14 More)]</td><td>Type of land use the property is zoned for</td></tr><tr><td>propertyzoningdesc</td><td>nominal</td><td>[0, LARD3, LARS, LARE11, LCA21*, ... (1997 More)]</td><td>Description of the allowed land uses (zoning) for that property</td></tr><tr><td>rawcensustractandblock</td><td>nominal</td><td>[61110022, 61110015, 61110007, 61110008, 61110014, ... (1418 More)]</td><td>Census tract and block ID combined - also contains blockgroup assignment by extension</td></tr><tr><td>regionidcity</td><td>nominal</td><td>[34543, 26965, 51239, 13150, 25974, ... (178 More)]</td><td>City in which the property is located (if any)</td></tr><tr><td>regionidcounty</td><td>nominal</td><td>[2061, 3101, 1286]</td><td>County in which the property is located</td></tr><tr><td>regionidneighborhood</td><td>nominal</td><td>[0, 48570, 268588, 40548, 27987, ... (495 More)]</td><td>Neighborhood in which the property is located</td></tr><tr><td>regionidzip</td><td>nominal</td><td>[97081, 97083, 97113, 97084, 97089, ... (389 More)]</td><td>Zip code in which the property is located</td></tr><tr><td>roomcnt</td><td>ordinal</td><td>[5, 4, 8, 6, 9, ... (16 More)]</td><td>Total number of rooms in the principal residence</td></tr><tr><td>structuretaxvaluedollarcnt</td><td>ratio</td><td>(100, 2181198)</td><td>The assessed value of the built structure on the parcel</td></tr><tr><td>taxamount</td><td>ratio</td><td>(49, 51292)</td><td>The total property tax assessed for that assessment year</td></tr><tr><td>taxdelinquencyflag</td><td>nominal</td><td>[0, 1]</td><td>Property taxes for this parcel are past due as of 2015</td></tr><tr><td>taxdelinquencyyear</td><td>interval</td><td>(0, 26)</td><td>Year</td></tr><tr><td>taxvaluedollarcnt</td><td>ratio</td><td>(22, 4052186)</td><td>The total tax assessed value of the parcel</td></tr><tr><td>threequarterbathnbr</td><td>ordinal</td><td>[1, 0, 2, 4, 3]</td><td>Number of 3/4 bathrooms in house (shower + sink + toilet)</td></tr><tr><td>transactiondate</td><td>nominal</td><td>[2016-01-27, 2016-03-30, 2016-05-27, 2016-06-07, 2016-08-08, ... (352 More)]</td><td>Date of the transaction response variable</td></tr><tr><td>unitcnt</td><td>ordinal</td><td>[1, 2, 4, 3, 9, 13, 5, 6, 11]</td><td>Number of units the structure is built into (i.e. 2 = duplex, 3 = triplex, etc...)</td></tr><tr><td>yardbuildingsqft17</td><td>interval</td><td>(0, 1485)</td><td>Patio in yard</td></tr><tr><td>yardbuildingsqft26</td><td>interval</td><td>(0, 1366)</td><td>Storage shed/building in yard</td></tr><tr><td>yearbuilt</td><td>interval</td><td>(1885, 2015)</td><td>The Year the principal residence was built</td></tr><tr><td>zipcode_type</td><td>nominal</td><td>[nan, STANDARD, PO BOX, MILITARY, UNIQUE]</td><td>Standard, PO BOX Only, Unique, Military(implies APO or FPO)</td></tr></table>"
      ],
      "text/plain": [
       "<IPython.core.display.HTML object>"
      ]
     },
     "execution_count": 4,
     "metadata": {},
     "output_type": "execute_result"
    }
   ],
   "source": [
    "def output_variables_table(variables):\n",
    "    variables = variables.sort_index()\n",
    "    rows = ['<tr><th>Variable</th><th>Type</th><th>Scale</th><th>Description</th></tr>']\n",
    "    for vname, atts in variables.iterrows():\n",
    "        atts = atts.to_dict()\n",
    "        # add scale if TBD\n",
    "        if atts['scale'] == 'TBD':\n",
    "            if atts['type'] in ['nominal', 'ordinal']:\n",
    "                uniques = dataset[vname].unique()\n",
    "                uniques = list(uniques.astype(str))\n",
    "                if len(uniques) < 10:\n",
    "                    atts['scale'] = '[%s]' % ', '.join(uniques)\n",
    "                else:\n",
    "                    atts['scale'] = '[%s]' % (', '.join(uniques[:5]) + ', ... (%d More)' % len(uniques))\n",
    "            if atts['type'] in ['ratio', 'interval']:\n",
    "                atts['scale'] = '(%d, %d)' % (dataset[vname].min(), dataset[vname].max())\n",
    "        row = (vname, atts['type'], atts['scale'], atts['description'])\n",
    "        rows.append('<tr><td>%s</td><td>%s</td><td>%s</td><td>%s</td></tr>' % row)\n",
    "    return HTML('<table>%s</table>' % ''.join(rows))\n",
    "\n",
    "output_variables_table(variables)"
   ]
  },
  {
   "cell_type": "markdown",
   "metadata": {
    "deletable": true,
    "editable": true
   },
   "source": [
    "<a href=\"#top\">Back to Top</a>\n",
    "<a id=\"Evaluation\"></a>\n",
    "# Explain Evaluation Metrics\n",
    "<b>10 points</b>\n",
    "\n",
    "<i>\n",
    "<b>Description:</b><br/>\n",
    "Choose and explain your evaluation metrics that you will use (i.e., accuracy, precision, recall, F-measure, or any metric we have discussed). Why are the measure(s) appropriate for analyzing the results of your modeling? Give a detailed explanation backing up any assertions.\n",
    "</i>"
   ]
  },
  {
   "cell_type": "markdown",
   "metadata": {
    "collapsed": true,
    "deletable": true,
    "editable": true
   },
   "source": [
    "For our evaluation, we will be taking into account the accuracy and F-measure.  In order to compute the F-measure, we will need the precision and recall.  Because F-measure is a weighted average of these, we think a better F-measure score means the model has a better precision and recall.\n",
    "\n",
    "Accuracy is the number of true positives and true negatives divided by the total results.  We want to look at accuracy because we it is a good general statistic for our results.\n",
    "\n",
    "Precision is the number of true positives divided by the total number of positive results we found.  In other words, precision is how well we can predict a positive correctly.  We care about this because we think this value will reflect the quality of our models.\n",
    "\n",
    "Recall is the number of true positives divided by the sum of true positives and false negatives.  The consequences of type 2 errors, predicting a false negative, are not extreme so we think recall is an appropriate measure of completeness.\n",
    "\n",
    "Finally, we will also use F-measure which is essentially a weighted average of the precision and recall into one a simple statistic. This will be a number between 0 and 1 where closer to 1 is better and approaching 0 is worse."
   ]
  },
  {
   "cell_type": "markdown",
   "metadata": {
    "deletable": true,
    "editable": true
   },
   "source": [
    "<a href=\"#top\">Back to Top</a>\n",
    "<a id=\"Imports\"></a>\n",
    "# Training and Testing Splits\n",
    "<b>10 points</b>\n",
    "\n",
    "<i>\n",
    "<b>Description:</b><br/>\n",
    "Choose the method you will use for dividing your data into training and testing splits (i.e., are you using Stratified 10-fold cross validation? Why?). Explain why your chosen method is appropriate or use more than one method as appropriate. For example, if you are using time series data then you should be using continuous training and testing sets across time.\n",
    "</i>"
   ]
  },
  {
   "cell_type": "markdown",
   "metadata": {
    "collapsed": true,
    "deletable": true,
    "editable": true
   },
   "source": [
    "# TODO build chart of train size while accuracy continues to increase\n",
    "\n",
    "We have a large dataset so 10 fold cross validation may take too long.  Because of this, we will be splitting our dataset into 80% train and 20% test."
   ]
  },
  {
   "cell_type": "markdown",
   "metadata": {
    "deletable": true,
    "editable": true
   },
   "source": [
    "<a href=\"#top\">Back to Top</a>\n",
    "<a id=\"Models\"></a>\n",
    "# Three Different Classification/Regression Models\n",
    "<b>20 points</b>\n",
    "\n",
    "<i>\n",
    "<b>Description:</b><br/>\n",
    "Create three different classification/regression models for each task (e.g., random forest, KNN, and SVM for task one and the same or different algorithms for task two). Two modeling techniques must be new (but the third could be SVM or logistic regression). Adjust parameters as appropriate to increase generalization performance using your chosen metric. You must investigate different parameters of the algorithms!\n",
    "</i>"
   ]
  },
  {
   "cell_type": "markdown",
   "metadata": {
    "collapsed": true,
    "deletable": true,
    "editable": true
   },
   "source": [
    "## Yao - 3 regression models"
   ]
  },
  {
   "cell_type": "code",
   "execution_count": 5,
   "metadata": {
    "collapsed": true,
    "deletable": true,
    "editable": true
   },
   "outputs": [],
   "source": [
    "# Code for SVM here"
   ]
  },
  {
   "cell_type": "markdown",
   "metadata": {
    "deletable": true,
    "editable": true
   },
   "source": [
    "## Kaitlin - 3 classification models"
   ]
  },
  {
   "cell_type": "code",
   "execution_count": 6,
   "metadata": {
    "collapsed": false
   },
   "outputs": [
    {
     "name": "stdout",
     "output_type": "stream",
     "text": [
      "[nan 'PRIMARY' 'ACCEPTABLE' 'NOT ACCEPTABLE']\n",
      "['' 'PRIMARY' 'ACCEPTABLE' 'NOT ACCEPTABLE']\n"
     ]
    }
   ],
   "source": [
    "# Fix location_type\n",
    "print(X['location_type'].unique())\n",
    "X['location_type']=['' if x is np.nan else x for x in X['location_type']]\n",
    "print(X['location_type'].unique())\n",
    "X['location_type']=X.location_type.map({'PRIMARY':1,'ACCEPTABLE':2,'NOT ACCEPTABLE':0, '' : -1})"
   ]
  },
  {
   "cell_type": "code",
   "execution_count": 7,
   "metadata": {
    "collapsed": false
   },
   "outputs": [
    {
     "data": {
      "text/plain": [
       "array([-1,  1,  2,  0])"
      ]
     },
     "execution_count": 7,
     "metadata": {},
     "output_type": "execute_result"
    }
   ],
   "source": [
    "X['location_type'].unique()"
   ]
  },
  {
   "cell_type": "code",
   "execution_count": 8,
   "metadata": {
    "collapsed": false
   },
   "outputs": [
    {
     "name": "stdout",
     "output_type": "stream",
     "text": [
      "[nan 'STANDARD' 'PO BOX' 'MILITARY' 'UNIQUE']\n",
      "['' 'STANDARD' 'PO BOX' 'MILITARY' 'UNIQUE']\n"
     ]
    }
   ],
   "source": [
    "# fix zipcode_type\n",
    "print(X['zipcode_type'].unique())\n",
    "X['zipcode_type']=['' if x is np.nan else x for x in X['zipcode_type']]\n",
    "print(X['zipcode_type'].unique())\n",
    "X['zipcode_type']=X.zipcode_type.map({'STANDARD':1,'PO BOX':2,'MILITARY':3, 'UNIQUE': 4, '' : -1})"
   ]
  },
  {
   "cell_type": "code",
   "execution_count": 9,
   "metadata": {
    "collapsed": false
   },
   "outputs": [
    {
     "data": {
      "text/plain": [
       "array([-1,  1,  2,  3,  4])"
      ]
     },
     "execution_count": 9,
     "metadata": {},
     "output_type": "execute_result"
    }
   ],
   "source": [
    "X['zipcode_type'].unique()"
   ]
  },
  {
   "cell_type": "code",
   "execution_count": 10,
   "metadata": {
    "collapsed": false,
    "deletable": true,
    "editable": true
   },
   "outputs": [
    {
     "name": "stdout",
     "output_type": "stream",
     "text": [
      "        Unnamed: 0  parcelid  airconditioningtypeid  bathroomcnt  bedroomcnt  \\\n",
      "0              415  17073783                      0          2.5           3   \n",
      "1              481  17088994                      0          1.0           2   \n",
      "2              523  17100444                      0          2.0           3   \n",
      "3              533  17102429                      0          1.5           2   \n",
      "4              580  17109604                      0          2.5           4   \n",
      "5              672  17125829                      0          2.5           4   \n",
      "6              673  17125829                      0          2.5           4   \n",
      "7              674  17125829                      0          2.5           4   \n",
      "8              675  17125829                      0          2.5           4   \n",
      "9              676  17125829                      0          2.5           4   \n",
      "10             727  17132911                      0          2.0           3   \n",
      "11             728  17132911                      0          2.0           3   \n",
      "12             729  17132911                      0          2.0           3   \n",
      "13             730  17132911                      0          2.0           3   \n",
      "14             731  17132911                      0          2.0           3   \n",
      "15             777  17134926                      0          2.5           5   \n",
      "16             778  17134926                      0          2.5           5   \n",
      "17             779  17134926                      0          2.5           5   \n",
      "18             780  17134926                      0          2.5           5   \n",
      "19             781  17134926                      0          2.5           5   \n",
      "20             890  17139988                      0          2.0           3   \n",
      "21            1018  17167359                      0          1.0           3   \n",
      "22            1065  17179760                      0          2.0           4   \n",
      "23            1114  17198685                      0          2.5           4   \n",
      "24            1162  17212207                      0          2.0           5   \n",
      "25            1167  17213421                      0          3.0           3   \n",
      "26            1423  17250387                      0          2.5           5   \n",
      "27            1443  17254534                      0          2.0           4   \n",
      "28            1476  17260270                      0          2.5           5   \n",
      "29            1477  17260270                      0          2.5           5   \n",
      "...            ...       ...                    ...          ...         ...   \n",
      "116731     3856734  14700275                      0          2.0           3   \n",
      "116732     3856735  14700375                      0          2.0           2   \n",
      "116733     3856744  14748051                      0          2.5           1   \n",
      "116734     3856749  17153910                      0          3.0           4   \n",
      "116735     3856810  11485157                      1          3.0           2   \n",
      "116736     3856811  11485157                      1          3.0           2   \n",
      "116737     3856857  14602791                      0          1.0           1   \n",
      "116738     3856858  14602791                      0          1.0           1   \n",
      "116739     3856859  14602791                      0          1.0           1   \n",
      "116740     3856881  13853998                      0          4.0           5   \n",
      "116741     3856908  11780879                      0          2.0           2   \n",
      "116742     3856939  11483546                      1          2.0           2   \n",
      "116743     3856940  11483546                      1          2.0           2   \n",
      "116744     3856943  11780710                      0          1.0           1   \n",
      "116745     3856952  11125730                      1          3.0           4   \n",
      "116746     3856973  11907577                      1          3.0           3   \n",
      "116747     3856974  12011124                      0          2.0           0   \n",
      "116748     3856976  11812411                      1          3.0           2   \n",
      "116749     3856995  12111197                      1          1.0           1   \n",
      "116750     3857007  11538534                      1          2.0           2   \n",
      "116751     3857013  17095942                      0          3.0           4   \n",
      "116752     3857019  14722093                      0          2.5           2   \n",
      "116753     3857029  14722150                      0          2.0           2   \n",
      "116754     3857113  14600359                      0          3.0           4   \n",
      "116755     3857125  11876798                      1          3.0           4   \n",
      "116756     3857126  11876798                      1          3.0           4   \n",
      "116757     3857303  12808516                      0          2.0           3   \n",
      "116758     3857335  12010248                      1          2.0           2   \n",
      "116759     3857385  14310905                      0          2.5           3   \n",
      "116760     3857409  14636609                      0          2.5           3   \n",
      "\n",
      "        buildingqualitytypeid  calculatedbathnbr  \\\n",
      "0                           7                2.5   \n",
      "1                           7                1.0   \n",
      "2                           7                2.0   \n",
      "3                           7                1.5   \n",
      "4                           7                2.5   \n",
      "5                           7                2.5   \n",
      "6                           7                2.5   \n",
      "7                           7                2.5   \n",
      "8                           7                2.5   \n",
      "9                           7                2.5   \n",
      "10                          7                2.0   \n",
      "11                          7                2.0   \n",
      "12                          7                2.0   \n",
      "13                          7                2.0   \n",
      "14                          7                2.0   \n",
      "15                          7                2.5   \n",
      "16                          7                2.5   \n",
      "17                          7                2.5   \n",
      "18                          7                2.5   \n",
      "19                          7                2.5   \n",
      "20                          7                2.0   \n",
      "21                          7                1.0   \n",
      "22                          7                2.0   \n",
      "23                          7                2.5   \n",
      "24                          7                2.0   \n",
      "25                          7                3.0   \n",
      "26                          7                2.5   \n",
      "27                          7                2.0   \n",
      "28                          7                2.5   \n",
      "29                          7                2.5   \n",
      "...                       ...                ...   \n",
      "116731                      7                2.0   \n",
      "116732                      7                2.0   \n",
      "116733                      7                2.5   \n",
      "116734                      7                3.0   \n",
      "116735                      1                3.0   \n",
      "116736                      1                3.0   \n",
      "116737                      7                1.0   \n",
      "116738                      7                1.0   \n",
      "116739                      7                1.0   \n",
      "116740                      7                4.0   \n",
      "116741                      4                2.0   \n",
      "116742                      4                2.0   \n",
      "116743                      4                2.0   \n",
      "116744                      4                1.0   \n",
      "116745                      4                3.0   \n",
      "116746                      4                3.0   \n",
      "116747                      7                2.0   \n",
      "116748                      4                3.0   \n",
      "116749                      1                1.0   \n",
      "116750                     10                2.0   \n",
      "116751                      7                3.0   \n",
      "116752                      7                2.5   \n",
      "116753                      7                2.0   \n",
      "116754                      7                3.0   \n",
      "116755                      4                3.0   \n",
      "116756                      4                3.0   \n",
      "116757                      7                2.0   \n",
      "116758                      4                2.0   \n",
      "116759                      7                2.5   \n",
      "116760                      7                2.5   \n",
      "\n",
      "        calculatedfinishedsquarefeet  finishedsquarefeet12  \\\n",
      "0                               1264                  1264   \n",
      "1                                777                   777   \n",
      "2                               1101                  1101   \n",
      "3                               1554                  1554   \n",
      "4                               2415                  2415   \n",
      "5                               2882                  2882   \n",
      "6                               2882                  2882   \n",
      "7                               2882                  2882   \n",
      "8                               2882                  2882   \n",
      "9                               2882                  2882   \n",
      "10                              1772                  1772   \n",
      "11                              1772                  1772   \n",
      "12                              1772                  1772   \n",
      "13                              1772                  1772   \n",
      "14                              1772                  1772   \n",
      "15                              2632                  2632   \n",
      "16                              2632                  2632   \n",
      "17                              2632                  2632   \n",
      "18                              2632                  2632   \n",
      "19                              2632                  2632   \n",
      "20                              1292                  1292   \n",
      "21                              1385                  1385   \n",
      "22                              1260                  1260   \n",
      "23                              2735                  2735   \n",
      "24                              2085                  2085   \n",
      "25                              1508                  1508   \n",
      "26                              1958                  1958   \n",
      "27                              1687                  1687   \n",
      "28                              2232                  2232   \n",
      "29                              2232                  2232   \n",
      "...                              ...                   ...   \n",
      "116731                          1456                  1456   \n",
      "116732                          1252                  1252   \n",
      "116733                          1680                  1680   \n",
      "116734                          3096                  3096   \n",
      "116735                          1110                  1110   \n",
      "116736                          1110                  1110   \n",
      "116737                           728                   728   \n",
      "116738                           728                   728   \n",
      "116739                           728                   728   \n",
      "116740                          3308                  3308   \n",
      "116741                          1440                  1440   \n",
      "116742                          1550                  1550   \n",
      "116743                          1550                  1550   \n",
      "116744                           860                   860   \n",
      "116745                          2781                  2781   \n",
      "116746                          1432                  1432   \n",
      "116747                          2140                  2140   \n",
      "116748                          1060                  1060   \n",
      "116749                           918                   918   \n",
      "116750                          1492                  1492   \n",
      "116751                          1771                  1771   \n",
      "116752                          1638                  1638   \n",
      "116753                          1308                  1308   \n",
      "116754                          1713                  1713   \n",
      "116755                          2068                  2068   \n",
      "116756                          2068                  2068   \n",
      "116757                          1352                  1352   \n",
      "116758                           860                   860   \n",
      "116759                          2268                  2268   \n",
      "116760                          1812                  1812   \n",
      "\n",
      "        finishedsquarefeet50      ...           taxamount  taxdelinquencyflag  \\\n",
      "0                      548.0      ...         2015.060059                   0   \n",
      "1                      777.0      ...         2581.300049                   0   \n",
      "2                     1101.0      ...          591.640015                   0   \n",
      "3                     1554.0      ...          682.780029                   0   \n",
      "4                     1305.0      ...         5886.919922                   0   \n",
      "5                     1303.0      ...         3110.439941                   0   \n",
      "6                     1303.0      ...         3110.439941                   0   \n",
      "7                     1303.0      ...         3110.439941                   0   \n",
      "8                     1303.0      ...         3110.439941                   0   \n",
      "9                     1303.0      ...         3110.439941                   0   \n",
      "10                    1772.0      ...         5632.200195                   0   \n",
      "11                    1772.0      ...         5632.200195                   0   \n",
      "12                    1772.0      ...         5632.200195                   0   \n",
      "13                    1772.0      ...         5632.200195                   0   \n",
      "14                    1772.0      ...         5632.200195                   0   \n",
      "15                    1240.0      ...         6109.939941                   0   \n",
      "16                    1240.0      ...         6109.939941                   0   \n",
      "17                    1240.0      ...         6109.939941                   0   \n",
      "18                    1240.0      ...         6109.939941                   0   \n",
      "19                    1240.0      ...         6109.939941                   0   \n",
      "20                    1292.0      ...         5026.399902                   0   \n",
      "21                     804.0      ...         3217.060059                   0   \n",
      "22                    1260.0      ...          702.400024                   0   \n",
      "23                    1448.0      ...         4595.359863                   0   \n",
      "24                    2085.0      ...         6991.060059                   0   \n",
      "25                     906.0      ...         4267.959961                   0   \n",
      "26                     977.0      ...         2512.419922                   0   \n",
      "27                    1120.0      ...         3763.379883                   0   \n",
      "28                    1236.0      ...         5185.660156                   0   \n",
      "29                    1236.0      ...         5185.660156                   0   \n",
      "...                      ...      ...                 ...                 ...   \n",
      "116731                   0.0      ...         4367.259766                   0   \n",
      "116732                   0.0      ...         4565.959961                   0   \n",
      "116733                   0.0      ...         6315.959961                   0   \n",
      "116734                1587.0      ...        15003.799805                   0   \n",
      "116735                   0.0      ...         7890.689941                   0   \n",
      "116736                   0.0      ...         7890.689941                   0   \n",
      "116737                   0.0      ...         3859.800049                   0   \n",
      "116738                   0.0      ...         3859.800049                   0   \n",
      "116739                   0.0      ...         3859.800049                   0   \n",
      "116740                   0.0      ...         9079.580078                   0   \n",
      "116741                   0.0      ...        12915.440430                   0   \n",
      "116742                   0.0      ...         9785.820312                   0   \n",
      "116743                   0.0      ...         9785.820312                   0   \n",
      "116744                   0.0      ...         7247.350098                   0   \n",
      "116745                   0.0      ...        10735.740234                   0   \n",
      "116746                   0.0      ...         6119.540039                   0   \n",
      "116747                   0.0      ...         4406.279785                   0   \n",
      "116748                   0.0      ...         3694.310059                   0   \n",
      "116749                   0.0      ...         5181.649902                   0   \n",
      "116750                   0.0      ...         8814.799805                   0   \n",
      "116751                 440.0      ...         3740.300049                   0   \n",
      "116752                   0.0      ...         5259.359863                   0   \n",
      "116753                   0.0      ...         5005.479980                   0   \n",
      "116754                   0.0      ...         5179.819824                   0   \n",
      "116755                   0.0      ...         7335.810059                   0   \n",
      "116756                   0.0      ...         7335.810059                   0   \n",
      "116757                   0.0      ...         2441.739990                   0   \n",
      "116758                   0.0      ...         5070.410156                   0   \n",
      "116759                   0.0      ...        12508.299805                   0   \n",
      "116760                   0.0      ...         5470.120117                   0   \n",
      "\n",
      "        taxdelinquencyyear  censustractandblock  logerror  transactiondate  \\\n",
      "0                        0         6.111002e+13    0.0953       2016-01-27   \n",
      "1                        0         6.111002e+13    0.0198       2016-03-30   \n",
      "2                        0         6.111001e+13    0.0060       2016-05-27   \n",
      "3                        0         6.111001e+13   -0.0566       2016-06-07   \n",
      "4                        0         6.111002e+13    0.0573       2016-08-08   \n",
      "5                        0         6.111005e+13    0.0564       2016-08-26   \n",
      "6                        0         6.111005e+13    0.0564       2016-08-26   \n",
      "7                        0         6.111005e+13    0.0564       2016-08-26   \n",
      "8                        0         6.111005e+13    0.0564       2016-08-26   \n",
      "9                        0         6.111005e+13    0.0564       2016-08-26   \n",
      "10                       0         6.111005e+13    0.0315       2016-07-08   \n",
      "11                       0         6.111005e+13    0.0315       2016-07-08   \n",
      "12                       0         6.111005e+13    0.0315       2016-07-08   \n",
      "13                       0         6.111005e+13    0.0315       2016-07-08   \n",
      "14                       0         6.111005e+13    0.0315       2016-07-08   \n",
      "15                       0         6.111005e+13    0.0257       2016-05-11   \n",
      "16                       0         6.111005e+13    0.0257       2016-05-11   \n",
      "17                       0         6.111005e+13    0.0257       2016-05-11   \n",
      "18                       0         6.111005e+13    0.0257       2016-05-11   \n",
      "19                       0         6.111005e+13    0.0257       2016-05-11   \n",
      "20                       0         6.111005e+13    0.0020       2016-06-15   \n",
      "21                       0         6.111004e+13   -0.0576       2016-05-27   \n",
      "22                       0         6.111005e+13   -0.0131       2016-10-07   \n",
      "23                       0         6.111008e+13   -0.0212       2016-05-20   \n",
      "24                       0         6.111007e+13    0.0834       2016-03-17   \n",
      "25                       0         6.111007e+13   -0.0294       2016-05-18   \n",
      "26                       0         6.111008e+13    0.0090       2016-05-27   \n",
      "27                       0         6.111008e+13    0.0573       2016-04-13   \n",
      "28                       0         6.111008e+13   -0.0151       2016-07-06   \n",
      "29                       0         6.111008e+13   -0.0151       2016-07-06   \n",
      "...                    ...                  ...       ...              ...   \n",
      "116731                   0         6.059022e+13   -0.0070       2016-01-22   \n",
      "116732                   0         6.059022e+13   -0.0171       2016-01-19   \n",
      "116733                   0         6.059110e+13   -0.0387       2016-02-29   \n",
      "116734                   0         6.111004e+13    1.4380       2016-12-09   \n",
      "116735                   0         6.037602e+13   -0.0998       2016-05-27   \n",
      "116736                   0         6.037602e+13   -0.0998       2016-05-27   \n",
      "116737                   0         6.059086e+13    0.0926       2016-08-30   \n",
      "116738                   0         6.059086e+13    0.0926       2016-08-30   \n",
      "116739                   0         6.059086e+13    0.0926       2016-08-30   \n",
      "116740                   0         6.059001e+13    0.0000       2016-05-31   \n",
      "116741                   0         6.037208e+13   -0.4125       2016-04-14   \n",
      "116742                   0         6.037571e+13    0.0573       2016-10-14   \n",
      "116743                   0         6.037571e+13    0.0573       2016-10-14   \n",
      "116744                   0         6.037208e+13    0.0667       2016-11-29   \n",
      "116745                   0         6.037920e+13    0.1939       2016-04-20   \n",
      "116746                   0         6.037481e+13   -0.0856       2016-01-21   \n",
      "116747                   0         6.037191e+13   -0.1590       2016-06-29   \n",
      "116748                   0         6.037199e+13    0.0305       2016-12-21   \n",
      "116749                   0         6.037464e+13   -0.0555       2016-07-29   \n",
      "116750                   0         6.037274e+13   -0.0346       2016-04-28   \n",
      "116751                   0         6.111001e+13    0.1151       2016-06-17   \n",
      "116752                   0         6.059063e+13    0.0469       2016-01-11   \n",
      "116753                   0         6.059063e+13    0.0315       2016-09-23   \n",
      "116754                   0         6.059075e+13    0.0871       2016-09-02   \n",
      "116755                   0         6.037201e+13    0.0276       2016-04-15   \n",
      "116756                   0         6.037201e+13    0.0276       2016-04-15   \n",
      "116757                   0         6.037407e+13   -0.1188       2016-06-07   \n",
      "116758                   0         6.037191e+13    0.0843       2016-06-30   \n",
      "116759                   0         6.037571e+13   -0.0050       2016-03-31   \n",
      "116760                   0         6.037571e+13    0.0129       2016-09-13   \n",
      "\n",
      "        price_per_sqft  zipcode_type          city  location_type  \n",
      "0             1.594193            -1           NaN             -1  \n",
      "1             3.322136            -1           NaN             -1  \n",
      "2             0.537366             1     CORNELIUS              1  \n",
      "3             0.439369             1     CORNELIUS              1  \n",
      "4             2.437648            -1           NaN             -1  \n",
      "5             1.079264             1      DAMASCUS              1  \n",
      "6             1.079264             1        BORING              2  \n",
      "7             1.079264             1     CLACKAMAS              0  \n",
      "8             1.079264             1       GRESHAM              0  \n",
      "9             1.079264             1  HAPPY VALLEY              0  \n",
      "10            3.178442             1      DAMASCUS              1  \n",
      "11            3.178442             1        BORING              2  \n",
      "12            3.178442             1     CLACKAMAS              0  \n",
      "13            3.178442             1       GRESHAM              0  \n",
      "14            3.178442             1  HAPPY VALLEY              0  \n",
      "15            2.321406             1      DAMASCUS              1  \n",
      "16            2.321406             1        BORING              2  \n",
      "17            2.321406             1     CLACKAMAS              0  \n",
      "18            2.321406             1       GRESHAM              0  \n",
      "19            2.321406             1  HAPPY VALLEY              0  \n",
      "20            3.890402            -1           NaN             -1  \n",
      "21            2.322787            -1           NaN             -1  \n",
      "22            0.557460             1         AMITY              1  \n",
      "23            1.680205            -1           NaN             -1  \n",
      "24            3.353026            -1           NaN             -1  \n",
      "25            2.830212            -1           NaN             -1  \n",
      "26            1.283156             2     GARIBALDI              1  \n",
      "27            2.230812             2     GARIBALDI              1  \n",
      "28            2.323324             1  FOREST GROVE              1  \n",
      "29            2.323324             1      GLENWOOD              2  \n",
      "...                ...           ...           ...            ...  \n",
      "116731        2.999492            -1           NaN             -1  \n",
      "116732        3.646933            -1           NaN             -1  \n",
      "116733        3.759500             3           APO              1  \n",
      "116734        4.846189             1         BANKS              1  \n",
      "116735        7.108730             1     COLEVILLE              1  \n",
      "116736        7.108730             1        WALKER              0  \n",
      "116737        5.301923             1      FAIRVIEW              1  \n",
      "116738        5.301923             1   INTERLACHEN              0  \n",
      "116739        5.301923             1  WOOD VILLAGE              0  \n",
      "116740        2.744734            -1           NaN             -1  \n",
      "116741        8.969056            -1           NaN             -1  \n",
      "116742        6.313433             1     COLEVILLE              1  \n",
      "116743        6.313433             1        WALKER              0  \n",
      "116744        8.427152            -1           NaN             -1  \n",
      "116745        3.860389             3           FPO              1  \n",
      "116746        4.273422            -1           NaN             -1  \n",
      "116747        2.059009             2        BIEBER              1  \n",
      "116748        3.485198            -1           NaN             -1  \n",
      "116749        5.644499            -1           NaN             -1  \n",
      "116750        5.908043             1      STANDISH              1  \n",
      "116751        2.111971            -1           NaN             -1  \n",
      "116752        3.210842            -1           NaN             -1  \n",
      "116753        3.826820            -1           NaN             -1  \n",
      "116754        3.023829             1   BEAVERCREEK              1  \n",
      "116755        3.547297             1        BURNEY              1  \n",
      "116756        3.547297             1  JOHNSON PARK              0  \n",
      "116757        1.806021            -1           NaN             -1  \n",
      "116758        5.895826             2        BIEBER              1  \n",
      "116759        5.515123            -1           NaN             -1  \n",
      "116760        3.018830            -1           NaN             -1  \n",
      "\n",
      "[116761 rows x 52 columns]\n"
     ]
    }
   ],
   "source": [
    "print(dataset_class['X'])"
   ]
  },
  {
   "cell_type": "code",
   "execution_count": 12,
   "metadata": {
    "collapsed": false
   },
   "outputs": [
    {
     "name": "stdout",
     "output_type": "stream",
     "text": [
      "['2016-01-27' '2016-03-30' '2016-05-27' '2016-06-07' '2016-08-08'\n",
      " '2016-08-26' '2016-07-08' '2016-05-11' '2016-06-15' '2016-10-07'\n",
      " '2016-05-20' '2016-03-17' '2016-05-18' '2016-04-13' '2016-07-06'\n",
      " '2016-12-29' '2016-01-11' '2016-09-07' '2016-05-23' '2016-07-15'\n",
      " '2016-05-19' '2016-06-13' '2016-08-24' '2016-10-14' '2016-07-01'\n",
      " '2016-10-03' '2016-03-01' '2016-03-31' '2016-06-27' '2016-04-15'\n",
      " '2016-02-25' '2016-06-14' '2016-09-28' '2016-04-12' '2016-08-12'\n",
      " '2016-09-19' '2016-11-16' '2016-04-07' '2016-11-23' '2016-01-08'\n",
      " '2016-06-29' '2016-10-28' '2016-05-09' '2016-11-14' '2016-06-02'\n",
      " '2016-01-15' '2016-04-06' '2016-01-13' '2016-07-07' '2016-06-16'\n",
      " '2016-01-20' '2016-01-05' '2016-01-28' '2016-02-01' '2016-04-19'\n",
      " '2016-06-20' '2016-07-29' '2016-10-06' '2016-05-17' '2016-05-13'\n",
      " '2016-07-28' '2016-06-17' '2016-06-30' '2016-09-06' '2016-08-30'\n",
      " '2016-03-21' '2016-04-26' '2016-04-29' '2016-07-22' '2016-06-28'\n",
      " '2016-04-08' '2016-09-30' '2016-01-14' '2016-08-01' '2016-06-22'\n",
      " '2016-09-16' '2016-03-25' '2016-07-19' '2016-01-29' '2016-03-16'\n",
      " '2016-05-06' '2016-09-23' '2016-08-29' '2016-08-22' '2016-03-24'\n",
      " '2016-08-19' '2016-05-10' '2016-03-04' '2016-05-25' '2016-02-08'\n",
      " '2016-04-18' '2016-05-26' '2016-02-07' '2016-05-12' '2016-10-12'\n",
      " '2016-07-27' '2016-08-15' '2016-05-24' '2016-06-01' '2016-04-01'\n",
      " '2016-09-20' '2016-08-16' '2016-07-21' '2016-05-03' '2016-03-23'\n",
      " '2016-10-20' '2016-08-04' '2016-06-23' '2016-04-21' '2016-10-13'\n",
      " '2016-04-28' '2016-01-22' '2016-03-29' '2016-06-06' '2016-04-04'\n",
      " '2016-01-25' '2016-06-03' '2016-02-22' '2016-04-27' '2016-08-09'\n",
      " '2016-06-08' '2016-04-05' '2016-08-10' '2016-12-30' '2016-12-06'\n",
      " '2016-07-11' '2016-08-05' '2016-09-26' '2016-09-02' '2016-09-09'\n",
      " '2016-02-29' '2016-12-14' '2016-03-10' '2016-01-06' '2016-10-04'\n",
      " '2016-07-05' '2016-06-10' '2016-02-18' '2016-07-12' '2016-01-31'\n",
      " '2016-05-02' '2016-01-21' '2016-08-11' '2016-12-23' '2016-02-03'\n",
      " '2016-10-05' '2016-09-15' '2016-09-22' '2016-11-13' '2016-08-18'\n",
      " '2016-07-20' '2016-07-26' '2016-12-26' '2016-02-17' '2016-01-07'\n",
      " '2016-05-31' '2016-11-28' '2016-05-04' '2016-02-16' '2016-03-28'\n",
      " '2016-08-31' '2016-07-25' '2016-06-09' '2016-07-14' '2016-01-12'\n",
      " '2016-02-26' '2016-03-07' '2016-08-02' '2016-09-14' '2016-03-15'\n",
      " '2016-11-12' '2016-09-29' '2016-10-27' '2016-02-21' '2016-12-15'\n",
      " '2016-01-04' '2016-03-09' '2016-03-08' '2016-10-21' '2016-08-17'\n",
      " '2016-06-24' '2016-02-12' '2016-03-18' '2016-04-14' '2016-12-21'\n",
      " '2016-11-08' '2016-07-13' '2016-02-04' '2016-04-20' '2016-03-11'\n",
      " '2016-02-19' '2016-04-22' '2016-12-07' '2016-02-24' '2016-12-09'\n",
      " '2016-10-11' '2016-03-22' '2016-11-09' '2016-02-11' '2016-06-21'\n",
      " '2016-08-25' '2016-11-22' '2016-02-10' '2016-05-16' '2016-11-15'\n",
      " '2016-11-17' '2016-09-01' '2016-03-02' '2016-01-26' '2016-11-01'\n",
      " '2016-03-06' '2016-03-14' '2016-07-18' '2016-10-18' '2016-08-03'\n",
      " '2016-08-23' '2016-04-11' '2016-09-08' '2016-05-05' '2016-01-18'\n",
      " '2016-04-25' '2016-10-19' '2016-12-28' '2016-11-04' '2016-09-21'\n",
      " '2016-01-19' '2016-01-03' '2016-12-01' '2016-10-24' '2016-12-19'\n",
      " '2016-02-05' '2016-02-09' '2016-02-23' '2016-11-30' '2016-03-20'\n",
      " '2016-01-17' '2016-09-27' '2016-09-12' '2016-10-31' '2016-12-02'\n",
      " '2016-11-18' '2016-03-03' '2016-12-13' '2016-11-10' '2016-02-14'\n",
      " '2016-11-03' '2016-02-02' '2016-02-28' '2016-09-13' '2016-11-21'\n",
      " '2016-02-20' '2016-11-02' '2016-07-31' '2016-10-26' '2016-09-04'\n",
      " '2016-12-22' '2016-10-17' '2016-12-16' '2016-12-05' '2016-01-24'\n",
      " '2016-11-29' '2016-11-20' '2016-12-20' '2016-02-15' '2016-11-27'\n",
      " '2016-08-21' '2016-12-08' '2016-12-12' '2016-05-30' '2016-07-30'\n",
      " '2016-11-06' '2016-02-27' '2016-10-25' '2016-08-07' '2016-01-10'\n",
      " '2016-11-07' '2016-12-27' '2016-03-27' '2016-08-27' '2016-04-24'\n",
      " '2016-05-01' '2016-10-10' '2016-06-04' '2016-07-16' '2016-01-30'\n",
      " '2016-12-04' '2016-06-05' '2016-04-23' '2016-03-05' '2016-10-01'\n",
      " '2016-02-13' '2016-05-22' '2016-05-08' '2016-04-03' '2016-09-05'\n",
      " '2016-06-26' '2016-07-10' '2016-12-18' '2016-07-04' '2016-07-23'\n",
      " '2016-10-02' '2016-12-24' '2016-04-10' '2016-10-09' '2016-09-25'\n",
      " '2016-05-15' '2016-01-01' '2016-06-18' '2016-01-02' '2016-01-23'\n",
      " '2016-02-06' '2016-10-08' '2016-05-29' '2016-09-11' '2016-04-16'\n",
      " '2016-04-30' '2016-12-11' '2016-04-09' '2016-07-24' '2016-07-17'\n",
      " '2016-09-24' '2016-08-28' '2016-09-17' '2016-09-10' '2016-05-28'\n",
      " '2016-04-17' '2016-05-07' '2016-03-13' '2016-10-22' '2016-12-25'\n",
      " '2016-08-13' '2016-09-18' '2016-07-09' '2016-01-09' '2016-07-02'\n",
      " '2016-06-12' '2016-04-02' '2016-09-03' '2016-05-14' '2016-08-14'\n",
      " '2016-08-20' '2016-06-19' '2016-08-06' '2016-03-19' '2016-06-11'\n",
      " '2016-11-24' '2016-06-25' '2016-10-29' '2016-11-19' '2016-01-16'\n",
      " '2016-12-17' '2016-10-30']\n"
     ]
    },
    {
     "ename": "ValueError",
     "evalue": "could not convert string to float: '2016-01-27'",
     "output_type": "error",
     "traceback": [
      "\u001b[0;31m---------------------------------------------------------------------------\u001b[0m",
      "\u001b[0;31mValueError\u001b[0m                                Traceback (most recent call last)",
      "\u001b[0;32m<ipython-input-12-30190db11a86>\u001b[0m in \u001b[0;36m<module>\u001b[0;34m()\u001b[0m\n\u001b[1;32m      3\u001b[0m \u001b[0menc\u001b[0m \u001b[0;34m=\u001b[0m \u001b[0mOneHotEncoder\u001b[0m\u001b[0;34m(\u001b[0m\u001b[0;34m)\u001b[0m\u001b[0;34m\u001b[0m\u001b[0m\n\u001b[1;32m      4\u001b[0m \u001b[0mprint\u001b[0m\u001b[0;34m(\u001b[0m\u001b[0mX\u001b[0m\u001b[0;34m[\u001b[0m\u001b[0;34m'transactiondate'\u001b[0m\u001b[0;34m]\u001b[0m\u001b[0;34m.\u001b[0m\u001b[0munique\u001b[0m\u001b[0;34m(\u001b[0m\u001b[0;34m)\u001b[0m\u001b[0;34m)\u001b[0m\u001b[0;34m\u001b[0m\u001b[0m\n\u001b[0;32m----> 5\u001b[0;31m \u001b[0mX\u001b[0m\u001b[0;34m[\u001b[0m\u001b[0;34m'transactiondate'\u001b[0m\u001b[0;34m]\u001b[0m\u001b[0;34m.\u001b[0m\u001b[0mapply\u001b[0m\u001b[0;34m(\u001b[0m\u001b[0menc\u001b[0m\u001b[0;34m.\u001b[0m\u001b[0mfit_transform\u001b[0m\u001b[0;34m)\u001b[0m\u001b[0;34m\u001b[0m\u001b[0m\n\u001b[0m",
      "\u001b[0;32m/usr/local/lib/python3.6/site-packages/pandas/core/series.py\u001b[0m in \u001b[0;36mapply\u001b[0;34m(self, func, convert_dtype, args, **kwds)\u001b[0m\n\u001b[1;32m   2353\u001b[0m             \u001b[0;32melse\u001b[0m\u001b[0;34m:\u001b[0m\u001b[0;34m\u001b[0m\u001b[0m\n\u001b[1;32m   2354\u001b[0m                 \u001b[0mvalues\u001b[0m \u001b[0;34m=\u001b[0m \u001b[0mself\u001b[0m\u001b[0;34m.\u001b[0m\u001b[0masobject\u001b[0m\u001b[0;34m\u001b[0m\u001b[0m\n\u001b[0;32m-> 2355\u001b[0;31m                 \u001b[0mmapped\u001b[0m \u001b[0;34m=\u001b[0m \u001b[0mlib\u001b[0m\u001b[0;34m.\u001b[0m\u001b[0mmap_infer\u001b[0m\u001b[0;34m(\u001b[0m\u001b[0mvalues\u001b[0m\u001b[0;34m,\u001b[0m \u001b[0mf\u001b[0m\u001b[0;34m,\u001b[0m \u001b[0mconvert\u001b[0m\u001b[0;34m=\u001b[0m\u001b[0mconvert_dtype\u001b[0m\u001b[0;34m)\u001b[0m\u001b[0;34m\u001b[0m\u001b[0m\n\u001b[0m\u001b[1;32m   2356\u001b[0m \u001b[0;34m\u001b[0m\u001b[0m\n\u001b[1;32m   2357\u001b[0m         \u001b[0;32mif\u001b[0m \u001b[0mlen\u001b[0m\u001b[0;34m(\u001b[0m\u001b[0mmapped\u001b[0m\u001b[0;34m)\u001b[0m \u001b[0;32mand\u001b[0m \u001b[0misinstance\u001b[0m\u001b[0;34m(\u001b[0m\u001b[0mmapped\u001b[0m\u001b[0;34m[\u001b[0m\u001b[0;36m0\u001b[0m\u001b[0;34m]\u001b[0m\u001b[0;34m,\u001b[0m \u001b[0mSeries\u001b[0m\u001b[0;34m)\u001b[0m\u001b[0;34m:\u001b[0m\u001b[0;34m\u001b[0m\u001b[0m\n",
      "\u001b[0;32mpandas/_libs/src/inference.pyx\u001b[0m in \u001b[0;36mpandas._libs.lib.map_infer (pandas/_libs/lib.c:66652)\u001b[0;34m()\u001b[0m\n",
      "\u001b[0;32m/usr/local/lib/python3.6/site-packages/sklearn/preprocessing/data.py\u001b[0m in \u001b[0;36mfit_transform\u001b[0;34m(self, X, y)\u001b[0m\n\u001b[1;32m   2017\u001b[0m         \"\"\"\n\u001b[1;32m   2018\u001b[0m         return _transform_selected(X, self._fit_transform,\n\u001b[0;32m-> 2019\u001b[0;31m                                    self.categorical_features, copy=True)\n\u001b[0m\u001b[1;32m   2020\u001b[0m \u001b[0;34m\u001b[0m\u001b[0m\n\u001b[1;32m   2021\u001b[0m     \u001b[0;32mdef\u001b[0m \u001b[0m_transform\u001b[0m\u001b[0;34m(\u001b[0m\u001b[0mself\u001b[0m\u001b[0;34m,\u001b[0m \u001b[0mX\u001b[0m\u001b[0;34m)\u001b[0m\u001b[0;34m:\u001b[0m\u001b[0;34m\u001b[0m\u001b[0m\n",
      "\u001b[0;32m/usr/local/lib/python3.6/site-packages/sklearn/preprocessing/data.py\u001b[0m in \u001b[0;36m_transform_selected\u001b[0;34m(X, transform, selected, copy)\u001b[0m\n\u001b[1;32m   1807\u001b[0m     \u001b[0mX\u001b[0m \u001b[0;34m:\u001b[0m \u001b[0marray\u001b[0m \u001b[0;32mor\u001b[0m \u001b[0msparse\u001b[0m \u001b[0mmatrix\u001b[0m\u001b[0;34m,\u001b[0m \u001b[0mshape\u001b[0m\u001b[0;34m=\u001b[0m\u001b[0;34m(\u001b[0m\u001b[0mn_samples\u001b[0m\u001b[0;34m,\u001b[0m \u001b[0mn_features_new\u001b[0m\u001b[0;34m)\u001b[0m\u001b[0;34m\u001b[0m\u001b[0m\n\u001b[1;32m   1808\u001b[0m     \"\"\"\n\u001b[0;32m-> 1809\u001b[0;31m     \u001b[0mX\u001b[0m \u001b[0;34m=\u001b[0m \u001b[0mcheck_array\u001b[0m\u001b[0;34m(\u001b[0m\u001b[0mX\u001b[0m\u001b[0;34m,\u001b[0m \u001b[0maccept_sparse\u001b[0m\u001b[0;34m=\u001b[0m\u001b[0;34m'csc'\u001b[0m\u001b[0;34m,\u001b[0m \u001b[0mcopy\u001b[0m\u001b[0;34m=\u001b[0m\u001b[0mcopy\u001b[0m\u001b[0;34m,\u001b[0m \u001b[0mdtype\u001b[0m\u001b[0;34m=\u001b[0m\u001b[0mFLOAT_DTYPES\u001b[0m\u001b[0;34m)\u001b[0m\u001b[0;34m\u001b[0m\u001b[0m\n\u001b[0m\u001b[1;32m   1810\u001b[0m \u001b[0;34m\u001b[0m\u001b[0m\n\u001b[1;32m   1811\u001b[0m     \u001b[0;32mif\u001b[0m \u001b[0misinstance\u001b[0m\u001b[0;34m(\u001b[0m\u001b[0mselected\u001b[0m\u001b[0;34m,\u001b[0m \u001b[0msix\u001b[0m\u001b[0;34m.\u001b[0m\u001b[0mstring_types\u001b[0m\u001b[0;34m)\u001b[0m \u001b[0;32mand\u001b[0m \u001b[0mselected\u001b[0m \u001b[0;34m==\u001b[0m \u001b[0;34m\"all\"\u001b[0m\u001b[0;34m:\u001b[0m\u001b[0;34m\u001b[0m\u001b[0m\n",
      "\u001b[0;32m/usr/local/lib/python3.6/site-packages/sklearn/utils/validation.py\u001b[0m in \u001b[0;36mcheck_array\u001b[0;34m(array, accept_sparse, dtype, order, copy, force_all_finite, ensure_2d, allow_nd, ensure_min_samples, ensure_min_features, warn_on_dtype, estimator)\u001b[0m\n\u001b[1;32m    400\u001b[0m                                       force_all_finite)\n\u001b[1;32m    401\u001b[0m     \u001b[0;32melse\u001b[0m\u001b[0;34m:\u001b[0m\u001b[0;34m\u001b[0m\u001b[0m\n\u001b[0;32m--> 402\u001b[0;31m         \u001b[0marray\u001b[0m \u001b[0;34m=\u001b[0m \u001b[0mnp\u001b[0m\u001b[0;34m.\u001b[0m\u001b[0marray\u001b[0m\u001b[0;34m(\u001b[0m\u001b[0marray\u001b[0m\u001b[0;34m,\u001b[0m \u001b[0mdtype\u001b[0m\u001b[0;34m=\u001b[0m\u001b[0mdtype\u001b[0m\u001b[0;34m,\u001b[0m \u001b[0morder\u001b[0m\u001b[0;34m=\u001b[0m\u001b[0morder\u001b[0m\u001b[0;34m,\u001b[0m \u001b[0mcopy\u001b[0m\u001b[0;34m=\u001b[0m\u001b[0mcopy\u001b[0m\u001b[0;34m)\u001b[0m\u001b[0;34m\u001b[0m\u001b[0m\n\u001b[0m\u001b[1;32m    403\u001b[0m \u001b[0;34m\u001b[0m\u001b[0m\n\u001b[1;32m    404\u001b[0m         \u001b[0;32mif\u001b[0m \u001b[0mensure_2d\u001b[0m\u001b[0;34m:\u001b[0m\u001b[0;34m\u001b[0m\u001b[0m\n",
      "\u001b[0;31mValueError\u001b[0m: could not convert string to float: '2016-01-27'"
     ]
    }
   ],
   "source": [
    "# fix transactiondate\n",
    "from sklearn.preprocessing import OneHotEncoder\n",
    "enc = OneHotEncoder()\n",
    "print(X['transactiondate'].unique())\n",
    "X['transactiondate'].apply(enc.fit_transform)"
   ]
  },
  {
   "cell_type": "code",
   "execution_count": null,
   "metadata": {
    "collapsed": false
   },
   "outputs": [],
   "source": [
    "# fix city\n",
    "print(X['city'].unique())\n",
    "X['city']=['' if x is np.nan else x for x in X['city']]\n",
    "print(X['city'].unique())\n",
    "#X['city']=X.city.map({'STANDARD':1,'PO BOX':2,'MILITARY':3, 'UNIQUE': 4, '' : -1})"
   ]
  },
  {
   "cell_type": "code",
   "execution_count": null,
   "metadata": {
    "collapsed": false,
    "deletable": true,
    "editable": true
   },
   "outputs": [],
   "source": [
    "# Code for train test split\n",
    "# Start with 80/20 split.  Keep same test and train for each classification model for now\n",
    "X = dataset_class['X']\n",
    "y = dataset_class['y']\n",
    "X_train, X_test, y_train, y_test = train_test_split(X, y, test_size=.2, random_state=0)\n"
   ]
  },
  {
   "cell_type": "code",
   "execution_count": null,
   "metadata": {
    "collapsed": false
   },
   "outputs": [],
   "source": [
    "# loading library\n",
    "from sklearn.neighbors import KNeighborsClassifier\n",
    "from sklearn import metrics as mt\n",
    "\n",
    "# instantiate learning model (k = 3)\n",
    "knn = KNeighborsClassifier(n_neighbors=3)\n",
    "\n",
    "# fitting the model\n",
    "knn.fit(X_train, y_train)\n",
    "\n",
    "# predict the response\n",
    "#pred = knn.predict(X_test)\n",
    "\n",
    "# evaluate accuracy\n",
    "#print (mt.accuracy_score(y_test, pred))\n"
   ]
  },
  {
   "cell_type": "code",
   "execution_count": null,
   "metadata": {
    "collapsed": false
   },
   "outputs": [],
   "source": [
    "'''\n",
    "# KNN\n",
    "from sklearn.neighbors import KNeighborsClassifier\n",
    "from sklearn.model_selection import StratifiedKFold\n",
    "from sklearn.preprocessing import StandardScaler\n",
    "from sklearn import metrics as mt\n",
    "\n",
    "\n",
    "# X and y already set above\n",
    "yhat = np.zeros(y.shape) # we will fill this with predictions\n",
    "\n",
    "scl = StandardScaler()\n",
    "X = scl.fit_transform(X)\n",
    "\n",
    "# create cross validation iterator\n",
    "# cv = StratifiedKFold(n_splits=10)\n",
    "\n",
    "# get a handle to the classifier object, which defines the type\n",
    "#clf = KNeighborsClassifier(n_neighbors=3)\n",
    "\n",
    "# now iterate through and get predictions, saved to the correct row in yhat\n",
    "# NOTE: you can parallelize this using the cross_val_predict method\n",
    "#for train, test in cv.split(X,y):\n",
    "#    clf.fit(X[train],y[train])\n",
    "#    yhat[test] = clf.predict(X[test])\n",
    "\n",
    "#total_accuracy = mt.accuracy_score(y, yhat)\n",
    "#print ('KNN accuracy', total_accuracy)\n",
    "'''"
   ]
  },
  {
   "cell_type": "code",
   "execution_count": null,
   "metadata": {
    "collapsed": true
   },
   "outputs": [],
   "source": []
  },
  {
   "cell_type": "code",
   "execution_count": null,
   "metadata": {
    "collapsed": true
   },
   "outputs": [],
   "source": []
  },
  {
   "cell_type": "markdown",
   "metadata": {
    "deletable": true,
    "editable": true
   },
   "source": [
    "<a href=\"#top\">Back to Top</a>\n",
    "<a id=\"Analysis\"></a>\n",
    "# Visualizations of Results and Analysis\n",
    "<b>10 points</b>\n",
    "\n",
    "<i>\n",
    "<b>Description:</b><br/>\n",
    "Analyze the results using your chosen method of evaluation. Use visualizations of the results to bolster the analysis. Explain any visuals and analyze why they are interesting to someone that might use this model.\n",
    "</i>"
   ]
  },
  {
   "cell_type": "code",
   "execution_count": null,
   "metadata": {
    "collapsed": true,
    "deletable": true,
    "editable": true
   },
   "outputs": [],
   "source": []
  },
  {
   "cell_type": "markdown",
   "metadata": {
    "deletable": true,
    "editable": true
   },
   "source": [
    "<a href=\"#top\">Back to Top</a>\n",
    "<a id=\"Advantages\"></a>\n",
    "# Advantages of Each Model\n",
    "<b>10 points</b>\n",
    "\n",
    "<i>\n",
    "<b>Description:</b><br/>\n",
    "Discuss the advantages of each model for each classification task, if any. If there are not advantages, explain why. Is any model better than another? Is the difference significant with 95% confidence? Use proper statistical comparison methods. You must use statistical comparison techniques—be sure they are appropriate for your chosen method of validation as discussed in unit 7 of the course.\n",
    "</i>"
   ]
  },
  {
   "cell_type": "code",
   "execution_count": null,
   "metadata": {
    "collapsed": true,
    "deletable": true,
    "editable": true
   },
   "outputs": [],
   "source": []
  },
  {
   "cell_type": "markdown",
   "metadata": {
    "deletable": true,
    "editable": true
   },
   "source": [
    "<a href=\"#top\">Back to Top</a>\n",
    "<a id=\"Attributes\"></a>\n",
    "# Important Attributes\n",
    "<b>10 points</b>\n",
    "\n",
    "<i>\n",
    "<b>Description:</b><br/>\n",
    "Which attributes from your analysis are most important? Use proper methods discussed in class to evaluate the importance of different attributes. Discuss the results and hypothesize about why certain attributes are more important than others for a given classification task.\n",
    "</i>"
   ]
  },
  {
   "cell_type": "code",
   "execution_count": null,
   "metadata": {
    "collapsed": true,
    "deletable": true,
    "editable": true
   },
   "outputs": [],
   "source": []
  },
  {
   "cell_type": "markdown",
   "metadata": {
    "deletable": true,
    "editable": true
   },
   "source": [
    "<a href=\"#top\">Back to Top</a>\n",
    "<a id=\"Deployment\"></a>\n",
    "# Deployment\n",
    "<b>5 points</b>\n",
    "\n",
    "<i>\n",
    "<b>Description:</b><br/>\n",
    "How useful is your model for interested parties (i.e., the companies or organizations that might want to use it for prediction)? How would you measure the model's value if it was used by these parties? How would your deploy your model for interested parties? What other data should be collected? How often would the model need to be updated, etc.?\n",
    "</i>"
   ]
  },
  {
   "cell_type": "code",
   "execution_count": null,
   "metadata": {
    "collapsed": true,
    "deletable": true,
    "editable": true
   },
   "outputs": [],
   "source": []
  },
  {
   "cell_type": "markdown",
   "metadata": {
    "deletable": true,
    "editable": true
   },
   "source": [
    "<a href=\"#top\">Back to Top</a>\n",
    "<a id=\"Exceptional\"></a>\n",
    "# Exceptional Work\n",
    "<b>10 points</b>\n",
    "\n",
    "<i>\n",
    "<b>Description:</b><br/>\n",
    "You have free reign to provide additional analyses. One idea: grid search parameters in a parallelized fashion and visualize the\n",
    "performances across attributes. Which parameters are most significant for making a good model for each classification algorithm?\n",
    "</i>"
   ]
  },
  {
   "cell_type": "code",
   "execution_count": null,
   "metadata": {
    "collapsed": true,
    "deletable": true,
    "editable": true
   },
   "outputs": [],
   "source": []
  },
  {
   "cell_type": "markdown",
   "metadata": {
    "deletable": true,
    "editable": true
   },
   "source": [
    "<a href=\"#top\">Back to Top</a>\n",
    "<a id=\"References\"></a>\n",
    "# References:\n",
    "\n",
    "- Kernels from Kaggle competition: https://www.kaggle.com/c/zillow-prize-1/kernels\n",
    "- Scikitlearn logistic regression: http://scikit-learn.org/stable/modules/generated/sklearn.linear_model.LogisticRegression.html\n",
    "- Scikitlearn linear SVC: http://scikit-learn.org/stable/modules/generated/sklearn.svm.LinearSVC.html\n",
    "- Stackoverflow pandas questions: https://stackoverflow.com/questions/tagged/pandas"
   ]
  },
  {
   "cell_type": "code",
   "execution_count": null,
   "metadata": {
    "collapsed": true,
    "deletable": true,
    "editable": true
   },
   "outputs": [],
   "source": []
  }
 ],
 "metadata": {
  "kernelspec": {
   "display_name": "Python 3",
   "language": "python",
   "name": "python3"
  },
  "language_info": {
   "codemirror_mode": {
    "name": "ipython",
    "version": 3
   },
   "file_extension": ".py",
   "mimetype": "text/x-python",
   "name": "python",
   "nbconvert_exporter": "python",
   "pygments_lexer": "ipython3",
   "version": "3.6.0"
  }
 },
 "nbformat": 4,
 "nbformat_minor": 1
}
