{
 "cells": [
  {
   "cell_type": "markdown",
   "metadata": {
    "deletable": true,
    "editable": true
   },
   "source": [
    "# Lab 2: Zillow Dataset Classification and Regression Prediction Models\n",
    "MSDS 7331 Data Mining - Section 403 - Lab 2\n",
    "\n",
    "Team: Ivelin Angelov, Yao Yao, Kaitlin Kirasich, Albert Asuncion\n",
    "\n",
    "<a id=\"top\"></a>\n",
    "# Contents\n",
    "* <a href=\"#Imports\">Imports</a>\n",
    "* <a href=\"#Define\">Define and Prepare Class Variables</a>\n",
    "    - <a href=\"#define_c\">Classification Variables</a>\n",
    "    - <a href=\"#define_r\">Regression Variables</a>\n",
    "\n",
    "* <a href=\"#Describe\">Describe the Final Dataset</a>\n",
    "    - <a href=\"#describe_c\">Classification Dataset</a>\n",
    "    - <a href=\"#describe_r\">Regression Dataset</a>\n",
    "\n",
    "* <a href=\"#Evaluation\">Explain Evaluation Metrics</a>\n",
    "    - <a href=\"#metrcs_c\">Classification Metrics</a>\n",
    "    - <a href=\"#metrcs_r\">Regression Metrics</a>\n",
    "    \n",
    "* <a href=\"#Splits\">Training and Testing Splits</a>\n",
    "    - <a href=\"#splits_c\">For Classification</a>\n",
    "    - <a href=\"#splits_r\">For Regression</a>\n",
    "    \n",
    "* <a href=\"#Models\">Three Different Classification/Regression Models</a>\n",
    "    - <a href=\"#Classification_m\">Classification Models</a>\n",
    "        - <a href=\"#KNN_c_m\">K Nearest Neighbors</a>\n",
    "        - <a href=\"#RandomForest_c_m\">Random Forest</a>\n",
    "        - <a href=\"#NaiveBayes_c_m\">Naive Bayes</a>\n",
    "    - <a href=\"#Regression_m\">Regression Models</a>\n",
    "        - <a href=\"#KNN_r_m\">K Nearest Neighbors</a>\n",
    "        - <a href=\"#RandomForest_r_m\">Random Forest</a>\n",
    "        - <a href=\"#GaussianProcess_r_m\">Gaussian Regression</a>\n",
    "\n",
    "* <a href=\"#Analysis\">Visualizations of Results and Analysis</a>\n",
    "    - <a href=\"#Classification_a\">Analysis of Classification Models</a>\n",
    "        - <a href=\"#KNN_c_a\">Analysis of K Nearest Neighbors</a>\n",
    "        - <a href=\"#RandomForest_c_a\">Analysis of Random Forest</a>\n",
    "        - <a href=\"#NaiveBayes_c_a\">Analysis of Naive Bayes</a>\n",
    "    - <a href=\"#Regression_a\">Regression Models</a>\n",
    "        - <a href=\"#KNN_r_a\">Analysis of K Nearest Neighbors</a>\n",
    "        - <a href=\"#RandomForest_r_a\">Analysis of Random Forest</a>\n",
    "        - <a href=\"#GaussianProcess_r_a\">Analysis of Gaussian Regression</a>\n",
    "\n",
    "* <a href=\"#Advantages\">Advantages of Each Model</a>\n",
    "    - <a href=\"#advantages_c\">Classification Models</a>\n",
    "    - <a href=\"#advantages_r\">Regression Models</a>\n",
    "        \n",
    "* <a href=\"#Attributes\">Important Attributes</a>\n",
    "    - <a href=\"#attributes_c\">Classification Models</a>\n",
    "    - <a href=\"#attributes_r\">Regression Models</a>\n",
    "    \n",
    "* <a href=\"#Deployment\">Deployment</a>\n",
    "* <a href=\"#Exceptional\">Exceptional Work</a>\n",
    "    - <a href=\"#exceptional_approaches\">Approaches Considered for Balanced Classification</a>\n",
    "    - <a href=\"#exceptional_fe\">Feature Elimination</a>\n",
    "    - <a href=\"#exceptional_2d\">Two dimensional Linear Discriminant Analysis</a>\n",
    "* <a href=\"#References\">References</a>\n",
    "________________________________________________________________________________________________________\n",
    "<a id=\"Imports\"></a>\n",
    "# Imports & Custom Functions\n",
    "We chose to use the same Zillow dataset from Lab 1 for this exploration in regression and classification. For the origin and purpose of dataset as well as a detailed description of the dataset, refer to https://github.com/post2web/data_mining_group_project/blob/master/notebooks/lab1.ipynb. \n",
    "\n",
    "The function `output_variables_table` shows if the variable is nominal or ordinal for further use on classification or regression. The functions `per_class_accuracy` and `confusion_matrix` show the confusion table for correctly and incorrectly identified classification prediction results. The function `plot_class_acc shows` the visual accuracies of classification. The function `plot_feature_importance` shows the feature importance of classification values. The function `print_accuracy` shows the accuracy scores of the classification models. The function `get_dataset_subset` obtains a subset of the full dataset for modeling and prediction.\n",
    "\n",
    "We will be using a seed of 0. Due to our dataset being extremely large, we are using 5 folds for the CPU usage and runtime to be more managable to run through the prediction models for both classification and regression."
   ]
  },
  {
   "cell_type": "code",
   "execution_count": 1,
   "metadata": {
    "collapsed": false,
    "deletable": true,
    "editable": true
   },
   "outputs": [
    {
     "name": "stderr",
     "output_type": "stream",
     "text": [
      "/usr/local/lib/python3.6/site-packages/sklearn/cross_validation.py:41: DeprecationWarning: This module was deprecated in version 0.18 in favor of the model_selection module into which all the refactored classes and functions are moved. Also note that the interface of the new CV iterators are different from that of this module. This module will be removed in 0.20.\n",
      "  \"This module will be removed in 0.20.\", DeprecationWarning)\n"
     ]
    }
   ],
   "source": [
    "%matplotlib inline\n",
    "import numpy as np\n",
    "import pandas as pd\n",
    "import matplotlib.pyplot as plt\n",
    "import seaborn as sns\n",
    "from IPython.display import display, HTML\n",
    "from sklearn.model_selection import train_test_split\n",
    "from sklearn import metrics as mt\n",
    "\n",
    "# classification imports\n",
    "from sklearn.ensemble import RandomForestClassifier\n",
    "from sklearn.neighbors import KNeighborsClassifier\n",
    "from sklearn.cross_validation import cross_val_score\n",
    "from sklearn.model_selection import StratifiedKFold\n",
    "from sklearn.discriminant_analysis import LinearDiscriminantAnalysis as LDA\n",
    "from sklearn.decomposition import PCA, SparsePCA\n",
    "from sklearn.gaussian_process import GaussianProcessClassifier\n",
    "from sklearn.neighbors import KNeighborsClassifier\n",
    "from sklearn.ensemble import RandomForestClassifier\n",
    "from sklearn.gaussian_process import GaussianProcessRegressor\n",
    "from sklearn.model_selection import train_test_split, cross_val_score, KFold\n",
    "from sklearn.metrics import mean_squared_error, r2_score\n",
    "\n",
    "\n",
    "# regression imports\n",
    "from sklearn.naive_bayes import GaussianNB\n",
    "from sklearn.neighbors import KNeighborsRegressor\n",
    "from sklearn.model_selection import KFold\n",
    "from sklearn.metrics import mean_squared_error, r2_score\n",
    "from sklearn.ensemble import RandomForestRegressor\n",
    "from sklearn.gaussian_process import GaussianProcessRegressor\n",
    "from sklearn.datasets import make_regression\n",
    "\n",
    "from sklearn.feature_selection import RFE\n",
    "from sklearn.discriminant_analysis import LinearDiscriminantAnalysis as LDA\n",
    "\n",
    "import warnings\n",
    "warnings.filterwarnings(\"ignore\")\n",
    "\n",
    "\n",
    "def output_variables_table(variables):\n",
    "    variables = variables.sort_index()\n",
    "    rows = ['<tr><th>Variable</th><th>Type</th><th>Scale</th><th>Description</th></tr>']\n",
    "    for vname, atts in variables.iterrows():\n",
    "        if vname not in dataset.columns:\n",
    "            continue\n",
    "        atts = atts.to_dict()\n",
    "        # add scale if TBD\n",
    "        if atts['scale'] == 'TBD':\n",
    "            if atts['type'] in ['nominal', 'ordinal']:\n",
    "                uniques = dataset[vname].unique()\n",
    "                uniques = list(uniques.astype(str))\n",
    "                if len(uniques) < 10:\n",
    "                    atts['scale'] = '[%s]' % ', '.join(uniques)\n",
    "                else:\n",
    "                    atts['scale'] = '[%s]' % (', '.join(uniques[:5]) + ', ... (%d More)' % len(uniques))\n",
    "            if atts['type'] in ['ratio', 'interval']:\n",
    "                atts['scale'] = '(%d, %d)' % (dataset[vname].min(), dataset[vname].max())\n",
    "        row = (vname, atts['type'], atts['scale'], atts['description'])\n",
    "        rows.append('<tr><td>%s</td><td>%s</td><td>%s</td><td>%s</td></tr>' % row)\n",
    "    return HTML('<table>%s</table>' % ''.join(rows))\n",
    "\n",
    "\n",
    "# Define an accuracy plot\n",
    "def per_class_accuracy(ytrue, yhat):\n",
    "    conf = mt.confusion_matrix(ytrue,yhat)\n",
    "    norm_conf = conf.astype('float') / conf.sum(axis=1)[:, np.newaxis]\n",
    "    return np.diag(norm_conf)\n",
    "\n",
    "def plot_class_acc(ytrue, yhat, classes, title=''):\n",
    "    acc_list = per_class_accuracy(y, yhat)\n",
    "    pd.DataFrame(acc_list, index=pd.Index(classes, name='Classes')).plot(kind='bar')\n",
    "    plt.xlabel('Class value (one per face)')\n",
    "    plt.ylabel('Accuracy within class')\n",
    "    plt.title(title+\", Total Acc=%.1f\"%(100*mt.accuracy_score(ytrue,yhat)))\n",
    "    plt.grid()\n",
    "    plt.ylim([0,1])\n",
    "    plt.show()\n",
    "    \n",
    "# Plot the feature importances of the forest\n",
    "def plot_feature_importance(ytrue, yhat, rt, title=''):\n",
    "    importances = rt.feature_importances_\n",
    "    std = np.std([tree.feature_importances_ for tree in rt.estimators_],\n",
    "             axis=0)\n",
    "    indices = np.argsort(importances)[::-1]\n",
    "    for f in range(X.shape[1]):\n",
    "        print(\"%d. feature %d (%f)\" % (f + 1, indices[f], importances[indices[f]]))\n",
    "    plt.figure()\n",
    "    plt.title(\"Feature importances\")\n",
    "    plt.bar(range(X.shape[1]), importances[indices],\n",
    "       color=\"r\", yerr=std[indices], align=\"center\")\n",
    "    plt.xticks(range(X.shape[1]), indices)\n",
    "    plt.xlim([-1, X.shape[1]])\n",
    "    plt.show()\n",
    "    \n",
    "def print_accuracy(model_name, y_test, yhat, scores):\n",
    "    scores = np.array(scores)\n",
    "    \n",
    "    print('----------------- %s Evaluation -----------------' % model_name)\n",
    "    print(\" F1 Score: %0.2f (+/- %0.2f)\" % (scores.mean(), scores.std() * 2))\n",
    "    print(' Accuracy', mt.accuracy_score(y_test, yhat))\n",
    "    print(' Precision', mt.precision_score(y_test, yhat, average='weighted'))\n",
    "    print(' Recall', mt.recall_score(y_test, yhat, average='weighted'))\n",
    "    \n",
    "def confusion_matrix(ytrue, yhat, classes):\n",
    "    index = pd.MultiIndex.from_product([['True Class'], classes])\n",
    "    columns = pd.MultiIndex.from_product([['Predicted Class'], classes])\n",
    "    return pd.DataFrame(mt.confusion_matrix(y, yhat), index=index, columns=columns)\n",
    "\n",
    "def roc_curve(ytrue, yhat, clf):\n",
    "    for i, label in enumerate(clf.classes_):\n",
    "        fpr, tpr, _ = mt.roc_curve(y, yhat_score[:, i], pos_label=label)\n",
    "        roc_auc = mt.auc(fpr, tpr)\n",
    "\n",
    "        plt.plot(fpr, tpr, label='class {0} with {1} instances (area = {2:0.2f})'\n",
    "                                       ''.format(label, sum(y==label), roc_auc))\n",
    "\n",
    "        plt.title('ROC Curve')\n",
    "        plt.legend(loc=\"lower right\")\n",
    "        plt.xlabel('False Positive Rate')\n",
    "        plt.ylabel('True Positive Rate')\n",
    "    plt.show()\n",
    "\n",
    "    \n",
    "def get_dataset_subset(dataset, n=1000):\n",
    "    return {\n",
    "        'X': dataset['X'].iloc[:n],\n",
    "        'y': dataset['y'].iloc[:n]\n",
    "    }\n",
    "\n",
    "\n",
    "seed = 0\n",
    "n_splits = 5"
   ]
  },
  {
   "cell_type": "markdown",
   "metadata": {
    "deletable": true,
    "editable": true
   },
   "source": [
    "<a id=\"Define\"></a>\n",
    "# Define and Prepare Class Variables\n",
    "<b>10 points</b>\n",
    "\n",
    "<i>\n",
    "<b>Description:</b><br/>\n",
    "Define and prepare your class variables. Use proper variable representations (int, float, one-hot, etc.). Use pre-processing methods (as needed) for dimensionality reduction, scaling, etc. Remove variables that are not needed/useful for the analysis.\n",
    "</i>\n",
    "\n",
    "<a href=\"#top\">⏫ Back to Top</a>"
   ]
  },
  {
   "cell_type": "markdown",
   "metadata": {
    "deletable": true,
    "editable": true
   },
   "source": [
    "<a id=\"define_c\"></a>\n",
    "## Classification Datasets:\n",
    "\n",
    "The classification dataset removes `logerror` and `transactiondate` because they were for the purposes of the Kaggle competition and were not complete for the training set. The column that was created for \"New Features\" from Lab 1 (`city` and `pricepersqft`) were also removed for the sake of simplicity of only using original data for the prediction process. The table generated shows the type of data used for classification purposes.\n",
    "\n",
    "The dataset has 58380 rows and 1757 columns. All variables and details about the variables are printed on the table below.\n",
    "\n",
    "<a href=\"#top\">⏫ Back to Top</a>"
   ]
  },
  {
   "cell_type": "code",
   "execution_count": 2,
   "metadata": {
    "collapsed": false,
    "deletable": true,
    "editable": true
   },
   "outputs": [
    {
     "name": "stdout",
     "output_type": "stream",
     "text": [
      "Dataset shape: (58380, 1757)\n",
      "regionidcounty\n",
      "1286    17749\n",
      "2061     5068\n",
      "3101    35563\n",
      "Name: regionidcounty, dtype: int64\n"
     ]
    },
    {
     "data": {
      "text/html": [
       "<table><tr><th>Variable</th><th>Type</th><th>Scale</th><th>Description</th></tr><tr><td>airconditioningtypeid</td><td>nominal</td><td>[0, 1, 13, 5, 11, 3, 9]</td><td>Type of cooling system present in the home (if any)</td></tr><tr><td>assessmentyear</td><td>interval</td><td>(2015, 2015)</td><td>The year of the property tax assessment</td></tr><tr><td>bathroomcnt</td><td>ordinal</td><td>[1.0, 3.5, 2.5, 3.0, 2.0, ... (22 More)]</td><td>Number of bathrooms in home including fractional bathrooms</td></tr><tr><td>bedroomcnt</td><td>ordinal</td><td>[1, 5, 4, 3, 2, ... (16 More)]</td><td>Number of bedrooms in home</td></tr><tr><td>buildingqualitytypeid</td><td>ordinal</td><td>[7, 4, 1, 10, 12, 8]</td><td>Overall assessment of condition of the building from best (lowest) to worst (highest)</td></tr><tr><td>calculatedbathnbr</td><td>ordinal</td><td>[1.0, 3.5, 2.5, 3.0, 2.0, ... (22 More)]</td><td>Number of bathrooms in home including fractional bathroom</td></tr><tr><td>calculatedfinishedsquarefeet</td><td>ratio</td><td>(0, 10925)</td><td>Calculated total finished living area of the home</td></tr><tr><td>censustractandblock</td><td>nominal</td><td>[60372040024100.0, 60590991081500.0, 60374078455800.0, 61110052978700.0, 60379010957300.0, ... (445 More)]</td><td>Census tract and block ID combined - also contains blockgroup assignment by extension</td></tr><tr><td>finishedsquarefeet12</td><td>ratio</td><td>(0, 6615)</td><td>Finished living area</td></tr><tr><td>finishedsquarefeet50</td><td>ratio</td><td>(0, 8352)</td><td>Size of the finished living area on the first (entry) floor of the home</td></tr><tr><td>fips</td><td>nominal</td><td>[6037, 6059, 6111]</td><td>Federal Information Processing Standard code - see https://en.wikipedia.org/wiki/FIPS_county_code for more details</td></tr><tr><td>fireplacecnt</td><td>ordinal</td><td>[0, 1, 2, 3, 5, 4]</td><td>Number of fireplaces in a home (if any)</td></tr><tr><td>fullbathcnt</td><td>ordinal</td><td>[1.0, 3.0, 2.0, 6.0, 4.0, ... (17 More)]</td><td>Number of full bathrooms (sink, shower + bathtub, and toilet) present in home</td></tr><tr><td>garagecarcnt</td><td>ordinal</td><td>[0.0, 2.0, 1.0, 4.0, 3.0, ... (14 More)]</td><td>Total number of garages on the lot including an attached garage</td></tr><tr><td>garagetotalsqft</td><td>ratio</td><td>(0, 1610)</td><td>Total number of square feet of all garages on lot including an attached garage</td></tr><tr><td>hashottuborspa</td><td>ordinal</td><td>[0, 1]</td><td>Does the home have a hot tub or spa</td></tr><tr><td>heatingorsystemtypeid</td><td>nominal</td><td>[7, 0, 2, 6, 24, ... (12 More)]</td><td>Type of home heating system</td></tr><tr><td>landtaxvaluedollarcnt</td><td>ratio</td><td>(22, 2477536)</td><td>The assessed value of the land area of the parcel</td></tr><tr><td>location_type</td><td>nominal</td><td>[PRIMARY, nan, NOT ACCEPTABLE, ACCEPTABLE]</td><td>Primary, Acceptable, Not Acceptable</td></tr><tr><td>lotsizesquarefeet</td><td>ratio</td><td>(0, 1710750)</td><td>Area of the lot in square feet</td></tr><tr><td>numberofstories</td><td>ordinal</td><td>[1, 2, 3, 4]</td><td>Number of stories or levels the home has</td></tr><tr><td>parcelid</td><td>nominal</td><td>[11800329, 14058566, 14636635, 17138404, 11270723, ... (49678 More)]</td><td>Unique identifier for parcels (lots)</td></tr><tr><td>poolcnt</td><td>ordinal</td><td>[0.0, 1.0]</td><td>Number of pools on the lot (if any)</td></tr><tr><td>poolsizesum</td><td>ratio</td><td>(0, 1476)</td><td>Total square footage of all pools on property</td></tr><tr><td>pooltypeid10</td><td>nominal</td><td>[0, 1]</td><td>Spa or Hot Tub</td></tr><tr><td>pooltypeid2</td><td>nominal</td><td>[0, 1]</td><td>Pool with Spa/Hot Tub</td></tr><tr><td>pooltypeid7</td><td>nominal</td><td>[0, 1]</td><td>Pool without hot tub</td></tr><tr><td>propertycountylandusecode</td><td>nominal</td><td>[0100, 122, 1, 1111, 010C, ... (71 More)]</td><td>County land use code i.e. it's zoning at the county level</td></tr><tr><td>propertylandusetypeid</td><td>nominal</td><td>[261, 266, 246, 265, 269, ... (13 More)]</td><td>Type of land use the property is zoned for</td></tr><tr><td>propertyzoningdesc</td><td>nominal</td><td>[LAR2, 0, LRRA7000*, TOPR-MD, LCA11*, ... (1655 More)]</td><td>Description of the allowed land uses (zoning) for that property</td></tr><tr><td>roomcnt</td><td>ordinal</td><td>[0, 9, 8, 4, 7, ... (16 More)]</td><td>Total number of rooms in the principal residence</td></tr><tr><td>structuretaxvaluedollarcnt</td><td>ratio</td><td>(100, 2181198)</td><td>The assessed value of the built structure on the parcel</td></tr><tr><td>taxamount</td><td>ratio</td><td>(49, 51292)</td><td>The total property tax assessed for that assessment year</td></tr><tr><td>taxdelinquencyflag</td><td>nominal</td><td>[0, 1]</td><td>Property taxes for this parcel are past due as of 2015</td></tr><tr><td>taxdelinquencyyear</td><td>interval</td><td>(0, 26)</td><td>Year</td></tr><tr><td>taxvaluedollarcnt</td><td>ratio</td><td>(22, 4052186)</td><td>The total tax assessed value of the parcel</td></tr><tr><td>threequarterbathnbr</td><td>ordinal</td><td>[0, 1, 2, 3, 4]</td><td>Number of 3/4 bathrooms in house (shower + sink + toilet)</td></tr><tr><td>unitcnt</td><td>ordinal</td><td>[1, 2, 3, 4, 9, 6]</td><td>Number of units the structure is built into (i.e. 2 = duplex, 3 = triplex, etc...)</td></tr><tr><td>yardbuildingsqft17</td><td>interval</td><td>(0, 1485)</td><td>Patio in yard</td></tr><tr><td>yardbuildingsqft26</td><td>interval</td><td>(0, 1366)</td><td>Storage shed/building in yard</td></tr><tr><td>yearbuilt</td><td>interval</td><td>(1885, 2015)</td><td>The Year the principal residence was built</td></tr><tr><td>zipcode_type</td><td>nominal</td><td>[STANDARD, nan, PO BOX, MILITARY, UNIQUE]</td><td>Standard, PO BOX Only, Unique, Military(implies APO or FPO)</td></tr></table>"
      ],
      "text/plain": [
       "<IPython.core.display.HTML object>"
      ]
     },
     "execution_count": 2,
     "metadata": {},
     "output_type": "execute_result"
    }
   ],
   "source": [
    "variables = pd.read_csv('../../datasets/variables.csv').set_index('name')\n",
    "dataset = pd.read_csv('../../datasets/train.csv', low_memory=False)\n",
    "\n",
    "# remove unneeded variables\n",
    "del dataset['Unnamed: 0']\n",
    "del dataset['logerror']\n",
    "del dataset['transactiondate']\n",
    "del dataset['city']\n",
    "del dataset['price_per_sqft']\n",
    "\n",
    "\n",
    "# delete all location information because we want to predict the couty\n",
    "# and those feature will give it up to easy\n",
    "y = dataset['regionidcounty'].copy()\n",
    "del dataset['regionidcounty']\n",
    "del dataset['regionidcity']\n",
    "del dataset['regionidzip']\n",
    "del dataset['regionidneighborhood']\n",
    "del dataset['rawcensustractandblock']\n",
    "del dataset['latitude']\n",
    "del dataset['longitude']\n",
    "\n",
    "output_variables = output_variables_table(variables)\n",
    "\n",
    "nominal = variables[variables['type'].isin(['nominal'])]\n",
    "nominal = nominal[nominal.index.isin(dataset.columns)]\n",
    "continuous = variables[~variables['type'].isin(['nominal'])]\n",
    "continuous = continuous[continuous.index.isin(dataset.columns)]\n",
    "\n",
    "nominal_data = dataset[nominal.index]\n",
    "nominal_data = pd.get_dummies(nominal_data, drop_first=True)\n",
    "nominal_data = nominal_data[nominal_data.columns[~nominal_data.columns.isin(nominal.index)]]\n",
    "\n",
    "continuous_data = dataset[continuous.index]\n",
    "\n",
    "dataset = pd.concat([continuous_data, nominal_data], axis=1)\n",
    "\n",
    "columns = dataset.columns\n",
    "variables = variables[variables.index.isin(dataset.columns)]\n",
    "\n",
    "# shuffle the dataset (just in case)\n",
    "X = dataset.sample(frac=1, random_state=seed)\n",
    "dataset_class = {\n",
    "    'X': X,\n",
    "    'y': y\n",
    "}\n",
    "print('Dataset shape:', X.shape)\n",
    "print(y.groupby(y).size())\n",
    "output_variables"
   ]
  },
  {
   "cell_type": "markdown",
   "metadata": {
    "deletable": true,
    "editable": true
   },
   "source": [
    "<a id=\"define_r\"></a>\n",
    "## Regression Datasets:\n",
    "\n",
    "The regression dataset removes `logerror` and `transactiondate` because they were for the purposes of the Kaggle competition and were not complete for the training set. The column that was created for \"New Features\" from Lab 1 (`city` and `pricepersqft`) were also removed for the sake of simplicity of only using original data for the prediction process. We are only using nominal and continuous data types for regression purposes.\n",
    "\n",
    "The dataset has 58380 rows and 1758 columns. All variables and details about the variables are printed on the table below.\n",
    "\n",
    "<a href=\"#top\">⏫ Back to Top</a>"
   ]
  },
  {
   "cell_type": "code",
   "execution_count": 39,
   "metadata": {
    "collapsed": false,
    "deletable": true,
    "editable": true
   },
   "outputs": [
    {
     "name": "stdout",
     "output_type": "stream",
     "text": [
      "Dataset shape: (58380, 1758)\n"
     ]
    },
    {
     "data": {
      "text/html": [
       "<table><tr><th>Variable</th><th>Type</th><th>Scale</th><th>Description</th></tr><tr><td>airconditioningtypeid</td><td>nominal</td><td>[0, 1, 13, 5, 11, 3, 9]</td><td>Type of cooling system present in the home (if any)</td></tr><tr><td>assessmentyear</td><td>interval</td><td>(2015, 2015)</td><td>The year of the property tax assessment</td></tr><tr><td>bathroomcnt</td><td>ordinal</td><td>[1.0, 3.5, 2.5, 3.0, 2.0, ... (22 More)]</td><td>Number of bathrooms in home including fractional bathrooms</td></tr><tr><td>bedroomcnt</td><td>ordinal</td><td>[1, 5, 4, 3, 2, ... (16 More)]</td><td>Number of bedrooms in home</td></tr><tr><td>buildingqualitytypeid</td><td>ordinal</td><td>[7, 4, 1, 10, 12, 8]</td><td>Overall assessment of condition of the building from best (lowest) to worst (highest)</td></tr><tr><td>calculatedbathnbr</td><td>ordinal</td><td>[1.0, 3.5, 2.5, 3.0, 2.0, ... (22 More)]</td><td>Number of bathrooms in home including fractional bathroom</td></tr><tr><td>calculatedfinishedsquarefeet</td><td>ratio</td><td>(0, 10925)</td><td>Calculated total finished living area of the home</td></tr><tr><td>censustractandblock</td><td>nominal</td><td>[60372040024100.0, 60590991081500.0, 60374078455800.0, 61110052978700.0, 60379010957300.0, ... (445 More)]</td><td>Census tract and block ID combined - also contains blockgroup assignment by extension</td></tr><tr><td>finishedsquarefeet12</td><td>ratio</td><td>(0, 6615)</td><td>Finished living area</td></tr><tr><td>finishedsquarefeet50</td><td>ratio</td><td>(0, 8352)</td><td>Size of the finished living area on the first (entry) floor of the home</td></tr><tr><td>fips</td><td>nominal</td><td>[6037, 6059, 6111]</td><td>Federal Information Processing Standard code - see https://en.wikipedia.org/wiki/FIPS_county_code for more details</td></tr><tr><td>fireplacecnt</td><td>ordinal</td><td>[0, 1, 2, 3, 5, 4]</td><td>Number of fireplaces in a home (if any)</td></tr><tr><td>fullbathcnt</td><td>ordinal</td><td>[1.0, 3.0, 2.0, 6.0, 4.0, ... (17 More)]</td><td>Number of full bathrooms (sink, shower + bathtub, and toilet) present in home</td></tr><tr><td>garagecarcnt</td><td>ordinal</td><td>[0.0, 2.0, 1.0, 4.0, 3.0, ... (14 More)]</td><td>Total number of garages on the lot including an attached garage</td></tr><tr><td>garagetotalsqft</td><td>ratio</td><td>(0, 1610)</td><td>Total number of square feet of all garages on lot including an attached garage</td></tr><tr><td>hashottuborspa</td><td>ordinal</td><td>[0, 1]</td><td>Does the home have a hot tub or spa</td></tr><tr><td>heatingorsystemtypeid</td><td>nominal</td><td>[7, 0, 2, 6, 24, ... (12 More)]</td><td>Type of home heating system</td></tr><tr><td>landtaxvaluedollarcnt</td><td>ratio</td><td>(22, 2477536)</td><td>The assessed value of the land area of the parcel</td></tr><tr><td>latitude</td><td>interval</td><td>(33340240, 34816008)</td><td>Latitude of the middle of the parcel multiplied by 10e6</td></tr><tr><td>location_type</td><td>nominal</td><td>[PRIMARY, nan, NOT ACCEPTABLE, ACCEPTABLE]</td><td>Primary, Acceptable, Not Acceptable</td></tr><tr><td>longitude</td><td>interval</td><td>(-119447008, -117556200)</td><td>Longitude of the middle of the parcel multiplied by 10e6</td></tr><tr><td>lotsizesquarefeet</td><td>ratio</td><td>(0, 1710750)</td><td>Area of the lot in square feet</td></tr><tr><td>numberofstories</td><td>ordinal</td><td>[1, 2, 3, 4]</td><td>Number of stories or levels the home has</td></tr><tr><td>parcelid</td><td>nominal</td><td>[11800329, 14058566, 14636635, 17138404, 11270723, ... (49678 More)]</td><td>Unique identifier for parcels (lots)</td></tr><tr><td>poolcnt</td><td>ordinal</td><td>[0.0, 1.0]</td><td>Number of pools on the lot (if any)</td></tr><tr><td>poolsizesum</td><td>ratio</td><td>(0, 1476)</td><td>Total square footage of all pools on property</td></tr><tr><td>pooltypeid10</td><td>nominal</td><td>[0, 1]</td><td>Spa or Hot Tub</td></tr><tr><td>pooltypeid2</td><td>nominal</td><td>[0, 1]</td><td>Pool with Spa/Hot Tub</td></tr><tr><td>pooltypeid7</td><td>nominal</td><td>[0, 1]</td><td>Pool without hot tub</td></tr><tr><td>propertycountylandusecode</td><td>nominal</td><td>[0100, 122, 1, 1111, 010C, ... (71 More)]</td><td>County land use code i.e. it's zoning at the county level</td></tr><tr><td>propertylandusetypeid</td><td>nominal</td><td>[261, 266, 246, 265, 269, ... (13 More)]</td><td>Type of land use the property is zoned for</td></tr><tr><td>propertyzoningdesc</td><td>nominal</td><td>[LAR2, 0, LRRA7000*, TOPR-MD, LCA11*, ... (1655 More)]</td><td>Description of the allowed land uses (zoning) for that property</td></tr><tr><td>rawcensustractandblock</td><td>nominal</td><td>[60372038, 60590992, 60590012, 61110054, 60379010, ... (1407 More)]</td><td>Census tract and block ID combined - also contains blockgroup assignment by extension</td></tr><tr><td>regionidcity</td><td>nominal</td><td>[12447, 25218, 18874, 51239, 5534, ... (175 More)]</td><td>City in which the property is located (if any)</td></tr><tr><td>regionidcounty</td><td>nominal</td><td>[3101, 1286, 2061]</td><td>County in which the property is located</td></tr><tr><td>regionidneighborhood</td><td>nominal</td><td>[113886, 0, 416341, 274359, 276293, ... (470 More)]</td><td>Neighborhood in which the property is located</td></tr><tr><td>regionidzip</td><td>nominal</td><td>[96044, 96964, 96186, 97089, 97319, ... (387 More)]</td><td>Zip code in which the property is located</td></tr><tr><td>roomcnt</td><td>ordinal</td><td>[0, 9, 8, 4, 7, ... (16 More)]</td><td>Total number of rooms in the principal residence</td></tr><tr><td>structuretaxvaluedollarcnt</td><td>ratio</td><td>(100, 2181198)</td><td>The assessed value of the built structure on the parcel</td></tr><tr><td>taxamount</td><td>ratio</td><td>(49, 51292)</td><td>The total property tax assessed for that assessment year</td></tr><tr><td>taxdelinquencyflag</td><td>nominal</td><td>[0, 1]</td><td>Property taxes for this parcel are past due as of 2015</td></tr><tr><td>taxdelinquencyyear</td><td>interval</td><td>(0, 26)</td><td>Year</td></tr><tr><td>taxvaluedollarcnt</td><td>ratio</td><td>(22, 4052186)</td><td>The total tax assessed value of the parcel</td></tr><tr><td>threequarterbathnbr</td><td>ordinal</td><td>[0, 1, 2, 3, 4]</td><td>Number of 3/4 bathrooms in house (shower + sink + toilet)</td></tr><tr><td>unitcnt</td><td>ordinal</td><td>[1, 2, 3, 4, 9, 6]</td><td>Number of units the structure is built into (i.e. 2 = duplex, 3 = triplex, etc...)</td></tr><tr><td>yardbuildingsqft17</td><td>interval</td><td>(0, 1485)</td><td>Patio in yard</td></tr><tr><td>yardbuildingsqft26</td><td>interval</td><td>(0, 1366)</td><td>Storage shed/building in yard</td></tr><tr><td>yearbuilt</td><td>interval</td><td>(1885, 2015)</td><td>The Year the principal residence was built</td></tr><tr><td>zipcode_type</td><td>nominal</td><td>[STANDARD, nan, PO BOX, MILITARY, UNIQUE]</td><td>Standard, PO BOX Only, Unique, Military(implies APO or FPO)</td></tr></table>"
      ],
      "text/plain": [
       "<IPython.core.display.HTML object>"
      ]
     },
     "execution_count": 39,
     "metadata": {},
     "output_type": "execute_result"
    },
    {
     "data": {
      "image/png": "[encoded data removed]",
      "text/plain": [
       "<matplotlib.figure.Figure at 0x114a79ef0>"
      ]
     },
     "metadata": {},
     "output_type": "display_data"
    }
   ],
   "source": [
    "dataset = pd.read_csv('../../datasets/train.csv', low_memory=False)\n",
    "variables = pd.read_csv('../../datasets/variables.csv').set_index('name')\n",
    "\n",
    "# remove unneeded variables\n",
    "del dataset['logerror']\n",
    "del dataset['transactiondate']\n",
    "del dataset['city']\n",
    "del dataset['price_per_sqft']\n",
    "\n",
    "output_variables = output_variables_table(variables)\n",
    "\n",
    "nominal = variables[variables['type'].isin(['nominal'])]\n",
    "nominal = nominal[nominal.index.isin(dataset.columns)]\n",
    "continuous = variables[~variables['type'].isin(['nominal'])]\n",
    "continuous = continuous[continuous.index.isin(dataset.columns)]\n",
    "\n",
    "nominal_data = dataset[nominal.index]\n",
    "nominal_data = pd.get_dummies(nominal_data, drop_first=True)\n",
    "nominal_data = nominal_data[nominal_data.columns[~nominal_data.columns.isin(nominal.index)]]\n",
    "\n",
    "continuous_data = dataset[continuous.index]\n",
    "\n",
    "dataset = pd.concat([continuous_data, nominal_data], axis=1)\n",
    "\n",
    "columns = dataset.columns\n",
    "variables = variables[variables.index.isin(dataset.columns)]\n",
    "\n",
    "# shuffle the dataset (just in case)\n",
    "X = dataset.sample(frac=1, random_state=seed)\n",
    "y = X['taxamount'].copy()\n",
    "del X['taxamount']\n",
    "\n",
    "dataset_reg = {\n",
    "    'X': X,\n",
    "    'y': y\n",
    "}\n",
    "print('Dataset shape:', X.shape)\n",
    "\n",
    "plt.title('Distribution of the target variable: taxamount')\n",
    "y.plot(kind='box')\n",
    "output_variables"
   ]
  },
  {
   "cell_type": "markdown",
   "metadata": {
    "deletable": true,
    "editable": true
   },
   "source": [
    "<a id=\"Describe\"></a>\n",
    "# Describe the Final Dataset\n",
    "<b>5 points</b>\n",
    "\n",
    "<i>\n",
    "<b>Description:</b><br/>\n",
    "Describe the final dataset that is used for classification/regression (include a description of any newly formed variables you created).\n",
    "</i>\n",
    "\n",
    "<a href=\"#top\">⏫ Back to Top</a>"
   ]
  },
  {
   "cell_type": "markdown",
   "metadata": {
    "deletable": true,
    "editable": true
   },
   "source": [
    "<a id=\"describe_c\"></a>\n",
    "## Classification Datasets:\n",
    "\n",
    "<a href=\"#top\">⏫ Back to Top</a>"
   ]
  },
  {
   "cell_type": "markdown",
   "metadata": {
    "deletable": true,
    "editable": true
   },
   "source": [
    "Since we are using the same Zillow dataset that we used in the previous lab, most of the data was already cleaned up.  However, the purpose of our classification dataset is to predict the county each property is located in. Therefore our final model removed all columns relating to location such as `latitude`, `longitude`, `city`, and `zipcode`.  We also removed variables we did not need such as `logerror`, `transactiondate`, `and price_per_sqft`.\n",
    "\n",
    "We did not create any new columns for the classification dataset but we did categorical variable into indicator variables.\n",
    "\n",
    "The final shape of our classification dataset is 58380 instances and 1757 columns.  The three counties we are trying to predict have sizes of about 18k, 5k, and 36k so an accuracy below 0.61 will mean that we are better off classifying each with the latter county."
   ]
  },
  {
   "cell_type": "markdown",
   "metadata": {
    "deletable": true,
    "editable": true
   },
   "source": [
    "<a id=\"describe_r\"></a>\n",
    "## Regression Datasets:\n",
    "\n",
    "The regression dataset removes logerror and transactiondate because they were for the purposes of the Kaggle competition and were not complete for the training set. The column that was created for \"New Features\" from Lab 1 (`city` and `price_per_sqft`) were also removed for the sake of simplicity of only using original data for the prediction process.\n",
    "\n",
    "We are only using nominal and continuous data types for regression purposes. The final shape of our classification dataset is 116761 instances and 2106 columns. The varaiable that we are predicting, `taxamount`, is right skewed, with outlier property costing more than the standard deviation.\n",
    "\n",
    "<a href=\"#top\">⏫ Back to Top</a>"
   ]
  },
  {
   "cell_type": "markdown",
   "metadata": {
    "deletable": true,
    "editable": true
   },
   "source": [
    "<a id=\"Evaluation\"></a>\n",
    "# Explain Evaluation Metrics\n",
    "<b>10 points</b>\n",
    "\n",
    "<i>\n",
    "<b>Description:</b><br/>\n",
    "Choose and explain your evaluation metrics that you will use (i.e., accuracy, precision, recall, F-measure, or any metric we have discussed). Why are the measure(s) appropriate for analyzing the results of your modeling? Give a detailed explanation backing up any assertions.\n",
    "</i>\n",
    "\n",
    "<a href=\"#top\">⏫ Back to Top</a>"
   ]
  },
  {
   "cell_type": "markdown",
   "metadata": {
    "deletable": true,
    "editable": true
   },
   "source": [
    "<a id=\"metrcs_c\"></a>\n",
    "## Classification Metrics:\n",
    "\n",
    "<a href=\"#top\">⏫ Back to Top</a>\n",
    "\n",
    "\n",
    "Because of our class distribution is very skewed, we will be optimizing the models base on F1 score.\n",
    "\n",
    "For our evaluation, we will be taking into account the accuracy and F-measure.  In order to compute the F-measure, we will need the precision and recall.  Because F-measure is a weighted average of these, we think a better F-measure score means the model has a better precision and recall.\n",
    "\n",
    "Accuracy is the ratio of correct predictions to the total number of observations. It is calculated as: (TP+TN) / (TP+FP+FN+TN). The closer accuracy is to 1, the more accurate the model is, with one caveat. For high accuracy to be a reliable indicator, the dataset has to be symmetric, i.e. total false positives are about equal to false negatives. Otherwise, we need to review other parameters as well.\n",
    "\n",
    "Precision is the ratio of correctly predicted positive observations to the total positive observations. It is calculated as: TP / (TP+FP).  \n",
    "\n",
    "Recall is the ratio of correctly predicted positive observations to all actual positives. It is calculated as TP / (TP+FN). The consequences of type 2 errors, predicting a false negative, are not extreme so we think recall is an appropriate measure of completeness.\n",
    "\n",
    "Finally, we will also use F-measure which is essentially a weighted average of the precision and recall into one simple statistic. F-measure This will be a number between 0 and 1 where closer to 1 is better and approaching 0 is worse. It overcomes the limitations of accuracy whenever false positives and false negatives are not about equal or symmetric."
   ]
  },
  {
   "cell_type": "markdown",
   "metadata": {
    "deletable": true,
    "editable": true
   },
   "source": [
    "<a id=\"metrcs_r\"></a>\n",
    "## Regression Metrics:\n",
    "\n",
    "For our evaluation of regression prediction models, we are looking at mean squared error (MSE) and R^2. With the large data size and right skew of taxamount, we are trying to minimize MSE and have a R^2 value close to 1. Whichever model with optimal parameters that could reduce MSE and increase R^2 while using less CPU and less runtime would be the best regression model to use for the prediction of the dataset.\n",
    "\n",
    "<a href=\"#top\">⏫ Back to Top</a>"
   ]
  },
  {
   "cell_type": "markdown",
   "metadata": {
    "deletable": true,
    "editable": true
   },
   "source": [
    "<a id=\"Splits\"></a>\n",
    "# Training and Testing Splits\n",
    "<b>10 points</b>\n",
    "\n",
    "<i>\n",
    "<b>Description:</b><br/>\n",
    "Choose the method you will use for dividing your data into training and testing splits (i.e., are you using Stratified 10-fold cross validation? Why?). Explain why your chosen method is appropriate or use more than one method as appropriate. For example, if you are using time series data then you should be using continuous training and testing sets across time.\n",
    "</i>\n",
    "\n",
    "Due to our dataset being extremely large, we are using 5 folds for the CPU usage and runtime to be more managable to run through the prediction models for both classification and regression.\n",
    "\n",
    "<a href=\"#top\">⏫ Back to Top</a>"
   ]
  },
  {
   "cell_type": "markdown",
   "metadata": {
    "deletable": true,
    "editable": true
   },
   "source": [
    "<a id=\"splits_c\"></a>\n",
    "## Classification Splits:\n",
    "\n",
    "<a href=\"#top\">⏫ Back to Top</a>\n",
    "\n",
    "For the classification task we choose to use Stratified K-Fold cross validation with 5 folds.  We chose stratified in order to preserve the percentage of samples in each class.  We also had a very large dataset so splitting into more than 5 folds would have been computationally expensive with not a large enough return on value.  We felt that splitting the data into 5 folds would be enough splits to reduce the weight of any outliers or noise.\n"
   ]
  },
  {
   "cell_type": "markdown",
   "metadata": {
    "deletable": true,
    "editable": true
   },
   "source": [
    "<a id=\"splits_r\"></a>\n",
    "## Regression Splits:\n",
    "\n",
    "<a href=\"#top\">⏫ Back to Top</a>\n",
    "\n",
    "For the regression task we choose to use K-Fold cross validation with 5 folds. We chose K-Fold in order to preserve the percentage of samples in each class. We also had a very large dataset so splitting into more than 5 folds would have been computationally expensive with not a large enough return on value. We felt that splitting the data into 5 folds would be enough splits to reduce the weight of any outliers or noise."
   ]
  },
  {
   "cell_type": "markdown",
   "metadata": {
    "deletable": true,
    "editable": true
   },
   "source": [
    "<a id=\"Models\"></a>\n",
    "# Three Different Classification/Regression Models\n",
    "<b>20 points</b>\n",
    "\n",
    "<i>\n",
    "<b>Description:</b><br/>\n",
    "Create three different classification/regression models for each task (e.g., random forest, KNN, and SVM for task one and the same or different algorithms for task two). Two modeling techniques must be new (but the third could be SVM or logistic regression). Adjust parameters as appropriate to increase generalization performance using your chosen metric. You must investigate different parameters of the algorithms!\n",
    "</i>\n",
    "\n",
    "<a href=\"#top\">⏫ Back to Top</a>"
   ]
  },
  {
   "cell_type": "markdown",
   "metadata": {
    "deletable": true,
    "editable": true
   },
   "source": [
    "<a id=\"Classification_m\"></a>\n",
    "## Classification Models:\n",
    "\n",
    "<a href=\"#top\">⏫ Back to Top</a>"
   ]
  },
  {
   "cell_type": "markdown",
   "metadata": {
    "deletable": true,
    "editable": true
   },
   "source": [
    "<a id=\"KNN_c_m\"></a>\n",
    "### Definition and optimization of K Nearest Neighbors (KD Tree) \n",
    "\n",
    "K Nearest Neighbors is for the prediction of values based on training their nearest neighbors by a certain n_neighbors count in order to form classification models to predict the y_hat for the test set. Optimization result for different values of \"n_neighbors\" is printed below.\n",
    "\n",
    "<a href=\"#top\">⏫ Back to Top</a>"
   ]
  },
  {
   "cell_type": "code",
   "execution_count": 5,
   "metadata": {
    "collapsed": false,
    "deletable": true,
    "editable": true
   },
   "outputs": [
    {
     "name": "stdout",
     "output_type": "stream",
     "text": [
      "n_neighbors: 2 , f1_score: 0.470579117819\n",
      "n_neighbors: 7 , f1_score: 0.491355550804\n",
      "n_neighbors: 12 , f1_score: 0.492699617518\n",
      "n_neighbors: 17 , f1_score: 0.492039256254\n",
      "n_neighbors: 22 , f1_score: 0.490571365928\n",
      "n_neighbors: 27 , f1_score: 0.488490047836\n"
     ]
    }
   ],
   "source": [
    "X = dataset_class['X']\n",
    "y = dataset_class['y']\n",
    "\n",
    "result = []\n",
    "scores = []\n",
    "\n",
    "for n_neighbors in range(2, 30)[::5]:\n",
    "    yhat = np.zeros(y.shape) # we will fill this with predictions\n",
    "    cv = StratifiedKFold(n_splits=n_splits, random_state=seed)\n",
    "    for train_index, test_index in cv.split(X, y):\n",
    "        \n",
    "        X_train, X_test = X.iloc[train_index], X.iloc[test_index]\n",
    "        y_train, y_test = y.iloc[train_index], y.iloc[test_index]\n",
    "        \n",
    "        # in order to reduce the time for training KNeighborsClassifier\n",
    "        # we reduce the dimetions of the data from 1717 to 100 and we use kd_tree algorithm\n",
    "        pca = PCA(n_components=100, random_state=seed)\n",
    "        pca.fit(X_train)\n",
    "        X_train = pca.transform(X_train)\n",
    "        X_test = pca.transform(X_test)\n",
    "\n",
    "        clf = KNeighborsClassifier(n_neighbors=n_neighbors, algorithm='kd_tree', weights='distance')\n",
    "        clf.fit(X_train, y_train)\n",
    "        yhat[test_index] = clf.predict(X_test)\n",
    "\n",
    "    f1_score = mt.f1_score(y, yhat, average='weighted')\n",
    "    print ('n_neighbors:', n_neighbors, ', f1_score:', f1_score)"
   ]
  },
  {
   "cell_type": "markdown",
   "metadata": {
    "deletable": true,
    "editable": true
   },
   "source": [
    "<a id=\"RandomForest_c_m\"></a>\n",
    "### Definition and optimization of Random Forest\n",
    "\n",
    "Random forest is for the prediction of values based on training decision trees by by a certain max depth in order to form classification models to predict the y_hat for the test set. Optimization result for different test values of \"max_depth\" is printed below.\n",
    "\n",
    "<a href=\"#top\">⏫ Back to Top</a>"
   ]
  },
  {
   "cell_type": "code",
   "execution_count": 6,
   "metadata": {
    "collapsed": false,
    "deletable": true,
    "editable": true
   },
   "outputs": [
    {
     "name": "stdout",
     "output_type": "stream",
     "text": [
      "max_depth: 1 F1 score: 0.46120951624\n",
      "max_depth: 51 F1 score: 0.465099779665\n",
      "max_depth: 101 F1 score: 0.481927336387\n",
      "max_depth: 151 F1 score: 0.489103832227\n",
      "max_depth: 201 F1 score: 0.490156681956\n",
      "max_depth: 251 F1 score: 0.49059336761\n",
      "max_depth: 301 F1 score: 0.490213068185\n",
      "max_depth: 351 F1 score: 0.490623495801\n"
     ]
    },
    {
     "data": {
      "image/png": "[encoded data removed]",
      "text/plain": [
       "<matplotlib.figure.Figure at 0x11f4c34e0>"
      ]
     },
     "metadata": {},
     "output_type": "display_data"
    }
   ],
   "source": [
    "X = dataset_class['X']\n",
    "y = dataset_class['y']\n",
    "\n",
    "result = []\n",
    "index = []\n",
    "for max_depth in range(1, 401)[::50]:\n",
    "    yhat = np.zeros(y.shape, dtype=int) # we will fill this with predictions\n",
    "    cv = StratifiedKFold(n_splits=n_splits, random_state=seed)\n",
    "    for train_index, test_index in cv.split(X, y):\n",
    "        clf = RandomForestClassifier(max_depth=max_depth, random_state=seed, n_estimators=40)\n",
    "        X_train, X_test = X.iloc[train_index], X.iloc[test_index]\n",
    "        y_train, y_test = y.iloc[train_index], y.iloc[test_index]\n",
    "        clf.fit(X_train, y_train)\n",
    "        yhat[test_index] = clf.predict(X_test)\n",
    "\n",
    "    f1_score = mt.f1_score(y, yhat, average='weighted')\n",
    "    print ('max_depth:', max_depth, 'F1 score:', f1_score)\n",
    "    result.append(f1_score)\n",
    "    index.append(max_depth)\n",
    "\n",
    "plt.title('F1 score for different max_depth')\n",
    "pd.Series(result, index=pd.Index(index, name='max_depth'), name='f1_score').plot();"
   ]
  },
  {
   "cell_type": "markdown",
   "metadata": {
    "deletable": true,
    "editable": true
   },
   "source": [
    "<a id=\"NaiveBayes_c_m\"></a>\n",
    "### Definition and optimization of  Naive Bayes (Gaussian)\n",
    "\n",
    "The Naive Bayes doesn't have any paramethers to optimize and uses maximum likelihood training to classify and predict for the test set. We will just show a F1 score with confidence interval with an interval and inspect the result of this model in more details in the next section.\n",
    "\n",
    "<a href=\"#top\">⏫ Back to Top</a>"
   ]
  },
  {
   "cell_type": "code",
   "execution_count": 8,
   "metadata": {
    "collapsed": false,
    "deletable": true,
    "editable": true
   },
   "outputs": [
    {
     "name": "stdout",
     "output_type": "stream",
     "text": [
      "F1 score: 0.46 (+/- 0.00)\n"
     ]
    }
   ],
   "source": [
    "X = dataset_class['X']\n",
    "y = dataset_class['y']\n",
    "\n",
    "yhat = np.zeros(y.shape) # we will fill this with predictions\n",
    "cv = StratifiedKFold(n_splits=n_splits, random_state=seed)\n",
    "scores = []\n",
    "\n",
    "for train_index, test_index in cv.split(X, y):\n",
    "    clf = GaussianNB()\n",
    "    X_train, X_test = X.iloc[train_index], X.iloc[test_index]\n",
    "    y_train, y_test = y.iloc[train_index], y.iloc[test_index]\n",
    "\n",
    "    clf.fit(X_train, y_train)\n",
    "    yhat[test_index] = clf.predict(X_test)\n",
    "    \n",
    "    f1_score = mt.f1_score(y_test, clf.predict(X_test), average='weighted')\n",
    "    scores.append(f1_score)\n",
    "\n",
    "scores = np.array(scores)\n",
    "print(\"F1 score: %0.2f (+/- %0.2f)\" % (scores.mean(), scores.std() * 2))"
   ]
  },
  {
   "cell_type": "markdown",
   "metadata": {
    "deletable": true,
    "editable": true
   },
   "source": [
    "<a id=\"Classification_m\"></a>\n",
    "## Definition and optimization of  Regression models:\n",
    "\n",
    "<a href=\"#top\">⏫ Back to Top</a>"
   ]
  },
  {
   "cell_type": "markdown",
   "metadata": {
    "deletable": true,
    "editable": true
   },
   "source": [
    "<a id=\"KNN_r_m\"></a>\n",
    "## Definition and optimization of K Nearest Neighbors\n",
    "\n",
    "K Nearest Neighbors is for the prediction of values based on training their nearest neighbors by a certain n_neighbors in order to form regression models to predict the y_hat for the test set. In order to fit the model in a reasonable amount of time, we shrink the dimention of the dataset to a 100 features wit a PCA. The result of the optimization is printed below. We choose the hyperparamethers with the highest R2 score to be the optimal parameters.\n",
    "\n",
    "<a href=\"#top\">⏫ Back to Top</a>"
   ]
  },
  {
   "cell_type": "code",
   "execution_count": 17,
   "metadata": {
    "collapsed": false,
    "deletable": true,
    "editable": true
   },
   "outputs": [
    {
     "name": "stdout",
     "output_type": "stream",
     "text": [
      "n_neighbors: 1, MSE: 4097283, R^2: 0.887\n",
      "n_neighbors: 6, MSE: 3169526, R^2: 0.912\n",
      "n_neighbors: 11, MSE: 3159735, R^2: 0.913\n",
      "n_neighbors: 16, MSE: 3223971, R^2: 0.911\n",
      "n_neighbors: 21, MSE: 3236105, R^2: 0.910\n"
     ]
    }
   ],
   "source": [
    "X = dataset_reg['X']\n",
    "y = dataset_reg['y']\n",
    "\n",
    "yhat = np.zeros(y.shape)\n",
    "cv = KFold(n_splits=n_splits, random_state=seed)\n",
    "\n",
    "for n_neighbors in range(1, 22)[::5]:\n",
    "    for train_index, test_index in cv.split(X, y):\n",
    "        clf = KNeighborsRegressor(n_neighbors=n_neighbors)\n",
    "        X_train, X_test = X.iloc[train_index], X.iloc[test_index]\n",
    "        y_train, y_test = y.iloc[train_index], y.iloc[test_index]\n",
    "        \n",
    "        pca = PCA(n_components=100, random_state=seed)\n",
    "        pca.fit(X_train)\n",
    "        X_train = pca.transform(X_train)\n",
    "        X_test = pca.transform(X_test)\n",
    "        \n",
    "        clf.fit(X_train, y_train)\n",
    "        yhat[test_index] = clf.predict(X_test)\n",
    "    print(\"n_neighbors: %.f, MSE: %.f, R^2: %0.3f\" % (n_neighbors, mean_squared_error(y, yhat), r2_score(y, yhat)))"
   ]
  },
  {
   "cell_type": "markdown",
   "metadata": {
    "deletable": true,
    "editable": true
   },
   "source": [
    "<a id=\"RandomForest_r_m\"></a>\n",
    "## Definition and optimization of  Random Forest\n",
    "\n",
    "Random forest is for the prediction of values based on training decision trees by by a certain max depth in order to form regression models to predict the y_hat for the test set. The result of the optimization is printed below. We choose the hyperparamethers with the highest R2 score to be the optimal parameters.\n",
    "\n",
    "<a href=\"#top\">⏫ Back to Top</a>"
   ]
  },
  {
   "cell_type": "code",
   "execution_count": 21,
   "metadata": {
    "collapsed": false,
    "deletable": true,
    "editable": true
   },
   "outputs": [
    {
     "name": "stdout",
     "output_type": "stream",
     "text": [
      "max_depth: 1, MSE: 15160579, R^2: 0.5804\n",
      "max_depth: 6, MSE: 3376013, R^2: 0.9066\n",
      "max_depth: 11, MSE: 2848552, R^2: 0.9212\n",
      "max_depth: 16, MSE: 2715775, R^2: 0.9248\n",
      "max_depth: 21, MSE: 2712884, R^2: 0.9249\n",
      "max_depth: 26, MSE: 2684615, R^2: 0.9257\n",
      "max_depth: 31, MSE: 2708345, R^2: 0.9250\n",
      "max_depth: 36, MSE: 2689061, R^2: 0.9256\n",
      "max_depth: 41, MSE: 2708431, R^2: 0.9250\n"
     ]
    }
   ],
   "source": [
    "X = dataset_reg['X']\n",
    "y = dataset_reg['y']\n",
    "\n",
    "yhat = np.zeros(y.shape)\n",
    "cv = KFold(n_splits=n_splits, random_state=seed)\n",
    "\n",
    "for max_depth in range(1, 42)[::5]:\n",
    "    for train_index, test_index in cv.split(X, y):\n",
    "        clf = RandomForestRegressor(max_depth=max_depth, n_estimators=5, random_state=seed, n_jobs=2)\n",
    "        X_train, X_test = X.iloc[train_index], X.iloc[test_index]\n",
    "        y_train, y_test = y.iloc[train_index], y.iloc[test_index]\n",
    "        clf.fit(X_train, y_train)\n",
    "        yhat[test_index] = clf.predict(X_test)\n",
    "    print(\"max_depth: %.f, MSE: %.f, R^2: %0.4f\" % (max_depth, mean_squared_error(y, yhat), r2_score(y, yhat)))"
   ]
  },
  {
   "cell_type": "markdown",
   "metadata": {
    "deletable": true,
    "editable": true
   },
   "source": [
    "<a id=\"GaussianProcess_r_m\"></a>\n",
    "## Definition and optimization of  Gaussian Regression\n",
    "\n",
    "Gaussian Regression is for the prediction of values based on normally distributed variables where alpha could be optimized in order to form regression models to predict the y_hat for the test set. The result of the optimization is printed below. We choose the hyperparamethers with the lowest MSE to be the optimal parameters.\n",
    "\n",
    "<a href=\"#top\">⏫ Back to Top</a>"
   ]
  },
  {
   "cell_type": "code",
   "execution_count": 6,
   "metadata": {
    "collapsed": false,
    "deletable": true,
    "editable": true
   },
   "outputs": [
    {
     "name": "stdout",
     "output_type": "stream",
     "text": [
      "alpha: 0.000000, MSE: 35488348, R^2: 0.0177\n",
      "alpha: 0.000250, MSE: 35488410, R^2: 0.0177\n",
      "alpha: 0.000500, MSE: 35488472, R^2: 0.0177\n",
      "alpha: 0.000750, MSE: 35488534, R^2: 0.0177\n",
      "alpha: 0.001000, MSE: 35488596, R^2: 0.0177\n"
     ]
    }
   ],
   "source": [
    "X = dataset_reg['X']\n",
    "y = dataset_reg['y']\n",
    "\n",
    "yhat = np.zeros(y.shape)\n",
    "cv = KFold(n_splits=n_splits, random_state=seed)\n",
    "\n",
    "for alpha in np.linspace(1e-15, 0.001, 5):\n",
    "    for train_index, test_index in cv.split(X, y):\n",
    "        X_train, X_test = X.iloc[train_index], X.iloc[test_index]\n",
    "        y_train, y_test = y.iloc[train_index], y.iloc[test_index]\n",
    "        \n",
    "        # have to train work on a subset of the training data because it otherwise requires too much RAM\n",
    "        X_train = X_train.iloc[:2000]\n",
    "        y_train = y_train.iloc[:2000]\n",
    "        \n",
    "        clf = GaussianProcessRegressor(normalize_y=True, alpha=alpha, random_state=seed)\n",
    "        clf.fit(X_train, y_train)\n",
    "        yhat[test_index] = clf.predict(X_test)\n",
    "    print(\"alpha: %f, MSE: %.f, R^2: %0.4f\" % (alpha, mean_squared_error(y, yhat), r2_score(y, yhat)))"
   ]
  },
  {
   "cell_type": "markdown",
   "metadata": {
    "deletable": true,
    "editable": true
   },
   "source": [
    "<a id=\"Analysis\"></a>\n",
    "# Visualizations of Results and Analysis\n",
    "<b>10 points</b>\n",
    "\n",
    "<i>\n",
    "<b>Description:</b><br/>\n",
    "Analyze the results using your chosen method of evaluation. Use visualizations of the results to bolster the analysis. Explain any visuals and analyze why they are interesting to someone that might use this model.\n",
    "</i>\n",
    "\n",
    "<a href=\"#top\">⏫ Back to Top</a>"
   ]
  },
  {
   "cell_type": "markdown",
   "metadata": {
    "deletable": true,
    "editable": true
   },
   "source": [
    "<a id=\"Classification_a\"></a>\n",
    "## Analysis of Classification model:\n",
    "\n",
    "For our visualizations for each classification model, we display a bar graph of the count of each class that was predicted.  If the model is good, this should easily show a very small amount for the center bar (~5%) and a majority in the last bar (61% of values).\n",
    "\n",
    "The other visualization we display is an ROC curve which maps the false positive rate on the x axis and true positive rate on the y axis.  In an ROC plot, the accuracy is the area under the curve so we can quickly determine which model has curves higher above the y = x line.\n",
    "\n",
    "<a href=\"#top\">⏫ Back to Top</a>"
   ]
  },
  {
   "cell_type": "markdown",
   "metadata": {
    "deletable": true,
    "editable": true
   },
   "source": [
    "### Results and Analysis of a Dummy model\n",
    "This model is only predicting the most frequent class. It is used for a base line to compare other models to. The dummy model of 3101 is better at predicting classifiers than some of the classification methods."
   ]
  },
  {
   "cell_type": "code",
   "execution_count": 43,
   "metadata": {
    "collapsed": false,
    "deletable": true,
    "editable": true
   },
   "outputs": [
    {
     "name": "stdout",
     "output_type": "stream",
     "text": [
      "----------------- Dummy Evaluation -----------------\n",
      " F1 Score: 0.46 (+/- 0.00)\n",
      " Accuracy 0.609164097294\n",
      " Precision 0.371080897432\n",
      " Recall 0.609164097294\n"
     ]
    }
   ],
   "source": [
    "X = dataset_class['X']\n",
    "y = dataset_class['y']\n",
    "\n",
    "f1_score = mt.f1_score(y, [3101] * len(y), average='weighted')\n",
    "print_accuracy('Dummy', y, [3101] * len(y), [f1_score])"
   ]
  },
  {
   "cell_type": "markdown",
   "metadata": {
    "deletable": true,
    "editable": true
   },
   "source": [
    "<a id=\"KNN_c_a\"></a>\n",
    "### Results and Analysis of K Nearest Neighbors (KD Tree)\n",
    "\n",
    "All mterics and analysis of the optimized K Nearest Neighbors (KD Tree) are printed below.\n",
    "\n",
    "<a href=\"#top\">⏫ Back to Top</a>"
   ]
  },
  {
   "cell_type": "code",
   "execution_count": 12,
   "metadata": {
    "collapsed": false,
    "deletable": true,
    "editable": true
   },
   "outputs": [
    {
     "name": "stdout",
     "output_type": "stream",
     "text": [
      "----------------- KD Tree Classifier Evaluation -----------------\n",
      " F1 Score: 0.49 (+/- 0.01)\n",
      " Accuracy 0.54224049332\n",
      " Precision 0.470945268342\n",
      " Recall 0.54224049332\n"
     ]
    },
    {
     "data": {
      "image/png": "[encoded data removed]",
      "text/plain": [
       "<matplotlib.figure.Figure at 0x10b5c2dd8>"
      ]
     },
     "metadata": {},
     "output_type": "display_data"
    },
    {
     "data": {
      "image/png": "[encoded data removed]",
      "text/plain": [
       "<matplotlib.figure.Figure at 0x104d86358>"
      ]
     },
     "metadata": {},
     "output_type": "display_data"
    }
   ],
   "source": [
    "X = dataset_class['X']\n",
    "y = dataset_class['y']\n",
    "\n",
    "scores = []\n",
    "yhat = np.zeros(y.shape)\n",
    "yhat_score = np.zeros((len(y), 3))\n",
    "\n",
    "cv = StratifiedKFold(n_splits=n_splits, random_state=seed)\n",
    "for train_index, test_index in cv.split(X, y):\n",
    "    clf = KNeighborsClassifier(n_neighbors=12, algorithm='kd_tree', weights='distance')\n",
    "    X_train, X_test = X.iloc[train_index], X.iloc[test_index]\n",
    "    y_train, y_test = y.iloc[train_index], y.iloc[test_index]\n",
    "    \n",
    "    pca = PCA(n_components=100, random_state=seed)\n",
    "    pca.fit(X_train)\n",
    "    X_train = pca.transform(X_train)\n",
    "    X_test = pca.transform(X_test)\n",
    "    \n",
    "    clf.fit(X_train, y_train)\n",
    "    yhat[test_index] = clf.predict(X_test)\n",
    "    yhat_score[test_index] = clf.predict_proba(X_test)\n",
    "    \n",
    "    f1_score = mt.f1_score(y_test, clf.predict(X_test), average='weighted')\n",
    "    scores.append(f1_score)\n",
    "\n",
    "print_accuracy('KD Tree Classifier', y, yhat, scores)\n",
    "plot_class_acc(y, yhat, clf.classes_, title=\"KD Tree Classifier\")\n",
    "confusion_matrix(y, yhat, clf.classes_)\n",
    "roc_curve(y, yhat, clf)"
   ]
  },
  {
   "cell_type": "markdown",
   "metadata": {
    "deletable": true,
    "editable": true
   },
   "source": [
    "<a id=\"RandomForest_c_a\"></a>\n",
    "## Results and Analysis of Random Forest\n",
    "\n",
    "All mterics and analysis of the optimized Random Forest Classifier are printed below.\n",
    "\n",
    "<a href=\"#top\">⏫ Back to Top</a>"
   ]
  },
  {
   "cell_type": "code",
   "execution_count": 13,
   "metadata": {
    "collapsed": false,
    "deletable": true,
    "editable": true
   },
   "outputs": [
    {
     "name": "stdout",
     "output_type": "stream",
     "text": [
      "----------------- KD Tree Classifier Evaluation -----------------\n",
      " F1 Score: 0.49 (+/- 0.00)\n",
      " Accuracy 0.559643713601\n",
      " Precision 0.470878065706\n",
      " Recall 0.559643713601\n"
     ]
    },
    {
     "data": {
      "image/png": "[encoded data removed]",
      "text/plain": [
       "<matplotlib.figure.Figure at 0x10b5c2cf8>"
      ]
     },
     "metadata": {},
     "output_type": "display_data"
    },
    {
     "data": {
      "image/png": "[encoded data removed]",
      "text/plain": [
       "<matplotlib.figure.Figure at 0x10b5c2be0>"
      ]
     },
     "metadata": {},
     "output_type": "display_data"
    }
   ],
   "source": [
    "X = dataset_class['X']\n",
    "y = dataset_class['y']\n",
    "\n",
    "scores = []\n",
    "yhat = np.zeros(y.shape)\n",
    "yhat_score = np.zeros((len(y), 3))\n",
    "\n",
    "cv = StratifiedKFold(n_splits=n_splits, random_state=seed)\n",
    "for train_index, test_index in cv.split(X, y):\n",
    "\n",
    "    clf = RandomForestClassifier(random_state=seed, max_depth=250, n_estimators=40)\n",
    "    X_train, X_test = X.iloc[train_index], X.iloc[test_index]\n",
    "    y_train, y_test = y.iloc[train_index], y.iloc[test_index]\n",
    "    \n",
    "    clf.fit(X_train, y_train)\n",
    "    yhat[test_index] = clf.predict(X_test)\n",
    "    yhat_score[test_index] = clf.predict_proba(X_test)\n",
    "    \n",
    "    f1_score = mt.f1_score(y_test, clf.predict(X_test), average='weighted')\n",
    "    scores.append(f1_score)\n",
    "\n",
    "print_accuracy('Random Forest Classifier', y, yhat, scores)\n",
    "plot_class_acc(y, yhat, clf.classes_, title=\"Random Forest Classifier\")\n",
    "confusion_matrix(y, yhat, clf.classes_)\n",
    "roc_curve(y, yhat, clf)"
   ]
  },
  {
   "cell_type": "markdown",
   "metadata": {
    "deletable": true,
    "editable": true
   },
   "source": [
    "<a id=\"NaiveBayes_c_a\"></a>\n",
    "## Results and Analysis Naive Bayes\n",
    "\n",
    "All mterics and analysis of the Naive Bayes Classifier are printed below.\n",
    "\n",
    "<a href=\"#top\">⏫ Back to Top</a>"
   ]
  },
  {
   "cell_type": "code",
   "execution_count": 14,
   "metadata": {
    "collapsed": false,
    "deletable": true,
    "editable": true
   },
   "outputs": [
    {
     "name": "stdout",
     "output_type": "stream",
     "text": [
      "----------------- KD Tree Classifier Evaluation -----------------\n",
      " F1 Score: 0.46 (+/- 0.00)\n",
      " Accuracy 0.604727646454\n",
      " Precision 0.459602898787\n",
      " Recall 0.604727646454\n"
     ]
    },
    {
     "data": {
      "image/png": "[encoded data removed]",
      "text/plain": [
       "<matplotlib.figure.Figure at 0x10b5c2b00>"
      ]
     },
     "metadata": {},
     "output_type": "display_data"
    },
    {
     "data": {
      "image/png": "[encoded data removed]",
      "text/plain": [
       "<matplotlib.figure.Figure at 0x109eee320>"
      ]
     },
     "metadata": {},
     "output_type": "display_data"
    }
   ],
   "source": [
    "from sklearn.naive_bayes import GaussianNB\n",
    "\n",
    "X = dataset_class['X']\n",
    "y = dataset_class['y']\n",
    "\n",
    "scores = []\n",
    "yhat = np.zeros(y.shape)\n",
    "yhat_score = np.zeros((len(y), 3))\n",
    "\n",
    "cv = StratifiedKFold(n_splits=n_splits, random_state=seed)\n",
    "for train_index, test_index in cv.split(X, y):\n",
    "\n",
    "    clf = GaussianNB()\n",
    "    X_train, X_test = X.iloc[train_index], X.iloc[test_index]\n",
    "    y_train, y_test = y.iloc[train_index], y.iloc[test_index]\n",
    "    \n",
    "    clf.fit(X_train, y_train)\n",
    "    yhat[test_index] = clf.predict(X_test)\n",
    "    yhat_score[test_index] = clf.predict_proba(X_test)\n",
    "    \n",
    "    f1_score = mt.f1_score(y_test, clf.predict(X_test), average='weighted')\n",
    "    scores.append(f1_score)\n",
    "\n",
    "print_accuracy('GaussianNB Classifier', y, yhat, scores)\n",
    "plot_class_acc(y, yhat, clf.classes_, title=\"GaussianNB Classifier\")\n",
    "confusion_matrix(y, yhat, clf.classes_)\n",
    "roc_curve(y, yhat, clf)"
   ]
  },
  {
   "cell_type": "markdown",
   "metadata": {
    "deletable": true,
    "editable": true
   },
   "source": [
    "<a id=\"Regression_a\"></a>\n",
    "## Analysis of Regression models:\n",
    "# TODO the instructions say to use visualizations for this section\n",
    "<a href=\"#top\">⏫ Back to Top</a>"
   ]
  },
  {
   "cell_type": "markdown",
   "metadata": {
    "deletable": true,
    "editable": true
   },
   "source": [
    "<a id=\"KNN_r_a\"></a>\n",
    "## Results and Analysis K Nearest Neighbors\n",
    "\n",
    "The evaluation metrics for the optimized model are printed below.\n",
    "\n",
    "<a href=\"#top\">⏫ Back to Top</a>"
   ]
  },
  {
   "cell_type": "code",
   "execution_count": 16,
   "metadata": {
    "collapsed": false,
    "deletable": true,
    "editable": true
   },
   "outputs": [
    {
     "name": "stdout",
     "output_type": "stream",
     "text": [
      "Evaluation metrics:\n",
      "MSE: 3223970.51 (+/- 395957.39)\n",
      "R2: 0.91 (+/- 0.01)\n"
     ]
    }
   ],
   "source": [
    "X = dataset_reg['X']\n",
    "y = dataset_reg['y']\n",
    "\n",
    "mses = []\n",
    "r2s = []\n",
    "yhat = np.zeros(y.shape) # we will fill this with predictions\n",
    "cv = KFold(n_splits=n_splits, random_state=seed)\n",
    "for train_index, test_index in cv.split(X, y):\n",
    "    \n",
    "    X_train, X_test = X.iloc[train_index], X.iloc[test_index]\n",
    "    y_train, y_test = y.iloc[train_index], y.iloc[test_index]\n",
    "    \n",
    "    pca = PCA(n_components=100, random_state=seed)\n",
    "    pca.fit(X_train)\n",
    "    X_train = pca.transform(X_train)\n",
    "    X_test = pca.transform(X_test)\n",
    "\n",
    "    clf = KNeighborsRegressor(n_neighbors=16)  \n",
    "    clf.fit(X_train, y_train)\n",
    "    yhat[test_index] = clf.predict(X_test)\n",
    "\n",
    "    mses.append(mean_squared_error(y_test, clf.predict(X_test)))\n",
    "    r2s.append(r2_score(y_test, clf.predict(X_test)))\n",
    "\n",
    "print('Evaluation metrics:')\n",
    "print(\"MSE: %0.2f (+/- %0.2f)\" % (np.mean(mses), np.std(mses) * 2))\n",
    "print(\"R2: %0.2f (+/- %0.2f)\" % (np.mean(r2s), np.std(r2s) * 2))"
   ]
  },
  {
   "cell_type": "markdown",
   "metadata": {
    "deletable": true,
    "editable": true
   },
   "source": [
    "<a id=\"RandomForest_r_a\"></a>\n",
    "## Results and Analysis Random Forest\n",
    "\n",
    "The evaluation metrics for the optimized model are printed below.\n",
    "\n",
    "<a href=\"#top\">⏫ Back to Top</a>"
   ]
  },
  {
   "cell_type": "code",
   "execution_count": 17,
   "metadata": {
    "collapsed": false,
    "deletable": true,
    "editable": true
   },
   "outputs": [
    {
     "name": "stdout",
     "output_type": "stream",
     "text": [
      "Evaluation metrics:\n",
      "MSE: 2684614.88 (+/- 514568.63)\n",
      "R2: 0.93 (+/- 0.02)\n"
     ]
    }
   ],
   "source": [
    "X = dataset_reg['X']\n",
    "y = dataset_reg['y']\n",
    "\n",
    "mses = []\n",
    "r2s = []\n",
    "yhat = np.zeros(y.shape) # we will fill this with predictions\n",
    "cv = KFold(n_splits=n_splits, random_state=seed)\n",
    "for train_index, test_index in cv.split(X, y):\n",
    "    clf = RandomForestRegressor(max_depth=26, n_estimators=5, random_state=seed)\n",
    "    X_train, X_test = X.iloc[train_index], X.iloc[test_index]\n",
    "    y_train, y_test = y.iloc[train_index], y.iloc[test_index]\n",
    "    clf.fit(X_train, y_train)\n",
    "    yhat[test_index] = clf.predict(X_test)\n",
    "\n",
    "    mses.append(mean_squared_error(y_test, clf.predict(X_test)))\n",
    "    r2s.append(r2_score(y_test, clf.predict(X_test)))\n",
    "\n",
    "print('Evaluation metrics:')\n",
    "print(\"MSE: %0.2f (+/- %0.2f)\" % (np.mean(mses), np.std(mses) * 2))\n",
    "print(\"R2: %0.2f (+/- %0.2f)\" % (np.mean(r2s), np.std(r2s) * 2))"
   ]
  },
  {
   "cell_type": "markdown",
   "metadata": {
    "deletable": true,
    "editable": true
   },
   "source": [
    "<a id=\"GaussianProcess_r_a\"></a>\n",
    "## Results and Analysis Gaussian Regression\n",
    "\n",
    "The evaluation metrics for the optimized model are printed below.\n",
    "\n",
    "<a href=\"#top\">⏫ Back to Top</a>"
   ]
  },
  {
   "cell_type": "code",
   "execution_count": 18,
   "metadata": {
    "collapsed": false,
    "deletable": true,
    "editable": true
   },
   "outputs": [
    {
     "name": "stdout",
     "output_type": "stream",
     "text": [
      "MSE: 35917993.55 (+/- 1636329.34)\n",
      "R2: 0.01 (+/- 0.00)\n"
     ]
    }
   ],
   "source": [
    "X = dataset_reg['X']\n",
    "y = dataset_reg['y']\n",
    "\n",
    "mses = []\n",
    "r2s = []\n",
    "yhat = np.zeros(y.shape) # we will fill this with predictions\n",
    "cv = KFold(n_splits=n_splits, random_state=seed)\n",
    "for train_index, test_index in cv.split(X, y):\n",
    "    clf = GaussianProcessRegressor(alpha=1e-15, normalize_y=True, random_state=seed)\n",
    "    X_train, X_test = X.iloc[train_index], X.iloc[test_index]\n",
    "    y_train, y_test = y.iloc[train_index], y.iloc[test_index]\n",
    "    # we train on a subset because it otherwise requires too much memory\n",
    "    X_train = X_train.iloc[:1000]\n",
    "    y_train = y_train.iloc[:1000]\n",
    "    clf.fit(X_train, y_train)\n",
    "    yhat[test_index] = clf.predict(X_test)\n",
    "\n",
    "    mses.append(mean_squared_error(y_test, clf.predict(X_test)))\n",
    "    r2s.append(r2_score(y_test, clf.predict(X_test)))\n",
    "\n",
    "print(\"MSE: %0.2f (+/- %0.2f)\" % (np.mean(mses), np.std(mses) * 2))\n",
    "print(\"R2: %0.2f (+/- %0.2f)\" % (np.mean(r2s), np.std(r2s) * 2))"
   ]
  },
  {
   "cell_type": "markdown",
   "metadata": {
    "deletable": true,
    "editable": true
   },
   "source": [
    "<a id=\"Advantages\"></a>\n",
    "# Advantages of Each Model\n",
    "<b>10 points</b>\n",
    "\n",
    "<i>\n",
    "<b>Description:</b><br/>\n",
    "Discuss the advantages of each model for each classification task, if any. If there are not advantages, explain why. Is any model better than another? Is the difference significant with 95% confidence? Use proper statistical comparison methods. You must use statistical comparison techniques—be sure they are appropriate for your chosen method of validation as discussed in unit 7 of the course.\n",
    "</i>\n",
    "\n",
    "<a href=\"#top\">⏫ Back to Top</a>"
   ]
  },
  {
   "cell_type": "markdown",
   "metadata": {
    "deletable": true,
    "editable": true
   },
   "source": [
    "<a id=\"advantages_c\"></a>\n",
    "## Advantages of Classification model:\n",
    "### K Nearest Neighbors- KD tree\n",
    "K nearest neighbors classification is different than other classification models in that it does not attempt to make a model but only stores instances of the training data.  The classification will build a tree which at each node is a rule based on the dimensions of its k nearest neighbors and leading to each leaf representing a class.  The advantages of K nearest neighbors is that it is simple and converges to the correct decision surface as data goes to infinity.  It can be used with multiclass data sets as well as more complex algorithms such as the KD tree. In our dataset we used the KD tree algorithm in order to speed up the KNN classification by indexing the tree.\n",
    "\n",
    "### Why we did PCA with KNN\n",
    "KNN computes the distance between each neighbor's dimensions.  We have so many dimensions in our dataset that even with 100 neighbors the accuracy was still continuing to grow and taking a long time.  We wanted to continue to increase the number of neighbors until the accuracy increase plateaued but without reducing the dimensions using PCA, it would have taken too long.\n",
    "\n",
    "### Random forest\n",
    "Random forest is an ensemble classification algorithm which in nature is a huge advantage because because predicting off of one decision tree vs an ensemble of them the ensemble will usually win.  Another advantage is that the forest can often correct a tree's overfitting of the training set.\n",
    "\n",
    "### Gassian Naive Bayes\n",
    "Naive Bayes largest advantage is that it is extremely simple, it is just counting up probabilities.  When training sets are small, Naive Bayes is good because of its high bias and low variance which will not overfit the training data.  However, as datasets grow larger such as our dataset, the high bias will prevent the model from being powerful enough to have a high accuracy.  Gassian Naive Bayes is a normally distributed NB classifier.  Its advantages are that it is fast and can make probabilistic decisions\n",
    "\n",
    "### Model Comparisons\n",
    "As stated above, we will be comparing our models based on the F1 and accuracy values.  Starting with the F1 values, GaussianNB is statistically significantly lower than the random forest and the KD tree.  GaussianNB has an F1 of 0.46 (+/- 0.00) while the other models had an F1 of 0.49 (+/- 0.01).  There is no significant difference in the F1 of between the KD tree and the random forest.  \n",
    "\n",
    "Next, we compare the accuracy between the KD tree and the random forest, each were run on the same number of instances, 58380, and the final accuracy values were 0.542 and 0.559 respectively.  The variances would be (0.542)(.458) / 58380 = 0.00000425 and (0.559)(0.441) / 58380 = 0.00000422.  Meaning that the final accuracy for each model is:<br>\n",
    "KD Tree accuracy: 0.54224049332 +/- 0.00000425 = [0.5422,0.5422]<br>\n",
    "Random forest accuracy: 0.559643713601 +/- 0.00000422 = [0.5596,0.5596]<br>\n",
    "\n",
    "So our final winner is the Random Forest which is significantly better in F1 as the Gaussian Naive Bayes and significantly better in terms of accuracy to the KD tree.\n",
    "\n",
    "<a href=\"#top\">⏫ Back to Top</a>"
   ]
  },
  {
   "cell_type": "markdown",
   "metadata": {
    "deletable": true,
    "editable": true
   },
   "source": [
    "<a id=\"advantages_r\"></a>\n",
    "## Advantages of Regression model:\n",
    "### K Nearest Neighbors\n",
    "The advantages of K nearest neighbors is that it is non-parametric and can address missing and unusual data for regression prediction. Dimensionality reduction can be used to speed up the prediction modeling process because the model could be trained with nearest neighbors and leaf size from the results of PCA.\n",
    "\n",
    "### Random forest\n",
    "The advantages of Random forest is that by averaging multiple trees, it reduces overfitting, reduces variance from outliers, and is therefore more accurate. It is unbiased in the estimate of the generalization error for the forest building progress and provides effective methods for estimating missing data. Random forest can extended to unlabeled data, leading to unsupervised clustering.\n",
    "\n",
    "### Gaussian Process Regressor\n",
    "The advantage of Gaussian Process Regressor is that it is fast and uses less CPU and runtime. However, it is more used towards data that have normal distributions. It provides the full probabilistic prediction and interpolates the observations for faster prediction.\n",
    "# TODO find winner model from optimal parameters and analyze statistically\n",
    "<a href=\"#top\">⏫ Back to Top</a>"
   ]
  },
  {
   "cell_type": "markdown",
   "metadata": {
    "deletable": true,
    "editable": true
   },
   "source": [
    "<a id=\"Attributes\"></a>\n",
    "# Important Attributes\n",
    "<b>10 points</b>\n",
    "\n",
    "<i>\n",
    "<b>Description:</b><br/>\n",
    "Which attributes from your analysis are most important? Use proper methods discussed in class to evaluate the importance of different attributes. Discuss the results and hypothesize about why certain attributes are more important than others for a given classification task.\n",
    "</i>\n",
    "\n",
    "<a href=\"#top\">⏫ Back to Top</a>"
   ]
  },
  {
   "cell_type": "markdown",
   "metadata": {
    "deletable": true,
    "editable": true
   },
   "source": [
    "<a id=\"attributes_c\"></a>\n",
    "\n",
    "## Feature importance for classifaction dataset according to Random Forest\n",
    "\n",
    "The top feature was bathroom count with an importance of 0.083.  The next three important features were bedroom count (0.0814), building quality type (0.0812) and calculated bath and bedrooms (0.080).  We think that these are the top features because each county could have either one specific builder for all of their neighborhoods or the builders matched the styles of the homes around them.  The number of bedrooms and bathrooms is probably significant because each county could have their own demographic of family sizes.  If it is close to a larger city, we may see more singles or couples with fewer number of bedrooms and baths and counties farther into suburbia may have more kids thus more bedrooms and bathrooms.\n",
    "\n",
    "The next 3 important features are all related to square footage which agian we think goes back to builders and the demographic of the area.  Homes in the same county could be more likely be more similar in square footage than others.\n",
    "\n",
    "<a href=\"#top\">⏫ Back to Top</a>"
   ]
  },
  {
   "cell_type": "code",
   "execution_count": 23,
   "metadata": {
    "collapsed": false,
    "deletable": true,
    "editable": true
   },
   "outputs": [
    {
     "name": "stdout",
     "output_type": "stream",
     "text": [
      "Random Forest Feature ranking:\n",
      "1. feature 26 (0.083390)\n",
      "2. feature 25 (0.081468)\n",
      "3. feature 22 (0.081234)\n",
      "4. feature 23 (0.080661)\n",
      "5. feature 4 (0.073496)\n",
      "6. feature 5 (0.071017)\n",
      "7. feature 12 (0.068432)\n",
      "8. feature 20 (0.067084)\n"
     ]
    },
    {
     "data": {
      "image/png": "[encoded data removed]",
      "text/plain": [
       "<matplotlib.figure.Figure at 0x104d58630>"
      ]
     },
     "metadata": {},
     "output_type": "display_data"
    }
   ],
   "source": [
    "X = dataset_class['X']\n",
    "y = dataset_class['y']\n",
    "\n",
    "clf = RandomForestClassifier(random_state=seed, max_depth=250)\n",
    "clf.fit(X, y)\n",
    "importances = clf.feature_importances_\n",
    "std = np.std([tree.feature_importances_ for tree in clf.estimators_], axis=0)\n",
    "indices = np.argsort(importances)[::-1]\n",
    "\n",
    "# Print the feature ranking\n",
    "print(\"Random Forest Feature ranking:\")\n",
    "for f in range(X.shape[1]):\n",
    "    if importances[indices[f]] > 0.05:\n",
    "        print(\"%d. feature %d (%f)\" % (f + 1, indices[f], importances[indices[f]]))\n",
    "\n",
    "# Plot the feature importances of the forest\n",
    "plt.figure(figsize=(8,8))\n",
    "plt.title(\"Random Forest Feature importances\")\n",
    "plt.bar(range(X_train.shape[1]-1), importances[indices], color=\"r\", yerr=std[indices], align=\"center\")\n",
    "feature_names = X.columns\n",
    "plt.xticks(range(10), feature_names)\n",
    "plt.xticks(rotation=90)\n",
    "plt.xlim([-1, 10])\n",
    "plt.show()"
   ]
  },
  {
   "cell_type": "markdown",
   "metadata": {
    "deletable": true,
    "editable": true
   },
   "source": [
    "## Feature importance for regression dataset according to Random Forest\n",
    "\n",
    "# TODO fill in once features are known\n",
    "\n",
    "<a href=\"#top\">⏫ Back to Top</a>"
   ]
  },
  {
   "cell_type": "code",
   "execution_count": 24,
   "metadata": {
    "collapsed": false,
    "deletable": true,
    "editable": true
   },
   "outputs": [
    {
     "name": "stdout",
     "output_type": "stream",
     "text": [
      "Random Forest Feature ranking:\n",
      "1. feature 25 (0.915254)\n"
     ]
    },
    {
     "data": {
      "image/png": "[encoded data removed]",
      "text/plain": [
       "<matplotlib.figure.Figure at 0x13858db38>"
      ]
     },
     "metadata": {},
     "output_type": "display_data"
    }
   ],
   "source": [
    "X = dataset_reg['X']\n",
    "y = dataset_reg['y']\n",
    "\n",
    "clf = RandomForestRegressor(max_depth=26, n_estimators=5, random_state=seed)\n",
    "clf.fit(X, y)\n",
    "importances = clf.feature_importances_\n",
    "std = np.std([tree.feature_importances_ for tree in clf.estimators_], axis=0)\n",
    "indices = np.argsort(importances)[::-1]\n",
    "\n",
    "# Print the feature ranking\n",
    "print(\"Random Forest Feature ranking:\")\n",
    "for f in range(X.shape[1]):\n",
    "    if importances[indices[f]] > 0.05:\n",
    "        print(\"%d. feature %d (%f)\" % (f + 1, indices[f], importances[indices[f]]))\n",
    "\n",
    "# Plot the feature importances of the forest\n",
    "plt.figure(figsize=(8,8))\n",
    "plt.title(\"Random Forest Feature importances\")\n",
    "plt.bar(range(X.shape[1]), importances[indices], color=\"r\", yerr=std[indices], align=\"center\")\n",
    "feature_names = X.columns\n",
    "plt.xticks(range(10), feature_names)\n",
    "plt.xticks(rotation=90)\n",
    "plt.xlim([-1, 10])\n",
    "plt.show()"
   ]
  },
  {
   "cell_type": "markdown",
   "metadata": {
    "deletable": true,
    "editable": true
   },
   "source": [
    "<a id=\"Deployment\"></a>\n",
    "# Deployment\n",
    "<b>5 points</b>\n",
    "\n",
    "<i>\n",
    "<b>Description:</b><br/>\n",
    "How useful is your model for interested parties (i.e., the companies or organizations that might want to use it for prediction)? How would you measure the model's value if it was used by these parties? How would your deploy your model for interested parties? What other data should be collected? How often would the model need to be updated, etc.?\n",
    "</i>\n",
    "\n",
    "<a href=\"#top\">⏫ Back to Top</a>"
   ]
  },
  {
   "cell_type": "markdown",
   "metadata": {
    "deletable": true,
    "editable": true
   },
   "source": [
    "Zillow began offering publicly available real estate data from disparate sources into a single platform, the gap between sellers’ prices and buyers’ offer prices has significantly decreased.\n",
    "\n",
    "The Zillow dataset was provided for the purpose of evaluating Zestimate’s accuracy based upon the variable `logerror` which is the difference of log(Zestimate) - log(SalePrice). For purposes of this lab assignment, we developed regression models on `taxamount` and classification models on the `regionidcounty` field (i.e. the county identifier). \n",
    "\n",
    "# TODO Insert insights form regression and classification models here\n",
    "_ , _ , and _ are the best indicators for the regression prediction of `taxamount`, where _ ...\n",
    "\n",
    "_ , _ , and _ are the best indicators for classification prediction of `regionidcounty`, where _ ...\n",
    "\n",
    "For companies in the real estate space, classification models based on physical attributes, which provide valuable insight for buying, selling, and investment decisions. Our classification model can be adapted to more granular levels as cities and municipalities. Buyers, sellers, and investors alike can gain insights into which features have the highest importance to specific locations. This may drive investment decisions knowing how important certain attributes are for targeted locations. Knowing which features are highly important in certain locations can drive remodeling decisions to make properties more attractive to potential buyers. The value-add of this model for these companies can be measured in terms of returns on investment.\n",
    "\n",
    "Deployment of the model can be valuable for the rental market as well, where Airbnb can direct marketing efforts to areas with specific property attributes. Deployment of the model can also be used to provide the break-even horizon for making rent versus own decisions. In addition, loan refinancing companies can utilize this model along with Zillow’s liens and taxes database to target homeowners in specific areas.\n",
    "\n",
    "To further improve the effectiveness of the model, we should expand the model to include sales prices, liens, taxes, as well as identify biased data such as short sales, foreclosures, and “arms-length” transactions (i.e. sales to relatives). All these are readily available from Zillow, as they collect an enormous amount of data which we imagine is updated frequently.\n",
    "\n",
    "# TODO what other data should be collected? how often would the models need to be updated?"
   ]
  },
  {
   "cell_type": "markdown",
   "metadata": {
    "deletable": true,
    "editable": true
   },
   "source": [
    "<a id=\"Exceptional\"></a>\n",
    "# Exceptional Work\n",
    "<b>10 points</b>\n",
    "\n",
    "<i>\n",
    "<b>Description:</b><br/>\n",
    "You have free reign to provide additional analyses. One idea: grid search parameters in a parallelized fashion and visualize the\n",
    "performances across attributes. Which parameters are most significant for making a good model for each classification algorithm?\n",
    "</i>\n",
    "\n",
    "<a href=\"#top\">⏫ Back to Top</a>"
   ]
  },
  {
   "cell_type": "markdown",
   "metadata": {
    "deletable": true,
    "editable": true
   },
   "source": [
    "<a id=\"exceptional_approaches\"></a>\n",
    "## Approaches Considered for Balanced Classification\n",
    "\n",
    "<a href=\"#top\">⏫ Back to Top</a>"
   ]
  },
  {
   "cell_type": "markdown",
   "metadata": {
    "deletable": true,
    "editable": true
   },
   "source": [
    "One of the shortcomings of classification, K-nearest neighbors in particular, is the tendency to bias in favor of the majority class. To eliminate the bias, a number of approaches can be utilized including StratifiedKFold, which is the approach we use for our classification models. To be thorough, we explored a set of “imbalanced learn” algorithms, imblearn.RandomOverSampler, imblearn.SMOTE, and imblearn.ADASYN.\n",
    "\n",
    "1. StratifiedKFold - A variant of KFold, this ensures each class is represented equally (i.e. equal weights) as the algorithm performs each fold. Stratification is performed on the training dataset \"on the fly\" as opposed to performing it as part of data preprocessing.\n",
    "2. imblearn.RandomOverSampler - As a separate package, imblearn was developed to address the problem of imbalanced data sets; it is performed at data preprocessing. RandomOverSampler,in particular, performs a naive over sampling with replacement, duplicating original samples from the minority class. (Under sampling is the alternate approach).\n",
    "3. imblearn.SMOTE - SMOTE compensates for classes that are difficult to separate by performing over and under sampling using Tomek’s link or edited nearest neighbors cleaning methods.\n",
    "4. imblearn.ADASYN - Adaptive Synthetic Sampling Approach (ADASYN) is similar to SMOTE as it generates samples by interpolation but it focuses on the wrongly classified k-nearest neighbors.\n",
    "\n",
    "After considering these methods, we settled on the StratifiedKFold for simplicity since accuracies across the different approaches were practically equivalent.\n",
    "\n",
    "![imblearn](../../input/imblearn.png)\n"
   ]
  },
  {
   "cell_type": "markdown",
   "metadata": {
    "deletable": true,
    "editable": true
   },
   "source": [
    "<a id=\"exceptional_fe\"></a>\n",
    "## Feature ranking with recursive feature elimination.\n",
    "<a href=\"#top\">⏫ Back to Top</a>\n",
    "\n",
    "Given an external estimator that assigns weights to features (e.g., the coefficients of a linear model), the goal of recursive feature elimination (RFE) is to select features by recursively considering smaller and smaller sets of features. First, the estimator is trained on the initial set of features and the importance of each feature is obtained either through a coef_ attribute or through a feature_importances_ attribute. Then, the least important features are pruned from current set of features. That procedure is recursively repeated on the pruned set until the desired number of features to select is eventually reached.\n",
    "\n",
    "In this example we will first select top 20 features and will train a Random Forest with only that features. The performance of the model is printed below."
   ]
  },
  {
   "cell_type": "code",
   "execution_count": 36,
   "metadata": {
    "collapsed": false,
    "deletable": true,
    "editable": true
   },
   "outputs": [
    {
     "name": "stdout",
     "output_type": "stream",
     "text": [
      "----------------- KD Tree Classifier Evaluation -----------------\n",
      " F1 Score: 0.49 (+/- 0.00)\n",
      " Accuracy 0.559164097294\n",
      " Precision 0.469948908187\n",
      " Recall 0.559164097294\n"
     ]
    },
    {
     "data": {
      "image/png": "[encoded data removed]",
      "text/plain": [
       "<matplotlib.figure.Figure at 0x145c8ec88>"
      ]
     },
     "metadata": {},
     "output_type": "display_data"
    },
    {
     "data": {
      "image/png": "[encoded data removed]",
      "text/plain": [
       "<matplotlib.figure.Figure at 0x102f769b0>"
      ]
     },
     "metadata": {},
     "output_type": "display_data"
    }
   ],
   "source": [
    "X = dataset_class['X'].iloc[:2000]\n",
    "y = dataset_class['y'].iloc[:2000]\n",
    "\n",
    "estimator = RandomForestClassifier(max_depth=10, random_state=seed, n_estimators=10)\n",
    "\n",
    "selector = RFE(estimator, n_features_to_select=20, step=1)\n",
    "selector = selector.fit(X, y)\n",
    "\n",
    "\n",
    "X = dataset_class['X']\n",
    "y = dataset_class['y']\n",
    "X = X[X.columns[selector.support_]]\n",
    "\n",
    "scores = []\n",
    "yhat = np.zeros(y.shape)\n",
    "yhat_score = np.zeros((len(y), 3))\n",
    "\n",
    "cv = StratifiedKFold(n_splits=n_splits, random_state=seed)\n",
    "for train_index, test_index in cv.split(X, y):\n",
    "\n",
    "    clf = RandomForestClassifier(random_state=seed, max_depth=250, n_estimators=40)\n",
    "    X_train, X_test = X.iloc[train_index], X.iloc[test_index]\n",
    "    y_train, y_test = y.iloc[train_index], y.iloc[test_index]\n",
    "    \n",
    "    clf.fit(X_train, y_train)\n",
    "    yhat[test_index] = clf.predict(X_test)\n",
    "    yhat_score[test_index] = clf.predict_proba(X_test)\n",
    "    \n",
    "    f1_score = mt.f1_score(y_test, clf.predict(X_test), average='weighted')\n",
    "    scores.append(f1_score)\n",
    "\n",
    "print_accuracy('KD Tree Classifier', y, yhat, scores)\n",
    "plot_class_acc(y, yhat, clf.classes_, title=\"KD Tree Classifier\")\n",
    "confusion_matrix(y, yhat, clf.classes_)\n",
    "roc_curve(y, yhat, clf)"
   ]
  },
  {
   "cell_type": "markdown",
   "metadata": {
    "deletable": true,
    "editable": true
   },
   "source": [
    "<a id=\"exceptional_2d\"></a>\n",
    "## Two dimentional Linear Discriminant Analysis\n",
    "\n",
    "The idea is to see if there are separatable clusters by class.\n",
    "\n",
    "<a href=\"#top\">⏫ Back to Top</a>"
   ]
  },
  {
   "cell_type": "code",
   "execution_count": 37,
   "metadata": {
    "collapsed": false,
    "deletable": true,
    "editable": true
   },
   "outputs": [
    {
     "data": {
      "image/png": "[encoded data removed]",
      "text/plain": [
       "<matplotlib.figure.Figure at 0x10372dcc0>"
      ]
     },
     "metadata": {},
     "output_type": "display_data"
    }
   ],
   "source": [
    "X = dataset_class['X']\n",
    "y = dataset_class['y']\n",
    "\n",
    "lde = LDA(n_components=2)\n",
    "X_lde = lde.fit(X, y).transform(X)\n",
    "\n",
    "colors = y.astype(str)\n",
    "colors[colors=='3101'] = 'g'\n",
    "colors[colors=='2061'] = 'b'\n",
    "colors[colors=='1286'] = 'r'\n",
    "\n",
    "plt.scatter(X_lde[:, 1], X_lde[:, 0], s=2, c=colors);"
   ]
  },
  {
   "cell_type": "markdown",
   "metadata": {
    "deletable": true,
    "editable": true
   },
   "source": [
    "<a id=\"References\"></a>\n",
    "# References:\n",
    "\n",
    "- Kernels from Kaggle competition: https://www.kaggle.com/c/zillow-prize-1/kernels\n",
    "- Scikitlearn logistic regression: http://scikit-learn.org/stable/modules/generated/sklearn.linear_model.LogisticRegression.html\n",
    "- Scikitlearn linear SVC: http://scikit-learn.org/stable/modules/generated/sklearn.svm.LinearSVC.html\n",
    "- Stackoverflow pandas questions: https://stackoverflow.com/questions/tagged/pandas\n",
    "- Deployment Reference: http://www.zdnet.com/article/zillow-machine-learning-and-data-in-real-estate/\n",
    "- Advantages of GaussianProcessRegressor http://scikit-learn.org/stable/modules/gaussian_process.html\n",
    "- Advantages of GaussianProcessRegressor https://stats.stackexchange.com/questions/207183/main-advantages-of-gaussian-process-models\n",
    "- Advantages of GaussianProcessRegressor https://www.quora.com/What-are-some-advantages-of-using-Gaussian-Process-Models-vs-SVMs\n",
    "- Advantages of RandomForestRegressor https://www.quora.com/What-are-some-advantages-of-using-a-random-forest-over-a-decision-tree-given-that-a-decision-tree-is-simpler\n",
    "- Advantages of RandomForestRegressor https://www.datasciencecentral.com/profiles/blogs/random-forests-algorithm\n",
    "- Advantages of KNeighborsRegressor https://stats.stackexchange.com/questions/104255/why-would-anyone-use-knn-for-regression\n",
    "- Advantages of KNeighborsRegressor https://machinelearningmastery.com/k-nearest-neighbors-for-machine-learning/\n",
    "- Advantages of KNeighborsRegressor https://kevinzakka.github.io/2016/07/13/k-nearest-neighbor/#pros-and-cons-of-knn\n",
    "- Imbalanced Learn http://contrib.scikit-learn.org/imbalanced-learn/stable/install.html\n",
    "\n",
    "<a href=\"#top\">⏫ Back to Top</a>"
   ]
  }
 ],
 "metadata": {
  "kernelspec": {
   "display_name": "Python 3",
   "language": "python",
   "name": "python3"
  },
  "language_info": {
   "codemirror_mode": {
    "name": "ipython",
    "version": 3
   },
   "file_extension": ".py",
   "mimetype": "text/x-python",
   "name": "python",
   "nbconvert_exporter": "python",
   "pygments_lexer": "ipython3",
   "version": "3.6.0"
  }
 },
 "nbformat": 4,
 "nbformat_minor": 2
}
