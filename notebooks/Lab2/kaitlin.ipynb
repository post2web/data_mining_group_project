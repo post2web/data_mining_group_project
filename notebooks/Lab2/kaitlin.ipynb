{
 "cells": [
  {
   "cell_type": "markdown",
   "metadata": {},
   "source": [
    "# FYI directions, delete later\n",
    "\n",
    "You are to build upon the predictive analysis (classification) that you already completed in the previous mini-project, adding additional modeling from new classification algorithms as well as more explanations that are inline with the CRISP-DM framework. You should use appropriate cross validation for all of your analysis (explain your chosen method of performance validation in detail). Try to use as much testing data as possible in a realistic manner (you should define what you think\n",
    "is realistic and why). \n",
    "\n",
    "This report is worth 20% of the final grade. Please upload a report (one per team) with all code used, visualizations, and text in a single document. The format of the document can be PDF, *.ipynb, or HTML. You can write the report in whatever format you like, but it is easiest to turn in the rendered Jupyter notebook. The results should be reproducible using your report. Please carefully describe every assumption and every step in your report.\n",
    "\n",
    "Dataset Selection\n",
    "\n",
    "Select a dataset identically to the way you selected for the first project work week and mini-project.\n",
    "You are not required to use the same dataset that you used in the past, but you are encouraged.\n",
    "You must identify two tasks from the dataset to regress or classify. That is:\n",
    "\n",
    "* two classification tasks OR\n",
    "* two regression tasks OR\n",
    "* one classification task and one regression task\n",
    "\n",
    "For example, if your dataset was from the diabetes data you might try to predict two tasks: (1)\n",
    "classifying if a patient will be readmitted within a 30 day period or not, and (2) regressing what the\n",
    "total number of days a patient will spend in the hospital, given their history and specifics of the\n",
    "encounter like tests administered and previous admittance."
   ]
  },
  {
   "cell_type": "markdown",
   "metadata": {},
   "source": [
    "# Lab 2: Zillow Dataset Classification \n",
    "MSDS 7331 Data Mining - Section 403 - Lab 2\n",
    "\n",
    "Team: Ivelin Angelov, Yao Yao, Kaitlin Kirasich, Albert Asuncion\n",
    "\n",
    "<a id=\"top\"></a>\n",
    "## Contents\n",
    "* <a href=\"#Imports\">Imports</a>\n",
    "* <a href=\"#Define\">Define and Prepare Class Variables</a>\n",
    "* <a href=\"#Describe\">Describe the Final Dataset</a>\n",
    "* <a href=\"#Evaluation\">Explain Evaluation Metrics</a>\n",
    "* <a href=\"#Splits\">Training and Testing Splits</a>\n",
    "* <a href=\"#Models\">Three Different Classification/Regression Models</a>\n",
    "* <a href=\"#Analysis\">Visualizations of Results and Analysis</a>\n",
    "* <a href=\"#Advantages\">Advantages of Each Model</a>\n",
    "* <a href=\"#Attributes\">Important Attributes</a>\n",
    "* <a href=\"#Deployment\">Deployment</a>\n",
    "* <a href=\"#Exceptional\">Exceptional Work</a>\n",
    "* <a href=\"#References\">References</a>\n",
    "________________________________________________________________________________________________________\n",
    "<a id=\"Imports\"></a>\n",
    "# Imports & Utils"
   ]
  },
  {
   "cell_type": "code",
   "execution_count": 1,
   "metadata": {},
   "outputs": [],
   "source": [
    "%matplotlib inline\n",
    "import numpy as np\n",
    "import pandas as pd\n",
    "import matplotlib.pyplot as plt\n",
    "import seaborn as sns\n",
    "from IPython.display import display, HTML\n",
    "from sklearn.model_selection import train_test_split\n",
    "from sklearn import metrics as mt\n",
    "\n",
    "def output_variables_table(variables):\n",
    "    variables = variables.sort_index()\n",
    "    rows = ['<tr><th>Variable</th><th>Type</th><th>Scale</th><th>Description</th></tr>']\n",
    "    for vname, atts in variables.iterrows():\n",
    "        if vname not in dataset.columns:\n",
    "            continue\n",
    "        atts = atts.to_dict()\n",
    "        # add scale if TBD\n",
    "        if atts['scale'] == 'TBD':\n",
    "            if atts['type'] in ['nominal', 'ordinal']:\n",
    "                uniques = dataset[vname].unique()\n",
    "                uniques = list(uniques.astype(str))\n",
    "                if len(uniques) < 10:\n",
    "                    atts['scale'] = '[%s]' % ', '.join(uniques)\n",
    "                else:\n",
    "                    atts['scale'] = '[%s]' % (', '.join(uniques[:5]) + ', ... (%d More)' % len(uniques))\n",
    "            if atts['type'] in ['ratio', 'interval']:\n",
    "                atts['scale'] = '(%d, %d)' % (dataset[vname].min(), dataset[vname].max())\n",
    "        row = (vname, atts['type'], atts['scale'], atts['description'])\n",
    "        rows.append('<tr><td>%s</td><td>%s</td><td>%s</td><td>%s</td></tr>' % row)\n",
    "    return HTML('<table>%s</table>' % ''.join(rows))\n",
    "\n",
    "\n",
    "# Define an accuracy plot\n",
    "def per_class_accuracy(ytrue,yhat):\n",
    "    conf = mt.confusion_matrix(ytrue,yhat)\n",
    "    norm_conf = conf.astype('float') / conf.sum(axis=1)[:, np.newaxis]\n",
    "    return np.diag(norm_conf)\n",
    "\n",
    "def plot_class_acc(ytrue,yhat, title=''):\n",
    "    acc_list = per_class_accuracy(ytrue,yhat)\n",
    "    plt.bar(range(len(acc_list)), acc_list)\n",
    "    plt.xlabel('Class value (one per face)')\n",
    "    plt.ylabel('Accuracy within class')\n",
    "    plt.title(title+\", Total Acc=%.1f\"%(100*mt.accuracy_score(ytrue,yhat)))\n",
    "    plt.grid()\n",
    "    plt.ylim([0,1])\n",
    "    plt.show()\n",
    "    \n",
    "# Plot the feature importances of the forest\n",
    "def plot_feature_importance(ytrue,yhat,rt, title=''):\n",
    "    importances = rt.feature_importances_\n",
    "    std = np.std([tree.feature_importances_ for tree in rt.estimators_],\n",
    "             axis=0)\n",
    "    indices = np.argsort(importances)[::-1]\n",
    "    for f in range(X.shape[1]):\n",
    "        print(\"%d. feature %d (%f)\" % (f + 1, indices[f], importances[indices[f]]))\n",
    "    plt.figure()\n",
    "    plt.title(\"Feature importances\")\n",
    "    plt.bar(range(X.shape[1]), importances[indices],\n",
    "       color=\"r\", yerr=std[indices], align=\"center\")\n",
    "    plt.xticks(range(X.shape[1]), indices)\n",
    "    plt.xlim([-1, X.shape[1]])\n",
    "    plt.show()\n",
    "    \n",
    "def print_accuracy(model, y_test, yhat):\n",
    "    print (model + ' Accuracy', mt.accuracy_score(y_test, yhat))\n",
    "    prf = mt.precision_recall_fscore_support(y_test, yhat, average='macro')\n",
    "    print(model + ' Precision', prf[0])\n",
    "    print(model + ' Recall', prf[1])\n",
    "    print(model + ' F-measure', prf[2])\n",
    "    plot_class_acc(y_test,yhat,title=model +\" Raw\")\n",
    "    \n",
    "def get_dataset_subset(dataset, n=1000):\n",
    "    return {\n",
    "        'X': dataset['X'].iloc[:n],\n",
    "        'y': dataset['y'].iloc[:n]\n",
    "    }"
   ]
  },
  {
   "cell_type": "markdown",
   "metadata": {},
   "source": [
    "<a href=\"#top\">Back to Top</a>\n",
    "<a id=\"Define\"></a>\n",
    "# Define and Prepare Class Variables\n",
    "<b>10 points</b>\n",
    "\n",
    "<i>\n",
    "<b>Description:</b><br/>\n",
    "Define and prepare your class variables. Use proper variable representations (int, float, one-hot, etc.). Use pre-processing methods (as needed) for dimensionality reduction, scaling, etc. Remove variables that are not needed/useful for the analysis.\n",
    "</i>"
   ]
  },
  {
   "cell_type": "markdown",
   "metadata": {},
   "source": [
    "## Classification Dataset"
   ]
  },
  {
   "cell_type": "code",
   "execution_count": 9,
   "metadata": {},
   "outputs": [
    {
     "name": "stdout",
     "output_type": "stream",
     "text": [
      "regionidcounty\n",
      "1286    35417\n",
      "2061    10261\n",
      "3101    71083\n",
      "Name: regionidcounty, dtype: int64\n"
     ]
    },
    {
     "data": {
      "text/html": [
       "<table><tr><th>Variable</th><th>Type</th><th>Scale</th><th>Description</th></tr><tr><td>airconditioningtypeid</td><td>nominal</td><td>[0, 1, 5, 13, 11, 9, 3]</td><td>Type of cooling system present in the home (if any)</td></tr><tr><td>assessmentyear</td><td>interval</td><td>(2015, 2015)</td><td>The year of the property tax assessment</td></tr><tr><td>bathroomcnt</td><td>ordinal</td><td>[2.5, 1.0, 2.0, 1.5, 3.0, ... (23 More)]</td><td>Number of bathrooms in home including fractional bathrooms</td></tr><tr><td>bedroomcnt</td><td>ordinal</td><td>[3, 2, 4, 5, 6, ... (17 More)]</td><td>Number of bedrooms in home</td></tr><tr><td>buildingqualitytypeid</td><td>ordinal</td><td>[7, 4, 10, 1, 8, 12, 6, 11]</td><td>Overall assessment of condition of the building from best (lowest) to worst (highest)</td></tr><tr><td>calculatedbathnbr</td><td>ordinal</td><td>[2.5, 1.0, 2.0, 1.5, 3.0, ... (23 More)]</td><td>Number of bathrooms in home including fractional bathroom</td></tr><tr><td>calculatedfinishedsquarefeet</td><td>ratio</td><td>(0, 10925)</td><td>Calculated total finished living area of the home</td></tr><tr><td>censustractandblock</td><td>nominal</td><td>[61110023618600.0, 61110015230000.0, 61110006841300.0, 61110052978700.0, 61110040395800.0, ... (445 More)]</td><td>Census tract and block ID combined - also contains blockgroup assignment by extension</td></tr><tr><td>finishedsquarefeet12</td><td>ratio</td><td>(0, 6615)</td><td>Finished living area</td></tr><tr><td>finishedsquarefeet50</td><td>ratio</td><td>(0, 8352)</td><td>Size of the finished living area on the first (entry) floor of the home</td></tr><tr><td>fips</td><td>nominal</td><td>[6111, 6037, 6059]</td><td>Federal Information Processing Standard code - see https://en.wikipedia.org/wiki/FIPS_county_code for more details</td></tr><tr><td>fireplacecnt</td><td>ordinal</td><td>[0, 1, 2, 3, 4, 5]</td><td>Number of fireplaces in a home (if any)</td></tr><tr><td>fullbathcnt</td><td>ordinal</td><td>[2.0, 1.0, 3.0, 7.0, 5.0, ... (19 More)]</td><td>Number of full bathrooms (sink, shower + bathtub, and toilet) present in home</td></tr><tr><td>garagecarcnt</td><td>ordinal</td><td>[2.0, 1.0, 3.0, 0.0, 4.0, ... (15 More)]</td><td>Total number of garages on the lot including an attached garage</td></tr><tr><td>garagetotalsqft</td><td>ratio</td><td>(0, 1610)</td><td>Total number of square feet of all garages on lot including an attached garage</td></tr><tr><td>hashottuborspa</td><td>ordinal</td><td>[0, 1]</td><td>Does the home have a hot tub or spa</td></tr><tr><td>heatingorsystemtypeid</td><td>nominal</td><td>[0, 2, 7, 6, 24, ... (13 More)]</td><td>Type of home heating system</td></tr><tr><td>landtaxvaluedollarcnt</td><td>ratio</td><td>(22, 2477536)</td><td>The assessed value of the land area of the parcel</td></tr><tr><td>location_type</td><td>nominal</td><td>[nan, PRIMARY, ACCEPTABLE, NOT ACCEPTABLE]</td><td>Primary, Acceptable, Not Acceptable</td></tr><tr><td>lotsizesquarefeet</td><td>ratio</td><td>(0, 1710750)</td><td>Area of the lot in square feet</td></tr><tr><td>numberofstories</td><td>ordinal</td><td>[2, 1, 3, 4]</td><td>Number of stories or levels the home has</td></tr><tr><td>parcelid</td><td>nominal</td><td>[17073783, 17088994, 17100444, 17102429, 17109604, ... (90150 More)]</td><td>Unique identifier for parcels (lots)</td></tr><tr><td>poolcnt</td><td>ordinal</td><td>[0.0, 1.0]</td><td>Number of pools on the lot (if any)</td></tr><tr><td>poolsizesum</td><td>ratio</td><td>(0, 1476)</td><td>Total square footage of all pools on property</td></tr><tr><td>pooltypeid10</td><td>nominal</td><td>[0, 1]</td><td>Spa or Hot Tub</td></tr><tr><td>pooltypeid2</td><td>nominal</td><td>[0, 1]</td><td>Pool with Spa/Hot Tub</td></tr><tr><td>pooltypeid7</td><td>nominal</td><td>[0, 1]</td><td>Pool without hot tub</td></tr><tr><td>propertycountylandusecode</td><td>nominal</td><td>[1128, 1129, 1111, 1110, 010C, ... (77 More)]</td><td>County land use code i.e. it's zoning at the county level</td></tr><tr><td>propertylandusetypeid</td><td>nominal</td><td>[265, 266, 261, 269, 246, ... (14 More)]</td><td>Type of land use the property is zoned for</td></tr><tr><td>propertyzoningdesc</td><td>nominal</td><td>[0, LARD3, LARS, LARE11, LCA21*, ... (1997 More)]</td><td>Description of the allowed land uses (zoning) for that property</td></tr><tr><td>roomcnt</td><td>ordinal</td><td>[5, 4, 8, 6, 9, ... (16 More)]</td><td>Total number of rooms in the principal residence</td></tr><tr><td>structuretaxvaluedollarcnt</td><td>ratio</td><td>(100, 2181198)</td><td>The assessed value of the built structure on the parcel</td></tr><tr><td>taxamount</td><td>ratio</td><td>(49, 51292)</td><td>The total property tax assessed for that assessment year</td></tr><tr><td>taxdelinquencyflag</td><td>nominal</td><td>[0, 1]</td><td>Property taxes for this parcel are past due as of 2015</td></tr><tr><td>taxdelinquencyyear</td><td>interval</td><td>(0, 26)</td><td>Year</td></tr><tr><td>taxvaluedollarcnt</td><td>ratio</td><td>(22, 4052186)</td><td>The total tax assessed value of the parcel</td></tr><tr><td>threequarterbathnbr</td><td>ordinal</td><td>[1, 0, 2, 4, 3]</td><td>Number of 3/4 bathrooms in house (shower + sink + toilet)</td></tr><tr><td>unitcnt</td><td>ordinal</td><td>[1, 2, 4, 3, 9, 13, 5, 6, 11]</td><td>Number of units the structure is built into (i.e. 2 = duplex, 3 = triplex, etc...)</td></tr><tr><td>yardbuildingsqft17</td><td>interval</td><td>(0, 1485)</td><td>Patio in yard</td></tr><tr><td>yardbuildingsqft26</td><td>interval</td><td>(0, 1366)</td><td>Storage shed/building in yard</td></tr><tr><td>yearbuilt</td><td>interval</td><td>(1885, 2015)</td><td>The Year the principal residence was built</td></tr><tr><td>zipcode_type</td><td>nominal</td><td>[nan, STANDARD, PO BOX, MILITARY, UNIQUE]</td><td>Standard, PO BOX Only, Unique, Military(implies APO or FPO)</td></tr></table>"
      ],
      "text/plain": [
       "<IPython.core.display.HTML object>"
      ]
     },
     "execution_count": 9,
     "metadata": {},
     "output_type": "execute_result"
    }
   ],
   "source": [
    "variables = pd.read_csv('../../datasets/variables.csv').set_index('name')\n",
    "dataset = pd.read_csv('../../datasets/train.csv', low_memory=False)\n",
    "\n",
    "# remove unneeded variables\n",
    "del dataset['logerror']\n",
    "del dataset['transactiondate']\n",
    "del dataset['city']\n",
    "del dataset['price_per_sqft']\n",
    "\n",
    "\n",
    "# delete all location information because we want to predict the couty\n",
    "# and those feature will give it up to easy\n",
    "y = dataset['regionidcounty'].copy()\n",
    "del dataset['regionidcounty']\n",
    "del dataset['regionidcity']\n",
    "del dataset['regionidzip']\n",
    "del dataset['regionidneighborhood']\n",
    "del dataset['rawcensustractandblock']\n",
    "del dataset['latitude']\n",
    "del dataset['longitude']\n",
    "\n",
    "output_variables = output_variables_table(variables)\n",
    "\n",
    "nominal = variables[variables['type'].isin(['nominal'])]\n",
    "nominal = nominal[nominal.index.isin(dataset.columns)]\n",
    "continuous = variables[~variables['type'].isin(['nominal'])]\n",
    "continuous = continuous[continuous.index.isin(dataset.columns)]\n",
    "\n",
    "nominal_data = dataset[nominal.index]\n",
    "nominal_data = pd.get_dummies(nominal_data, drop_first=True)\n",
    "nominal_data = nominal_data[nominal_data.columns[~nominal_data.columns.isin(nominal.index)]]\n",
    "\n",
    "continuous_data = dataset[continuous.index]\n",
    "\n",
    "dataset = pd.concat([continuous_data, nominal_data], axis=1)\n",
    "\n",
    "columns = dataset.columns\n",
    "variables = variables[variables.index.isin(dataset.columns)]\n",
    "\n",
    "# shuffle the dataset (just in case)\n",
    "dataset = dataset.sample(frac=1)\n",
    "\n",
    "X = dataset\n",
    "dataset_class = {\n",
    "    'X': X,\n",
    "    'y': y\n",
    "}\n",
    "print(y.groupby(y).size())\n",
    "output_variables"
   ]
  },
  {
   "cell_type": "markdown",
   "metadata": {},
   "source": [
    "## Regression Dataset\n",
    "\n",
    "In this dataset we will predict the value of taxamount"
   ]
  },
  {
   "cell_type": "code",
   "execution_count": 13,
   "metadata": {},
   "outputs": [
    {
     "data": {
      "text/html": [
       "<table><tr><th>Variable</th><th>Type</th><th>Scale</th><th>Description</th></tr><tr><td>airconditioningtypeid</td><td>nominal</td><td>[0, 1, 5, 13, 11, 9, 3]</td><td>Type of cooling system present in the home (if any)</td></tr><tr><td>assessmentyear</td><td>interval</td><td>(2015, 2015)</td><td>The year of the property tax assessment</td></tr><tr><td>bathroomcnt</td><td>ordinal</td><td>[2.5, 1.0, 2.0, 1.5, 3.0, ... (23 More)]</td><td>Number of bathrooms in home including fractional bathrooms</td></tr><tr><td>bedroomcnt</td><td>ordinal</td><td>[3, 2, 4, 5, 6, ... (17 More)]</td><td>Number of bedrooms in home</td></tr><tr><td>buildingqualitytypeid</td><td>ordinal</td><td>[7, 4, 10, 1, 8, 12, 6, 11]</td><td>Overall assessment of condition of the building from best (lowest) to worst (highest)</td></tr><tr><td>calculatedbathnbr</td><td>ordinal</td><td>[2.5, 1.0, 2.0, 1.5, 3.0, ... (23 More)]</td><td>Number of bathrooms in home including fractional bathroom</td></tr><tr><td>calculatedfinishedsquarefeet</td><td>ratio</td><td>(0, 10925)</td><td>Calculated total finished living area of the home</td></tr><tr><td>censustractandblock</td><td>nominal</td><td>[61110023618600.0, 61110015230000.0, 61110006841300.0, 61110052978700.0, 61110040395800.0, ... (445 More)]</td><td>Census tract and block ID combined - also contains blockgroup assignment by extension</td></tr><tr><td>finishedsquarefeet12</td><td>ratio</td><td>(0, 6615)</td><td>Finished living area</td></tr><tr><td>finishedsquarefeet50</td><td>ratio</td><td>(0, 8352)</td><td>Size of the finished living area on the first (entry) floor of the home</td></tr><tr><td>fips</td><td>nominal</td><td>[6111, 6037, 6059]</td><td>Federal Information Processing Standard code - see https://en.wikipedia.org/wiki/FIPS_county_code for more details</td></tr><tr><td>fireplacecnt</td><td>ordinal</td><td>[0, 1, 2, 3, 4, 5]</td><td>Number of fireplaces in a home (if any)</td></tr><tr><td>fullbathcnt</td><td>ordinal</td><td>[2.0, 1.0, 3.0, 7.0, 5.0, ... (19 More)]</td><td>Number of full bathrooms (sink, shower + bathtub, and toilet) present in home</td></tr><tr><td>garagecarcnt</td><td>ordinal</td><td>[2.0, 1.0, 3.0, 0.0, 4.0, ... (15 More)]</td><td>Total number of garages on the lot including an attached garage</td></tr><tr><td>garagetotalsqft</td><td>ratio</td><td>(0, 1610)</td><td>Total number of square feet of all garages on lot including an attached garage</td></tr><tr><td>hashottuborspa</td><td>ordinal</td><td>[0, 1]</td><td>Does the home have a hot tub or spa</td></tr><tr><td>heatingorsystemtypeid</td><td>nominal</td><td>[0, 2, 7, 6, 24, ... (13 More)]</td><td>Type of home heating system</td></tr><tr><td>landtaxvaluedollarcnt</td><td>ratio</td><td>(22, 2477536)</td><td>The assessed value of the land area of the parcel</td></tr><tr><td>latitude</td><td>interval</td><td>(33339296, 34816008)</td><td>Latitude of the middle of the parcel multiplied by 10e6</td></tr><tr><td>location_type</td><td>nominal</td><td>[nan, PRIMARY, ACCEPTABLE, NOT ACCEPTABLE]</td><td>Primary, Acceptable, Not Acceptable</td></tr><tr><td>longitude</td><td>interval</td><td>(-119447864, -117554928)</td><td>Longitude of the middle of the parcel multiplied by 10e6</td></tr><tr><td>lotsizesquarefeet</td><td>ratio</td><td>(0, 1710750)</td><td>Area of the lot in square feet</td></tr><tr><td>numberofstories</td><td>ordinal</td><td>[2, 1, 3, 4]</td><td>Number of stories or levels the home has</td></tr><tr><td>parcelid</td><td>nominal</td><td>[17073783, 17088994, 17100444, 17102429, 17109604, ... (90150 More)]</td><td>Unique identifier for parcels (lots)</td></tr><tr><td>poolcnt</td><td>ordinal</td><td>[0.0, 1.0]</td><td>Number of pools on the lot (if any)</td></tr><tr><td>poolsizesum</td><td>ratio</td><td>(0, 1476)</td><td>Total square footage of all pools on property</td></tr><tr><td>pooltypeid10</td><td>nominal</td><td>[0, 1]</td><td>Spa or Hot Tub</td></tr><tr><td>pooltypeid2</td><td>nominal</td><td>[0, 1]</td><td>Pool with Spa/Hot Tub</td></tr><tr><td>pooltypeid7</td><td>nominal</td><td>[0, 1]</td><td>Pool without hot tub</td></tr><tr><td>propertycountylandusecode</td><td>nominal</td><td>[1128, 1129, 1111, 1110, 010C, ... (77 More)]</td><td>County land use code i.e. it's zoning at the county level</td></tr><tr><td>propertylandusetypeid</td><td>nominal</td><td>[265, 266, 261, 269, 246, ... (14 More)]</td><td>Type of land use the property is zoned for</td></tr><tr><td>propertyzoningdesc</td><td>nominal</td><td>[0, LARD3, LARS, LARE11, LCA21*, ... (1997 More)]</td><td>Description of the allowed land uses (zoning) for that property</td></tr><tr><td>rawcensustractandblock</td><td>nominal</td><td>[61110022, 61110015, 61110007, 61110008, 61110014, ... (1418 More)]</td><td>Census tract and block ID combined - also contains blockgroup assignment by extension</td></tr><tr><td>regionidcity</td><td>nominal</td><td>[34543, 26965, 51239, 13150, 25974, ... (178 More)]</td><td>City in which the property is located (if any)</td></tr><tr><td>regionidcounty</td><td>nominal</td><td>[2061, 3101, 1286]</td><td>County in which the property is located</td></tr><tr><td>regionidneighborhood</td><td>nominal</td><td>[0, 48570, 268588, 40548, 27987, ... (495 More)]</td><td>Neighborhood in which the property is located</td></tr><tr><td>regionidzip</td><td>nominal</td><td>[97081, 97083, 97113, 97084, 97089, ... (389 More)]</td><td>Zip code in which the property is located</td></tr><tr><td>roomcnt</td><td>ordinal</td><td>[5, 4, 8, 6, 9, ... (16 More)]</td><td>Total number of rooms in the principal residence</td></tr><tr><td>structuretaxvaluedollarcnt</td><td>ratio</td><td>(100, 2181198)</td><td>The assessed value of the built structure on the parcel</td></tr><tr><td>taxamount</td><td>ratio</td><td>(49, 51292)</td><td>The total property tax assessed for that assessment year</td></tr><tr><td>taxdelinquencyflag</td><td>nominal</td><td>[0, 1]</td><td>Property taxes for this parcel are past due as of 2015</td></tr><tr><td>taxdelinquencyyear</td><td>interval</td><td>(0, 26)</td><td>Year</td></tr><tr><td>taxvaluedollarcnt</td><td>ratio</td><td>(22, 4052186)</td><td>The total tax assessed value of the parcel</td></tr><tr><td>threequarterbathnbr</td><td>ordinal</td><td>[1, 0, 2, 4, 3]</td><td>Number of 3/4 bathrooms in house (shower + sink + toilet)</td></tr><tr><td>unitcnt</td><td>ordinal</td><td>[1, 2, 4, 3, 9, 13, 5, 6, 11]</td><td>Number of units the structure is built into (i.e. 2 = duplex, 3 = triplex, etc...)</td></tr><tr><td>yardbuildingsqft17</td><td>interval</td><td>(0, 1485)</td><td>Patio in yard</td></tr><tr><td>yardbuildingsqft26</td><td>interval</td><td>(0, 1366)</td><td>Storage shed/building in yard</td></tr><tr><td>yearbuilt</td><td>interval</td><td>(1885, 2015)</td><td>The Year the principal residence was built</td></tr><tr><td>zipcode_type</td><td>nominal</td><td>[nan, STANDARD, PO BOX, MILITARY, UNIQUE]</td><td>Standard, PO BOX Only, Unique, Military(implies APO or FPO)</td></tr></table>"
      ],
      "text/plain": [
       "<IPython.core.display.HTML object>"
      ]
     },
     "execution_count": 13,
     "metadata": {},
     "output_type": "execute_result"
    },
    {
     "data": {
      "image/png": "[encoded data removed]",
      "text/plain": [
       "<matplotlib.figure.Figure at 0x10f352c88>"
      ]
     },
     "metadata": {},
     "output_type": "display_data"
    }
   ],
   "source": [
    "variables = pd.read_csv('../../datasets/variables.csv').set_index('name')\n",
    "dataset = pd.read_csv('../../datasets/train.csv', low_memory=False)\n",
    "\n",
    "# remove unneeded variables\n",
    "del dataset['logerror']\n",
    "del dataset['transactiondate']\n",
    "del dataset['city']\n",
    "del dataset['price_per_sqft']\n",
    "\n",
    "output_variables = output_variables_table(variables)\n",
    "\n",
    "nominal = variables[variables['type'].isin(['nominal'])]\n",
    "nominal = nominal[nominal.index.isin(dataset.columns)]\n",
    "continuous = variables[~variables['type'].isin(['nominal'])]\n",
    "continuous = continuous[continuous.index.isin(dataset.columns)]\n",
    "\n",
    "nominal_data = dataset[nominal.index]\n",
    "nominal_data = pd.get_dummies(nominal_data, drop_first=True)\n",
    "nominal_data = nominal_data[nominal_data.columns[~nominal_data.columns.isin(nominal.index)]]\n",
    "\n",
    "continuous_data = dataset[continuous.index]\n",
    "\n",
    "dataset = pd.concat([continuous_data, nominal_data], axis=1)\n",
    "\n",
    "columns = dataset.columns\n",
    "variables = variables[variables.index.isin(dataset.columns)]\n",
    "\n",
    "# shuffle the dataset (just in case)\n",
    "dataset = dataset.sample(frac=1)\n",
    "\n",
    "\n",
    "X = dataset\n",
    "y = X['taxamount'].copy()\n",
    "del X['taxamount']\n",
    "# del X['taxvaluedollarcnt']????\n",
    "\n",
    "dataset_reg = {\n",
    "    'X': X,\n",
    "    'y': y\n",
    "}\n",
    "y.plot(kind='box')\n",
    "output_variables"
   ]
  },
  {
   "cell_type": "markdown",
   "metadata": {},
   "source": [
    "<a href=\"#top\">Back to Top</a>\n",
    "<a id=\"Describe\"></a>\n",
    "# Describe the Final Dataset\n",
    "<b>5 points</b>\n",
    "\n",
    "<i>\n",
    "<b>Description:</b><br/>\n",
    "Describe the final dataset that is used for classification/regression (include a description of any newly formed variables you created).\n",
    "</i>"
   ]
  },
  {
   "cell_type": "markdown",
   "metadata": {},
   "source": [
    "<a href=\"#top\">Back to Top</a>\n",
    "<a id=\"Evaluation\"></a>\n",
    "# Explain Evaluation Metrics\n",
    "<b>10 points</b>\n",
    "\n",
    "<i>\n",
    "<b>Description:</b><br/>\n",
    "Choose and explain your evaluation metrics that you will use (i.e., accuracy, precision, recall, F-measure, or any metric we have discussed). Why are the measure(s) appropriate for analyzing the results of your modeling? Give a detailed explanation backing up any assertions.\n",
    "</i>"
   ]
  },
  {
   "cell_type": "markdown",
   "metadata": {
    "collapsed": true
   },
   "source": [
    "For our evaluation, we will be taking into account the accuracy and F-measure.  In order to compute the F-measure, we will need the precision and recall.  Because F-measure is a weighted average of these, we think a better F-measure score means the model has a better precision and recall.\n",
    "\n",
    "Accuracy is the number of true positives and true negatives divided by the total results.  We want to look at accuracy because we it is a good general statistic for our results.\n",
    "\n",
    "Precision is the number of true positives divided by the total number of positive results we found.  In other words, precision is how well we can predict a positive correctly.  We care about this because we think this value will reflect the quality of our models.\n",
    "\n",
    "Recall is the number of true positives divided by the sum of true positives and false negatives.  The consequences of type 2 errors, predicting a false negative, are not extreme so we think recall is an appropriate measure of completeness.\n",
    "\n",
    "Finally, we will also use F-measure which is essentially a weighted average of the precision and recall into one a simple statistic. This will be a number between 0 and 1 where closer to 1 is better and approaching 0 is worse."
   ]
  },
  {
   "cell_type": "markdown",
   "metadata": {},
   "source": [
    "<a href=\"#top\">Back to Top</a>\n",
    "<a id=\"Imports\"></a>\n",
    "# Training and Testing Splits\n",
    "<b>10 points</b>\n",
    "\n",
    "<i>\n",
    "<b>Description:</b><br/>\n",
    "Choose the method you will use for dividing your data into training and testing splits (i.e., are you using Stratified 10-fold cross validation? Why?). Explain why your chosen method is appropriate or use more than one method as appropriate. For example, if you are using time series data then you should be using continuous training and testing sets across time.\n",
    "</i>"
   ]
  },
  {
   "cell_type": "markdown",
   "metadata": {
    "collapsed": true
   },
   "source": [
    "# TODO build chart of train size while accuracy continues to increase\n",
    "\n",
    "We have a large dataset so 10 fold cross validation may take too long.  Because of this, we will be splitting our dataset into 80% train and 20% test."
   ]
  },
  {
   "cell_type": "code",
   "execution_count": 14,
   "metadata": {},
   "outputs": [
    {
     "data": {
      "text/plain": [
       "<matplotlib.axes._subplots.AxesSubplot at 0x1119132b0>"
      ]
     },
     "execution_count": 14,
     "metadata": {},
     "output_type": "execute_result"
    },
    {
     "data": {
      "image/png": "[encoded data removed]",
      "text/plain": [
       "<matplotlib.figure.Figure at 0x10edab7b8>"
      ]
     },
     "metadata": {},
     "output_type": "display_data"
    }
   ],
   "source": [
    "from sklearn.neighbors import KNeighborsClassifier\n",
    "from sklearn.ensemble import RandomForestClassifier\n",
    "from sklearn import metrics as mt\n",
    "\n",
    "X = dataset_class['X']\n",
    "y = dataset_class['y']\n",
    "X, X_test, y, y_test = train_test_split(X, y, test_size=.1, random_state=0)\n",
    "\n",
    "result = []\n",
    "\n",
    "# uniform distribution values between 0 and 1\n",
    "mask = np.random.rand(len(X))\n",
    "\n",
    "for frac in np.linspace(.01, 1, 20):\n",
    "    mask_frac = mask<=frac\n",
    "    X_frac = X[mask_frac]\n",
    "    y_frac = y[mask_frac]\n",
    "    \n",
    "    clf = RandomForestClassifier()\n",
    "    clf.fit(X_frac, y_frac)\n",
    "    y_hat = clf.predict(X_test)\n",
    "    \n",
    "    result.append({\n",
    "        'accuracy': mt.accuracy_score(y_test, y_hat),\n",
    "        'count': len(X_frac),\n",
    "        'frac': frac\n",
    "    })\n",
    "\n",
    "pd.DataFrame(result).plot('count', 'accuracy')"
   ]
  },
  {
   "cell_type": "markdown",
   "metadata": {},
   "source": [
    "<a href=\"#top\">Back to Top</a>\n",
    "<a id=\"Models\"></a>\n",
    "# Three Different Classification/Regression Models\n",
    "<b>20 points</b>\n",
    "\n",
    "<i>\n",
    "<b>Description:</b><br/>\n",
    "Create three different classification/regression models for each task (e.g., random forest, KNN, and SVM for task one and the same or different algorithms for task two). Two modeling techniques must be new (but the third could be SVM or logistic regression). Adjust parameters as appropriate to increase generalization performance using your chosen metric. You must investigate different parameters of the algorithms!\n",
    "</i>"
   ]
  },
  {
   "cell_type": "markdown",
   "metadata": {},
   "source": [
    "## Kaitlin - 3 classification models"
   ]
  },
  {
   "cell_type": "code",
   "execution_count": 15,
   "metadata": {},
   "outputs": [],
   "source": [
    "# Code for train test split\n",
    "# Start with 80/20 split.  Keep same test and train for each classification model for now\n",
    "X = dataset_class['X']\n",
    "y = dataset_class['y']\n",
    "X_train, X_test, y_train, y_test = train_test_split(X, y, test_size=.2, random_state=0)\n"
   ]
  },
  {
   "cell_type": "markdown",
   "metadata": {},
   "source": [
    "# Dummy model\n",
    "This model is only predicting the most frequent class. It is used for a base line."
   ]
  },
  {
   "cell_type": "code",
   "execution_count": 17,
   "metadata": {},
   "outputs": [
    {
     "name": "stdout",
     "output_type": "stream",
     "text": [
      "Dummy Accuracy 0.608790606452\n",
      "Dummy Precision 0.202930202151\n",
      "Dummy Recall 0.333333333333\n",
      "Dummy F-measure 0.252276711881\n"
     ]
    },
    {
     "name": "stderr",
     "output_type": "stream",
     "text": [
      "/usr/local/lib/python3.6/site-packages/sklearn/metrics/classification.py:1135: UndefinedMetricWarning: Precision and F-score are ill-defined and being set to 0.0 in labels with no predicted samples.\n",
      "  'precision', 'predicted', average, warn_for)\n"
     ]
    },
    {
     "data": {
      "image/png": "[encoded data removed]",
      "text/plain": [
       "<matplotlib.figure.Figure at 0x111938550>"
      ]
     },
     "metadata": {},
     "output_type": "display_data"
    }
   ],
   "source": [
    "print_accuracy('Dummy', y, [3101] * len(y))"
   ]
  },
  {
   "cell_type": "markdown",
   "metadata": {},
   "source": [
    "# KNN"
   ]
  },
  {
   "cell_type": "code",
   "execution_count": null,
   "metadata": {},
   "outputs": [
    {
     "name": "stdout",
     "output_type": "stream",
     "text": [
      "KNN 1 Accuracy 0.470945917013\n",
      "KNN 1 Precision 0.331837125444\n",
      "KNN 1 Recall 0.331860609488\n",
      "KNN 1 F-measure 0.331846240291\n"
     ]
    },
    {
     "data": {
      "image/png": "[encoded data removed]",
      "text/plain": [
       "<matplotlib.figure.Figure at 0x10f5964a8>"
      ]
     },
     "metadata": {},
     "output_type": "display_data"
    },
    {
     "name": "stdout",
     "output_type": "stream",
     "text": [
      "KNN 2 Accuracy 0.386331520576\n",
      "KNN 2 Precision 0.328193492867\n",
      "KNN 2 Recall 0.328525137897\n",
      "KNN 2 F-measure 0.308679838477\n"
     ]
    },
    {
     "data": {
      "image/png": "[encoded data removed]",
      "text/plain": [
       "<matplotlib.figure.Figure at 0x10f699fd0>"
      ]
     },
     "metadata": {},
     "output_type": "display_data"
    },
    {
     "name": "stdout",
     "output_type": "stream",
     "text": [
      "KNN 3 Accuracy 0.496039052798\n",
      "KNN 3 Precision 0.324481757066\n",
      "KNN 3 Recall 0.329430348393\n",
      "KNN 3 F-measure 0.321432705468\n"
     ]
    },
    {
     "data": {
      "image/png": "[encoded data removed]",
      "text/plain": [
       "<matplotlib.figure.Figure at 0x10f4d9d68>"
      ]
     },
     "metadata": {},
     "output_type": "display_data"
    }
   ],
   "source": [
    "from sklearn.neighbors import KNeighborsClassifier\n",
    "\n",
    "for k in range(1,5):\n",
    "    # instantiate learning model (k = 3)\n",
    "    knn = KNeighborsClassifier(n_neighbors=k)\n",
    "    # fitting the model\n",
    "    knn.fit(X_train, y_train)\n",
    "    # predict the response\n",
    "    yhat = knn.predict(X_test)\n",
    "    # evaluate accuracy\n",
    "    model_name = \"KNN \" + str(k)\n",
    "    print_accuracy(model_name, y_test, yhat)"
   ]
  },
  {
   "cell_type": "code",
   "execution_count": null,
   "metadata": {},
   "outputs": [],
   "source": [
    "# Random forest\n",
    "from sklearn.ensemble import RandomForestClassifier\n",
    "\n",
    "for d in np.linspace(10, 50, 10):\n",
    "    # instantiate learning model\n",
    "    rf = RandomForestClassifier(max_depth=d)\n",
    "    # fitting the model\n",
    "    rf.fit(X_train, y_train)\n",
    "    # predict the response\n",
    "    yhat = rf.predict(X_test)\n",
    "    # evaluate accuracy\n",
    "    print_accuracy(\"Random Forest\" + str(d), y_test, yhat)"
   ]
  },
  {
   "cell_type": "code",
   "execution_count": 42,
   "metadata": {
    "scrolled": false
   },
   "outputs": [
    {
     "name": "stdout",
     "output_type": "stream",
     "text": [
      "Random Forest Feature ranking:\n",
      "1. feature 15 (0.133937)\n",
      "2. feature 11 (0.094328)\n",
      "3. feature 85 (0.087070)\n",
      "4. feature 29 (0.064377)\n",
      "5. feature 10 (0.051271)\n"
     ]
    },
    {
     "data": {
      "image/png": "[encoded data removed]",
      "text/plain": [
       "<matplotlib.figure.Figure at 0x1158da940>"
      ]
     },
     "metadata": {},
     "output_type": "display_data"
    }
   ],
   "source": [
    "# Feature importance of Random Forest\n",
    "importances = rf.feature_importances_\n",
    "std = np.std([tree.feature_importances_ for tree in rf.estimators_], axis=0)\n",
    "indices = np.argsort(importances)[::-1]\n",
    "\n",
    "# Print the feature ranking\n",
    "print(\"Random Forest Feature ranking:\")\n",
    "for f in range(X.shape[1]):\n",
    "    if importances[indices[f]] > 0.05:\n",
    "        print(\"%d. feature %d (%f)\" % (f + 1, indices[f], importances[indices[f]]))\n",
    "\n",
    "# Plot the feature importances of the forest\n",
    "plt.figure(figsize=(8,8))\n",
    "plt.title(\"Random Forest Feature importances\")\n",
    "plt.bar(range(X_train.shape[1]), importances[indices], color=\"r\", yerr=std[indices], align=\"center\")\n",
    "feature_names = X.columns\n",
    "plt.xticks(range(10), feature_names)\n",
    "plt.xticks(rotation=90)\n",
    "plt.xlim([-1, 10])\n",
    "plt.show()"
   ]
  },
  {
   "cell_type": "code",
   "execution_count": 14,
   "metadata": {},
   "outputs": [
    {
     "name": "stdout",
     "output_type": "stream",
     "text": [
      "Gaussian Naive Bayes Accuracy 0.786793987924\n",
      "Gaussian Naive Bayes Precision 0.858537323566\n",
      "Gaussian Naive Bayes Recall 0.713529083196\n",
      "Gaussian Naive Bayes F-measure 0.727686656097\n"
     ]
    },
    {
     "data": {
      "image/png": "[encoded data removed]",
      "text/plain": [
       "<matplotlib.figure.Figure at 0x10dfafd68>"
      ]
     },
     "metadata": {},
     "output_type": "display_data"
    }
   ],
   "source": [
    "# Naive Bayes\n",
    "from sklearn.naive_bayes import GaussianNB\n",
    "\n",
    "# instantiate learning model\n",
    "gnb = GaussianNB()\n",
    "\n",
    "# fitting the model\n",
    "gnb.fit(X_train, y_train)\n",
    "\n",
    "# predict the response\n",
    "yhat = gnb.predict(X_test)\n",
    "\n",
    "# evaluate accuracy\n",
    "print_accuracy(\"Gaussian Naive Bayes\", y_test, yhat)"
   ]
  },
  {
   "cell_type": "markdown",
   "metadata": {},
   "source": [
    "<a href=\"#top\">Back to Top</a>\n",
    "<a id=\"Analysis\"></a>\n",
    "# Visualizations of Results and Analysis\n",
    "<b>10 points</b>\n",
    "\n",
    "<i>\n",
    "<b>Description:</b><br/>\n",
    "Analyze the results using your chosen method of evaluation. Use visualizations of the results to bolster the analysis. Explain any visuals and analyze why they are interesting to someone that might use this model.\n",
    "</i>"
   ]
  },
  {
   "cell_type": "code",
   "execution_count": null,
   "metadata": {
    "collapsed": true
   },
   "outputs": [],
   "source": []
  },
  {
   "cell_type": "markdown",
   "metadata": {},
   "source": [
    "<a href=\"#top\">Back to Top</a>\n",
    "<a id=\"Advantages\"></a>\n",
    "# Advantages of Each Model\n",
    "<b>10 points</b>\n",
    "\n",
    "<i>\n",
    "<b>Description:</b><br/>\n",
    "Discuss the advantages of each model for each classification task, if any. If there are not advantages, explain why. Is any model better than another? Is the difference significant with 95% confidence? Use proper statistical comparison methods. You must use statistical comparison techniques—be sure they are appropriate for your chosen method of validation as discussed in unit 7 of the course.\n",
    "</i>"
   ]
  },
  {
   "cell_type": "code",
   "execution_count": null,
   "metadata": {
    "collapsed": true
   },
   "outputs": [],
   "source": []
  },
  {
   "cell_type": "markdown",
   "metadata": {},
   "source": [
    "<a href=\"#top\">Back to Top</a>\n",
    "<a id=\"Attributes\"></a>\n",
    "# Important Attributes\n",
    "<b>10 points</b>\n",
    "\n",
    "<i>\n",
    "<b>Description:</b><br/>\n",
    "Which attributes from your analysis are most important? Use proper methods discussed in class to evaluate the importance of different attributes. Discuss the results and hypothesize about why certain attributes are more important than others for a given classification task.\n",
    "</i>"
   ]
  },
  {
   "cell_type": "code",
   "execution_count": null,
   "metadata": {
    "collapsed": true
   },
   "outputs": [],
   "source": []
  },
  {
   "cell_type": "markdown",
   "metadata": {},
   "source": [
    "<a href=\"#top\">Back to Top</a>\n",
    "<a id=\"Deployment\"></a>\n",
    "# Deployment\n",
    "<b>5 points</b>\n",
    "\n",
    "<i>\n",
    "<b>Description:</b><br/>\n",
    "How useful is your model for interested parties (i.e., the companies or organizations that might want to use it for prediction)? How would you measure the model's value if it was used by these parties? How would your deploy your model for interested parties? What other data should be collected? How often would the model need to be updated, etc.?\n",
    "</i>"
   ]
  },
  {
   "cell_type": "code",
   "execution_count": null,
   "metadata": {
    "collapsed": true
   },
   "outputs": [],
   "source": []
  },
  {
   "cell_type": "markdown",
   "metadata": {},
   "source": [
    "<a href=\"#top\">Back to Top</a>\n",
    "<a id=\"Exceptional\"></a>\n",
    "# Exceptional Work\n",
    "<b>10 points</b>\n",
    "\n",
    "<i>\n",
    "<b>Description:</b><br/>\n",
    "You have free reign to provide additional analyses. One idea: grid search parameters in a parallelized fashion and visualize the\n",
    "performances across attributes. Which parameters are most significant for making a good model for each classification algorithm?\n",
    "</i>"
   ]
  },
  {
   "cell_type": "code",
   "execution_count": null,
   "metadata": {
    "collapsed": true
   },
   "outputs": [],
   "source": []
  },
  {
   "cell_type": "markdown",
   "metadata": {},
   "source": [
    "<a href=\"#top\">Back to Top</a>\n",
    "<a id=\"References\"></a>\n",
    "# References:\n",
    "\n",
    "- Kernels from Kaggle competition: https://www.kaggle.com/c/zillow-prize-1/kernels\n",
    "- Scikitlearn logistic regression: http://scikit-learn.org/stable/modules/generated/sklearn.linear_model.LogisticRegression.html\n",
    "- Scikitlearn linear SVC: http://scikit-learn.org/stable/modules/generated/sklearn.svm.LinearSVC.html\n",
    "- Stackoverflow pandas questions: https://stackoverflow.com/questions/tagged/pandas"
   ]
  },
  {
   "cell_type": "code",
   "execution_count": null,
   "metadata": {
    "collapsed": true
   },
   "outputs": [],
   "source": []
  }
 ],
 "metadata": {
  "kernelspec": {
   "display_name": "Python 3",
   "language": "python",
   "name": "python3"
  },
  "language_info": {
   "codemirror_mode": {
    "name": "ipython",
    "version": 3
   },
   "file_extension": ".py",
   "mimetype": "text/x-python",
   "name": "python",
   "nbconvert_exporter": "python",
   "pygments_lexer": "ipython3",
   "version": "3.6.2"
  }
 },
 "nbformat": 4,
 "nbformat_minor": 1
}
