{
 "cells": [
  {
   "cell_type": "markdown",
   "metadata": {
    "deletable": true,
    "editable": true
   },
   "source": [
    "# FYI directions, delete later\n",
    "\n",
    "You are to build upon the predictive analysis (classification) that you already completed in the previous mini-project, adding additional modeling from new classification algorithms as well as more explanations that are inline with the CRISP-DM framework. You should use appropriate cross validation for all of your analysis (explain your chosen method of performance validation in detail). Try to use as much testing data as possible in a realistic manner (you should define what you think\n",
    "is realistic and why). \n",
    "\n",
    "This report is worth 20% of the final grade. Please upload a report (one per team) with all code used, visualizations, and text in a single document. The format of the document can be PDF, *.ipynb, or HTML. You can write the report in whatever format you like, but it is easiest to turn in the rendered Jupyter notebook. The results should be reproducible using your report. Please carefully describe every assumption and every step in your report.\n",
    "\n",
    "Dataset Selection\n",
    "\n",
    "Select a dataset identically to the way you selected for the first project work week and mini-project.\n",
    "You are not required to use the same dataset that you used in the past, but you are encouraged.\n",
    "You must identify two tasks from the dataset to regress or classify. That is:\n",
    "\n",
    "* two classification tasks OR\n",
    "* two regression tasks OR\n",
    "* one classification task and one regression task\n",
    "\n",
    "For example, if your dataset was from the diabetes data you might try to predict two tasks: (1)\n",
    "classifying if a patient will be readmitted within a 30 day period or not, and (2) regressing what the\n",
    "total number of days a patient will spend in the hospital, given their history and specifics of the\n",
    "encounter like tests administered and previous admittance."
   ]
  },
  {
   "cell_type": "markdown",
   "metadata": {
    "deletable": true,
    "editable": true
   },
   "source": [
    "# Lab 2: Zillow Dataset Classification \n",
    "MSDS 7331 Data Mining - Section 403 - Lab 2\n",
    "\n",
    "Team: Ivelin Angelov, Yao Yao, Kaitlin Kirasich, Albert Asuncion\n",
    "\n",
    "<a id=\"top\"></a>\n",
    "## Contents\n",
    "* <a href=\"#Imports\">Imports</a>\n",
    "* <a href=\"#Define\">Define and Prepare Class Variables</a>\n",
    "* <a href=\"#Describe\">Describe the Final Dataset</a>\n",
    "* <a href=\"#Evaluation\">Explain Evaluation Metrics</a>\n",
    "* <a href=\"#Splits\">Training and Testing Splits</a>\n",
    "* <a href=\"#Models\">Three Different Classification/Regression Models</a>\n",
    "* <a href=\"#Analysis\">Visualizations of Results and Analysis</a>\n",
    "* <a href=\"#Advantages\">Advantages of Each Model</a>\n",
    "* <a href=\"#Attributes\">Important Attributes</a>\n",
    "* <a href=\"#Deployment\">Deployment</a>\n",
    "* <a href=\"#Exceptional\">Exceptional Work</a>\n",
    "* <a href=\"#References\">References</a>\n",
    "________________________________________________________________________________________________________\n",
    "<a id=\"Imports\"></a>\n",
    "# Imports & Utils"
   ]
  },
  {
   "cell_type": "code",
   "execution_count": 1,
   "metadata": {
    "collapsed": true,
    "deletable": true,
    "editable": true
   },
   "outputs": [],
   "source": [
    "%matplotlib inline\n",
    "import numpy as np\n",
    "import pandas as pd\n",
    "import matplotlib.pyplot as plt\n",
    "import seaborn as sns\n",
    "from IPython.display import display, HTML\n",
    "from sklearn.model_selection import train_test_split\n",
    "from sklearn import metrics as mt\n",
    "\n",
    "def output_variables_table(variables):\n",
    "    variables = variables.sort_index()\n",
    "    rows = ['<tr><th>Variable</th><th>Type</th><th>Scale</th><th>Description</th></tr>']\n",
    "    for vname, atts in variables.iterrows():\n",
    "        if vname not in dataset.columns:\n",
    "            continue\n",
    "        atts = atts.to_dict()\n",
    "        # add scale if TBD\n",
    "        if atts['scale'] == 'TBD':\n",
    "            if atts['type'] in ['nominal', 'ordinal']:\n",
    "                uniques = dataset[vname].unique()\n",
    "                uniques = list(uniques.astype(str))\n",
    "                if len(uniques) < 10:\n",
    "                    atts['scale'] = '[%s]' % ', '.join(uniques)\n",
    "                else:\n",
    "                    atts['scale'] = '[%s]' % (', '.join(uniques[:5]) + ', ... (%d More)' % len(uniques))\n",
    "            if atts['type'] in ['ratio', 'interval']:\n",
    "                atts['scale'] = '(%d, %d)' % (dataset[vname].min(), dataset[vname].max())\n",
    "        row = (vname, atts['type'], atts['scale'], atts['description'])\n",
    "        rows.append('<tr><td>%s</td><td>%s</td><td>%s</td><td>%s</td></tr>' % row)\n",
    "    return HTML('<table>%s</table>' % ''.join(rows))\n",
    "\n",
    "\n",
    "# Define an accuracy plot\n",
    "def per_class_accuracy(ytrue,yhat):\n",
    "    conf = mt.confusion_matrix(ytrue,yhat)\n",
    "    norm_conf = conf.astype('float') / conf.sum(axis=1)[:, np.newaxis]\n",
    "    return np.diag(norm_conf)\n",
    "\n",
    "def plot_class_acc(ytrue, yhat, title=''):\n",
    "    acc_list = per_class_accuracy(ytrue,yhat)\n",
    "    plt.bar(range(len(acc_list)), acc_list)\n",
    "    plt.xlabel('Class value (one per face)')\n",
    "    plt.ylabel('Accuracy within class')\n",
    "    plt.title(title+\", Total Acc=%.1f\"%(100*mt.accuracy_score(ytrue,yhat)))\n",
    "    plt.grid()\n",
    "    plt.ylim([0,1])\n",
    "    plt.show()\n",
    "    \n",
    "# Plot the feature importances of the forest\n",
    "def plot_feature_importance(ytrue,yhat,rt, title=''):\n",
    "    importances = rt.feature_importances_\n",
    "    std = np.std([tree.feature_importances_ for tree in rt.estimators_],\n",
    "             axis=0)\n",
    "    indices = np.argsort(importances)[::-1]\n",
    "    for f in range(X.shape[1]):\n",
    "        print(\"%d. feature %d (%f)\" % (f + 1, indices[f], importances[indices[f]]))\n",
    "    plt.figure()\n",
    "    plt.title(\"Feature importances\")\n",
    "    plt.bar(range(X.shape[1]), importances[indices],\n",
    "       color=\"r\", yerr=std[indices], align=\"center\")\n",
    "    plt.xticks(range(X.shape[1]), indices)\n",
    "    plt.xlim([-1, X.shape[1]])\n",
    "    plt.show()\n",
    "    \n",
    "def print_accuracy(model_name, y_test, yhat):\n",
    "    print('----------------- %s Evaluation -----------------' % model_name)\n",
    "    print(' Accuracy', mt.accuracy_score(y_test, yhat))\n",
    "    prf = mt.precision_recall_fscore_support(y_test, yhat, average='macro')\n",
    "    print(' Precision', prf[0])\n",
    "    print(' Recall', prf[1])\n",
    "    print(' F-measure', prf[2])\n",
    "    plot_class_acc(y_test, yhat, title=model_name + \" Raw\")\n",
    "    \n",
    "def confusion_matrix(ytrue, yhat, classes):\n",
    "    index = pd.MultiIndex.from_product([['True Class'], classes])\n",
    "    columns = pd.MultiIndex.from_product([['Predicted Class'], classes])\n",
    "    return pd.DataFrame(mt.confusion_matrix(y, yhat), index=index, columns=columns)\n",
    "    \n",
    "def get_dataset_subset(dataset, n=1000):\n",
    "    return {\n",
    "        'X': dataset['X'].iloc[:n],\n",
    "        'y': dataset['y'].iloc[:n]\n",
    "    }"
   ]
  },
  {
   "cell_type": "markdown",
   "metadata": {
    "deletable": true,
    "editable": true
   },
   "source": [
    "<a href=\"#top\">Back to Top</a>\n",
    "<a id=\"Define\"></a>\n",
    "# Define and Prepare Class Variables\n",
    "<b>10 points</b>\n",
    "\n",
    "<i>\n",
    "<b>Description:</b><br/>\n",
    "Define and prepare your class variables. Use proper variable representations (int, float, one-hot, etc.). Use pre-processing methods (as needed) for dimensionality reduction, scaling, etc. Remove variables that are not needed/useful for the analysis.\n",
    "</i>"
   ]
  },
  {
   "cell_type": "markdown",
   "metadata": {
    "deletable": true,
    "editable": true
   },
   "source": [
    "## Classification Dataset"
   ]
  },
  {
   "cell_type": "code",
   "execution_count": 2,
   "metadata": {
    "collapsed": false,
    "deletable": true,
    "editable": true
   },
   "outputs": [
    {
     "name": "stdout",
     "output_type": "stream",
     "text": [
      "regionidcounty\n",
      "1286    35417\n",
      "2061    10261\n",
      "3101    71083\n",
      "Name: regionidcounty, dtype: int64\n"
     ]
    },
    {
     "data": {
      "text/html": [
       "<table><tr><th>Variable</th><th>Type</th><th>Scale</th><th>Description</th></tr><tr><td>airconditioningtypeid</td><td>nominal</td><td>[0, 1, 5, 13, 11, 9, 3]</td><td>Type of cooling system present in the home (if any)</td></tr><tr><td>assessmentyear</td><td>interval</td><td>(2015, 2015)</td><td>The year of the property tax assessment</td></tr><tr><td>bathroomcnt</td><td>ordinal</td><td>[2.5, 1.0, 2.0, 1.5, 3.0, ... (23 More)]</td><td>Number of bathrooms in home including fractional bathrooms</td></tr><tr><td>bedroomcnt</td><td>ordinal</td><td>[3, 2, 4, 5, 6, ... (17 More)]</td><td>Number of bedrooms in home</td></tr><tr><td>buildingqualitytypeid</td><td>ordinal</td><td>[7, 4, 10, 1, 8, 12, 6, 11]</td><td>Overall assessment of condition of the building from best (lowest) to worst (highest)</td></tr><tr><td>calculatedbathnbr</td><td>ordinal</td><td>[2.5, 1.0, 2.0, 1.5, 3.0, ... (23 More)]</td><td>Number of bathrooms in home including fractional bathroom</td></tr><tr><td>calculatedfinishedsquarefeet</td><td>ratio</td><td>(0, 10925)</td><td>Calculated total finished living area of the home</td></tr><tr><td>censustractandblock</td><td>nominal</td><td>[61110023618600.0, 61110015230000.0, 61110006841300.0, 61110052978700.0, 61110040395800.0, ... (445 More)]</td><td>Census tract and block ID combined - also contains blockgroup assignment by extension</td></tr><tr><td>finishedsquarefeet12</td><td>ratio</td><td>(0, 6615)</td><td>Finished living area</td></tr><tr><td>finishedsquarefeet50</td><td>ratio</td><td>(0, 8352)</td><td>Size of the finished living area on the first (entry) floor of the home</td></tr><tr><td>fips</td><td>nominal</td><td>[6111, 6037, 6059]</td><td>Federal Information Processing Standard code - see https://en.wikipedia.org/wiki/FIPS_county_code for more details</td></tr><tr><td>fireplacecnt</td><td>ordinal</td><td>[0, 1, 2, 3, 4, 5]</td><td>Number of fireplaces in a home (if any)</td></tr><tr><td>fullbathcnt</td><td>ordinal</td><td>[2.0, 1.0, 3.0, 7.0, 5.0, ... (19 More)]</td><td>Number of full bathrooms (sink, shower + bathtub, and toilet) present in home</td></tr><tr><td>garagecarcnt</td><td>ordinal</td><td>[2.0, 1.0, 3.0, 0.0, 4.0, ... (15 More)]</td><td>Total number of garages on the lot including an attached garage</td></tr><tr><td>garagetotalsqft</td><td>ratio</td><td>(0, 1610)</td><td>Total number of square feet of all garages on lot including an attached garage</td></tr><tr><td>hashottuborspa</td><td>ordinal</td><td>[0, 1]</td><td>Does the home have a hot tub or spa</td></tr><tr><td>heatingorsystemtypeid</td><td>nominal</td><td>[0, 2, 7, 6, 24, ... (13 More)]</td><td>Type of home heating system</td></tr><tr><td>landtaxvaluedollarcnt</td><td>ratio</td><td>(22, 2477536)</td><td>The assessed value of the land area of the parcel</td></tr><tr><td>location_type</td><td>nominal</td><td>[nan, PRIMARY, ACCEPTABLE, NOT ACCEPTABLE]</td><td>Primary, Acceptable, Not Acceptable</td></tr><tr><td>lotsizesquarefeet</td><td>ratio</td><td>(0, 1710750)</td><td>Area of the lot in square feet</td></tr><tr><td>numberofstories</td><td>ordinal</td><td>[2, 1, 3, 4]</td><td>Number of stories or levels the home has</td></tr><tr><td>parcelid</td><td>nominal</td><td>[17073783, 17088994, 17100444, 17102429, 17109604, ... (90150 More)]</td><td>Unique identifier for parcels (lots)</td></tr><tr><td>poolcnt</td><td>ordinal</td><td>[0.0, 1.0]</td><td>Number of pools on the lot (if any)</td></tr><tr><td>poolsizesum</td><td>ratio</td><td>(0, 1476)</td><td>Total square footage of all pools on property</td></tr><tr><td>pooltypeid10</td><td>nominal</td><td>[0, 1]</td><td>Spa or Hot Tub</td></tr><tr><td>pooltypeid2</td><td>nominal</td><td>[0, 1]</td><td>Pool with Spa/Hot Tub</td></tr><tr><td>pooltypeid7</td><td>nominal</td><td>[0, 1]</td><td>Pool without hot tub</td></tr><tr><td>propertycountylandusecode</td><td>nominal</td><td>[1128, 1129, 1111, 1110, 010C, ... (77 More)]</td><td>County land use code i.e. it's zoning at the county level</td></tr><tr><td>propertylandusetypeid</td><td>nominal</td><td>[265, 266, 261, 269, 246, ... (14 More)]</td><td>Type of land use the property is zoned for</td></tr><tr><td>propertyzoningdesc</td><td>nominal</td><td>[0, LARD3, LARS, LARE11, LCA21*, ... (1997 More)]</td><td>Description of the allowed land uses (zoning) for that property</td></tr><tr><td>roomcnt</td><td>ordinal</td><td>[5, 4, 8, 6, 9, ... (16 More)]</td><td>Total number of rooms in the principal residence</td></tr><tr><td>structuretaxvaluedollarcnt</td><td>ratio</td><td>(100, 2181198)</td><td>The assessed value of the built structure on the parcel</td></tr><tr><td>taxamount</td><td>ratio</td><td>(49, 51292)</td><td>The total property tax assessed for that assessment year</td></tr><tr><td>taxdelinquencyflag</td><td>nominal</td><td>[0, 1]</td><td>Property taxes for this parcel are past due as of 2015</td></tr><tr><td>taxdelinquencyyear</td><td>interval</td><td>(0, 26)</td><td>Year</td></tr><tr><td>taxvaluedollarcnt</td><td>ratio</td><td>(22, 4052186)</td><td>The total tax assessed value of the parcel</td></tr><tr><td>threequarterbathnbr</td><td>ordinal</td><td>[1, 0, 2, 4, 3]</td><td>Number of 3/4 bathrooms in house (shower + sink + toilet)</td></tr><tr><td>unitcnt</td><td>ordinal</td><td>[1, 2, 4, 3, 9, 13, 5, 6, 11]</td><td>Number of units the structure is built into (i.e. 2 = duplex, 3 = triplex, etc...)</td></tr><tr><td>yardbuildingsqft17</td><td>interval</td><td>(0, 1485)</td><td>Patio in yard</td></tr><tr><td>yardbuildingsqft26</td><td>interval</td><td>(0, 1366)</td><td>Storage shed/building in yard</td></tr><tr><td>yearbuilt</td><td>interval</td><td>(1885, 2015)</td><td>The Year the principal residence was built</td></tr><tr><td>zipcode_type</td><td>nominal</td><td>[nan, STANDARD, PO BOX, MILITARY, UNIQUE]</td><td>Standard, PO BOX Only, Unique, Military(implies APO or FPO)</td></tr></table>"
      ],
      "text/plain": [
       "<IPython.core.display.HTML object>"
      ]
     },
     "execution_count": 2,
     "metadata": {},
     "output_type": "execute_result"
    }
   ],
   "source": [
    "variables = pd.read_csv('../../datasets/variables.csv').set_index('name')\n",
    "dataset = pd.read_csv('../../datasets/train.csv', low_memory=False)\n",
    "\n",
    "# remove unneeded variables\n",
    "del dataset['logerror']\n",
    "del dataset['transactiondate']\n",
    "del dataset['city']\n",
    "del dataset['price_per_sqft']\n",
    "\n",
    "\n",
    "# delete all location information because we want to predict the couty\n",
    "# and those feature will give it up to easy\n",
    "y = dataset['regionidcounty'].copy()\n",
    "del dataset['regionidcounty']\n",
    "del dataset['regionidcity']\n",
    "del dataset['regionidzip']\n",
    "del dataset['regionidneighborhood']\n",
    "del dataset['rawcensustractandblock']\n",
    "del dataset['latitude']\n",
    "del dataset['longitude']\n",
    "\n",
    "output_variables = output_variables_table(variables)\n",
    "\n",
    "nominal = variables[variables['type'].isin(['nominal'])]\n",
    "nominal = nominal[nominal.index.isin(dataset.columns)]\n",
    "continuous = variables[~variables['type'].isin(['nominal'])]\n",
    "continuous = continuous[continuous.index.isin(dataset.columns)]\n",
    "\n",
    "nominal_data = dataset[nominal.index]\n",
    "nominal_data = pd.get_dummies(nominal_data, drop_first=True)\n",
    "nominal_data = nominal_data[nominal_data.columns[~nominal_data.columns.isin(nominal.index)]]\n",
    "\n",
    "continuous_data = dataset[continuous.index]\n",
    "\n",
    "dataset = pd.concat([continuous_data, nominal_data], axis=1)\n",
    "\n",
    "columns = dataset.columns\n",
    "variables = variables[variables.index.isin(dataset.columns)]\n",
    "\n",
    "# shuffle the dataset (just in case)\n",
    "dataset = dataset.sample(frac=1)\n",
    "\n",
    "X = dataset\n",
    "dataset_class = {\n",
    "    'X': X,\n",
    "    'y': y\n",
    "}\n",
    "print(y.groupby(y).size())\n",
    "output_variables"
   ]
  },
  {
   "cell_type": "markdown",
   "metadata": {
    "deletable": true,
    "editable": true
   },
   "source": [
    "## Regression Dataset\n",
    "\n",
    "In this dataset we will predict the value of taxamount"
   ]
  },
  {
   "cell_type": "code",
   "execution_count": 3,
   "metadata": {
    "collapsed": false,
    "deletable": true,
    "editable": true
   },
   "outputs": [
    {
     "data": {
      "text/html": [
       "<table><tr><th>Variable</th><th>Type</th><th>Scale</th><th>Description</th></tr><tr><td>airconditioningtypeid</td><td>nominal</td><td>[0, 1, 5, 13, 11, 9, 3]</td><td>Type of cooling system present in the home (if any)</td></tr><tr><td>assessmentyear</td><td>interval</td><td>(2015, 2015)</td><td>The year of the property tax assessment</td></tr><tr><td>bathroomcnt</td><td>ordinal</td><td>[2.5, 1.0, 2.0, 1.5, 3.0, ... (23 More)]</td><td>Number of bathrooms in home including fractional bathrooms</td></tr><tr><td>bedroomcnt</td><td>ordinal</td><td>[3, 2, 4, 5, 6, ... (17 More)]</td><td>Number of bedrooms in home</td></tr><tr><td>buildingqualitytypeid</td><td>ordinal</td><td>[7, 4, 10, 1, 8, 12, 6, 11]</td><td>Overall assessment of condition of the building from best (lowest) to worst (highest)</td></tr><tr><td>calculatedbathnbr</td><td>ordinal</td><td>[2.5, 1.0, 2.0, 1.5, 3.0, ... (23 More)]</td><td>Number of bathrooms in home including fractional bathroom</td></tr><tr><td>calculatedfinishedsquarefeet</td><td>ratio</td><td>(0, 10925)</td><td>Calculated total finished living area of the home</td></tr><tr><td>censustractandblock</td><td>nominal</td><td>[61110023618600.0, 61110015230000.0, 61110006841300.0, 61110052978700.0, 61110040395800.0, ... (445 More)]</td><td>Census tract and block ID combined - also contains blockgroup assignment by extension</td></tr><tr><td>finishedsquarefeet12</td><td>ratio</td><td>(0, 6615)</td><td>Finished living area</td></tr><tr><td>finishedsquarefeet50</td><td>ratio</td><td>(0, 8352)</td><td>Size of the finished living area on the first (entry) floor of the home</td></tr><tr><td>fips</td><td>nominal</td><td>[6111, 6037, 6059]</td><td>Federal Information Processing Standard code - see https://en.wikipedia.org/wiki/FIPS_county_code for more details</td></tr><tr><td>fireplacecnt</td><td>ordinal</td><td>[0, 1, 2, 3, 4, 5]</td><td>Number of fireplaces in a home (if any)</td></tr><tr><td>fullbathcnt</td><td>ordinal</td><td>[2.0, 1.0, 3.0, 7.0, 5.0, ... (19 More)]</td><td>Number of full bathrooms (sink, shower + bathtub, and toilet) present in home</td></tr><tr><td>garagecarcnt</td><td>ordinal</td><td>[2.0, 1.0, 3.0, 0.0, 4.0, ... (15 More)]</td><td>Total number of garages on the lot including an attached garage</td></tr><tr><td>garagetotalsqft</td><td>ratio</td><td>(0, 1610)</td><td>Total number of square feet of all garages on lot including an attached garage</td></tr><tr><td>hashottuborspa</td><td>ordinal</td><td>[0, 1]</td><td>Does the home have a hot tub or spa</td></tr><tr><td>heatingorsystemtypeid</td><td>nominal</td><td>[0, 2, 7, 6, 24, ... (13 More)]</td><td>Type of home heating system</td></tr><tr><td>landtaxvaluedollarcnt</td><td>ratio</td><td>(22, 2477536)</td><td>The assessed value of the land area of the parcel</td></tr><tr><td>latitude</td><td>interval</td><td>(33339296, 34816008)</td><td>Latitude of the middle of the parcel multiplied by 10e6</td></tr><tr><td>location_type</td><td>nominal</td><td>[nan, PRIMARY, ACCEPTABLE, NOT ACCEPTABLE]</td><td>Primary, Acceptable, Not Acceptable</td></tr><tr><td>longitude</td><td>interval</td><td>(-119447864, -117554928)</td><td>Longitude of the middle of the parcel multiplied by 10e6</td></tr><tr><td>lotsizesquarefeet</td><td>ratio</td><td>(0, 1710750)</td><td>Area of the lot in square feet</td></tr><tr><td>numberofstories</td><td>ordinal</td><td>[2, 1, 3, 4]</td><td>Number of stories or levels the home has</td></tr><tr><td>parcelid</td><td>nominal</td><td>[17073783, 17088994, 17100444, 17102429, 17109604, ... (90150 More)]</td><td>Unique identifier for parcels (lots)</td></tr><tr><td>poolcnt</td><td>ordinal</td><td>[0.0, 1.0]</td><td>Number of pools on the lot (if any)</td></tr><tr><td>poolsizesum</td><td>ratio</td><td>(0, 1476)</td><td>Total square footage of all pools on property</td></tr><tr><td>pooltypeid10</td><td>nominal</td><td>[0, 1]</td><td>Spa or Hot Tub</td></tr><tr><td>pooltypeid2</td><td>nominal</td><td>[0, 1]</td><td>Pool with Spa/Hot Tub</td></tr><tr><td>pooltypeid7</td><td>nominal</td><td>[0, 1]</td><td>Pool without hot tub</td></tr><tr><td>propertycountylandusecode</td><td>nominal</td><td>[1128, 1129, 1111, 1110, 010C, ... (77 More)]</td><td>County land use code i.e. it's zoning at the county level</td></tr><tr><td>propertylandusetypeid</td><td>nominal</td><td>[265, 266, 261, 269, 246, ... (14 More)]</td><td>Type of land use the property is zoned for</td></tr><tr><td>propertyzoningdesc</td><td>nominal</td><td>[0, LARD3, LARS, LARE11, LCA21*, ... (1997 More)]</td><td>Description of the allowed land uses (zoning) for that property</td></tr><tr><td>rawcensustractandblock</td><td>nominal</td><td>[61110022, 61110015, 61110007, 61110008, 61110014, ... (1418 More)]</td><td>Census tract and block ID combined - also contains blockgroup assignment by extension</td></tr><tr><td>regionidcity</td><td>nominal</td><td>[34543, 26965, 51239, 13150, 25974, ... (178 More)]</td><td>City in which the property is located (if any)</td></tr><tr><td>regionidcounty</td><td>nominal</td><td>[2061, 3101, 1286]</td><td>County in which the property is located</td></tr><tr><td>regionidneighborhood</td><td>nominal</td><td>[0, 48570, 268588, 40548, 27987, ... (495 More)]</td><td>Neighborhood in which the property is located</td></tr><tr><td>regionidzip</td><td>nominal</td><td>[97081, 97083, 97113, 97084, 97089, ... (389 More)]</td><td>Zip code in which the property is located</td></tr><tr><td>roomcnt</td><td>ordinal</td><td>[5, 4, 8, 6, 9, ... (16 More)]</td><td>Total number of rooms in the principal residence</td></tr><tr><td>structuretaxvaluedollarcnt</td><td>ratio</td><td>(100, 2181198)</td><td>The assessed value of the built structure on the parcel</td></tr><tr><td>taxamount</td><td>ratio</td><td>(49, 51292)</td><td>The total property tax assessed for that assessment year</td></tr><tr><td>taxdelinquencyflag</td><td>nominal</td><td>[0, 1]</td><td>Property taxes for this parcel are past due as of 2015</td></tr><tr><td>taxdelinquencyyear</td><td>interval</td><td>(0, 26)</td><td>Year</td></tr><tr><td>taxvaluedollarcnt</td><td>ratio</td><td>(22, 4052186)</td><td>The total tax assessed value of the parcel</td></tr><tr><td>threequarterbathnbr</td><td>ordinal</td><td>[1, 0, 2, 4, 3]</td><td>Number of 3/4 bathrooms in house (shower + sink + toilet)</td></tr><tr><td>unitcnt</td><td>ordinal</td><td>[1, 2, 4, 3, 9, 13, 5, 6, 11]</td><td>Number of units the structure is built into (i.e. 2 = duplex, 3 = triplex, etc...)</td></tr><tr><td>yardbuildingsqft17</td><td>interval</td><td>(0, 1485)</td><td>Patio in yard</td></tr><tr><td>yardbuildingsqft26</td><td>interval</td><td>(0, 1366)</td><td>Storage shed/building in yard</td></tr><tr><td>yearbuilt</td><td>interval</td><td>(1885, 2015)</td><td>The Year the principal residence was built</td></tr><tr><td>zipcode_type</td><td>nominal</td><td>[nan, STANDARD, PO BOX, MILITARY, UNIQUE]</td><td>Standard, PO BOX Only, Unique, Military(implies APO or FPO)</td></tr></table>"
      ],
      "text/plain": [
       "<IPython.core.display.HTML object>"
      ]
     },
     "execution_count": 3,
     "metadata": {},
     "output_type": "execute_result"
    },
    {
     "data": {
      "image/png": "[encoded data removed]",
      "text/plain": [
       "<matplotlib.figure.Figure at 0x1108d5d68>"
      ]
     },
     "metadata": {},
     "output_type": "display_data"
    }
   ],
   "source": [
    "variables = pd.read_csv('../../datasets/variables.csv').set_index('name')\n",
    "dataset = pd.read_csv('../../datasets/train.csv', low_memory=False)\n",
    "\n",
    "# remove unneeded variables\n",
    "del dataset['logerror']\n",
    "del dataset['transactiondate']\n",
    "del dataset['city']\n",
    "del dataset['price_per_sqft']\n",
    "\n",
    "output_variables = output_variables_table(variables)\n",
    "\n",
    "nominal = variables[variables['type'].isin(['nominal'])]\n",
    "nominal = nominal[nominal.index.isin(dataset.columns)]\n",
    "continuous = variables[~variables['type'].isin(['nominal'])]\n",
    "continuous = continuous[continuous.index.isin(dataset.columns)]\n",
    "\n",
    "nominal_data = dataset[nominal.index]\n",
    "nominal_data = pd.get_dummies(nominal_data, drop_first=True)\n",
    "nominal_data = nominal_data[nominal_data.columns[~nominal_data.columns.isin(nominal.index)]]\n",
    "\n",
    "continuous_data = dataset[continuous.index]\n",
    "\n",
    "dataset = pd.concat([continuous_data, nominal_data], axis=1)\n",
    "\n",
    "columns = dataset.columns\n",
    "variables = variables[variables.index.isin(dataset.columns)]\n",
    "\n",
    "# shuffle the dataset (just in case)\n",
    "dataset = dataset.sample(frac=1)\n",
    "\n",
    "X = dataset\n",
    "y = X['taxamount'].copy()\n",
    "del X['taxamount']\n",
    "# del X['taxvaluedollarcnt']????\n",
    "\n",
    "dataset_reg = {\n",
    "    'X': X,\n",
    "    'y': y\n",
    "}\n",
    "y.plot(kind='box')\n",
    "output_variables"
   ]
  },
  {
   "cell_type": "code",
   "execution_count": 4,
   "metadata": {
    "collapsed": true,
    "deletable": true,
    "editable": true
   },
   "outputs": [],
   "source": [
    "dataset_class = get_dataset_subset(dataset_class, 1000)\n",
    "dataset_reg = get_dataset_subset(dataset_reg, 5000)"
   ]
  },
  {
   "cell_type": "markdown",
   "metadata": {
    "deletable": true,
    "editable": true
   },
   "source": [
    "<a href=\"#top\">Back to Top</a>\n",
    "<a id=\"Describe\"></a>\n",
    "# Describe the Final Dataset\n",
    "<b>5 points</b>\n",
    "\n",
    "<i>\n",
    "<b>Description:</b><br/>\n",
    "Describe the final dataset that is used for classification/regression (include a description of any newly formed variables you created).\n",
    "</i>"
   ]
  },
  {
   "cell_type": "markdown",
   "metadata": {
    "deletable": true,
    "editable": true
   },
   "source": [
    "<a href=\"#top\">Back to Top</a>\n",
    "<a id=\"Evaluation\"></a>\n",
    "# Explain Evaluation Metrics\n",
    "<b>10 points</b>\n",
    "\n",
    "<i>\n",
    "<b>Description:</b><br/>\n",
    "Choose and explain your evaluation metrics that you will use (i.e., accuracy, precision, recall, F-measure, or any metric we have discussed). Why are the measure(s) appropriate for analyzing the results of your modeling? Give a detailed explanation backing up any assertions.\n",
    "</i>"
   ]
  },
  {
   "cell_type": "markdown",
   "metadata": {
    "collapsed": true,
    "deletable": true,
    "editable": true
   },
   "source": [
    "For our evaluation, we will be taking into account the accuracy and F-measure.  In order to compute the F-measure, we will need the precision and recall.  Because F-measure is a weighted average of these, we think a better F-measure score means the model has a better precision and recall.\n",
    "\n",
    "Accuracy is the ratio of correct predictions to the total number of observations. It is calculated as: (TP+TN) / (TP+FP+FN+TN). The closer accuracy is to 1, the more accurate the model is, with one caveat. For high accuracy to be a reliable indicator, the dataset has to be symmetric, i.e. total false positives are about equal to false negatives. Otherwise, we need to review other parameters as well.\n",
    "\n",
    "Precision is the ratio of correctly predicted positive observations to the total positive observations. It is calculated as: TP / (TP+FP).  \n",
    "\n",
    "Recall is the ratio of correctly predicted positive observations to all actual positives. It is calculated as TP / (TP+FN). The consequences of type 2 errors, predicting a false negative, are not extreme so we think recall is an appropriate measure of completeness.\n",
    "\n",
    "Finally, we will also use F-measure which is essentially a weighted average of the precision and recall into one simple statistic. F-measure This will be a number between 0 and 1 where closer to 1 is better and approaching 0 is worse. It overcomes the limitations of accuracy whenever false positives and false negatives are not about equal or symmetric."
   ]
  },
  {
   "cell_type": "markdown",
   "metadata": {
    "deletable": true,
    "editable": true
   },
   "source": [
    "<a href=\"#top\">Back to Top</a>\n",
    "<a id=\"Imports\"></a>\n",
    "# Training and Testing Splits\n",
    "<b>10 points</b>\n",
    "\n",
    "<i>\n",
    "<b>Description:</b><br/>\n",
    "Choose the method you will use for dividing your data into training and testing splits (i.e., are you using Stratified 10-fold cross validation? Why?). Explain why your chosen method is appropriate or use more than one method as appropriate. For example, if you are using time series data then you should be using continuous training and testing sets across time.\n",
    "</i>"
   ]
  },
  {
   "cell_type": "markdown",
   "metadata": {
    "collapsed": true,
    "deletable": true,
    "editable": true
   },
   "source": [
    "# TODO build chart of train size while accuracy continues to increase\n",
    "\n",
    "We have a large dataset so 10 fold cross validation may take too long.  Because of this, we will be splitting our dataset into 80% train and 20% test."
   ]
  },
  {
   "cell_type": "code",
   "execution_count": 5,
   "metadata": {
    "collapsed": false,
    "deletable": true,
    "editable": true
   },
   "outputs": [
    {
     "data": {
      "text/plain": [
       "<matplotlib.axes._subplots.AxesSubplot at 0x115d447f0>"
      ]
     },
     "execution_count": 5,
     "metadata": {},
     "output_type": "execute_result"
    },
    {
     "data": {
      "image/png": "[encoded data removed]",
      "text/plain": [
       "<matplotlib.figure.Figure at 0x115d31e80>"
      ]
     },
     "metadata": {},
     "output_type": "display_data"
    }
   ],
   "source": [
    "from sklearn.neighbors import KNeighborsClassifier\n",
    "from sklearn.ensemble import RandomForestClassifier\n",
    "from sklearn import metrics as mt\n",
    "\n",
    "X = dataset_class['X']\n",
    "y = dataset_class['y']\n",
    "X, X_test, y, y_test = train_test_split(X, y, test_size=.1, random_state=0)\n",
    "\n",
    "result = []\n",
    "\n",
    "# uniform distribution values between 0 and 1\n",
    "mask = np.random.rand(len(X))\n",
    "\n",
    "for frac in np.linspace(.01, 1, 20):\n",
    "    mask_frac = mask<=frac\n",
    "    X_frac = X[mask_frac]\n",
    "    y_frac = y[mask_frac]\n",
    "\n",
    "    clf = RandomForestClassifier()\n",
    "    clf.fit(X_frac, y_frac)\n",
    "    y_hat = clf.predict(X_test)\n",
    "    \n",
    "    result.append({\n",
    "        'accuracy': mt.accuracy_score(y_test, y_hat),\n",
    "        'count': len(X_frac),\n",
    "        'frac': frac\n",
    "    })\n",
    "\n",
    "pd.DataFrame(result).plot('count', 'accuracy')"
   ]
  },
  {
   "cell_type": "markdown",
   "metadata": {
    "deletable": true,
    "editable": true
   },
   "source": [
    "<a href=\"#top\">Back to Top</a>\n",
    "<a id=\"Models\"></a>\n",
    "# Three Different Classification/Regression Models\n",
    "<b>20 points</b>\n",
    "\n",
    "<i>\n",
    "<b>Description:</b><br/>\n",
    "Create three different classification/regression models for each task (e.g., random forest, KNN, and SVM for task one and the same or different algorithms for task two). Two modeling techniques must be new (but the third could be SVM or logistic regression). Adjust parameters as appropriate to increase generalization performance using your chosen metric. You must investigate different parameters of the algorithms!\n",
    "</i>"
   ]
  },
  {
   "cell_type": "markdown",
   "metadata": {
    "deletable": true,
    "editable": true
   },
   "source": [
    "## Kaitlin - 3 classification models"
   ]
  },
  {
   "cell_type": "markdown",
   "metadata": {
    "deletable": true,
    "editable": true
   },
   "source": [
    "# Dummy model\n",
    "This model is only predicting the most frequent class. It is used for a base line."
   ]
  },
  {
   "cell_type": "code",
   "execution_count": 6,
   "metadata": {
    "collapsed": false,
    "deletable": true,
    "editable": true
   },
   "outputs": [
    {
     "name": "stdout",
     "output_type": "stream",
     "text": [
      "----------------- Dummy Evaluation -----------------\n",
      " Accuracy 0.69\n",
      " Precision 0.23\n",
      " Recall 0.333333333333\n",
      " F-measure 0.272189349112\n"
     ]
    },
    {
     "name": "stderr",
     "output_type": "stream",
     "text": [
      "/usr/local/lib/python3.6/site-packages/sklearn/metrics/classification.py:1135: UndefinedMetricWarning: Precision and F-score are ill-defined and being set to 0.0 in labels with no predicted samples.\n",
      "  'precision', 'predicted', average, warn_for)\n"
     ]
    },
    {
     "data": {
      "image/png": "[encoded data removed]",
      "text/plain": [
       "<matplotlib.figure.Figure at 0x1107eeda0>"
      ]
     },
     "metadata": {},
     "output_type": "display_data"
    }
   ],
   "source": [
    "print_accuracy('Dummy', y, [3101] * len(y))"
   ]
  },
  {
   "cell_type": "markdown",
   "metadata": {
    "deletable": true,
    "editable": true
   },
   "source": [
    "# KNN"
   ]
  },
  {
   "cell_type": "code",
   "execution_count": 23,
   "metadata": {
    "collapsed": false,
    "deletable": true,
    "editable": true,
    "scrolled": false
   },
   "outputs": [
    {
     "name": "stdout",
     "output_type": "stream",
     "text": [
      "n_neighbors: 15 accuracy: 0.674444444444\n",
      "n_neighbors: 16 accuracy: 0.678888888889\n",
      "n_neighbors: 17 accuracy: 0.681111111111\n",
      "n_neighbors: 18 accuracy: 0.685555555556\n",
      "n_neighbors: 19 accuracy: 0.683333333333\n",
      "n_neighbors: 20 accuracy: 0.684444444444\n",
      "n_neighbors: 21 accuracy: 0.685555555556\n",
      "n_neighbors: 22 accuracy: 0.683333333333\n",
      "n_neighbors: 23 accuracy: 0.685555555556\n",
      "n_neighbors: 24 accuracy: 0.684444444444\n",
      "Accuracy: 0.68 (+/- 0.01)\n",
      "----------------- KNeighborsClassifier Evaluation -----------------\n",
      " Accuracy 0.684444444444\n",
      " Precision 0.229936543486\n",
      " Recall 0.33064949007\n",
      " F-measure 0.271246147072\n"
     ]
    },
    {
     "name": "stderr",
     "output_type": "stream",
     "text": [
      "/usr/local/lib/python3.6/site-packages/sklearn/metrics/classification.py:1135: UndefinedMetricWarning: Precision and F-score are ill-defined and being set to 0.0 in labels with no predicted samples.\n",
      "  'precision', 'predicted', average, warn_for)\n"
     ]
    },
    {
     "data": {
      "image/png": "[encoded data removed]",
      "text/plain": [
       "<matplotlib.figure.Figure at 0x1155a8cc0>"
      ]
     },
     "metadata": {},
     "output_type": "display_data"
    },
    {
     "data": {
      "text/html": [
       "<div>\n",
       "<style>\n",
       "    .dataframe thead tr:only-child th {\n",
       "        text-align: right;\n",
       "    }\n",
       "\n",
       "    .dataframe thead th {\n",
       "        text-align: left;\n",
       "    }\n",
       "\n",
       "    .dataframe tbody tr th {\n",
       "        vertical-align: top;\n",
       "    }\n",
       "</style>\n",
       "<table border=\"1\" class=\"dataframe\">\n",
       "  <thead>\n",
       "    <tr>\n",
       "      <th></th>\n",
       "      <th></th>\n",
       "      <th colspan=\"3\" halign=\"left\">Predicted Class</th>\n",
       "    </tr>\n",
       "    <tr>\n",
       "      <th></th>\n",
       "      <th></th>\n",
       "      <th>1286</th>\n",
       "      <th>2061</th>\n",
       "      <th>3101</th>\n",
       "    </tr>\n",
       "  </thead>\n",
       "  <tbody>\n",
       "    <tr>\n",
       "      <th rowspan=\"3\" valign=\"top\">True Class</th>\n",
       "      <th>1286</th>\n",
       "      <td>0</td>\n",
       "      <td>0</td>\n",
       "      <td>192</td>\n",
       "    </tr>\n",
       "    <tr>\n",
       "      <th>2061</th>\n",
       "      <td>2</td>\n",
       "      <td>0</td>\n",
       "      <td>85</td>\n",
       "    </tr>\n",
       "    <tr>\n",
       "      <th>3101</th>\n",
       "      <td>5</td>\n",
       "      <td>0</td>\n",
       "      <td>616</td>\n",
       "    </tr>\n",
       "  </tbody>\n",
       "</table>\n",
       "</div>"
      ],
      "text/plain": [
       "                Predicted Class          \n",
       "                           1286 2061 3101\n",
       "True Class 1286               0    0  192\n",
       "           2061               2    0   85\n",
       "           3101               5    0  616"
      ]
     },
     "execution_count": 23,
     "metadata": {},
     "output_type": "execute_result"
    }
   ],
   "source": [
    "from sklearn.neighbors import KNeighborsClassifier\n",
    "from sklearn.cross_validation import cross_val_score\n",
    "from sklearn.model_selection import StratifiedKFold\n",
    "\n",
    "result = []\n",
    "scores = []\n",
    "for n_neighbors in range(15, 25):\n",
    "    \n",
    "    yhat = np.zeros(y.shape) # we will fill this with predictions\n",
    "    cv = StratifiedKFold(n_splits=5)\n",
    "    for train_index, test_index in cv.split(X, y):\n",
    "        clf = KNeighborsClassifier(n_neighbors=n_neighbors)\n",
    "        X_train, X_test = X.iloc[train_index], X.iloc[test_index]\n",
    "        y_train, y_test = y.iloc[train_index], y.iloc[test_index]\n",
    "\n",
    "        clf.fit(X_train, y_train)\n",
    "        yhat[test_index] = clf.predict(X_test)\n",
    "\n",
    "    accuracy = mt.accuracy_score(y, yhat)\n",
    "    print ('n_neighbors:', n_neighbors, 'accuracy:', accuracy)\n",
    "    result.append({\n",
    "        'accuracy': accuracy,\n",
    "        'count': len(X_train),\n",
    "        'n_neighbors': n_neighbors\n",
    "    })\n",
    "    scores.append(accuracy)\n",
    "    \n",
    "scores = np.array(scores)\n",
    "print(\"Accuracy: %0.2f (+/- %0.2f)\" % (scores.mean(), scores.std() * 2))\n",
    "\n",
    "print_accuracy('KNeighborsClassifier', y, yhat)\n",
    "confusion_matrix(y, yhat, clf.classes_)\n"
   ]
  },
  {
   "cell_type": "markdown",
   "metadata": {
    "deletable": true,
    "editable": true
   },
   "source": [
    "## Optimizing KNN\n",
    "The first optimization we wanted to run was for the number of neighbors used in KNN.  From 1 to 20 neighbors, the accuracy continued to climb.  However, after 20 neighbors, our accuracy began to decline.  Our accuracy from 15 to 24 neighbors averaged out to about 0.68 (+/- 0.01).\n",
    "\n",
    "Next, we will optimize for uniform vs distance weight functions, values of the power parameter (p), algorithm used to compute the nearest neighbors, and if applicable, leaf size.\n",
    "\n",
    "<b>Weights</b><br>\n",
    "weights='uniform' Accuracy: 0.68 (+/- 0.00)<br>\n",
    "weights='distance' Accuracy: 0.67 (+/- 0.01)<br>\n",
    "Uniform performed slightly better than distance.<br>\n",
    "\n",
    "<b>Algorithm</b><br>\n",
    "algorithm='auto' Accuracy: 0.68 (+/- 0.00)<br>\n",
    "algorithm='ball_tree' Accuracy: 0.68 (+/- 0.00)<br>\n",
    "algorithm='kd_tree' Accuracy: 0.68 (+/- 0.00)<br>\n",
    "algorithm='brute' Accuracy: 0.68 (+/- 0.00)<br>\n",
    "While the accuracy did not change when updating the algorithm, the 'brute' algorithm ran the entire loop in about the amount of time it took for the rest to run one instance.<br>\n",
    "\n",
    "<b>Leaf Size</b><br>\n",
    "We are not using a Ball tree or KD tree so our leaf_size will not effect accuracy.<br>\n",
    "\n",
    "<b>P</b><br>\n",
    "p=1 Accuracy: 0.68 (+/- 0.01)<br>\n",
    "p=2 Accuracy: 0.68 (+/- 0.00)<br>\n",
    "p=3 Accuracy: 0.69 (+/- 0.00)<br>\n",
    "While we did get better results with p = 3, it did take noticably longer to run.  We are curious to see what the run time is like if we combine p=3 and algorithm='brute'.<br>\n",
    "\n",
    "<b>Final Model</b><br>\n",
    "For our final model, we ran KNeighborsClassifier(n_neighbors=20, p = 3, weights='uniform', algorithm='brute') and got the following results: <br>\n",
    " Accuracy 0.687777777778<br>\n",
    " Precision 0.321880219518<br>\n",
    " Recall 0.335857823403<br>\n",
    " F-measure 0.28181689666<br>"
   ]
  },
  {
   "cell_type": "code",
   "execution_count": 34,
   "metadata": {
    "collapsed": false,
    "deletable": true,
    "editable": true
   },
   "outputs": [
    {
     "name": "stdout",
     "output_type": "stream",
     "text": [
      "----------------- KNeighborsClassifier Evaluation -----------------\n",
      " Accuracy 0.687777777778\n",
      " Precision 0.321880219518\n",
      " Recall 0.335857823403\n",
      " F-measure 0.28181689666\n"
     ]
    },
    {
     "name": "stderr",
     "output_type": "stream",
     "text": [
      "/usr/local/lib/python3.6/site-packages/sklearn/metrics/classification.py:1135: UndefinedMetricWarning: Precision and F-score are ill-defined and being set to 0.0 in labels with no predicted samples.\n",
      "  'precision', 'predicted', average, warn_for)\n"
     ]
    },
    {
     "data": {
      "image/png": "[encoded data removed]",
      "text/plain": [
       "<matplotlib.figure.Figure at 0x11ce46e48>"
      ]
     },
     "metadata": {},
     "output_type": "display_data"
    },
    {
     "data": {
      "text/html": [
       "<div>\n",
       "<style>\n",
       "    .dataframe thead tr:only-child th {\n",
       "        text-align: right;\n",
       "    }\n",
       "\n",
       "    .dataframe thead th {\n",
       "        text-align: left;\n",
       "    }\n",
       "\n",
       "    .dataframe tbody tr th {\n",
       "        vertical-align: top;\n",
       "    }\n",
       "</style>\n",
       "<table border=\"1\" class=\"dataframe\">\n",
       "  <thead>\n",
       "    <tr>\n",
       "      <th></th>\n",
       "      <th></th>\n",
       "      <th colspan=\"3\" halign=\"left\">Predicted Class</th>\n",
       "    </tr>\n",
       "    <tr>\n",
       "      <th></th>\n",
       "      <th></th>\n",
       "      <th>1286</th>\n",
       "      <th>2061</th>\n",
       "      <th>3101</th>\n",
       "    </tr>\n",
       "  </thead>\n",
       "  <tbody>\n",
       "    <tr>\n",
       "      <th rowspan=\"3\" valign=\"top\">True Class</th>\n",
       "      <th>1286</th>\n",
       "      <td>3</td>\n",
       "      <td>0</td>\n",
       "      <td>189</td>\n",
       "    </tr>\n",
       "    <tr>\n",
       "      <th>2061</th>\n",
       "      <td>3</td>\n",
       "      <td>0</td>\n",
       "      <td>84</td>\n",
       "    </tr>\n",
       "    <tr>\n",
       "      <th>3101</th>\n",
       "      <td>5</td>\n",
       "      <td>0</td>\n",
       "      <td>616</td>\n",
       "    </tr>\n",
       "  </tbody>\n",
       "</table>\n",
       "</div>"
      ],
      "text/plain": [
       "                Predicted Class          \n",
       "                           1286 2061 3101\n",
       "True Class 1286               3    0  189\n",
       "           2061               3    0   84\n",
       "           3101               5    0  616"
      ]
     },
     "execution_count": 34,
     "metadata": {},
     "output_type": "execute_result"
    }
   ],
   "source": [
    "# Final KNN model\n",
    "    \n",
    "yhat = np.zeros(y.shape) # we will fill this with predictions\n",
    "cv = StratifiedKFold(n_splits=5)\n",
    "for train_index, test_index in cv.split(X, y):\n",
    "    clf = KNeighborsClassifier(n_neighbors=20, p = 3, weights='uniform', algorithm='brute')\n",
    "    X_train, X_test = X.iloc[train_index], X.iloc[test_index]\n",
    "    y_train, y_test = y.iloc[train_index], y.iloc[test_index]\n",
    "\n",
    "    clf.fit(X_train, y_train)\n",
    "    yhat[test_index] = clf.predict(X_test)\n",
    "\n",
    "accuracy = mt.accuracy_score(y, yhat)\n",
    "\n",
    "print_accuracy('KNeighborsClassifier', y, yhat)\n",
    "confusion_matrix(y, yhat, clf.classes_)\n"
   ]
  },
  {
   "cell_type": "code",
   "execution_count": null,
   "metadata": {
    "collapsed": false,
    "deletable": true,
    "editable": true
   },
   "outputs": [],
   "source": [
    "# Random forest\n",
    "from sklearn.ensemble import RandomForestClassifier\n",
    "\n",
    "scores = []\n",
    "for max_depth in np.linspace(1, 20, 11):\n",
    "    \n",
    "    yhat = np.zeros(y.shape) # we will fill this with predictions\n",
    "    cv = StratifiedKFold(n_splits=5)\n",
    "    for train_index, test_index in cv.split(X, y):\n",
    "        clf = RandomForestClassifier(max_depth=max_depth)\n",
    "        X_train, X_test = X.iloc[train_index], X.iloc[test_index]\n",
    "        y_train, y_test = y.iloc[train_index], y.iloc[test_index]\n",
    "        clf.fit(X_train, y_train)\n",
    "        yhat[test_index] = clf.predict(X_test)\n",
    "\n",
    "    accuracy = mt.accuracy_score(y, yhat)\n",
    "    print ('max_depth:', max_depth, 'accuracy:', accuracy)\n",
    "    scores.append(accuracy)\n",
    "    \n",
    "scores = np.array(scores)\n",
    "print(\"Accuracy: %0.2f (+/- %0.2f)\" % (scores.mean(), scores.std() * 2))\n",
    "\n",
    "print_accuracy('RandomForestClassifier', y, yhat)\n",
    "confusion_matrix(y, yhat, clf.classes_)"
   ]
  },
  {
   "cell_type": "code",
   "execution_count": null,
   "metadata": {
    "collapsed": false,
    "deletable": true,
    "editable": true
   },
   "outputs": [],
   "source": [
    "# Duplicate random forest section for optimizing \n",
    "# Remove for final \n",
    "scores = []\n",
    "for n_estimators in range(4,15):\n",
    "    \n",
    "    yhat = np.zeros(y.shape) # we will fill this with predictions\n",
    "    cv = StratifiedKFold(n_splits=5)\n",
    "    for train_index, test_index in cv.split(X, y):\n",
    "        clf = RandomForestClassifier(n_estimators=n_estimators)\n",
    "        X_train, X_test = X.iloc[train_index], X.iloc[test_index]\n",
    "        y_train, y_test = y.iloc[train_index], y.iloc[test_index]\n",
    "        clf.fit(X_train, y_train)\n",
    "        yhat[test_index] = clf.predict(X_test)\n",
    "\n",
    "    accuracy = mt.accuracy_score(y, yhat)\n",
    "    print ('n_estimators:', n_estimators, 'accuracy', accuracy)\n",
    "    scores.append(accuracy)\n",
    "    \n",
    "scores = np.array(scores)\n",
    "print(\"Accuracy: %0.2f (+/- %0.2f)\" % (scores.mean(), scores.std() * 2))\n",
    "\n",
    "print_accuracy('RandomForestClassifier', y, yhat)\n",
    "confusion_matrix(y, yhat, clf.classes_)"
   ]
  },
  {
   "cell_type": "markdown",
   "metadata": {
    "deletable": true,
    "editable": true
   },
   "source": [
    "## Optimizing Random Forest\n",
    "We found that tinkering with max_depth was the best way to test our scores.  \n",
    "\n",
    "<b>Close to no difference in scores:</b><br>\n",
    "min_samples_split values from 2 to 10 all produced scores of about 0.69 (+/- 0.01).<br>\n",
    "criterion=\"gini\" produced accuracy scores around 0.69 (+/- 0.01)<br>\n",
    "criterion=\"entropy\" produced accuracy scores around 0.69 (+/- 0.01)<br>\n",
    "min_samples_leaf values 3 or greater all produced scores of 0.69 across the board.<br>\n",
    "min_weight_fraction_leaf linearly stepping through 0.001 to 0.5 produced scores of 0.69 across the board.<br>\n",
    "min_impurity_decrease produced accuracy scores around 0.69 (+/- 0.01)<br>\n",
    "warm_start='true' vs warm_start='false' produced accuracy scores around 0.69 (+/- 0.01)<br>\n",
    "\n",
    "<b>We did try the following but got fairly low scores and removed them from our final model:</b><br>\n",
    "class_weight=\"balanced_subsample\" produced accuracy scores around 0.49 (+/- 0.23)<br>\n",
    "class_weight=\"balanced\" produced accuracy scores around 0.50 (+/- 0.18)<br>\n",
    "max_depth ranges 4 to 15 produced accuracy scores around Accuracy: 0.64 (+/- 0.04)"
   ]
  },
  {
   "cell_type": "markdown",
   "metadata": {
    "deletable": true,
    "editable": true
   },
   "source": [
    "# Feature importance of Random Forest"
   ]
  },
  {
   "cell_type": "code",
   "execution_count": null,
   "metadata": {
    "collapsed": false,
    "deletable": true,
    "editable": true,
    "scrolled": false
   },
   "outputs": [],
   "source": [
    "importances = clf.feature_importances_\n",
    "std = np.std([tree.feature_importances_ for tree in clf.estimators_], axis=0)\n",
    "indices = np.argsort(importances)[::-1]\n",
    "\n",
    "# Print the feature ranking\n",
    "print(\"Random Forest Feature ranking:\")\n",
    "for f in range(X.shape[1]):\n",
    "    if importances[indices[f]] > 0.05:\n",
    "        print(\"%d. feature %d (%f)\" % (f + 1, indices[f], importances[indices[f]]))\n",
    "\n",
    "# Plot the feature importances of the forest\n",
    "plt.figure(figsize=(8,8))\n",
    "plt.title(\"Random Forest Feature importances\")\n",
    "plt.bar(range(X_train.shape[1]), importances[indices], color=\"r\", yerr=std[indices], align=\"center\")\n",
    "feature_names = X.columns\n",
    "plt.xticks(range(10), feature_names)\n",
    "plt.xticks(rotation=90)\n",
    "plt.xlim([-1, 10])\n",
    "plt.show()"
   ]
  },
  {
   "cell_type": "code",
   "execution_count": null,
   "metadata": {
    "collapsed": false,
    "deletable": true,
    "editable": true
   },
   "outputs": [],
   "source": [
    "# Naive Bayes\n",
    "from sklearn.naive_bayes import MultinomialNB\n",
    "\n",
    "scores = []\n",
    "for alpha in np.linspace(0.001, 1.0, 10):\n",
    "    \n",
    "    yhat = np.zeros(y.shape) # we will fill this with predictions\n",
    "    cv = StratifiedKFold(n_splits=5)\n",
    "    for train_index, test_index in cv.split(X, y):\n",
    "        clf = MultinomialNB(alpha=alpha, fit_prior='false')\n",
    "        X_train, X_test = X.iloc[train_index], X.iloc[test_index]\n",
    "        y_train, y_test = y.iloc[train_index], y.iloc[test_index]\n",
    "\n",
    "        clf.fit(X_train, y_train)\n",
    "        yhat[test_index] = clf.predict(X_test)\n",
    "\n",
    "    accuracy = mt.accuracy_score(y, yhat)\n",
    "    print ('alpha:', alpha, 'accuracy:', accuracy)\n",
    "    scores.append(accuracy)\n",
    "    \n",
    "scores = np.array(scores)\n",
    "print(\"Accuracy: %0.2f (+/- %0.2f)\" % (scores.mean(), scores.std() * 2))\n",
    "\n",
    "print_accuracy('MultinomialNB', y, yhat)\n",
    "confusion_matrix(y, yhat, clf.classes_)"
   ]
  },
  {
   "cell_type": "markdown",
   "metadata": {
    "deletable": true,
    "editable": true
   },
   "source": [
    "# TODO is there a way to play around with priors and class_priors?"
   ]
  },
  {
   "cell_type": "markdown",
   "metadata": {
    "deletable": true,
    "editable": true
   },
   "source": [
    "## Optimizing Naive Bayes\n",
    "\n",
    "<b>Type</b><br>\n",
    "MultinomialNB Accuracy: 0.48 (+/- 0.00)<br>\n",
    "GaussianNB Accuracy: 0.24 (+/- 0.00)<br>\n",
    "BernoulliNB Accuracy: 0.67 (+/- 0.08)<br>\n",
    "\n",
    "<b>Fit Prior</b><br>\n",
    "For MultinomialNB, fit_prior='false' vs fit_prior='true' had no difference Accuracy: 0.48 (+/- 0.00)<br>\n",
    "For BernoulliNB, fit_prior='false' vs fit_prior='true' had no difference Accuracy: 0.67 (+/- 0.08)"
   ]
  },
  {
   "cell_type": "markdown",
   "metadata": {
    "deletable": true,
    "editable": true
   },
   "source": [
    "<a href=\"#top\">Back to Top</a>\n",
    "<a id=\"Analysis\"></a>\n",
    "# Visualizations of Results and Analysis\n",
    "<b>10 points</b>\n",
    "\n",
    "<i>\n",
    "<b>Description:</b><br/>\n",
    "Analyze the results using your chosen method of evaluation. Use visualizations of the results to bolster the analysis. Explain any visuals and analyze why they are interesting to someone that might use this model.\n",
    "</i>"
   ]
  },
  {
   "cell_type": "markdown",
   "metadata": {
    "deletable": true,
    "editable": true
   },
   "source": [
    "# Analysis of Classification model\n",
    "We choose for a best classification model a Random Forest"
   ]
  },
  {
   "cell_type": "code",
   "execution_count": null,
   "metadata": {
    "collapsed": false,
    "deletable": true,
    "editable": true
   },
   "outputs": [],
   "source": [
    "from sklearn.ensemble import RandomForestClassifier\n",
    "from sklearn.metrics import roc_curve\n",
    "    \n",
    "yhat = np.zeros(len(y))\n",
    "yhat_score = np.zeros((len(y), 3))\n",
    "\n",
    "cv = StratifiedKFold(n_splits=5)\n",
    "for train_index, test_index in cv.split(X, y):\n",
    "    clf = RandomForestClassifier()\n",
    "    X_train, X_test = X.iloc[train_index], X.iloc[test_index]\n",
    "    y_train, y_test = y.iloc[train_index], y.iloc[test_index]\n",
    "\n",
    "    clf.fit(X_train, y_train)\n",
    "    yhat[test_index] = clf.predict(X_test)\n",
    "    yhat_score[test_index] = clf.predict_proba(X_test)\n",
    "\n",
    "print_accuracy('RandomForestClassifier', y, yhat)\n",
    "confusion_matrix(y, yhat, clf.classes_)"
   ]
  },
  {
   "cell_type": "markdown",
   "metadata": {
    "deletable": true,
    "editable": true
   },
   "source": [
    "## ROC Curve"
   ]
  },
  {
   "cell_type": "code",
   "execution_count": null,
   "metadata": {
    "collapsed": false,
    "deletable": true,
    "editable": true
   },
   "outputs": [],
   "source": [
    "for i, label in enumerate(clf.classes_):\n",
    "    fpr, tpr, _ = mt.roc_curve(y, yhat_score[:, i], pos_label=label)\n",
    "    roc_auc = mt.auc(fpr, tpr)\n",
    "\n",
    "    plt.plot(fpr, tpr, label='class {0} with {1} instances (area = {2:0.2f})'\n",
    "                                   ''.format(label, sum(y==label), roc_auc))\n",
    "\n",
    "plt.title('ROC Curve')\n",
    "plt.legend(loc=\"lower right\")  \n",
    "plt.xlabel('False Positive Rate')\n",
    "plt.ylabel('True Positive Rate')\n",
    "plt.show()"
   ]
  },
  {
   "cell_type": "markdown",
   "metadata": {
    "deletable": true,
    "editable": true
   },
   "source": [
    "We choose for a best regression model a Random Forest"
   ]
  },
  {
   "cell_type": "code",
   "execution_count": null,
   "metadata": {
    "collapsed": false,
    "deletable": true,
    "editable": true,
    "scrolled": false
   },
   "outputs": [],
   "source": [
    "from sklearn.ensemble import RandomForestRegressor\n",
    "from sklearn.datasets import make_regression\n",
    "from sklearn.model_selection import KFold\n",
    "\n",
    "X = dataset_reg['X']\n",
    "y = dataset_reg['y']\n",
    "\n",
    "yhat = np.zeros(y.shape) # we will fill this with predictions\n",
    "cv = KFold(n_splits=10)\n",
    "for train_index, test_index in cv.split(X, y):\n",
    "    \n",
    "    X_train, X_test = X.iloc[train_index], X.iloc[test_index]\n",
    "    y_train, y_test = y.iloc[train_index], y.iloc[test_index]\n",
    "\n",
    "    reg = RandomForestRegressor(max_depth=10)\n",
    "    reg.fit(X_train, y_train)\n",
    "    yhat[test_index] = reg.predict(X_test)\n",
    "\n",
    "print('R2:', mt.r2_score(y, yhat))\n",
    "print('mean_squared_error:', mt.mean_squared_error(y, yhat))\n",
    "\n",
    "result = pd.DataFrame(yhat, columns=['yhat'])\n",
    "result['y'] = y.values\n",
    "result.plot(kind='box');"
   ]
  },
  {
   "cell_type": "markdown",
   "metadata": {
    "deletable": true,
    "editable": true
   },
   "source": [
    "<a href=\"#top\">Back to Top</a>\n",
    "<a id=\"Advantages\"></a>\n",
    "# Advantages of Each Model\n",
    "<b>10 points</b>\n",
    "\n",
    "<i>\n",
    "<b>Description:</b><br/>\n",
    "Discuss the advantages of each model for each classification task, if any. If there are not advantages, explain why. Is any model better than another? Is the difference significant with 95% confidence? Use proper statistical comparison methods. You must use statistical comparison techniques—be sure they are appropriate for your chosen method of validation as discussed in unit 7 of the course.\n",
    "</i>"
   ]
  },
  {
   "cell_type": "code",
   "execution_count": null,
   "metadata": {
    "collapsed": true,
    "deletable": true,
    "editable": true
   },
   "outputs": [],
   "source": []
  },
  {
   "cell_type": "markdown",
   "metadata": {
    "deletable": true,
    "editable": true
   },
   "source": [
    "<a href=\"#top\">Back to Top</a>\n",
    "<a id=\"Attributes\"></a>\n",
    "# Important Attributes\n",
    "<b>10 points</b>\n",
    "\n",
    "<i>\n",
    "<b>Description:</b><br/>\n",
    "Which attributes from your analysis are most important? Use proper methods discussed in class to evaluate the importance of different attributes. Discuss the results and hypothesize about why certain attributes are more important than others for a given classification task.\n",
    "</i>"
   ]
  },
  {
   "cell_type": "code",
   "execution_count": null,
   "metadata": {
    "collapsed": true,
    "deletable": true,
    "editable": true
   },
   "outputs": [],
   "source": []
  },
  {
   "cell_type": "markdown",
   "metadata": {
    "deletable": true,
    "editable": true
   },
   "source": [
    "<a href=\"#top\">Back to Top</a>\n",
    "<a id=\"Deployment\"></a>\n",
    "# Deployment\n",
    "<b>5 points</b>\n",
    "\n",
    "<i>\n",
    "<b>Description:</b><br/>\n",
    "How useful is your model for interested parties (i.e., the companies or organizations that might want to use it for prediction)? How would you measure the model's value if it was used by these parties? How would your deploy your model for interested parties? What other data should be collected? How often would the model need to be updated, etc.?\n",
    "</i>"
   ]
  },
  {
   "cell_type": "markdown",
   "metadata": {
    "collapsed": true,
    "deletable": true,
    "editable": true
   },
   "source": [
    "Zillow is at the forefront of real estate data analytics, refining its proprietary Zestimate price calculation tool since 2006. According to Steph Humphries, Chief Analytics Officer & Economist, Zillow’s goal is to provide buyers and sellers with valuation that “starts the conversation”. He noted that since Zillow began offering publicly available real estate data from disparate sources into a single platform, the gap between sellers’ prices and buyers’ offer prices has significantly decreased.\n",
    "\n",
    "The Zillow dataset was provided for the purpose of evaluating Zestimate’s accuracy based upon the variable `logerror` which is the difference of log(Zestimate) - log(SalePrice). For purposes of this lab assignment, we developed regression and classification models on the `regionidcounty` field (i.e. the county identifier). ****** TODO Insert insights form regression and classification models here *******\n",
    "\n",
    "For companies in the real estate space, classification models based on “hedonic” (i.e. physical characteristics) attributes provide valuable insight for buying, selling, and investment decisions. Our classification model can be adapted to more granular levels as cities and municipalities. Buyers, sellers, and investors alike can glean insights into which hedonic features have the highest importance to specific locations. This may drive investment decisions knowing how important certain attributes are for targeted locations. Knowing which features are highly important in certain locations can drive remodeling decisions to make properties more attractive to potential buyers. The value-add of this model for these companies can be measured in terms of returns on investment.\n",
    "\n",
    "This can be valuable for the rental market as well, as Humphries explains Zillow’s collaborations with Airbnb. Airbnb can direct marketing efforts to areas with specific property attributes. This can also be used to provide the break-even horizon for making rent versus own decisions. \n",
    "\n",
    "In addition, loan refinancing companies can utilize this model along with Zillow’s liens and taxes database to target homeowners in specific areas. To track effectiveness of marketing campaigns based on this model, response rates can be tracked as well as conversion rates.\n",
    "\n",
    "To further improve the effectiveness of the model, we should expand the model to include sales prices, liens, taxes, as well as identify biased data such as short sales, foreclosures, and “arms-length” transactions (i.e. sales to relatives). All these are readily available from Zillow, as they collect an enormous amount of data which we imagine is updated frequently. Humphries put in context when he said, Zillow started with 34,000 statistical models per month in 2006, they now generate between 7 and 8 million models every night.\n",
    "\n",
    "Reference: http://www.zdnet.com/article/zillow-machine-learning-and-data-in-real-estate/\n"
   ]
  },
  {
   "cell_type": "markdown",
   "metadata": {
    "deletable": true,
    "editable": true
   },
   "source": [
    "<a href=\"#top\">Back to Top</a>\n",
    "<a id=\"Exceptional\"></a>\n",
    "# Exceptional Work\n",
    "<b>10 points</b>\n",
    "\n",
    "<i>\n",
    "<b>Description:</b><br/>\n",
    "You have free reign to provide additional analyses. One idea: grid search parameters in a parallelized fashion and visualize the\n",
    "performances across attributes. Which parameters are most significant for making a good model for each classification algorithm?\n",
    "</i>"
   ]
  },
  {
   "cell_type": "markdown",
   "metadata": {
    "collapsed": true,
    "deletable": true,
    "editable": true
   },
   "source": [
    "## Show two dimentional Linear Discriminant Analysis\n",
    "The idea is to see if there are separatable clusters by class"
   ]
  },
  {
   "cell_type": "code",
   "execution_count": null,
   "metadata": {
    "collapsed": false,
    "deletable": true,
    "editable": true
   },
   "outputs": [],
   "source": [
    "from sklearn.discriminant_analysis import LinearDiscriminantAnalysis as LDA\n",
    "\n",
    "X = dataset_class['X']\n",
    "y = dataset_class['y']\n",
    "\n",
    "lde = LDA(n_components=2)\n",
    "X_lde = lde.fit(X, y).transform(X)\n",
    "\n",
    "colors = y.astype(str)\n",
    "colors[colors=='3101'] = 'g'\n",
    "colors[colors=='2061'] = 'b'\n",
    "colors[colors=='1286'] = 'r'\n",
    "\n",
    "plt.scatter(X_lde[:, 1], X_lde[:, 0], s=5, c=colors)"
   ]
  },
  {
   "cell_type": "markdown",
   "metadata": {
    "deletable": true,
    "editable": true
   },
   "source": [
    "<a href=\"#top\">Back to Top</a>\n",
    "<a id=\"References\"></a>\n",
    "# References:\n",
    "\n",
    "- Kernels from Kaggle competition: https://www.kaggle.com/c/zillow-prize-1/kernels\n",
    "- Scikitlearn logistic regression: http://scikit-learn.org/stable/modules/generated/sklearn.linear_model.LogisticRegression.html\n",
    "- Scikitlearn linear SVC: http://scikit-learn.org/stable/modules/generated/sklearn.svm.LinearSVC.html\n",
    "- Stackoverflow pandas questions: https://stackoverflow.com/questions/tagged/pandas"
   ]
  },
  {
   "cell_type": "code",
   "execution_count": null,
   "metadata": {
    "collapsed": true,
    "deletable": true,
    "editable": true
   },
   "outputs": [],
   "source": []
  }
 ],
 "metadata": {
  "kernelspec": {
   "display_name": "Python 3",
   "language": "python",
   "name": "python3"
  },
  "language_info": {
   "codemirror_mode": {
    "name": "ipython",
    "version": 3
   },
   "file_extension": ".py",
   "mimetype": "text/x-python",
   "name": "python",
   "nbconvert_exporter": "python",
   "pygments_lexer": "ipython3",
   "version": "3.6.0"
  }
 },
 "nbformat": 4,
 "nbformat_minor": 1
}
