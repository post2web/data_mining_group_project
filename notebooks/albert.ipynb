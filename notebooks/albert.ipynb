{
 "cells": [
  {
   "cell_type": "markdown",
   "metadata": {},
   "source": [
    "# Data Mining Project - zillow"
   ]
  },
  {
   "cell_type": "markdown",
   "metadata": {},
   "source": [
    "Data Loading"
   ]
  },
  {
   "cell_type": "code",
   "execution_count": 8,
   "metadata": {},
   "outputs": [
    {
     "name": "stderr",
     "output_type": "stream",
     "text": [
      "/Library/Frameworks/Python.framework/Versions/3.6/lib/python3.6/site-packages/IPython/core/interactiveshell.py:2698: DtypeWarning: Columns (22,32,34,49,55) have mixed types. Specify dtype option on import or set low_memory=False.\n",
      "  interactivity=interactivity, compiler=compiler, result=result)\n"
     ]
    },
    {
     "data": {
      "text/html": [
       "<div>\n",
       "<style>\n",
       "    .dataframe thead tr:only-child th {\n",
       "        text-align: right;\n",
       "    }\n",
       "\n",
       "    .dataframe thead th {\n",
       "        text-align: left;\n",
       "    }\n",
       "\n",
       "    .dataframe tbody tr th {\n",
       "        vertical-align: top;\n",
       "    }\n",
       "</style>\n",
       "<table border=\"1\" class=\"dataframe\">\n",
       "  <thead>\n",
       "    <tr style=\"text-align: right;\">\n",
       "      <th></th>\n",
       "      <th>parcelid</th>\n",
       "      <th>airconditioningtypeid</th>\n",
       "      <th>architecturalstyletypeid</th>\n",
       "      <th>basementsqft</th>\n",
       "      <th>bathroomcnt</th>\n",
       "      <th>bedroomcnt</th>\n",
       "      <th>buildingclasstypeid</th>\n",
       "      <th>buildingqualitytypeid</th>\n",
       "      <th>calculatedbathnbr</th>\n",
       "      <th>decktypeid</th>\n",
       "      <th>...</th>\n",
       "      <th>numberofstories</th>\n",
       "      <th>fireplaceflag</th>\n",
       "      <th>structuretaxvaluedollarcnt</th>\n",
       "      <th>taxvaluedollarcnt</th>\n",
       "      <th>assessmentyear</th>\n",
       "      <th>landtaxvaluedollarcnt</th>\n",
       "      <th>taxamount</th>\n",
       "      <th>taxdelinquencyflag</th>\n",
       "      <th>taxdelinquencyyear</th>\n",
       "      <th>censustractandblock</th>\n",
       "    </tr>\n",
       "  </thead>\n",
       "  <tbody>\n",
       "    <tr>\n",
       "      <th>0</th>\n",
       "      <td>10754147</td>\n",
       "      <td>NaN</td>\n",
       "      <td>NaN</td>\n",
       "      <td>NaN</td>\n",
       "      <td>0.0</td>\n",
       "      <td>0.0</td>\n",
       "      <td>NaN</td>\n",
       "      <td>NaN</td>\n",
       "      <td>NaN</td>\n",
       "      <td>NaN</td>\n",
       "      <td>...</td>\n",
       "      <td>NaN</td>\n",
       "      <td>NaN</td>\n",
       "      <td>NaN</td>\n",
       "      <td>9.0</td>\n",
       "      <td>2015.0</td>\n",
       "      <td>9.0</td>\n",
       "      <td>NaN</td>\n",
       "      <td>NaN</td>\n",
       "      <td>NaN</td>\n",
       "      <td>NaN</td>\n",
       "    </tr>\n",
       "    <tr>\n",
       "      <th>1</th>\n",
       "      <td>10759547</td>\n",
       "      <td>NaN</td>\n",
       "      <td>NaN</td>\n",
       "      <td>NaN</td>\n",
       "      <td>0.0</td>\n",
       "      <td>0.0</td>\n",
       "      <td>NaN</td>\n",
       "      <td>NaN</td>\n",
       "      <td>NaN</td>\n",
       "      <td>NaN</td>\n",
       "      <td>...</td>\n",
       "      <td>NaN</td>\n",
       "      <td>NaN</td>\n",
       "      <td>NaN</td>\n",
       "      <td>27516.0</td>\n",
       "      <td>2015.0</td>\n",
       "      <td>27516.0</td>\n",
       "      <td>NaN</td>\n",
       "      <td>NaN</td>\n",
       "      <td>NaN</td>\n",
       "      <td>NaN</td>\n",
       "    </tr>\n",
       "    <tr>\n",
       "      <th>2</th>\n",
       "      <td>10843547</td>\n",
       "      <td>NaN</td>\n",
       "      <td>NaN</td>\n",
       "      <td>NaN</td>\n",
       "      <td>0.0</td>\n",
       "      <td>0.0</td>\n",
       "      <td>NaN</td>\n",
       "      <td>NaN</td>\n",
       "      <td>NaN</td>\n",
       "      <td>NaN</td>\n",
       "      <td>...</td>\n",
       "      <td>NaN</td>\n",
       "      <td>NaN</td>\n",
       "      <td>650756.0</td>\n",
       "      <td>1413387.0</td>\n",
       "      <td>2015.0</td>\n",
       "      <td>762631.0</td>\n",
       "      <td>20800.37</td>\n",
       "      <td>NaN</td>\n",
       "      <td>NaN</td>\n",
       "      <td>NaN</td>\n",
       "    </tr>\n",
       "    <tr>\n",
       "      <th>3</th>\n",
       "      <td>10859147</td>\n",
       "      <td>NaN</td>\n",
       "      <td>NaN</td>\n",
       "      <td>NaN</td>\n",
       "      <td>0.0</td>\n",
       "      <td>0.0</td>\n",
       "      <td>3.0</td>\n",
       "      <td>7.0</td>\n",
       "      <td>NaN</td>\n",
       "      <td>NaN</td>\n",
       "      <td>...</td>\n",
       "      <td>1.0</td>\n",
       "      <td>NaN</td>\n",
       "      <td>571346.0</td>\n",
       "      <td>1156834.0</td>\n",
       "      <td>2015.0</td>\n",
       "      <td>585488.0</td>\n",
       "      <td>14557.57</td>\n",
       "      <td>NaN</td>\n",
       "      <td>NaN</td>\n",
       "      <td>NaN</td>\n",
       "    </tr>\n",
       "    <tr>\n",
       "      <th>4</th>\n",
       "      <td>10879947</td>\n",
       "      <td>NaN</td>\n",
       "      <td>NaN</td>\n",
       "      <td>NaN</td>\n",
       "      <td>0.0</td>\n",
       "      <td>0.0</td>\n",
       "      <td>4.0</td>\n",
       "      <td>NaN</td>\n",
       "      <td>NaN</td>\n",
       "      <td>NaN</td>\n",
       "      <td>...</td>\n",
       "      <td>NaN</td>\n",
       "      <td>NaN</td>\n",
       "      <td>193796.0</td>\n",
       "      <td>433491.0</td>\n",
       "      <td>2015.0</td>\n",
       "      <td>239695.0</td>\n",
       "      <td>5725.17</td>\n",
       "      <td>NaN</td>\n",
       "      <td>NaN</td>\n",
       "      <td>NaN</td>\n",
       "    </tr>\n",
       "  </tbody>\n",
       "</table>\n",
       "<p>5 rows × 58 columns</p>\n",
       "</div>"
      ],
      "text/plain": [
       "   parcelid  airconditioningtypeid  architecturalstyletypeid  basementsqft  \\\n",
       "0  10754147                    NaN                       NaN           NaN   \n",
       "1  10759547                    NaN                       NaN           NaN   \n",
       "2  10843547                    NaN                       NaN           NaN   \n",
       "3  10859147                    NaN                       NaN           NaN   \n",
       "4  10879947                    NaN                       NaN           NaN   \n",
       "\n",
       "   bathroomcnt  bedroomcnt  buildingclasstypeid  buildingqualitytypeid  \\\n",
       "0          0.0         0.0                  NaN                    NaN   \n",
       "1          0.0         0.0                  NaN                    NaN   \n",
       "2          0.0         0.0                  NaN                    NaN   \n",
       "3          0.0         0.0                  3.0                    7.0   \n",
       "4          0.0         0.0                  4.0                    NaN   \n",
       "\n",
       "   calculatedbathnbr  decktypeid         ...           numberofstories  \\\n",
       "0                NaN         NaN         ...                       NaN   \n",
       "1                NaN         NaN         ...                       NaN   \n",
       "2                NaN         NaN         ...                       NaN   \n",
       "3                NaN         NaN         ...                       1.0   \n",
       "4                NaN         NaN         ...                       NaN   \n",
       "\n",
       "   fireplaceflag  structuretaxvaluedollarcnt  taxvaluedollarcnt  \\\n",
       "0            NaN                         NaN                9.0   \n",
       "1            NaN                         NaN            27516.0   \n",
       "2            NaN                    650756.0          1413387.0   \n",
       "3            NaN                    571346.0          1156834.0   \n",
       "4            NaN                    193796.0           433491.0   \n",
       "\n",
       "   assessmentyear  landtaxvaluedollarcnt  taxamount  taxdelinquencyflag  \\\n",
       "0          2015.0                    9.0        NaN                 NaN   \n",
       "1          2015.0                27516.0        NaN                 NaN   \n",
       "2          2015.0               762631.0   20800.37                 NaN   \n",
       "3          2015.0               585488.0   14557.57                 NaN   \n",
       "4          2015.0               239695.0    5725.17                 NaN   \n",
       "\n",
       "   taxdelinquencyyear  censustractandblock  \n",
       "0                 NaN                  NaN  \n",
       "1                 NaN                  NaN  \n",
       "2                 NaN                  NaN  \n",
       "3                 NaN                  NaN  \n",
       "4                 NaN                  NaN  \n",
       "\n",
       "[5 rows x 58 columns]"
      ]
     },
     "execution_count": 8,
     "metadata": {},
     "output_type": "execute_result"
    }
   ],
   "source": [
    "# imports here:\n",
    "%matplotlib inline\n",
    "import numpy as np\n",
    "import pandas as pd\n",
    "import matplotlib.pyplot as plt\n",
    "import seaborn as sns\n",
    "\n",
    "# load datasets here:\n",
    "train_data = pd.read_csv('../input/train_2016_v2.csv')\n",
    "properties_data = pd.read_csv('/Users/albertasuncion_mac/Documents/SMU/7331 - Data Mining/GitHub/7331 - Data Mining/data_mining_group_project/input/properties_2016.csv')\n",
    "data = properties_data\n",
    "data.head()"
   ]
  },
  {
   "cell_type": "markdown",
   "metadata": {},
   "source": [
    "# Business Understanding\n",
    "<b>10 points</b>\n",
    "\n",
    "<i>\n",
    "<b>Description:</b><br/>\n",
    "Describe the purpose of the data set you selected (i.e., why was this data collected in the first place?). Describe how you would define and measure the outcomes from the dataset. That is, why is this data important and how do you know if you have mined useful knowledge from the dataset? How would you measure the effectiveness of a good prediction algorithm? Be specific.\n",
    "</i>\n",
    "\n",
    "<b>Answer:</b><br/>\n",
    "..."
   ]
  },
  {
   "cell_type": "markdown",
   "metadata": {
    "collapsed": true
   },
   "source": [
    "Home ownership is the american dream and, for most, the single largest purchase and investment of their lifetime. "
   ]
  },
  {
   "cell_type": "markdown",
   "metadata": {},
   "source": [
    "# Data Meaning Type\n",
    "<b>10 points</b>\n",
    "\n",
    "<i>\n",
    "<b>Description:</b><br/>\n",
    "Describe the meaning and type of data (scale, values, etc.) for each attribute in the data file.\n",
    "</i>\n",
    "\n",
    "<b>Answer:</b><br/>\n",
    "..."
   ]
  },
  {
   "cell_type": "code",
   "execution_count": 9,
   "metadata": {},
   "outputs": [
    {
     "data": {
      "text/html": [
       "<table><tr><th>Variable</th><th>Type</th><th>Scale</th><th>Description</th></tr><tr ><td>airconditioningtypeid</td><td>nominal</td><td>[nan, 1.0, 13.0, 5.0, 11.0, 9.0, 12.0, 3.0]</td><td>Type of cooling system present in the home (if any)</td></tr><tr ><td>architecturalstyletypeid</td><td>nominal</td><td>[nan, 7.0, 21.0, 8.0, 2.0, 3.0, 5.0, 10.0, 27.0]</td><td>Architectural style of the home (i.e. ranch, colonial, split-level, etc…)</td></tr><tr ><td>basementsqft</td><td>ratio</td><td>(20, 8516)</td><td>Finished living area below or partially below ground level</td></tr><tr ><td>bathroomcnt</td><td>ordinal</td><td>[0.0, 2.0, 4.0, 3.0, 1.0, ... (38 More)]</td><td>Number of bathrooms in home including fractional bathrooms</td></tr><tr ><td>bedroomcnt</td><td>ordinal</td><td>[0.0, 4.0, 5.0, 2.0, 3.0, ... (22 More)]</td><td>Number of bedrooms in home</td></tr><tr ><td>buildingqualitytypeid</td><td>ordinal</td><td>[nan, 7.0, 4.0, 10.0, 1.0, ... (13 More)]</td><td>Overall assessment of condition of the building from best (lowest) to worst (highest)</td></tr><tr ><td>buildingclasstypeid</td><td>nominal</td><td>[nan, 3.0, 4.0, 5.0, 2.0, 1.0]</td><td>The building framing type (steel frame, wood frame, concrete/brick)</td></tr><tr ><td>calculatedbathnbr</td><td>ordinal</td><td>[nan, 2.0, 4.0, 3.0, 1.0, ... (35 More)]</td><td>Number of bathrooms in home including fractional bathroom</td></tr><tr ><td>decktypeid</td><td>nominal</td><td>[nan, 66.0]</td><td>Type of deck (if any) present on parcel</td></tr><tr ><td>threequarterbathnbr</td><td>ordinal</td><td>[nan, 1.0, 2.0, 4.0, 3.0, 6.0, 5.0, 7.0]</td><td>Number of 3/4 bathrooms in house (shower + sink + toilet)</td></tr><tr ><td>finishedfloor1squarefeet</td><td>ratio</td><td>(3, 31303)</td><td>Size of the finished living area on the first (entry) floor of the home</td></tr><tr ><td>calculatedfinishedsquarefeet</td><td>ratio</td><td>(1, 952576)</td><td>Calculated total finished living area of the home</td></tr><tr ><td>finishedsquarefeet6</td><td>ratio</td><td>(117, 952576)</td><td>Base unfinished and finished area</td></tr><tr ><td>finishedsquarefeet12</td><td>ratio</td><td>(1, 290345)</td><td>Finished living area</td></tr><tr ><td>finishedsquarefeet13</td><td>ratio</td><td>(120, 2688)</td><td>Perimeter living area</td></tr><tr ><td>finishedsquarefeet15</td><td>ratio</td><td>(112, 820242)</td><td>Total area</td></tr><tr ><td>finishedsquarefeet50</td><td>ratio</td><td>(3, 31303)</td><td>Size of the finished living area on the first (entry) floor of the home</td></tr><tr ><td>fips</td><td>nominal</td><td>[6037.0, 6059.0, 6111.0, nan]</td><td>Federal Information Processing Standard code - see https://en.wikipedia.org/wiki/FIPS_county_code for more details</td></tr><tr ><td>fireplacecnt</td><td>ordinal</td><td>[nan, 3.0, 1.0, 2.0, 4.0, ... (10 More)]</td><td>Number of fireplaces in a home (if any)</td></tr><tr ><td>fireplaceflag</td><td>ordinal</td><td>[nan, True]</td><td>Is a fireplace present in this home</td></tr><tr ><td>fullbathcnt</td><td>ordinal</td><td>[nan, 2.0, 4.0, 3.0, 1.0, ... (21 More)]</td><td>Number of full bathrooms (sink, shower + bathtub, and toilet) present in home</td></tr><tr ><td>garagecarcnt</td><td>ordinal</td><td>[nan, 2.0, 4.0, 1.0, 3.0, ... (25 More)]</td><td>Total number of garages on the lot including an attached garage</td></tr><tr ><td>garagetotalsqft</td><td>ratio</td><td>(0, 7749)</td><td>Total number of square feet of all garages on lot including an attached garage</td></tr><tr ><td>hashottuborspa</td><td>ordinal</td><td>[nan, True]</td><td>Does the home have a hot tub or spa</td></tr><tr ><td>heatingorsystemtypeid</td><td>nominal</td><td>[nan, 2.0, 7.0, 20.0, 6.0, ... (15 More)]</td><td>Type of home heating system</td></tr><tr ><td>latitude</td><td>interval</td><td>(33324388, 34819650)</td><td>Latitude of the middle of the parcel multiplied by 10e6</td></tr><tr ><td>longitude</td><td>interval</td><td>(-119475780, -117554316)</td><td>Longitude of the middle of the parcel multiplied by 10e6</td></tr><tr ><td>lotsizesquarefeet</td><td>ratio</td><td>(100, 328263808)</td><td>Area of the lot in square feet</td></tr><tr ><td>numberofstories</td><td>ordinal</td><td>[nan, 1.0, 4.0, 2.0, 3.0, ... (13 More)]</td><td>Number of stories or levels the home has</td></tr><tr ><td>parcelid</td><td>nominal</td><td>[10754147, 10759547, 10843547, 10859147, 10879947, ... (2985217 More)]</td><td>Unique identifier for parcels (lots)</td></tr><tr ><td>poolcnt</td><td>ordinal</td><td>[nan, 1.0]</td><td>Number of pools on the lot (if any)</td></tr><tr ><td>poolsizesum</td><td>ratio</td><td>(19, 17410)</td><td>Total square footage of all pools on property</td></tr><tr ><td>pooltypeid10</td><td>nominal</td><td>[nan, 1.0]</td><td>Spa or Hot Tub</td></tr><tr ><td>pooltypeid2</td><td>nominal</td><td>[nan, 1.0]</td><td>Pool with Spa/Hot Tub</td></tr><tr ><td>pooltypeid7</td><td>nominal</td><td>[nan, 1.0]</td><td>Pool without hot tub</td></tr><tr ><td>propertycountylandusecode</td><td>nominal</td><td>[010D, 0109, 1200, 1210, 010V, ... (241 More)]</td><td>County land use code i.e. it's zoning at the county level</td></tr><tr ><td>propertylandusetypeid</td><td>nominal</td><td>[269.0, 261.0, 47.0, 31.0, 260.0, ... (16 More)]</td><td>Type of land use the property is zoned for</td></tr><tr ><td>propertyzoningdesc</td><td>nominal</td><td>[nan, LCA11*, LAC2, LAM1, LAC4, ... (5639 More)]</td><td>Description of the allowed land uses (zoning) for that property</td></tr><tr ><td>rawcensustractandblock</td><td>nominal</td><td>[60378002.041, 60378001.011002004, 60377030.012017004, 60371412.023001, 60371232.052003, ... (99394 More)]</td><td>Census tract and block ID combined - also contains blockgroup assignment by extension</td></tr><tr ><td>censustractandblock</td><td>nominal</td><td>[nan, 61110010011023.0, 61110009032019.0, 61110010024015.0, 61110010023002.0, ... (96772 More)]</td><td>Census tract and block ID combined - also contains blockgroup assignment by extension</td></tr><tr ><td>regionidcounty</td><td>nominal</td><td>[3101.0, 1286.0, 2061.0, nan]</td><td>County in which the property is located</td></tr><tr ><td>regionidcity</td><td>nominal</td><td>[37688.0, 51617.0, 12447.0, 396054.0, 47547.0, ... (187 More)]</td><td>City in which the property is located (if any)</td></tr><tr ><td>regionidzip</td><td>nominal</td><td>[96337.0, 96095.0, 96424.0, 96450.0, 96446.0, ... (406 More)]</td><td>Zip code in which the property is located</td></tr><tr ><td>regionidneighborhood</td><td>nominal</td><td>[nan, 27080.0, 46795.0, 274049.0, 31817.0, ... (529 More)]</td><td>Neighborhood in which the property is located</td></tr><tr ><td>roomcnt</td><td>ordinal</td><td>[0.0, 8.0, 4.0, 5.0, 7.0, ... (37 More)]</td><td>Total number of rooms in the principal residence</td></tr><tr ><td>storytypeid</td><td>nominal</td><td>[nan, 7.0]</td><td>Type of floors in a multi-story house (i.e. basement and main level, split-level, attic, etc.). See tab for details.</td></tr><tr ><td>typeconstructiontypeid</td><td>nominal</td><td>[nan, 6.0, 4.0, 10.0, 13.0, 11.0]</td><td>What type of construction material was used to construct the home</td></tr><tr ><td>unitcnt</td><td>ordinal</td><td>[nan, 2.0, 1.0, 3.0, 5.0, ... (147 More)]</td><td>Number of units the structure is built into (i.e. 2 = duplex, 3 = triplex, etc...)</td></tr><tr ><td>yardbuildingsqft17</td><td>interval</td><td>(10, 7983)</td><td>Patio in yard</td></tr><tr ><td>yardbuildingsqft26</td><td>interval</td><td>(10, 6141)</td><td>Storage shed/building in yard</td></tr><tr ><td>yearbuilt</td><td>interval</td><td>(1801, 2015)</td><td>The Year the principal residence was built</td></tr><tr ><td>taxvaluedollarcnt</td><td>ratio</td><td>(1, 282786000)</td><td>The total tax assessed value of the parcel</td></tr><tr ><td>structuretaxvaluedollarcnt</td><td>ratio</td><td>(1, 251486000)</td><td>The assessed value of the built structure on the parcel</td></tr><tr ><td>landtaxvaluedollarcnt</td><td>ratio</td><td>(1, 90246219)</td><td>The assessed value of the land area of the parcel</td></tr><tr ><td>taxamount</td><td>ratio</td><td>(1, 3458861)</td><td>The total property tax assessed for that assessment year</td></tr><tr ><td>assessmentyear</td><td>interval</td><td>(2000, 2016)</td><td>The year of the property tax assessment</td></tr><tr ><td>taxdelinquencyflag</td><td>nominal</td><td>[nan, Y]</td><td>Property taxes for this parcel are past due as of 2015</td></tr><tr ><td>taxdelinquencyyear</td><td>interval</td><td>(0, 99)</td><td>Year</td></tr></table>"
      ],
      "text/plain": [
       "<IPython.core.display.HTML object>"
      ]
     },
     "execution_count": 9,
     "metadata": {},
     "output_type": "execute_result"
    }
   ],
   "source": [
    "from IPython.display import display, HTML\n",
    "\n",
    "# data type should be one of:\n",
    "# \n",
    "\n",
    "variables_description = [\n",
    "['airconditioningtypeid', 'nominal', 'TBD', 'Type of cooling system present in the home (if any)']\n",
    ",['architecturalstyletypeid', 'nominal', 'TBD', 'Architectural style of the home (i.e. ranch, colonial, split-level, etc…)']\n",
    ",['basementsqft', 'ratio', 'TBD', 'Finished living area below or partially below ground level']\n",
    ",['bathroomcnt', 'ordinal', 'TBD', 'Number of bathrooms in home including fractional bathrooms']\n",
    ",['bedroomcnt', 'ordinal', 'TBD', 'Number of bedrooms in home']\n",
    ",['buildingqualitytypeid', 'ordinal', 'TBD', 'Overall assessment of condition of the building from best (lowest) to worst (highest)']\n",
    ",['buildingclasstypeid', 'nominal', 'TBD', 'The building framing type (steel frame, wood frame, concrete/brick)']\n",
    ",['calculatedbathnbr', 'ordinal', 'TBD', 'Number of bathrooms in home including fractional bathroom']\n",
    ",['decktypeid', 'nominal', 'TBD', 'Type of deck (if any) present on parcel']\n",
    ",['threequarterbathnbr', 'ordinal', 'TBD', 'Number of 3/4 bathrooms in house (shower + sink + toilet)']\n",
    ",['finishedfloor1squarefeet', 'ratio', 'TBD', 'Size of the finished living area on the first (entry) floor of the home']\n",
    ",['calculatedfinishedsquarefeet', 'ratio', 'TBD', 'Calculated total finished living area of the home']\n",
    ",['finishedsquarefeet6', 'ratio', 'TBD', 'Base unfinished and finished area']\n",
    ",['finishedsquarefeet12', 'ratio', 'TBD', 'Finished living area']\n",
    ",['finishedsquarefeet13', 'ratio', 'TBD', 'Perimeter living area']\n",
    ",['finishedsquarefeet15', 'ratio', 'TBD', 'Total area']\n",
    ",['finishedsquarefeet50', 'ratio', 'TBD', 'Size of the finished living area on the first (entry) floor of the home']\n",
    ",['fips', 'nominal', 'TBD', 'Federal Information Processing Standard code - see https://en.wikipedia.org/wiki/FIPS_county_code for more details']\n",
    ",['fireplacecnt', 'ordinal', 'TBD', 'Number of fireplaces in a home (if any)']\n",
    ",['fireplaceflag', 'ordinal', 'TBD', 'Is a fireplace present in this home']\n",
    ",['fullbathcnt', 'ordinal', 'TBD', 'Number of full bathrooms (sink, shower + bathtub, and toilet) present in home']\n",
    ",['garagecarcnt', 'ordinal', 'TBD', 'Total number of garages on the lot including an attached garage']\n",
    ",['garagetotalsqft', 'ratio', 'TBD', 'Total number of square feet of all garages on lot including an attached garage']\n",
    ",['hashottuborspa', 'ordinal', 'TBD', 'Does the home have a hot tub or spa']\n",
    ",['heatingorsystemtypeid', 'nominal', 'TBD', 'Type of home heating system']\n",
    ",['latitude', 'interval', 'TBD', 'Latitude of the middle of the parcel multiplied by 10e6']\n",
    ",['longitude', 'interval', 'TBD', 'Longitude of the middle of the parcel multiplied by 10e6']\n",
    ",['lotsizesquarefeet', 'ratio', 'TBD', 'Area of the lot in square feet']\n",
    ",['numberofstories', 'ordinal', 'TBD', 'Number of stories or levels the home has']\n",
    ",['parcelid', 'nominal', 'TBD', 'Unique identifier for parcels (lots)']\n",
    ",['poolcnt', 'ordinal', 'TBD', 'Number of pools on the lot (if any)']\n",
    ",['poolsizesum', 'ratio', 'TBD', 'Total square footage of all pools on property']\n",
    ",['pooltypeid10', 'nominal', 'TBD', 'Spa or Hot Tub']\n",
    ",['pooltypeid2', 'nominal', 'TBD', 'Pool with Spa/Hot Tub']\n",
    ",['pooltypeid7', 'nominal', 'TBD', 'Pool without hot tub']\n",
    ",['propertycountylandusecode', 'nominal', 'TBD', 'County land use code i.e. it\\'s zoning at the county level']\n",
    ",['propertylandusetypeid', 'nominal', 'TBD', 'Type of land use the property is zoned for']\n",
    ",['propertyzoningdesc', 'nominal', 'TBD', 'Description of the allowed land uses (zoning) for that property']\n",
    ",['rawcensustractandblock', 'nominal', 'TBD', 'Census tract and block ID combined - also contains blockgroup assignment by extension']\n",
    ",['censustractandblock', 'nominal', 'TBD', 'Census tract and block ID combined - also contains blockgroup assignment by extension']\n",
    ",['regionidcounty', 'nominal', 'TBD', 'County in which the property is located']\n",
    ",['regionidcity', 'nominal', 'TBD', 'City in which the property is located (if any)']\n",
    ",['regionidzip', 'nominal', 'TBD', 'Zip code in which the property is located']\n",
    ",['regionidneighborhood', 'nominal', 'TBD', 'Neighborhood in which the property is located']\n",
    ",['roomcnt', 'ordinal', 'TBD', 'Total number of rooms in the principal residence']\n",
    ",['storytypeid', 'nominal', 'TBD', 'Type of floors in a multi-story house (i.e. basement and main level, split-level, attic, etc.). See tab for details.']\n",
    ",['typeconstructiontypeid', 'nominal', 'TBD', 'What type of construction material was used to construct the home']\n",
    ",['unitcnt', 'ordinal', 'TBD', 'Number of units the structure is built into (i.e. 2 = duplex, 3 = triplex, etc...)']\n",
    ",['yardbuildingsqft17', 'interval', 'TBD', 'Patio in yard']\n",
    ",['yardbuildingsqft26', 'interval', 'TBD', 'Storage shed/building in yard']\n",
    ",['yearbuilt', 'interval', 'TBD', 'The Year the principal residence was built']\n",
    ",['taxvaluedollarcnt', 'ratio', 'TBD', 'The total tax assessed value of the parcel']\n",
    ",['structuretaxvaluedollarcnt', 'ratio', 'TBD', 'The assessed value of the built structure on the parcel']\n",
    ",['landtaxvaluedollarcnt', 'ratio', 'TBD', 'The assessed value of the land area of the parcel']\n",
    ",['taxamount', 'ratio', 'TBD', 'The total property tax assessed for that assessment year']\n",
    ",['assessmentyear', 'interval', 'TBD', 'The year of the property tax assessment']\n",
    ",['taxdelinquencyflag', 'nominal', 'TBD', 'Property taxes for this parcel are past due as of 2015']\n",
    ",['taxdelinquencyyear', 'interval', 'TBD', 'Year']\n",
    "]\n",
    "\n",
    "rows = ['<tr><th>Variable</th><th>Type</th><th>Scale</th><th>Description</th></tr>']\n",
    "for row in variables_description:\n",
    "    # add scale if TBD\n",
    "    if row[2] == 'TBD':\n",
    "        vname, vtype = row[:2]\n",
    "        if vtype in ['nominal', 'ordinal']:\n",
    "\n",
    "            uniques = data[vname].unique()\n",
    "            uniques = list(uniques.astype(str))\n",
    "            if len(uniques) < 10:\n",
    "                \n",
    "                row[2] = '[%s]' % ', '.join(uniques)\n",
    "            else:\n",
    "                row[2] = '[%s]' % (', '.join(uniques[:5]) + ', ... (%d More)' % len(uniques))\n",
    "\n",
    "        if vtype in ['ratio', 'interval']:\n",
    "            row[2] = '(%d, %d)' % (data[vname].min(), data[vname].max())\n",
    "        \n",
    "    rows.append('<tr ><td>%s</td><td>%s</td><td>%s</td><td>%s</td></tr>' % tuple(row))\n",
    "HTML('<table>%s</table>' % ''.join(rows))"
   ]
  },
  {
   "cell_type": "markdown",
   "metadata": {},
   "source": [
    "# Data Quality\n",
    "<b>15 points</b>\n",
    "\n",
    "<i>\n",
    "<b>Description:</b><br/>\n",
    "Verify data quality: Explain any missing values, duplicate data, and outliers. Are those mistakes? How do you deal with these problems? Give justifications for your methods.\n",
    "</i>\n",
    "\n",
    "<b>Answer:</b><br/>\n",
    "..."
   ]
  },
  {
   "cell_type": "code",
   "execution_count": 5,
   "metadata": {},
   "outputs": [],
   "source": [
    "# View info\n",
    "#print (data.info())"
   ]
  },
  {
   "cell_type": "code",
   "execution_count": 6,
   "metadata": {},
   "outputs": [],
   "source": [
    "# View preliminary statistics\n",
    "#data.describe()"
   ]
  },
  {
   "cell_type": "markdown",
   "metadata": {},
   "source": [
    "## Examining variables for missing values and outliers individually"
   ]
  },
  {
   "cell_type": "markdown",
   "metadata": {},
   "source": [
    "### Variable: airconditioningtypeid - Type of cooling system present in the home (if any)\n",
    "Has datatype: nominal and 72.710860 percent of values missing \n",
    "\n",
    "For this variable, missing values indicates the absence of a cooling system. As a resut, we imputed zero to missing values."
   ]
  },
  {
   "cell_type": "code",
   "execution_count": 11,
   "metadata": {},
   "outputs": [
    {
     "name": "stdout",
     "output_type": "stream",
     "text": [
      "Before [ nan   1.  13.   5.  11.   9.  12.   3.]\n",
      "After [ 0  1 13  5 11  9 12  3]\n"
     ]
    }
   ],
   "source": [
    "print('Before', data['airconditioningtypeid'].unique())\n",
    "data['airconditioningtypeid'] = data['airconditioningtypeid'].fillna(0).astype(np.int32)\n",
    "print('After', data['airconditioningtypeid'].unique())"
   ]
  },
  {
   "cell_type": "markdown",
   "metadata": {},
   "source": [
    "### Variable: architecturalstyletypeid - Architectural style of the home (i.e. ranch, colonial, split-level, etc…)\n",
    "Has datatype: nominal and 99.796185 percent of values missing \n",
    "\n",
    "Architectural style describes the home design. As such, it is not something we can extrapolate a value for. With over 99% of values missing, we decided to eliminate this variable."
   ]
  },
  {
   "cell_type": "code",
   "execution_count": 17,
   "metadata": {
    "collapsed": true
   },
   "outputs": [],
   "source": [
    "#del data['architecturalstyletypeid']"
   ]
  },
  {
   "cell_type": "markdown",
   "metadata": {},
   "source": [
    "### Variable: basementsqft - Finished living area below or partially below ground level\n",
    "Has datatype: ratio and 99.945255 percent of values missing\n",
    "\n",
    "Basements are not standard home features. Whenever a basement is not a feature of the home, the value for area was entered as a missing value. Therefore, we replaced missing values with zeros.\n",
    "\n",
    "<font color ='red'>Pending Item: Review removal of outliers</font>"
   ]
  },
  {
   "cell_type": "code",
   "execution_count": 18,
   "metadata": {},
   "outputs": [
    {
     "name": "stdout",
     "output_type": "stream",
     "text": [
      "Before [   0.          118.28011473   63.           72.           96.          112.\n",
      "  100.           36.           64.          108.           25.          107.\n",
      "   60.           90.           68.          104.           81.          110.\n",
      "   80.           98.           50.          116.           84.           30.\n",
      "   83.           99.           85.           45.           69.           20.\n",
      "   79.          117.           48.           55.           38.           70.\n",
      "   88.           24.           42.           86.           73.           77.        ]\n",
      "After [  0 118  63  72  96 112 100  36  64 108  25 107  60  90  68 104  81 110\n",
      "  80  98  50 116  84  30  83  99  85  45  69  20  79 117  48  55  38  70\n",
      "  88  24  42  86  73  77]\n"
     ]
    }
   ],
   "source": [
    "print('Before', data['basementsqft'].unique())\n",
    "data['basementsqft'] = data['basementsqft'].fillna(0).astype(np.int32)\n",
    "print('After', data['basementsqft'].unique())"
   ]
  },
  {
   "cell_type": "code",
   "execution_count": 20,
   "metadata": {},
   "outputs": [
    {
     "data": {
      "image/png": "[encoded data removed]",
      "text/plain": [
       "<matplotlib.figure.Figure at 0x10af5bf28>"
      ]
     },
     "metadata": {},
     "output_type": "display_data"
    }
   ],
   "source": [
    "#assert data['garagetotalsqft'].isnull().sum() == 0\n",
    "\n",
    "# check for outliers\n",
    "f, ax = plt.subplots(nrows=1, ncols=2, figsize=[15, 7])\n",
    "sns.distplot(data['basementsqft'], ax=ax[0]).set_title('Before');\n",
    "\n",
    "max_value = data['basementsqft'].mean() + data['basementsqft'].std() * 6\n",
    "data.loc[data['basementsqft'] > max_value, 'basementsqft'] = max_value\n",
    "\n",
    "sns.distplot(data['basementsqft'].values, ax=ax[1]).set_title('After');"
   ]
  },
  {
   "cell_type": "markdown",
   "metadata": {},
   "source": [
    "### Variable: bathroomcnt - Number of bathrooms in home including fractional bathrooms\n",
    "Has datatype: ordinal and 0.000841 percent of values missing\n",
    "\n",
    "We decided to replace missing values with zeros since there are only very few. \n",
    "\n",
    "<font color ='red'>Pending Item: For homes with high bathroom count, validate against bed room count and square footage. Maybe these are multi family units?</font>"
   ]
  },
  {
   "cell_type": "code",
   "execution_count": 21,
   "metadata": {},
   "outputs": [
    {
     "name": "stdout",
     "output_type": "stream",
     "text": [
      "Before [  0.     2.     4.     3.     1.     2.5    3.5    5.     1.5    4.5    7.5\n",
      "   5.5    6.     7.    10.     8.     9.    12.    11.     8.5    6.5   13.\n",
      "   9.5   14.    20.    19.5   15.    10.5     nan  18.    16.     1.75  17.\n",
      "  19.     0.5   12.5   11.5   14.5 ]\n",
      "After [ 0  2  4  3  1  5  7  6 10  8  9 12 11 13 14 20 19 15 18 16 17]\n"
     ]
    }
   ],
   "source": [
    "print('Before', data['bathroomcnt'].unique())\n",
    "data['bathroomcnt'] = data['bathroomcnt'].fillna(0).astype(np.int32)\n",
    "print('After', data['bathroomcnt'].unique())"
   ]
  },
  {
   "cell_type": "code",
   "execution_count": 22,
   "metadata": {},
   "outputs": [
    {
     "data": {
      "text/plain": [
       "20"
      ]
     },
     "execution_count": 22,
     "metadata": {},
     "output_type": "execute_result"
    }
   ],
   "source": [
    "data['bathroomcnt'].max()"
   ]
  },
  {
   "cell_type": "markdown",
   "metadata": {},
   "source": [
    "### Variable: bedroomcnt - Number of bedrooms in home\n",
    "Has datatype: ordinal and 0.000437 percent of values missing\n",
    "\n",
    "We decided to replace missing values with zeros since there are only very few. \n",
    "\n",
    "<font color ='red'>Pending Item: For homes with high bathroom count, validate against bed room count and square footage. Maybe these are multi family units?</font>"
   ]
  },
  {
   "cell_type": "code",
   "execution_count": 26,
   "metadata": {},
   "outputs": [
    {
     "name": "stdout",
     "output_type": "stream",
     "text": [
      "Before [  0.   4.   5.   2.   3.   1.   6.   7.   8.  12.  11.   9.  10.  14.  16.\n",
      "  13.  nan  15.  17.  18.  20.  19.]\n",
      "After [ 0  4  5  2  3  1  6  7  8 12 11  9 10 14 16 13 15 17 18 20 19]\n"
     ]
    }
   ],
   "source": [
    "print('Before', data['bedroomcnt'].unique())\n",
    "data['bedroomcnt'] = data['bedroomcnt'].fillna(0).astype(np.int32)\n",
    "print('After', data['bedroomcnt'].unique())"
   ]
  },
  {
   "cell_type": "code",
   "execution_count": 27,
   "metadata": {},
   "outputs": [
    {
     "data": {
      "text/plain": [
       "20"
      ]
     },
     "execution_count": 27,
     "metadata": {},
     "output_type": "execute_result"
    }
   ],
   "source": [
    "data['bedroomcnt'].max()"
   ]
  },
  {
   "cell_type": "markdown",
   "metadata": {},
   "source": [
    "### Missing Values"
   ]
  },
  {
   "cell_type": "markdown",
   "metadata": {},
   "source": [
    "Several missing values were found which show up as NaN in the dataframe. "
   ]
  },
  {
   "cell_type": "code",
   "execution_count": 15,
   "metadata": {},
   "outputs": [
    {
     "name": "stdout",
     "output_type": "stream",
     "text": [
      "<class 'pandas.core.frame.DataFrame'>\n",
      "RangeIndex: 2985217 entries, 0 to 2985216\n",
      "Data columns (total 58 columns):\n",
      "parcelid                        int64\n",
      "airconditioningtypeid           float64\n",
      "architecturalstyletypeid        float64\n",
      "basementsqft                    float64\n",
      "bathroomcnt                     float64\n",
      "bedroomcnt                      float64\n",
      "buildingclasstypeid             float64\n",
      "buildingqualitytypeid           float64\n",
      "calculatedbathnbr               float64\n",
      "decktypeid                      float64\n",
      "finishedfloor1squarefeet        float64\n",
      "calculatedfinishedsquarefeet    float64\n",
      "finishedsquarefeet12            float64\n",
      "finishedsquarefeet13            float64\n",
      "finishedsquarefeet15            float64\n",
      "finishedsquarefeet50            float64\n",
      "finishedsquarefeet6             float64\n",
      "fips                            float64\n",
      "fireplacecnt                    float64\n",
      "fullbathcnt                     float64\n",
      "garagecarcnt                    float64\n",
      "garagetotalsqft                 float64\n",
      "hashottuborspa                  object\n",
      "heatingorsystemtypeid           float64\n",
      "latitude                        float64\n",
      "longitude                       float64\n",
      "lotsizesquarefeet               float64\n",
      "poolcnt                         float64\n",
      "poolsizesum                     float64\n",
      "pooltypeid10                    float64\n",
      "pooltypeid2                     float64\n",
      "pooltypeid7                     float64\n",
      "propertycountylandusecode       object\n",
      "propertylandusetypeid           float64\n",
      "propertyzoningdesc              object\n",
      "rawcensustractandblock          float64\n",
      "regionidcity                    float64\n",
      "regionidcounty                  float64\n",
      "regionidneighborhood            float64\n",
      "regionidzip                     float64\n",
      "roomcnt                         float64\n",
      "storytypeid                     float64\n",
      "threequarterbathnbr             float64\n",
      "typeconstructiontypeid          float64\n",
      "unitcnt                         float64\n",
      "yardbuildingsqft17              float64\n",
      "yardbuildingsqft26              float64\n",
      "yearbuilt                       float64\n",
      "numberofstories                 float64\n",
      "fireplaceflag                   object\n",
      "structuretaxvaluedollarcnt      float64\n",
      "taxvaluedollarcnt               float64\n",
      "assessmentyear                  float64\n",
      "landtaxvaluedollarcnt           float64\n",
      "taxamount                       float64\n",
      "taxdelinquencyflag              object\n",
      "taxdelinquencyyear              float64\n",
      "censustractandblock             float64\n",
      "dtypes: float64(52), int64(1), object(5)\n",
      "memory usage: 1.3+ GB\n"
     ]
    }
   ],
   "source": [
    "# Impute NaN ordinal values with 0\n",
    "df[['parcelid','airconditioningtypeid','architecturalstyletypeid','buildingclasstypeid',\n",
    "                    'buildingqualitytypeid','calculatedbathnbr','decktypeid','fips','fireplacecnt',\n",
    "                    'fullbathcnt','garagecarcnt','garagetotalsqft','hashottuborspa','heatingorsystemtypeid',\n",
    "                    'latitude','longitude','poolcnt','pooltypeid10','pooltypeid2','pooltypeid7',\n",
    "                    'propertylandusetypeid','rawcensustractandblock','regionidcity','regionidcounty',\n",
    "                    'regionidneighborhood','regionidzip','roomcnt','storytypeid','threequarterbathnbr',\n",
    "                    'typeconstructiontypeid','unitcnt','yardbuildingsqft17','yearbuilt','numberofstories',\n",
    "                    'fireplaceflag','structuretaxvaluedollarcnt','taxvaluedollarcnt','assessmentyear',\n",
    "                    'landtaxvaluedollarcnt','taxamount','taxdelinquencyyear','censustractandblock']] = df[['parcelid','airconditioningtypeid','architecturalstyletypeid','buildingclasstypeid',\n",
    "                    'buildingqualitytypeid','calculatedbathnbr','decktypeid','fips','fireplacecnt',\n",
    "                    'fullbathcnt','garagecarcnt','garagetotalsqft','hashottuborspa','heatingorsystemtypeid',\n",
    "                    'latitude','longitude','poolcnt','pooltypeid10','pooltypeid2','pooltypeid7',\n",
    "                    'propertylandusetypeid','rawcensustractandblock','regionidcity','regionidcounty',\n",
    "                    'regionidneighborhood','regionidzip','roomcnt','storytypeid','threequarterbathnbr',\n",
    "                    'typeconstructiontypeid','unitcnt','yardbuildingsqft17','yearbuilt','numberofstories',\n",
    "                    'fireplaceflag','structuretaxvaluedollarcnt','taxvaluedollarcnt','assessmentyear',\n",
    "                    'landtaxvaluedollarcnt','taxamount','taxdelinquencyyear','censustractandblock']].fillna(value=0)\n",
    "# df_imputed = df.fillna(0)\n",
    "\n",
    "df.info()"
   ]
  },
  {
   "cell_type": "markdown",
   "metadata": {},
   "source": [
    "### Modify Data Types"
   ]
  },
  {
   "cell_type": "markdown",
   "metadata": {},
   "source": [
    "Once missing values were imputed with zeros, data types can be set appropriately."
   ]
  },
  {
   "cell_type": "code",
   "execution_count": 26,
   "metadata": {},
   "outputs": [
    {
     "name": "stdout",
     "output_type": "stream",
     "text": [
      "<class 'pandas.core.frame.DataFrame'>\n",
      "RangeIndex: 2985217 entries, 0 to 2985216\n",
      "Data columns (total 58 columns):\n",
      "parcelid                        int64\n",
      "airconditioningtypeid           int64\n",
      "architecturalstyletypeid        int64\n",
      "basementsqft                    float64\n",
      "bathroomcnt                     float64\n",
      "bedroomcnt                      float64\n",
      "buildingclasstypeid             int64\n",
      "buildingqualitytypeid           int64\n",
      "calculatedbathnbr               int64\n",
      "decktypeid                      int64\n",
      "finishedfloor1squarefeet        float64\n",
      "calculatedfinishedsquarefeet    float64\n",
      "finishedsquarefeet12            float64\n",
      "finishedsquarefeet13            float64\n",
      "finishedsquarefeet15            float64\n",
      "finishedsquarefeet50            float64\n",
      "finishedsquarefeet6             float64\n",
      "fips                            int64\n",
      "fireplacecnt                    int64\n",
      "fullbathcnt                     int64\n",
      "garagecarcnt                    int64\n",
      "garagetotalsqft                 int64\n",
      "hashottuborspa                  int64\n",
      "heatingorsystemtypeid           int64\n",
      "latitude                        int64\n",
      "longitude                       int64\n",
      "lotsizesquarefeet               float64\n",
      "poolcnt                         int64\n",
      "poolsizesum                     float64\n",
      "pooltypeid10                    int64\n",
      "pooltypeid2                     int64\n",
      "pooltypeid7                     int64\n",
      "propertycountylandusecode       object\n",
      "propertylandusetypeid           int64\n",
      "propertyzoningdesc              object\n",
      "rawcensustractandblock          int64\n",
      "regionidcity                    int64\n",
      "regionidcounty                  int64\n",
      "regionidneighborhood            int64\n",
      "regionidzip                     int64\n",
      "roomcnt                         int64\n",
      "storytypeid                     int64\n",
      "threequarterbathnbr             int64\n",
      "typeconstructiontypeid          int64\n",
      "unitcnt                         int64\n",
      "yardbuildingsqft17              int64\n",
      "yardbuildingsqft26              float64\n",
      "yearbuilt                       int64\n",
      "numberofstories                 int64\n",
      "fireplaceflag                   int64\n",
      "structuretaxvaluedollarcnt      int64\n",
      "taxvaluedollarcnt               int64\n",
      "assessmentyear                  int64\n",
      "landtaxvaluedollarcnt           int64\n",
      "taxamount                       int64\n",
      "taxdelinquencyflag              object\n",
      "taxdelinquencyyear              int64\n",
      "censustractandblock             int64\n",
      "dtypes: float64(13), int64(42), object(3)\n",
      "memory usage: 1.3+ GB\n"
     ]
    },
    {
     "data": {
      "text/html": [
       "<div>\n",
       "<style>\n",
       "    .dataframe thead tr:only-child th {\n",
       "        text-align: right;\n",
       "    }\n",
       "\n",
       "    .dataframe thead th {\n",
       "        text-align: left;\n",
       "    }\n",
       "\n",
       "    .dataframe tbody tr th {\n",
       "        vertical-align: top;\n",
       "    }\n",
       "</style>\n",
       "<table border=\"1\" class=\"dataframe\">\n",
       "  <thead>\n",
       "    <tr style=\"text-align: right;\">\n",
       "      <th></th>\n",
       "      <th>parcelid</th>\n",
       "      <th>airconditioningtypeid</th>\n",
       "      <th>architecturalstyletypeid</th>\n",
       "      <th>basementsqft</th>\n",
       "      <th>bathroomcnt</th>\n",
       "      <th>bedroomcnt</th>\n",
       "      <th>buildingclasstypeid</th>\n",
       "      <th>buildingqualitytypeid</th>\n",
       "      <th>calculatedbathnbr</th>\n",
       "      <th>decktypeid</th>\n",
       "      <th>...</th>\n",
       "      <th>yearbuilt</th>\n",
       "      <th>numberofstories</th>\n",
       "      <th>fireplaceflag</th>\n",
       "      <th>structuretaxvaluedollarcnt</th>\n",
       "      <th>taxvaluedollarcnt</th>\n",
       "      <th>assessmentyear</th>\n",
       "      <th>landtaxvaluedollarcnt</th>\n",
       "      <th>taxamount</th>\n",
       "      <th>taxdelinquencyyear</th>\n",
       "      <th>censustractandblock</th>\n",
       "    </tr>\n",
       "  </thead>\n",
       "  <tbody>\n",
       "    <tr>\n",
       "      <th>count</th>\n",
       "      <td>2.985217e+06</td>\n",
       "      <td>2.985217e+06</td>\n",
       "      <td>2.985217e+06</td>\n",
       "      <td>1628.000000</td>\n",
       "      <td>2.973755e+06</td>\n",
       "      <td>2.973767e+06</td>\n",
       "      <td>2.985217e+06</td>\n",
       "      <td>2.985217e+06</td>\n",
       "      <td>2.985217e+06</td>\n",
       "      <td>2.985217e+06</td>\n",
       "      <td>...</td>\n",
       "      <td>2.985217e+06</td>\n",
       "      <td>2.985217e+06</td>\n",
       "      <td>2.985217e+06</td>\n",
       "      <td>2.985217e+06</td>\n",
       "      <td>2.985217e+06</td>\n",
       "      <td>2.985217e+06</td>\n",
       "      <td>2.985217e+06</td>\n",
       "      <td>2.985217e+06</td>\n",
       "      <td>2.985217e+06</td>\n",
       "      <td>2.985217e+06</td>\n",
       "    </tr>\n",
       "    <tr>\n",
       "      <th>mean</th>\n",
       "      <td>1.332586e+07</td>\n",
       "      <td>5.249796e-01</td>\n",
       "      <td>1.462373e-02</td>\n",
       "      <td>646.883292</td>\n",
       "      <td>2.209143e+00</td>\n",
       "      <td>3.088949e+00</td>\n",
       "      <td>1.576267e-02</td>\n",
       "      <td>3.756424e+00</td>\n",
       "      <td>2.148178e+00</td>\n",
       "      <td>3.779745e-01</td>\n",
       "      <td>...</td>\n",
       "      <td>1.924829e+03</td>\n",
       "      <td>3.202096e-01</td>\n",
       "      <td>1.729523e-03</td>\n",
       "      <td>1.677362e+05</td>\n",
       "      <td>4.144857e+05</td>\n",
       "      <td>2.007278e+03</td>\n",
       "      <td>2.467494e+05</td>\n",
       "      <td>5.320825e+03</td>\n",
       "      <td>2.627685e-01</td>\n",
       "      <td>5.896216e+13</td>\n",
       "    </tr>\n",
       "    <tr>\n",
       "      <th>std</th>\n",
       "      <td>7.909966e+06</td>\n",
       "      <td>1.852887e+00</td>\n",
       "      <td>3.422926e-01</td>\n",
       "      <td>538.793473</td>\n",
       "      <td>1.077754e+00</td>\n",
       "      <td>1.275859e+00</td>\n",
       "      <td>2.440230e-01</td>\n",
       "      <td>3.120234e+00</td>\n",
       "      <td>1.073639e+00</td>\n",
       "      <td>4.980307e+00</td>\n",
       "      <td>...</td>\n",
       "      <td>2.764763e+02</td>\n",
       "      <td>6.423593e-01</td>\n",
       "      <td>4.155156e-02</td>\n",
       "      <td>3.990106e+05</td>\n",
       "      <td>7.228719e+05</td>\n",
       "      <td>1.244937e+02</td>\n",
       "      <td>4.415392e+05</td>\n",
       "      <td>9.151294e+03</td>\n",
       "      <td>1.925471e+00</td>\n",
       "      <td>9.479036e+12</td>\n",
       "    </tr>\n",
       "    <tr>\n",
       "      <th>min</th>\n",
       "      <td>1.071172e+07</td>\n",
       "      <td>0.000000e+00</td>\n",
       "      <td>0.000000e+00</td>\n",
       "      <td>20.000000</td>\n",
       "      <td>0.000000e+00</td>\n",
       "      <td>0.000000e+00</td>\n",
       "      <td>0.000000e+00</td>\n",
       "      <td>0.000000e+00</td>\n",
       "      <td>0.000000e+00</td>\n",
       "      <td>0.000000e+00</td>\n",
       "      <td>...</td>\n",
       "      <td>0.000000e+00</td>\n",
       "      <td>0.000000e+00</td>\n",
       "      <td>0.000000e+00</td>\n",
       "      <td>0.000000e+00</td>\n",
       "      <td>0.000000e+00</td>\n",
       "      <td>0.000000e+00</td>\n",
       "      <td>0.000000e+00</td>\n",
       "      <td>0.000000e+00</td>\n",
       "      <td>0.000000e+00</td>\n",
       "      <td>-1.000000e+00</td>\n",
       "    </tr>\n",
       "    <tr>\n",
       "      <th>25%</th>\n",
       "      <td>1.164371e+07</td>\n",
       "      <td>0.000000e+00</td>\n",
       "      <td>0.000000e+00</td>\n",
       "      <td>272.000000</td>\n",
       "      <td>2.000000e+00</td>\n",
       "      <td>2.000000e+00</td>\n",
       "      <td>0.000000e+00</td>\n",
       "      <td>0.000000e+00</td>\n",
       "      <td>2.000000e+00</td>\n",
       "      <td>0.000000e+00</td>\n",
       "      <td>...</td>\n",
       "      <td>1.950000e+03</td>\n",
       "      <td>0.000000e+00</td>\n",
       "      <td>0.000000e+00</td>\n",
       "      <td>7.216500e+04</td>\n",
       "      <td>1.738980e+05</td>\n",
       "      <td>2.015000e+03</td>\n",
       "      <td>6.821400e+04</td>\n",
       "      <td>2.409000e+03</td>\n",
       "      <td>0.000000e+00</td>\n",
       "      <td>6.037301e+13</td>\n",
       "    </tr>\n",
       "    <tr>\n",
       "      <th>50%</th>\n",
       "      <td>1.254509e+07</td>\n",
       "      <td>0.000000e+00</td>\n",
       "      <td>0.000000e+00</td>\n",
       "      <td>534.000000</td>\n",
       "      <td>2.000000e+00</td>\n",
       "      <td>3.000000e+00</td>\n",
       "      <td>0.000000e+00</td>\n",
       "      <td>4.000000e+00</td>\n",
       "      <td>2.000000e+00</td>\n",
       "      <td>0.000000e+00</td>\n",
       "      <td>...</td>\n",
       "      <td>1.963000e+03</td>\n",
       "      <td>0.000000e+00</td>\n",
       "      <td>0.000000e+00</td>\n",
       "      <td>1.205040e+05</td>\n",
       "      <td>3.018630e+05</td>\n",
       "      <td>2.015000e+03</td>\n",
       "      <td>1.624370e+05</td>\n",
       "      <td>3.956000e+03</td>\n",
       "      <td>0.000000e+00</td>\n",
       "      <td>6.037555e+13</td>\n",
       "    </tr>\n",
       "    <tr>\n",
       "      <th>75%</th>\n",
       "      <td>1.409712e+07</td>\n",
       "      <td>1.000000e+00</td>\n",
       "      <td>0.000000e+00</td>\n",
       "      <td>847.250000</td>\n",
       "      <td>3.000000e+00</td>\n",
       "      <td>4.000000e+00</td>\n",
       "      <td>0.000000e+00</td>\n",
       "      <td>7.000000e+00</td>\n",
       "      <td>3.000000e+00</td>\n",
       "      <td>0.000000e+00</td>\n",
       "      <td>...</td>\n",
       "      <td>1.981000e+03</td>\n",
       "      <td>0.000000e+00</td>\n",
       "      <td>0.000000e+00</td>\n",
       "      <td>1.947780e+05</td>\n",
       "      <td>4.840000e+05</td>\n",
       "      <td>2.015000e+03</td>\n",
       "      <td>3.022000e+05</td>\n",
       "      <td>6.166000e+03</td>\n",
       "      <td>0.000000e+00</td>\n",
       "      <td>6.059042e+13</td>\n",
       "    </tr>\n",
       "    <tr>\n",
       "      <th>max</th>\n",
       "      <td>1.696019e+08</td>\n",
       "      <td>1.300000e+01</td>\n",
       "      <td>2.700000e+01</td>\n",
       "      <td>8516.000000</td>\n",
       "      <td>2.000000e+01</td>\n",
       "      <td>2.000000e+01</td>\n",
       "      <td>5.000000e+00</td>\n",
       "      <td>1.200000e+01</td>\n",
       "      <td>2.000000e+01</td>\n",
       "      <td>6.600000e+01</td>\n",
       "      <td>...</td>\n",
       "      <td>2.015000e+03</td>\n",
       "      <td>4.100000e+01</td>\n",
       "      <td>1.000000e+00</td>\n",
       "      <td>2.514860e+08</td>\n",
       "      <td>2.827860e+08</td>\n",
       "      <td>2.016000e+03</td>\n",
       "      <td>9.024622e+07</td>\n",
       "      <td>3.458861e+06</td>\n",
       "      <td>9.900000e+01</td>\n",
       "      <td>4.830301e+14</td>\n",
       "    </tr>\n",
       "  </tbody>\n",
       "</table>\n",
       "<p>8 rows × 55 columns</p>\n",
       "</div>"
      ],
      "text/plain": [
       "           parcelid  airconditioningtypeid  architecturalstyletypeid  \\\n",
       "count  2.985217e+06           2.985217e+06              2.985217e+06   \n",
       "mean   1.332586e+07           5.249796e-01              1.462373e-02   \n",
       "std    7.909966e+06           1.852887e+00              3.422926e-01   \n",
       "min    1.071172e+07           0.000000e+00              0.000000e+00   \n",
       "25%    1.164371e+07           0.000000e+00              0.000000e+00   \n",
       "50%    1.254509e+07           0.000000e+00              0.000000e+00   \n",
       "75%    1.409712e+07           1.000000e+00              0.000000e+00   \n",
       "max    1.696019e+08           1.300000e+01              2.700000e+01   \n",
       "\n",
       "       basementsqft   bathroomcnt    bedroomcnt  buildingclasstypeid  \\\n",
       "count   1628.000000  2.973755e+06  2.973767e+06         2.985217e+06   \n",
       "mean     646.883292  2.209143e+00  3.088949e+00         1.576267e-02   \n",
       "std      538.793473  1.077754e+00  1.275859e+00         2.440230e-01   \n",
       "min       20.000000  0.000000e+00  0.000000e+00         0.000000e+00   \n",
       "25%      272.000000  2.000000e+00  2.000000e+00         0.000000e+00   \n",
       "50%      534.000000  2.000000e+00  3.000000e+00         0.000000e+00   \n",
       "75%      847.250000  3.000000e+00  4.000000e+00         0.000000e+00   \n",
       "max     8516.000000  2.000000e+01  2.000000e+01         5.000000e+00   \n",
       "\n",
       "       buildingqualitytypeid  calculatedbathnbr    decktypeid  \\\n",
       "count           2.985217e+06       2.985217e+06  2.985217e+06   \n",
       "mean            3.756424e+00       2.148178e+00  3.779745e-01   \n",
       "std             3.120234e+00       1.073639e+00  4.980307e+00   \n",
       "min             0.000000e+00       0.000000e+00  0.000000e+00   \n",
       "25%             0.000000e+00       2.000000e+00  0.000000e+00   \n",
       "50%             4.000000e+00       2.000000e+00  0.000000e+00   \n",
       "75%             7.000000e+00       3.000000e+00  0.000000e+00   \n",
       "max             1.200000e+01       2.000000e+01  6.600000e+01   \n",
       "\n",
       "              ...              yearbuilt  numberofstories  fireplaceflag  \\\n",
       "count         ...           2.985217e+06     2.985217e+06   2.985217e+06   \n",
       "mean          ...           1.924829e+03     3.202096e-01   1.729523e-03   \n",
       "std           ...           2.764763e+02     6.423593e-01   4.155156e-02   \n",
       "min           ...           0.000000e+00     0.000000e+00   0.000000e+00   \n",
       "25%           ...           1.950000e+03     0.000000e+00   0.000000e+00   \n",
       "50%           ...           1.963000e+03     0.000000e+00   0.000000e+00   \n",
       "75%           ...           1.981000e+03     0.000000e+00   0.000000e+00   \n",
       "max           ...           2.015000e+03     4.100000e+01   1.000000e+00   \n",
       "\n",
       "       structuretaxvaluedollarcnt  taxvaluedollarcnt  assessmentyear  \\\n",
       "count                2.985217e+06       2.985217e+06    2.985217e+06   \n",
       "mean                 1.677362e+05       4.144857e+05    2.007278e+03   \n",
       "std                  3.990106e+05       7.228719e+05    1.244937e+02   \n",
       "min                  0.000000e+00       0.000000e+00    0.000000e+00   \n",
       "25%                  7.216500e+04       1.738980e+05    2.015000e+03   \n",
       "50%                  1.205040e+05       3.018630e+05    2.015000e+03   \n",
       "75%                  1.947780e+05       4.840000e+05    2.015000e+03   \n",
       "max                  2.514860e+08       2.827860e+08    2.016000e+03   \n",
       "\n",
       "       landtaxvaluedollarcnt     taxamount  taxdelinquencyyear  \\\n",
       "count           2.985217e+06  2.985217e+06        2.985217e+06   \n",
       "mean            2.467494e+05  5.320825e+03        2.627685e-01   \n",
       "std             4.415392e+05  9.151294e+03        1.925471e+00   \n",
       "min             0.000000e+00  0.000000e+00        0.000000e+00   \n",
       "25%             6.821400e+04  2.409000e+03        0.000000e+00   \n",
       "50%             1.624370e+05  3.956000e+03        0.000000e+00   \n",
       "75%             3.022000e+05  6.166000e+03        0.000000e+00   \n",
       "max             9.024622e+07  3.458861e+06        9.900000e+01   \n",
       "\n",
       "       censustractandblock  \n",
       "count         2.985217e+06  \n",
       "mean          5.896216e+13  \n",
       "std           9.479036e+12  \n",
       "min          -1.000000e+00  \n",
       "25%           6.037301e+13  \n",
       "50%           6.037555e+13  \n",
       "75%           6.059042e+13  \n",
       "max           4.830301e+14  \n",
       "\n",
       "[8 rows x 55 columns]"
      ]
     },
     "execution_count": 26,
     "metadata": {},
     "output_type": "execute_result"
    }
   ],
   "source": [
    "# replace missing values with -1\n",
    "df = df.replace(to_replace='?',value=-1)\n",
    "\n",
    "# format continuous variables\n",
    "continuous_features = ['basementsqft','bathroomcnt','bedroomcnt','finishedfloor1squarefeet',\n",
    "                       'calculatedfinishedsquarefeet','finishedsquarefeet12','finishedsquarefeet13',\n",
    "                       'finishedsquarefeet15','finishedsquarefeet50','finishedsquarefeet6','lotsizesquarefeet',\n",
    "                       'poolsizesum']\n",
    "\n",
    "# format ordinal/integer variables\n",
    "# includes integers that are categorical\n",
    "ordinal_features = ['parcelid','airconditioningtypeid','architecturalstyletypeid','buildingclasstypeid',\n",
    "                    'buildingqualitytypeid','calculatedbathnbr','decktypeid','fips','fireplacecnt',\n",
    "                    'fullbathcnt','garagecarcnt','garagetotalsqft','hashottuborspa','heatingorsystemtypeid',\n",
    "                    'latitude','longitude','poolcnt','pooltypeid10','pooltypeid2','pooltypeid7',\n",
    "                    'propertylandusetypeid','rawcensustractandblock','regionidcity','regionidcounty',\n",
    "                    'regionidneighborhood','regionidzip','roomcnt','storytypeid','threequarterbathnbr',\n",
    "                    'typeconstructiontypeid','unitcnt','yardbuildingsqft17','yearbuilt','numberofstories',\n",
    "                    'fireplaceflag','structuretaxvaluedollarcnt','taxvaluedollarcnt','assessmentyear',\n",
    "                    'landtaxvaluedollarcnt','taxamount','taxdelinquencyyear','censustractandblock']\n",
    "\n",
    "# format string variables\n",
    "string_features = ['propertycountylandusecode','propertyzoningdesc','taxdelinquencyflag']\n",
    "\n",
    "#df[continuous_features] = [continuous_features].astype(np.float64)\n",
    "df[ordinal_features] = df[ordinal_features].astype(np.int64)\n",
    "#df[string_features] = df[string_features].astype(str)\n",
    "\n",
    "# After imputation and modifiying data types, view of new data info and preliminary statistics\n",
    "df.info()\n",
    "df.describe()"
   ]
  },
  {
   "cell_type": "markdown",
   "metadata": {},
   "source": [
    "# Simple Statistics\n",
    "<b>10 points</b>\n",
    "\n",
    "<i>\n",
    "<b>Description:</b><br/>\n",
    "Visualize appropriate statistics (e.g., range, mode, mean, median, variance, counts) for a subset of attributes. Describe anything meaningful you found from this or if you found something potentially interesting. Note: You can also use data from other sources for comparison. Explain why the statistics run are meaningful. \n",
    "</i>\n",
    "\n",
    "<b>Answer:</b><br/>\n",
    "..."
   ]
  },
  {
   "cell_type": "code",
   "execution_count": 16,
   "metadata": {
    "collapsed": true
   },
   "outputs": [],
   "source": [
    "# code here"
   ]
  },
  {
   "cell_type": "markdown",
   "metadata": {},
   "source": [
    "# Visualize Attributes\n",
    "<b>15 points</b>\n",
    "\n",
    "<i>\n",
    "<b>Description:</b><br/>\n",
    "Visualize the most interesting attributes (at least 5 attributes, your opinion on what is interesting). Important: Interpret the implications for each visualization. Explain for each attribute why the chosen visualization is appropriate.\n",
    "</i>\n",
    "\n",
    "<b>Answer:</b><br/>\n",
    "..."
   ]
  },
  {
   "cell_type": "code",
   "execution_count": 17,
   "metadata": {
    "collapsed": true
   },
   "outputs": [],
   "source": [
    "# code here"
   ]
  },
  {
   "cell_type": "markdown",
   "metadata": {},
   "source": [
    "# Explore Joint Attributes\n",
    "<b>15 points</b>\n",
    "\n",
    "<i>\n",
    "<b>Description:</b><br/>\n",
    "Visualize relationships between attributes: Look at the attributes via scatter plots, correlation, cross-tabulation, group-wise averages, etc. as appropriate. Explain any interesting relationships.\n",
    "</i>\n",
    "\n",
    "<b>Answer:</b><br/>\n",
    "..."
   ]
  },
  {
   "cell_type": "code",
   "execution_count": 18,
   "metadata": {
    "collapsed": true
   },
   "outputs": [],
   "source": [
    "# code here"
   ]
  },
  {
   "cell_type": "markdown",
   "metadata": {},
   "source": [
    "# Explore Attributes and Class\n",
    "<b>10 points</b>\n",
    "\n",
    "<i>\n",
    "<b>Description:</b><br/>\n",
    "Identify and explain interesting relationships between features and the class you are trying to predict (i.e., relationships with variables and the target classification).\n",
    "</i>\n",
    "\n",
    "<b>Answer:</b><br/>\n",
    "..."
   ]
  },
  {
   "cell_type": "code",
   "execution_count": 19,
   "metadata": {
    "collapsed": true
   },
   "outputs": [],
   "source": [
    "# code here"
   ]
  },
  {
   "cell_type": "markdown",
   "metadata": {},
   "source": [
    "# New Features\n",
    "<b>5 points</b>\n",
    "\n",
    "<i>\n",
    "<b>Description:</b><br/>\n",
    "Are there other features that could be added to the data or created from existing features? Which ones?\n",
    "</i>\n",
    "\n",
    "<b>Answer:</b><br/>\n",
    "..."
   ]
  },
  {
   "cell_type": "code",
   "execution_count": 20,
   "metadata": {
    "collapsed": true
   },
   "outputs": [],
   "source": [
    "# code here"
   ]
  },
  {
   "cell_type": "markdown",
   "metadata": {},
   "source": [
    "# Exceptional Work\n",
    "<b>10 points</b>\n",
    "\n",
    "<i>\n",
    "<b>Description:</b><br/>\n",
    "You have free reign to provide additional analyses. One idea: implement dimensionality reduction, then visualize and interpret the results.\n",
    "</i>\n",
    "\n",
    "<b>Answer:</b><br/>\n",
    "..."
   ]
  },
  {
   "cell_type": "code",
   "execution_count": 21,
   "metadata": {
    "collapsed": true
   },
   "outputs": [],
   "source": [
    "# code here"
   ]
  }
 ],
 "metadata": {
  "kernelspec": {
   "display_name": "Python 3",
   "language": "python",
   "name": "python3"
  },
  "language_info": {
   "codemirror_mode": {
    "name": "ipython",
    "version": 3
   },
   "file_extension": ".py",
   "mimetype": "text/x-python",
   "name": "python",
   "nbconvert_exporter": "python",
   "pygments_lexer": "ipython3",
   "version": "3.6.1"
  }
 },
 "nbformat": 4,
 "nbformat_minor": 2
}
