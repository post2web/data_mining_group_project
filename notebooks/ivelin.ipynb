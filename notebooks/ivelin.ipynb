{
 "cells": [
  {
   "cell_type": "code",
   "execution_count": 9,
   "metadata": {
    "scrolled": true
   },
   "outputs": [
    {
     "name": "stderr",
     "output_type": "stream",
     "text": [
      "/usr/local/lib/python3.5/site-packages/IPython/core/interactiveshell.py:2698: DtypeWarning: Columns (22,32,34,49,55) have mixed types. Specify dtype option on import or set low_memory=False.\n",
      "  interactivity=interactivity, compiler=compiler, result=result)\n"
     ]
    }
   ],
   "source": [
    "# imports here:\n",
    "%matplotlib inline\n",
    "import numpy as np\n",
    "import pandas as pd\n",
    "import matplotlib.pyplot as plt\n",
    "import seaborn as sns\n",
    "\n",
    "# load datasets here:\n",
    "#train_data = pd.read_csv('../input/train_2016_v2.csv')\n",
    "data = pd.read_csv('../input/properties_2016.csv')\n"
   ]
  },
  {
   "cell_type": "markdown",
   "metadata": {},
   "source": [
    "# Business Understanding\n",
    "<b>10 points</b>\n",
    "\n",
    "<i>\n",
    "<b>Description:</b><br/>\n",
    "Describe the purpose of the data set you selected (i.e., why was this data collected in the first place?). Describe how you would define and measure the outcomes from the dataset. That is, why is this data important and how do you know if you have mined useful knowledge from the dataset? How would you measure the effectiveness of a good prediction algorithm? Be specific.\n",
    "</i>\n",
    "\n",
    "<b>Answer:</b><br/>\n",
    "..."
   ]
  },
  {
   "cell_type": "code",
   "execution_count": null,
   "metadata": {
    "collapsed": true
   },
   "outputs": [],
   "source": [
    "# code here"
   ]
  },
  {
   "cell_type": "markdown",
   "metadata": {},
   "source": [
    "# Data Meaning Type\n",
    "<b>10 points</b>\n",
    "\n",
    "<i>\n",
    "<b>Description:</b><br/>\n",
    "Describe the meaning and type of data (scale, values, etc.) for each attribute in the data file.\n",
    "</i>\n",
    "\n",
    "<b>Answer:</b><br/>\n",
    "..."
   ]
  },
  {
   "cell_type": "code",
   "execution_count": 15,
   "metadata": {},
   "outputs": [
    {
     "data": {
      "text/html": [
       "<table><tr><th>Variable</th><th>Description</th></tr><tr><td>airconditioningtypeid</td><td>Type of cooling system present in the home (if any)</td></tr><tr><td>architecturalstyletypeid</td><td>Architectural style of the home (i.e. ranch, colonial, split-level, etc…)</td></tr><tr><td>basementsqft</td><td>Finished living area below or partially below ground level</td></tr><tr><td>bathroomcnt</td><td>Number of bathrooms in home including fractional bathrooms</td></tr><tr><td>bedroomcnt</td><td>Number of bedrooms in home</td></tr><tr><td>buildingqualitytypeid</td><td>Overall assessment of condition of the building from best (lowest) to worst (highest)</td></tr><tr><td>buildingclasstypeid</td><td>The building framing type (steel frame, wood frame, concrete/brick)</td></tr><tr><td>calculatedbathnbr</td><td>Number of bathrooms in home including fractional bathroom</td></tr><tr><td>decktypeid</td><td>Type of deck (if any) present on parcel</td></tr><tr><td>threequarterbathnbr</td><td>Number of 3/4 bathrooms in house (shower + sink + toilet)</td></tr><tr><td>finishedfloor1squarefeet</td><td>Size of the finished living area on the first (entry) floor of the home</td></tr><tr><td>calculatedfinishedsquarefeet</td><td>Calculated total finished living area of the home</td></tr><tr><td>finishedsquarefeet6</td><td>Base unfinished and finished area</td></tr><tr><td>finishedsquarefeet12</td><td>Finished living area</td></tr><tr><td>finishedsquarefeet13</td><td>Perimeter living area</td></tr><tr><td>finishedsquarefeet15</td><td>Total area</td></tr><tr><td>finishedsquarefeet50</td><td>Size of the finished living area on the first (entry) floor of the home</td></tr><tr><td>fips</td><td>Federal Information Processing Standard code - see https://en.wikipedia.org/wiki/FIPS_county_code for more details</td></tr><tr><td>fireplacecnt</td><td>Number of fireplaces in a home (if any)</td></tr><tr><td>fireplaceflag</td><td>Is a fireplace present in this home</td></tr><tr><td>fullbathcnt</td><td>Number of full bathrooms (sink, shower + bathtub, and toilet) present in home</td></tr><tr><td>garagecarcnt</td><td>Total number of garages on the lot including an attached garage</td></tr><tr><td>garagetotalsqft</td><td>Total number of square feet of all garages on lot including an attached garage</td></tr><tr><td>hashottuborspa</td><td>Does the home have a hot tub or spa</td></tr><tr><td>heatingorsystemtypeid</td><td>Type of home heating system</td></tr><tr><td>latitude</td><td>Latitude of the middle of the parcel multiplied by 10e6</td></tr><tr><td>longitude</td><td>Longitude of the middle of the parcel multiplied by 10e6</td></tr><tr><td>lotsizesquarefeet</td><td>Area of the lot in square feet</td></tr><tr><td>numberofstories</td><td>Number of stories or levels the home has</td></tr><tr><td>parcelid</td><td>Unique identifier for parcels (lots)</td></tr><tr><td>poolcnt</td><td>Number of pools on the lot (if any)</td></tr><tr><td>poolsizesum</td><td>Total square footage of all pools on property</td></tr><tr><td>pooltypeid10</td><td>Spa or Hot Tub</td></tr><tr><td>pooltypeid2</td><td>Pool with Spa/Hot Tub</td></tr><tr><td>pooltypeid7</td><td>Pool without hot tub</td></tr><tr><td>propertycountylandusecode</td><td>County land use code i.e. it's zoning at the county level</td></tr><tr><td>propertylandusetypeid</td><td>Type of land use the property is zoned for</td></tr><tr><td>propertyzoningdesc</td><td>Description of the allowed land uses (zoning) for that property</td></tr><tr><td>rawcensustractandblock</td><td>Census tract and block ID combined - also contains blockgroup assignment by extension</td></tr><tr><td>censustractandblock</td><td>Census tract and block ID combined - also contains blockgroup assignment by extension</td></tr><tr><td>regionidcounty</td><td>County in which the property is located</td></tr><tr><td>regionidcity</td><td>City in which the property is located (if any)</td></tr><tr><td>regionidzip</td><td>Zip code in which the property is located</td></tr><tr><td>regionidneighborhood</td><td>Neighborhood in which the property is located</td></tr><tr><td>roomcnt</td><td>Total number of rooms in the principal residence</td></tr><tr><td>storytypeid</td><td>Type of floors in a multi-story house (i.e. basement and main level, split-level, attic, etc.). See tab for details.</td></tr><tr><td>typeconstructiontypeid</td><td>What type of construction material was used to construct the home</td></tr><tr><td>unitcnt</td><td>Number of units the structure is built into (i.e. 2 = duplex, 3 = triplex, etc...)</td></tr><tr><td>yardbuildingsqft17</td><td>Patio in yard</td></tr><tr><td>yardbuildingsqft26</td><td>Storage shed/building in yard</td></tr><tr><td>yearbuilt</td><td>The Year the principal residence was built</td></tr><tr><td>taxvaluedollarcnt</td><td>The total tax assessed value of the parcel</td></tr><tr><td>structuretaxvaluedollarcnt</td><td>The assessed value of the built structure on the parcel</td></tr><tr><td>landtaxvaluedollarcnt</td><td>The assessed value of the land area of the parcel</td></tr><tr><td>taxamount</td><td>The total property tax assessed for that assessment year</td></tr><tr><td>assessmentyear</td><td>The year of the property tax assessment</td></tr><tr><td>taxdelinquencyflag</td><td>Property taxes for this parcel are past due as of 2015</td></tr><tr><td>taxdelinquencyyear</td><td>Year</td></tr></table>"
      ],
      "text/plain": [
       "<IPython.core.display.HTML object>"
      ]
     },
     "execution_count": 15,
     "metadata": {},
     "output_type": "execute_result"
    }
   ],
   "source": [
    "from IPython.display import display, HTML\n",
    "\n",
    "variables_description = [\n",
    "('airconditioningtypeid', 'Type of cooling system present in the home (if any)')\n",
    ",('architecturalstyletypeid', 'Architectural style of the home (i.e. ranch, colonial, split-level, etc…)')\n",
    ",('basementsqft', 'Finished living area below or partially below ground level')\n",
    ",('bathroomcnt', 'Number of bathrooms in home including fractional bathrooms')\n",
    ",('bedroomcnt', 'Number of bedrooms in home')\n",
    ",('buildingqualitytypeid', 'Overall assessment of condition of the building from best (lowest) to worst (highest)')\n",
    ",('buildingclasstypeid', 'The building framing type (steel frame, wood frame, concrete/brick)')\n",
    ",('calculatedbathnbr', 'Number of bathrooms in home including fractional bathroom')\n",
    ",('decktypeid', 'Type of deck (if any) present on parcel')\n",
    ",('threequarterbathnbr', 'Number of 3/4 bathrooms in house (shower + sink + toilet)')\n",
    ",('finishedfloor1squarefeet', 'Size of the finished living area on the first (entry) floor of the home')\n",
    ",('calculatedfinishedsquarefeet', 'Calculated total finished living area of the home')\n",
    ",('finishedsquarefeet6', 'Base unfinished and finished area')\n",
    ",('finishedsquarefeet12', 'Finished living area')\n",
    ",('finishedsquarefeet13', 'Perimeter living area')\n",
    ",('finishedsquarefeet15', 'Total area')\n",
    ",('finishedsquarefeet50', 'Size of the finished living area on the first (entry) floor of the home')\n",
    ",('fips', 'Federal Information Processing Standard code - see https://en.wikipedia.org/wiki/FIPS_county_code for more details')\n",
    ",('fireplacecnt', 'Number of fireplaces in a home (if any)')\n",
    ",('fireplaceflag', 'Is a fireplace present in this home')\n",
    ",('fullbathcnt', 'Number of full bathrooms (sink, shower + bathtub, and toilet) present in home')\n",
    ",('garagecarcnt', 'Total number of garages on the lot including an attached garage')\n",
    ",('garagetotalsqft', 'Total number of square feet of all garages on lot including an attached garage')\n",
    ",('hashottuborspa', 'Does the home have a hot tub or spa')\n",
    ",('heatingorsystemtypeid',  'Type of home heating system')\n",
    ",('latitude', 'Latitude of the middle of the parcel multiplied by 10e6')\n",
    ",('longitude', 'Longitude of the middle of the parcel multiplied by 10e6')\n",
    ",('lotsizesquarefeet', 'Area of the lot in square feet')\n",
    ",('numberofstories', 'Number of stories or levels the home has')\n",
    ",('parcelid', 'Unique identifier for parcels (lots)')\n",
    ",('poolcnt', 'Number of pools on the lot (if any)')\n",
    ",('poolsizesum', 'Total square footage of all pools on property')\n",
    ",('pooltypeid10', 'Spa or Hot Tub')\n",
    ",('pooltypeid2', 'Pool with Spa/Hot Tub')\n",
    ",('pooltypeid7', 'Pool without hot tub')\n",
    ",('propertycountylandusecode', 'County land use code i.e. it\\'s zoning at the county level')\n",
    ",('propertylandusetypeid', 'Type of land use the property is zoned for')\n",
    ",('propertyzoningdesc', 'Description of the allowed land uses (zoning) for that property')\n",
    ",('rawcensustractandblock', 'Census tract and block ID combined - also contains blockgroup assignment by extension')\n",
    ",('censustractandblock', 'Census tract and block ID combined - also contains blockgroup assignment by extension')\n",
    ",('regionidcounty', 'County in which the property is located')\n",
    ",('regionidcity', 'City in which the property is located (if any)')\n",
    ",('regionidzip', 'Zip code in which the property is located')\n",
    ",('regionidneighborhood', 'Neighborhood in which the property is located')\n",
    ",('roomcnt', 'Total number of rooms in the principal residence')\n",
    ",('storytypeid', 'Type of floors in a multi-story house (i.e. basement and main level, split-level, attic, etc.). See tab for details.')\n",
    ",('typeconstructiontypeid', 'What type of construction material was used to construct the home')\n",
    ",('unitcnt', 'Number of units the structure is built into (i.e. 2 = duplex, 3 = triplex, etc...)')\n",
    ",('yardbuildingsqft17', 'Patio in yard')\n",
    ",('yardbuildingsqft26', 'Storage shed/building in yard')\n",
    ",('yearbuilt', 'The Year the principal residence was built')\n",
    ",('taxvaluedollarcnt', 'The total tax assessed value of the parcel')\n",
    ",('structuretaxvaluedollarcnt', 'The assessed value of the built structure on the parcel')\n",
    ",('landtaxvaluedollarcnt', 'The assessed value of the land area of the parcel')\n",
    ",('taxamount', 'The total property tax assessed for that assessment year')\n",
    ",('assessmentyear', 'The year of the property tax assessment')\n",
    ",('taxdelinquencyflag', 'Property taxes for this parcel are past due as of 2015')\n",
    ",('taxdelinquencyyear', 'Year')\n",
    "]\n",
    "\n",
    "rows = ['<tr><th>Variable</th><th>Description</th></tr>']\n",
    "for row in variables_description:\n",
    "    rows.append('<tr><td>%s</td><td>%s</td></tr>' % row)\n",
    "HTML('<table>%s</table>' % ''.join(rows))"
   ]
  },
  {
   "cell_type": "code",
   "execution_count": null,
   "metadata": {
    "collapsed": true
   },
   "outputs": [],
   "source": [
    "# code here"
   ]
  },
  {
   "cell_type": "markdown",
   "metadata": {},
   "source": [
    "# Data Quality\n",
    "<b>15 points</b>\n",
    "\n",
    "<i>\n",
    "<b>Description:</b><br/>\n",
    "Verify data quality: Explain any missing values, duplicate data, and outliers. Are those mistakes? How do you deal with these problems? Give justifications for your methods.\n",
    "</i>\n",
    "\n",
    "<b>Answer:</b><br/>\n",
    "..."
   ]
  },
  {
   "cell_type": "code",
   "execution_count": null,
   "metadata": {
    "collapsed": true
   },
   "outputs": [],
   "source": [
    "# code here"
   ]
  },
  {
   "cell_type": "markdown",
   "metadata": {},
   "source": [
    "# Simple Statistics\n",
    "<b>10 points</b>\n",
    "\n",
    "<i>\n",
    "<b>Description:</b><br/>\n",
    "Visualize appropriate statistics (e.g., range, mode, mean, median, variance, counts) for a subset of attributes. Describe anything meaningful you found from this or if you found something potentially interesting. Note: You can also use data from other sources for comparison. Explain why the statistics run are meaningful. \n",
    "</i>\n",
    "\n",
    "<b>Answer:</b><br/>\n",
    "..."
   ]
  },
  {
   "cell_type": "code",
   "execution_count": 1,
   "metadata": {
    "collapsed": true
   },
   "outputs": [],
   "source": [
    "# code here"
   ]
  },
  {
   "cell_type": "markdown",
   "metadata": {},
   "source": [
    "# Visualize Attributes\n",
    "<b>15 points</b>\n",
    "\n",
    "<i>\n",
    "<b>Description:</b><br/>\n",
    "Visualize the most interesting attributes (at least 5 attributes, your opinion on what is interesting). Important: Interpret the implications for each visualization. Explain for each attribute why the chosen visualization is appropriate.\n",
    "</i>\n",
    "\n",
    "<b>Answer:</b><br/>\n",
    "..."
   ]
  },
  {
   "cell_type": "code",
   "execution_count": null,
   "metadata": {
    "collapsed": true
   },
   "outputs": [],
   "source": [
    "# code here"
   ]
  },
  {
   "cell_type": "markdown",
   "metadata": {},
   "source": [
    "# Explore Joint Attributes\n",
    "<b>15 points</b>\n",
    "\n",
    "<i>\n",
    "<b>Description:</b><br/>\n",
    "Visualize relationships between attributes: Look at the attributes via scatter plots, correlation, cross-tabulation, group-wise averages, etc. as appropriate. Explain any interesting relationships.\n",
    "</i>\n",
    "\n",
    "<b>Answer:</b><br/>\n",
    "..."
   ]
  },
  {
   "cell_type": "code",
   "execution_count": null,
   "metadata": {
    "collapsed": true
   },
   "outputs": [],
   "source": [
    "# code here"
   ]
  },
  {
   "cell_type": "markdown",
   "metadata": {},
   "source": [
    "# Explore Attributes and Class\n",
    "<b>10 points</b>\n",
    "\n",
    "<i>\n",
    "<b>Description:</b><br/>\n",
    "Identify and explain interesting relationships between features and the class you are trying to predict (i.e., relationships with variables and the target classification).\n",
    "</i>\n",
    "\n",
    "<b>Answer:</b><br/>\n",
    "..."
   ]
  },
  {
   "cell_type": "code",
   "execution_count": null,
   "metadata": {
    "collapsed": true
   },
   "outputs": [],
   "source": [
    "# code here"
   ]
  },
  {
   "cell_type": "markdown",
   "metadata": {},
   "source": [
    "# New Features\n",
    "<b>5 points</b>\n",
    "\n",
    "<i>\n",
    "<b>Description:</b><br/>\n",
    "Are there other features that could be added to the data or created from existing features? Which ones?\n",
    "</i>\n",
    "\n",
    "<b>Answer:</b><br/>\n",
    "..."
   ]
  },
  {
   "cell_type": "code",
   "execution_count": null,
   "metadata": {
    "collapsed": true
   },
   "outputs": [],
   "source": [
    "# code here"
   ]
  },
  {
   "cell_type": "markdown",
   "metadata": {},
   "source": [
    "# Exceptional Work\n",
    "<b>10 points</b>\n",
    "\n",
    "<i>\n",
    "<b>Description:</b><br/>\n",
    "You have free reign to provide additional analyses. One idea: implement dimensionality reduction, then visualize and interpret the results.\n",
    "</i>\n",
    "\n",
    "<b>Answer:</b><br/>\n",
    "..."
   ]
  },
  {
   "cell_type": "code",
   "execution_count": null,
   "metadata": {
    "collapsed": true
   },
   "outputs": [],
   "source": [
    "# code here"
   ]
  }
 ],
 "metadata": {
  "kernelspec": {
   "display_name": "Python 3",
   "language": "python",
   "name": "python3"
  },
  "language_info": {
   "codemirror_mode": {
    "name": "ipython",
    "version": 3
   },
   "file_extension": ".py",
   "mimetype": "text/x-python",
   "name": "python",
   "nbconvert_exporter": "python",
   "pygments_lexer": "ipython3",
   "version": "3.5.2"
  }
 },
 "nbformat": 4,
 "nbformat_minor": 2
}
