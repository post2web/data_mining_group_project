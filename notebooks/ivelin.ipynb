{
 "cells": [
  {
   "cell_type": "code",
   "execution_count": 23,
   "metadata": {
    "scrolled": true
   },
   "outputs": [
    {
     "name": "stderr",
     "output_type": "stream",
     "text": [
      "/usr/local/lib/python3.6/site-packages/IPython/core/interactiveshell.py:2698: DtypeWarning: Columns (22,32,34,49,55) have mixed types. Specify dtype option on import or set low_memory=False.\n",
      "  interactivity=interactivity, compiler=compiler, result=result)\n"
     ]
    }
   ],
   "source": [
    "# imports here:\n",
    "%matplotlib inline\n",
    "import numpy as np\n",
    "import pandas as pd\n",
    "import matplotlib.pyplot as plt\n",
    "import seaborn as sns\n",
    "\n",
    "# load datasets here:\n",
    "#train_data = pd.read_csv('../input/train_2016_v2.csv')\n",
    "data = pd.read_csv('../input/properties_2016.csv')"
   ]
  },
  {
   "cell_type": "markdown",
   "metadata": {},
   "source": [
    "# Business Understanding\n",
    "<b>10 points</b>\n",
    "\n",
    "<i>\n",
    "<b>Description:</b><br/>\n",
    "Describe the purpose of the data set you selected (i.e., why was this data collected in the first place?). Describe how you would define and measure the outcomes from the dataset. That is, why is this data important and how do you know if you have mined useful knowledge from the dataset? How would you measure the effectiveness of a good prediction algorithm? Be specific.\n",
    "</i>\n",
    "\n",
    "<b>Answer:</b><br/>\n",
    "..."
   ]
  },
  {
   "cell_type": "code",
   "execution_count": 2,
   "metadata": {
    "collapsed": true
   },
   "outputs": [],
   "source": [
    "# code here"
   ]
  },
  {
   "cell_type": "markdown",
   "metadata": {},
   "source": [
    "# Data Meaning Type\n",
    "<b>10 points</b>\n",
    "\n",
    "<i>\n",
    "<b>Description:</b><br/>\n",
    "Describe the meaning and type of data (scale, values, etc.) for each attribute in the data file.\n",
    "</i>\n",
    "\n",
    "<b>Answer:</b><br/>\n",
    "...\n",
    "![data_types](../img/data_types.png)"
   ]
  },
  {
   "cell_type": "code",
   "execution_count": 3,
   "metadata": {
    "scrolled": false
   },
   "outputs": [
    {
     "data": {
      "text/html": [
       "<table><tr><th>Variable</th><th>Type</th><th>Scale</th><th>Description</th></tr><tr ><td>airconditioningtypeid</td><td>nominal</td><td>[nan, 1.0, 13.0, 5.0, 11.0, 9.0, 12.0, 3.0]</td><td>Type of cooling system present in the home (if any)</td></tr><tr ><td>architecturalstyletypeid</td><td>nominal</td><td>[nan, 7.0, 21.0, 8.0, 2.0, 3.0, 5.0, 10.0, 27.0]</td><td>Architectural style of the home (i.e. ranch, colonial, split-level, etc…)</td></tr><tr ><td>basementsqft</td><td>ratio</td><td>(20, 8516)</td><td>Finished living area below or partially below ground level</td></tr><tr ><td>bathroomcnt</td><td>ordinal</td><td>[0.0, 2.0, 4.0, 3.0, 1.0, ... (38 More)]</td><td>Number of bathrooms in home including fractional bathrooms</td></tr><tr ><td>bedroomcnt</td><td>ordinal</td><td>[0.0, 4.0, 5.0, 2.0, 3.0, ... (22 More)]</td><td>Number of bedrooms in home</td></tr><tr ><td>buildingqualitytypeid</td><td>ordinal</td><td>[nan, 7.0, 4.0, 10.0, 1.0, ... (13 More)]</td><td>Overall assessment of condition of the building from best (lowest) to worst (highest)</td></tr><tr ><td>buildingclasstypeid</td><td>nominal</td><td>[nan, 3.0, 4.0, 5.0, 2.0, 1.0]</td><td>The building framing type (steel frame, wood frame, concrete/brick)</td></tr><tr ><td>calculatedbathnbr</td><td>ordinal</td><td>[nan, 2.0, 4.0, 3.0, 1.0, ... (35 More)]</td><td>Number of bathrooms in home including fractional bathroom</td></tr><tr ><td>decktypeid</td><td>nominal</td><td>[nan, 66.0]</td><td>Type of deck (if any) present on parcel</td></tr><tr ><td>threequarterbathnbr</td><td>ordinal</td><td>[nan, 1.0, 2.0, 4.0, 3.0, 6.0, 5.0, 7.0]</td><td>Number of 3/4 bathrooms in house (shower + sink + toilet)</td></tr><tr ><td>finishedfloor1squarefeet</td><td>ratio</td><td>(3, 31303)</td><td>Size of the finished living area on the first (entry) floor of the home</td></tr><tr ><td>calculatedfinishedsquarefeet</td><td>ratio</td><td>(1, 952576)</td><td>Calculated total finished living area of the home</td></tr><tr ><td>finishedsquarefeet6</td><td>ratio</td><td>(117, 952576)</td><td>Base unfinished and finished area</td></tr><tr ><td>finishedsquarefeet12</td><td>ratio</td><td>(1, 290345)</td><td>Finished living area</td></tr><tr ><td>finishedsquarefeet13</td><td>ratio</td><td>(120, 2688)</td><td>Perimeter living area</td></tr><tr ><td>finishedsquarefeet15</td><td>ratio</td><td>(112, 820242)</td><td>Total area</td></tr><tr ><td>finishedsquarefeet50</td><td>ratio</td><td>(3, 31303)</td><td>Size of the finished living area on the first (entry) floor of the home</td></tr><tr ><td>fips</td><td>nominal</td><td>[6037.0, 6059.0, 6111.0, nan]</td><td>Federal Information Processing Standard code - see https://en.wikipedia.org/wiki/FIPS_county_code for more details</td></tr><tr ><td>fireplacecnt</td><td>ordinal</td><td>[nan, 3.0, 1.0, 2.0, 4.0, ... (10 More)]</td><td>Number of fireplaces in a home (if any)</td></tr><tr ><td>fireplaceflag</td><td>ordinal</td><td>[nan, True]</td><td>Is a fireplace present in this home</td></tr><tr ><td>fullbathcnt</td><td>ordinal</td><td>[nan, 2.0, 4.0, 3.0, 1.0, ... (21 More)]</td><td>Number of full bathrooms (sink, shower + bathtub, and toilet) present in home</td></tr><tr ><td>garagecarcnt</td><td>ordinal</td><td>[nan, 2.0, 4.0, 1.0, 3.0, ... (25 More)]</td><td>Total number of garages on the lot including an attached garage</td></tr><tr ><td>garagetotalsqft</td><td>ratio</td><td>(0, 7749)</td><td>Total number of square feet of all garages on lot including an attached garage</td></tr><tr ><td>hashottuborspa</td><td>ordinal</td><td>[nan, True]</td><td>Does the home have a hot tub or spa</td></tr><tr ><td>heatingorsystemtypeid</td><td>nominal</td><td>[nan, 2.0, 7.0, 20.0, 6.0, ... (15 More)]</td><td>Type of home heating system</td></tr><tr ><td>latitude</td><td>interval</td><td>(33324388, 34819650)</td><td>Latitude of the middle of the parcel multiplied by 10e6</td></tr><tr ><td>longitude</td><td>interval</td><td>(-119475780, -117554316)</td><td>Longitude of the middle of the parcel multiplied by 10e6</td></tr><tr ><td>lotsizesquarefeet</td><td>ratio</td><td>(100, 328263808)</td><td>Area of the lot in square feet</td></tr><tr ><td>numberofstories</td><td>ordinal</td><td>[nan, 1.0, 4.0, 2.0, 3.0, ... (13 More)]</td><td>Number of stories or levels the home has</td></tr><tr ><td>parcelid</td><td>nominal</td><td>[10754147, 10759547, 10843547, 10859147, 10879947, ... (2985217 More)]</td><td>Unique identifier for parcels (lots)</td></tr><tr ><td>poolcnt</td><td>ordinal</td><td>[nan, 1.0]</td><td>Number of pools on the lot (if any)</td></tr><tr ><td>poolsizesum</td><td>ratio</td><td>(19, 17410)</td><td>Total square footage of all pools on property</td></tr><tr ><td>pooltypeid10</td><td>nominal</td><td>[nan, 1.0]</td><td>Spa or Hot Tub</td></tr><tr ><td>pooltypeid2</td><td>nominal</td><td>[nan, 1.0]</td><td>Pool with Spa/Hot Tub</td></tr><tr ><td>pooltypeid7</td><td>nominal</td><td>[nan, 1.0]</td><td>Pool without hot tub</td></tr><tr ><td>propertycountylandusecode</td><td>nominal</td><td>[010D, 0109, 1200, 1210, 010V, ... (241 More)]</td><td>County land use code i.e. it's zoning at the county level</td></tr><tr ><td>propertylandusetypeid</td><td>nominal</td><td>[269.0, 261.0, 47.0, 31.0, 260.0, ... (16 More)]</td><td>Type of land use the property is zoned for</td></tr><tr ><td>propertyzoningdesc</td><td>nominal</td><td>[nan, LCA11*, LAC2, LAM1, LAC4, ... (5639 More)]</td><td>Description of the allowed land uses (zoning) for that property</td></tr><tr ><td>rawcensustractandblock</td><td>nominal</td><td>[60378002.041, 60378001.011002004, 60377030.012017004, 60371412.023001, 60371232.052003, ... (99394 More)]</td><td>Census tract and block ID combined - also contains blockgroup assignment by extension</td></tr><tr ><td>censustractandblock</td><td>nominal</td><td>[nan, 61110010011023.0, 61110009032019.0, 61110010024015.0, 61110010023002.0, ... (96772 More)]</td><td>Census tract and block ID combined - also contains blockgroup assignment by extension</td></tr><tr ><td>regionidcounty</td><td>nominal</td><td>[3101.0, 1286.0, 2061.0, nan]</td><td>County in which the property is located</td></tr><tr ><td>regionidcity</td><td>nominal</td><td>[37688.0, 51617.0, 12447.0, 396054.0, 47547.0, ... (187 More)]</td><td>City in which the property is located (if any)</td></tr><tr ><td>regionidzip</td><td>nominal</td><td>[96337.0, 96095.0, 96424.0, 96450.0, 96446.0, ... (406 More)]</td><td>Zip code in which the property is located</td></tr><tr ><td>regionidneighborhood</td><td>nominal</td><td>[nan, 27080.0, 46795.0, 274049.0, 31817.0, ... (529 More)]</td><td>Neighborhood in which the property is located</td></tr><tr ><td>roomcnt</td><td>ordinal</td><td>[0.0, 8.0, 4.0, 5.0, 7.0, ... (37 More)]</td><td>Total number of rooms in the principal residence</td></tr><tr ><td>storytypeid</td><td>nominal</td><td>[nan, 7.0]</td><td>Type of floors in a multi-story house (i.e. basement and main level, split-level, attic, etc.). See tab for details.</td></tr><tr ><td>typeconstructiontypeid</td><td>nominal</td><td>[nan, 6.0, 4.0, 10.0, 13.0, 11.0]</td><td>What type of construction material was used to construct the home</td></tr><tr ><td>unitcnt</td><td>ordinal</td><td>[nan, 2.0, 1.0, 3.0, 5.0, ... (147 More)]</td><td>Number of units the structure is built into (i.e. 2 = duplex, 3 = triplex, etc...)</td></tr><tr ><td>yardbuildingsqft17</td><td>interval</td><td>(10, 7983)</td><td>Patio in yard</td></tr><tr ><td>yardbuildingsqft26</td><td>interval</td><td>(10, 6141)</td><td>Storage shed/building in yard</td></tr><tr ><td>yearbuilt</td><td>interval</td><td>(1801, 2015)</td><td>The Year the principal residence was built</td></tr><tr ><td>taxvaluedollarcnt</td><td>ratio</td><td>(1, 282786000)</td><td>The total tax assessed value of the parcel</td></tr><tr ><td>structuretaxvaluedollarcnt</td><td>ratio</td><td>(1, 251486000)</td><td>The assessed value of the built structure on the parcel</td></tr><tr ><td>landtaxvaluedollarcnt</td><td>ratio</td><td>(1, 90246219)</td><td>The assessed value of the land area of the parcel</td></tr><tr ><td>taxamount</td><td>ratio</td><td>(1, 3458861)</td><td>The total property tax assessed for that assessment year</td></tr><tr ><td>assessmentyear</td><td>interval</td><td>(2000, 2016)</td><td>The year of the property tax assessment</td></tr><tr ><td>taxdelinquencyflag</td><td>nominal</td><td>[nan, Y]</td><td>Property taxes for this parcel are past due as of 2015</td></tr><tr ><td>taxdelinquencyyear</td><td>interval</td><td>(0, 99)</td><td>Year</td></tr></table>"
      ],
      "text/plain": [
       "<IPython.core.display.HTML object>"
      ]
     },
     "execution_count": 3,
     "metadata": {},
     "output_type": "execute_result"
    }
   ],
   "source": [
    "from IPython.display import display, HTML\n",
    "\n",
    "# data type should be one of:\n",
    "# \n",
    "\n",
    "variables_description = [\n",
    "['airconditioningtypeid', 'nominal', 'TBD', 'Type of cooling system present in the home (if any)']\n",
    ",['architecturalstyletypeid', 'nominal', 'TBD', 'Architectural style of the home (i.e. ranch, colonial, split-level, etc…)']\n",
    ",['basementsqft', 'ratio', 'TBD', 'Finished living area below or partially below ground level']\n",
    ",['bathroomcnt', 'ordinal', 'TBD', 'Number of bathrooms in home including fractional bathrooms']\n",
    ",['bedroomcnt', 'ordinal', 'TBD', 'Number of bedrooms in home']\n",
    ",['buildingqualitytypeid', 'ordinal', 'TBD', 'Overall assessment of condition of the building from best (lowest) to worst (highest)']\n",
    ",['buildingclasstypeid', 'nominal', 'TBD', 'The building framing type (steel frame, wood frame, concrete/brick)']\n",
    ",['calculatedbathnbr', 'ordinal', 'TBD', 'Number of bathrooms in home including fractional bathroom']\n",
    ",['decktypeid', 'nominal', 'TBD', 'Type of deck (if any) present on parcel']\n",
    ",['threequarterbathnbr', 'ordinal', 'TBD', 'Number of 3/4 bathrooms in house (shower + sink + toilet)']\n",
    ",['finishedfloor1squarefeet', 'ratio', 'TBD', 'Size of the finished living area on the first (entry) floor of the home']\n",
    ",['calculatedfinishedsquarefeet', 'ratio', 'TBD', 'Calculated total finished living area of the home']\n",
    ",['finishedsquarefeet6', 'ratio', 'TBD', 'Base unfinished and finished area']\n",
    ",['finishedsquarefeet12', 'ratio', 'TBD', 'Finished living area']\n",
    ",['finishedsquarefeet13', 'ratio', 'TBD', 'Perimeter living area']\n",
    ",['finishedsquarefeet15', 'ratio', 'TBD', 'Total area']\n",
    ",['finishedsquarefeet50', 'ratio', 'TBD', 'Size of the finished living area on the first (entry) floor of the home']\n",
    ",['fips', 'nominal', 'TBD', 'Federal Information Processing Standard code - see https://en.wikipedia.org/wiki/FIPS_county_code for more details']\n",
    ",['fireplacecnt', 'ordinal', 'TBD', 'Number of fireplaces in a home (if any)']\n",
    ",['fireplaceflag', 'ordinal', 'TBD', 'Is a fireplace present in this home']\n",
    ",['fullbathcnt', 'ordinal', 'TBD', 'Number of full bathrooms (sink, shower + bathtub, and toilet) present in home']\n",
    ",['garagecarcnt', 'ordinal', 'TBD', 'Total number of garages on the lot including an attached garage']\n",
    ",['garagetotalsqft', 'ratio', 'TBD', 'Total number of square feet of all garages on lot including an attached garage']\n",
    ",['hashottuborspa', 'ordinal', 'TBD', 'Does the home have a hot tub or spa']\n",
    ",['heatingorsystemtypeid', 'nominal', 'TBD', 'Type of home heating system']\n",
    ",['latitude', 'interval', 'TBD', 'Latitude of the middle of the parcel multiplied by 10e6']\n",
    ",['longitude', 'interval', 'TBD', 'Longitude of the middle of the parcel multiplied by 10e6']\n",
    ",['lotsizesquarefeet', 'ratio', 'TBD', 'Area of the lot in square feet']\n",
    ",['numberofstories', 'ordinal', 'TBD', 'Number of stories or levels the home has']\n",
    ",['parcelid', 'nominal', 'TBD', 'Unique identifier for parcels (lots)']\n",
    ",['poolcnt', 'ordinal', 'TBD', 'Number of pools on the lot (if any)']\n",
    ",['poolsizesum', 'ratio', 'TBD', 'Total square footage of all pools on property']\n",
    ",['pooltypeid10', 'nominal', 'TBD', 'Spa or Hot Tub']\n",
    ",['pooltypeid2', 'nominal', 'TBD', 'Pool with Spa/Hot Tub']\n",
    ",['pooltypeid7', 'nominal', 'TBD', 'Pool without hot tub']\n",
    ",['propertycountylandusecode', 'nominal', 'TBD', 'County land use code i.e. it\\'s zoning at the county level']\n",
    ",['propertylandusetypeid', 'nominal', 'TBD', 'Type of land use the property is zoned for']\n",
    ",['propertyzoningdesc', 'nominal', 'TBD', 'Description of the allowed land uses (zoning) for that property']\n",
    ",['rawcensustractandblock', 'nominal', 'TBD', 'Census tract and block ID combined - also contains blockgroup assignment by extension']\n",
    ",['censustractandblock', 'nominal', 'TBD', 'Census tract and block ID combined - also contains blockgroup assignment by extension']\n",
    ",['regionidcounty', 'nominal', 'TBD', 'County in which the property is located']\n",
    ",['regionidcity', 'nominal', 'TBD', 'City in which the property is located (if any)']\n",
    ",['regionidzip', 'nominal', 'TBD', 'Zip code in which the property is located']\n",
    ",['regionidneighborhood', 'nominal', 'TBD', 'Neighborhood in which the property is located']\n",
    ",['roomcnt', 'ordinal', 'TBD', 'Total number of rooms in the principal residence']\n",
    ",['storytypeid', 'nominal', 'TBD', 'Type of floors in a multi-story house (i.e. basement and main level, split-level, attic, etc.). See tab for details.']\n",
    ",['typeconstructiontypeid', 'nominal', 'TBD', 'What type of construction material was used to construct the home']\n",
    ",['unitcnt', 'ordinal', 'TBD', 'Number of units the structure is built into (i.e. 2 = duplex, 3 = triplex, etc...)']\n",
    ",['yardbuildingsqft17', 'interval', 'TBD', 'Patio in yard']\n",
    ",['yardbuildingsqft26', 'interval', 'TBD', 'Storage shed/building in yard']\n",
    ",['yearbuilt', 'interval', 'TBD', 'The Year the principal residence was built']\n",
    ",['taxvaluedollarcnt', 'ratio', 'TBD', 'The total tax assessed value of the parcel']\n",
    ",['structuretaxvaluedollarcnt', 'ratio', 'TBD', 'The assessed value of the built structure on the parcel']\n",
    ",['landtaxvaluedollarcnt', 'ratio', 'TBD', 'The assessed value of the land area of the parcel']\n",
    ",['taxamount', 'ratio', 'TBD', 'The total property tax assessed for that assessment year']\n",
    ",['assessmentyear', 'interval', 'TBD', 'The year of the property tax assessment']\n",
    ",['taxdelinquencyflag', 'nominal', 'TBD', 'Property taxes for this parcel are past due as of 2015']\n",
    ",['taxdelinquencyyear', 'interval', 'TBD', 'Year']\n",
    "]\n",
    "\n",
    "rows = ['<tr><th>Variable</th><th>Type</th><th>Scale</th><th>Description</th></tr>']\n",
    "for row in variables_description:\n",
    "    # add scale if TBD\n",
    "    if row[2] == 'TBD':\n",
    "        vname, vtype = row[:2]\n",
    "        if vtype in ['nominal', 'ordinal']:\n",
    "\n",
    "            uniques = data[vname].unique()\n",
    "            uniques = list(uniques.astype(str))\n",
    "            if len(uniques) < 10:\n",
    "                \n",
    "                row[2] = '[%s]' % ', '.join(uniques)\n",
    "            else:\n",
    "                row[2] = '[%s]' % (', '.join(uniques[:5]) + ', ... (%d More)' % len(uniques))\n",
    "\n",
    "        if vtype in ['ratio', 'interval']:\n",
    "            row[2] = '(%d, %d)' % (data[vname].min(), data[vname].max())\n",
    "        \n",
    "    rows.append('<tr ><td>%s</td><td>%s</td><td>%s</td><td>%s</td></tr>' % tuple(row))\n",
    "HTML('<table>%s</table>' % ''.join(rows))"
   ]
  },
  {
   "cell_type": "markdown",
   "metadata": {},
   "source": [
    "# Data Quality\n",
    "<b>15 points</b>\n",
    "\n",
    "<i>\n",
    "<b>Description:</b><br/>\n",
    "Verify data quality: Explain any missing values, duplicate data, and outliers. Are those mistakes? How do you deal with these problems? Give justifications for your methods.\n",
    "</i>\n",
    "\n",
    "<b>Answer:</b><br/>\n",
    "..."
   ]
  },
  {
   "cell_type": "markdown",
   "metadata": {},
   "source": [
    "## Examining Distribution of missing values\n",
    "It looks like there are obsorvations with most of variables missing."
   ]
  },
  {
   "cell_type": "code",
   "execution_count": 4,
   "metadata": {
    "scrolled": false
   },
   "outputs": [
    {
     "data": {
      "image/png": "[encoded data removed]",
      "text/plain": [
       "<matplotlib.figure.Figure at 0x138bd6438>"
      ]
     },
     "metadata": {},
     "output_type": "display_data"
    }
   ],
   "source": [
    "plt.rcParams['figure.figsize'] = [10, 7]\n",
    "\n",
    "number_missing_per_row = data.isnull().sum(axis=1)\n",
    "sns.distplot(number_missing_per_row);"
   ]
  },
  {
   "cell_type": "markdown",
   "metadata": {},
   "source": [
    "### All obsorvations have a value for parcelid"
   ]
  },
  {
   "cell_type": "code",
   "execution_count": 5,
   "metadata": {},
   "outputs": [
    {
     "data": {
      "text/plain": [
       "0"
      ]
     },
     "execution_count": 5,
     "metadata": {},
     "output_type": "execute_result"
    }
   ],
   "source": [
    "data['parcelid'].isnull().sum()"
   ]
  },
  {
   "cell_type": "markdown",
   "metadata": {},
   "source": [
    "### 0.38 percent of the data has only parcelid present and all other variables missing\n",
    "We remove those obsorvations because they don't present any value"
   ]
  },
  {
   "cell_type": "code",
   "execution_count": 6,
   "metadata": {},
   "outputs": [
    {
     "name": "stdout",
     "output_type": "stream",
     "text": [
      "0.38312122703307666\n"
     ]
    }
   ],
   "source": [
    "print(len(number_missing_per_row[number_missing_per_row >= 57]) / len(data) * 100)\n",
    "data = data[number_missing_per_row < 57]"
   ]
  },
  {
   "cell_type": "markdown",
   "metadata": {},
   "source": [
    "### Missing values table:"
   ]
  },
  {
   "cell_type": "code",
   "execution_count": 7,
   "metadata": {},
   "outputs": [
    {
     "data": {
      "text/html": [
       "<div>\n",
       "<table border=\"1\" class=\"dataframe\">\n",
       "  <thead>\n",
       "    <tr style=\"text-align: right;\">\n",
       "      <th></th>\n",
       "      <th>Variable Name</th>\n",
       "      <th>Number Missing Values</th>\n",
       "      <th>Precent Missing</th>\n",
       "    </tr>\n",
       "  </thead>\n",
       "  <tbody>\n",
       "    <tr>\n",
       "      <th>0</th>\n",
       "      <td>parcelid</td>\n",
       "      <td>0</td>\n",
       "      <td>0.000000</td>\n",
       "    </tr>\n",
       "    <tr>\n",
       "      <th>1</th>\n",
       "      <td>airconditioningtypeid</td>\n",
       "      <td>2162261</td>\n",
       "      <td>72.710860</td>\n",
       "    </tr>\n",
       "    <tr>\n",
       "      <th>2</th>\n",
       "      <td>architecturalstyletypeid</td>\n",
       "      <td>2967719</td>\n",
       "      <td>99.796185</td>\n",
       "    </tr>\n",
       "    <tr>\n",
       "      <th>3</th>\n",
       "      <td>basementsqft</td>\n",
       "      <td>2972152</td>\n",
       "      <td>99.945255</td>\n",
       "    </tr>\n",
       "    <tr>\n",
       "      <th>4</th>\n",
       "      <td>bathroomcnt</td>\n",
       "      <td>25</td>\n",
       "      <td>0.000841</td>\n",
       "    </tr>\n",
       "    <tr>\n",
       "      <th>5</th>\n",
       "      <td>bedroomcnt</td>\n",
       "      <td>13</td>\n",
       "      <td>0.000437</td>\n",
       "    </tr>\n",
       "    <tr>\n",
       "      <th>6</th>\n",
       "      <td>buildingclasstypeid</td>\n",
       "      <td>2961151</td>\n",
       "      <td>99.575322</td>\n",
       "    </tr>\n",
       "    <tr>\n",
       "      <th>7</th>\n",
       "      <td>buildingqualitytypeid</td>\n",
       "      <td>1035292</td>\n",
       "      <td>34.814008</td>\n",
       "    </tr>\n",
       "    <tr>\n",
       "      <th>8</th>\n",
       "      <td>calculatedbathnbr</td>\n",
       "      <td>117475</td>\n",
       "      <td>3.950359</td>\n",
       "    </tr>\n",
       "    <tr>\n",
       "      <th>9</th>\n",
       "      <td>decktypeid</td>\n",
       "      <td>2956684</td>\n",
       "      <td>99.425109</td>\n",
       "    </tr>\n",
       "    <tr>\n",
       "      <th>10</th>\n",
       "      <td>finishedfloor1squarefeet</td>\n",
       "      <td>2771063</td>\n",
       "      <td>93.183188</td>\n",
       "    </tr>\n",
       "    <tr>\n",
       "      <th>11</th>\n",
       "      <td>calculatedfinishedsquarefeet</td>\n",
       "      <td>44128</td>\n",
       "      <td>1.483903</td>\n",
       "    </tr>\n",
       "    <tr>\n",
       "      <th>12</th>\n",
       "      <td>finishedsquarefeet12</td>\n",
       "      <td>264596</td>\n",
       "      <td>8.897632</td>\n",
       "    </tr>\n",
       "    <tr>\n",
       "      <th>13</th>\n",
       "      <td>finishedsquarefeet13</td>\n",
       "      <td>2966108</td>\n",
       "      <td>99.742012</td>\n",
       "    </tr>\n",
       "    <tr>\n",
       "      <th>14</th>\n",
       "      <td>finishedsquarefeet15</td>\n",
       "      <td>2782982</td>\n",
       "      <td>93.583991</td>\n",
       "    </tr>\n",
       "    <tr>\n",
       "      <th>15</th>\n",
       "      <td>finishedsquarefeet50</td>\n",
       "      <td>2771063</td>\n",
       "      <td>93.183188</td>\n",
       "    </tr>\n",
       "    <tr>\n",
       "      <th>16</th>\n",
       "      <td>finishedsquarefeet6</td>\n",
       "      <td>2951779</td>\n",
       "      <td>99.260167</td>\n",
       "    </tr>\n",
       "    <tr>\n",
       "      <th>17</th>\n",
       "      <td>fips</td>\n",
       "      <td>0</td>\n",
       "      <td>0.000000</td>\n",
       "    </tr>\n",
       "    <tr>\n",
       "      <th>18</th>\n",
       "      <td>fireplacecnt</td>\n",
       "      <td>2661143</td>\n",
       "      <td>89.486882</td>\n",
       "    </tr>\n",
       "    <tr>\n",
       "      <th>19</th>\n",
       "      <td>fullbathcnt</td>\n",
       "      <td>117475</td>\n",
       "      <td>3.950359</td>\n",
       "    </tr>\n",
       "    <tr>\n",
       "      <th>20</th>\n",
       "      <td>garagecarcnt</td>\n",
       "      <td>2090513</td>\n",
       "      <td>70.298173</td>\n",
       "    </tr>\n",
       "    <tr>\n",
       "      <th>21</th>\n",
       "      <td>garagetotalsqft</td>\n",
       "      <td>2090513</td>\n",
       "      <td>70.298173</td>\n",
       "    </tr>\n",
       "    <tr>\n",
       "      <th>22</th>\n",
       "      <td>hashottuborspa</td>\n",
       "      <td>2904766</td>\n",
       "      <td>97.679250</td>\n",
       "    </tr>\n",
       "    <tr>\n",
       "      <th>23</th>\n",
       "      <td>heatingorsystemtypeid</td>\n",
       "      <td>1167379</td>\n",
       "      <td>39.255728</td>\n",
       "    </tr>\n",
       "    <tr>\n",
       "      <th>24</th>\n",
       "      <td>latitude</td>\n",
       "      <td>0</td>\n",
       "      <td>0.000000</td>\n",
       "    </tr>\n",
       "    <tr>\n",
       "      <th>25</th>\n",
       "      <td>longitude</td>\n",
       "      <td>0</td>\n",
       "      <td>0.000000</td>\n",
       "    </tr>\n",
       "    <tr>\n",
       "      <th>26</th>\n",
       "      <td>lotsizesquarefeet</td>\n",
       "      <td>264662</td>\n",
       "      <td>8.899851</td>\n",
       "    </tr>\n",
       "    <tr>\n",
       "      <th>27</th>\n",
       "      <td>poolcnt</td>\n",
       "      <td>2456246</td>\n",
       "      <td>82.596762</td>\n",
       "    </tr>\n",
       "    <tr>\n",
       "      <th>28</th>\n",
       "      <td>poolsizesum</td>\n",
       "      <td>2945820</td>\n",
       "      <td>99.059782</td>\n",
       "    </tr>\n",
       "    <tr>\n",
       "      <th>29</th>\n",
       "      <td>pooltypeid10</td>\n",
       "      <td>2936841</td>\n",
       "      <td>98.757844</td>\n",
       "    </tr>\n",
       "    <tr>\n",
       "      <th>30</th>\n",
       "      <td>pooltypeid2</td>\n",
       "      <td>2941705</td>\n",
       "      <td>98.921406</td>\n",
       "    </tr>\n",
       "    <tr>\n",
       "      <th>31</th>\n",
       "      <td>pooltypeid7</td>\n",
       "      <td>2488321</td>\n",
       "      <td>83.675356</td>\n",
       "    </tr>\n",
       "    <tr>\n",
       "      <th>32</th>\n",
       "      <td>propertycountylandusecode</td>\n",
       "      <td>840</td>\n",
       "      <td>0.028247</td>\n",
       "    </tr>\n",
       "    <tr>\n",
       "      <th>33</th>\n",
       "      <td>propertylandusetypeid</td>\n",
       "      <td>0</td>\n",
       "      <td>0.000000</td>\n",
       "    </tr>\n",
       "    <tr>\n",
       "      <th>34</th>\n",
       "      <td>propertyzoningdesc</td>\n",
       "      <td>995151</td>\n",
       "      <td>33.464177</td>\n",
       "    </tr>\n",
       "    <tr>\n",
       "      <th>35</th>\n",
       "      <td>rawcensustractandblock</td>\n",
       "      <td>0</td>\n",
       "      <td>0.000000</td>\n",
       "    </tr>\n",
       "    <tr>\n",
       "      <th>36</th>\n",
       "      <td>regionidcity</td>\n",
       "      <td>51408</td>\n",
       "      <td>1.728709</td>\n",
       "    </tr>\n",
       "    <tr>\n",
       "      <th>37</th>\n",
       "      <td>regionidcounty</td>\n",
       "      <td>0</td>\n",
       "      <td>0.000000</td>\n",
       "    </tr>\n",
       "    <tr>\n",
       "      <th>38</th>\n",
       "      <td>regionidneighborhood</td>\n",
       "      <td>1817378</td>\n",
       "      <td>61.113398</td>\n",
       "    </tr>\n",
       "    <tr>\n",
       "      <th>39</th>\n",
       "      <td>regionidzip</td>\n",
       "      <td>2543</td>\n",
       "      <td>0.085514</td>\n",
       "    </tr>\n",
       "    <tr>\n",
       "      <th>40</th>\n",
       "      <td>roomcnt</td>\n",
       "      <td>38</td>\n",
       "      <td>0.001278</td>\n",
       "    </tr>\n",
       "    <tr>\n",
       "      <th>41</th>\n",
       "      <td>storytypeid</td>\n",
       "      <td>2972156</td>\n",
       "      <td>99.945389</td>\n",
       "    </tr>\n",
       "    <tr>\n",
       "      <th>42</th>\n",
       "      <td>threequarterbathnbr</td>\n",
       "      <td>2662149</td>\n",
       "      <td>89.520711</td>\n",
       "    </tr>\n",
       "    <tr>\n",
       "      <th>43</th>\n",
       "      <td>typeconstructiontypeid</td>\n",
       "      <td>2967033</td>\n",
       "      <td>99.773117</td>\n",
       "    </tr>\n",
       "    <tr>\n",
       "      <th>44</th>\n",
       "      <td>unitcnt</td>\n",
       "      <td>996290</td>\n",
       "      <td>33.502478</td>\n",
       "    </tr>\n",
       "    <tr>\n",
       "      <th>45</th>\n",
       "      <td>yardbuildingsqft17</td>\n",
       "      <td>2893425</td>\n",
       "      <td>97.297884</td>\n",
       "    </tr>\n",
       "    <tr>\n",
       "      <th>46</th>\n",
       "      <td>yardbuildingsqft26</td>\n",
       "      <td>2971133</td>\n",
       "      <td>99.910989</td>\n",
       "    </tr>\n",
       "    <tr>\n",
       "      <th>47</th>\n",
       "      <td>yearbuilt</td>\n",
       "      <td>48491</td>\n",
       "      <td>1.630618</td>\n",
       "    </tr>\n",
       "    <tr>\n",
       "      <th>48</th>\n",
       "      <td>numberofstories</td>\n",
       "      <td>2291711</td>\n",
       "      <td>77.063905</td>\n",
       "    </tr>\n",
       "    <tr>\n",
       "      <th>49</th>\n",
       "      <td>fireplaceflag</td>\n",
       "      <td>2968617</td>\n",
       "      <td>99.826383</td>\n",
       "    </tr>\n",
       "    <tr>\n",
       "      <th>50</th>\n",
       "      <td>structuretaxvaluedollarcnt</td>\n",
       "      <td>43545</td>\n",
       "      <td>1.464298</td>\n",
       "    </tr>\n",
       "    <tr>\n",
       "      <th>51</th>\n",
       "      <td>taxvaluedollarcnt</td>\n",
       "      <td>31113</td>\n",
       "      <td>1.046244</td>\n",
       "    </tr>\n",
       "    <tr>\n",
       "      <th>52</th>\n",
       "      <td>assessmentyear</td>\n",
       "      <td>2</td>\n",
       "      <td>0.000067</td>\n",
       "    </tr>\n",
       "    <tr>\n",
       "      <th>53</th>\n",
       "      <td>landtaxvaluedollarcnt</td>\n",
       "      <td>56296</td>\n",
       "      <td>1.893079</td>\n",
       "    </tr>\n",
       "    <tr>\n",
       "      <th>54</th>\n",
       "      <td>taxamount</td>\n",
       "      <td>19813</td>\n",
       "      <td>0.666256</td>\n",
       "    </tr>\n",
       "    <tr>\n",
       "      <th>55</th>\n",
       "      <td>taxdelinquencyflag</td>\n",
       "      <td>2917318</td>\n",
       "      <td>98.101339</td>\n",
       "    </tr>\n",
       "    <tr>\n",
       "      <th>56</th>\n",
       "      <td>taxdelinquencyyear</td>\n",
       "      <td>2917316</td>\n",
       "      <td>98.101272</td>\n",
       "    </tr>\n",
       "    <tr>\n",
       "      <th>57</th>\n",
       "      <td>censustractandblock</td>\n",
       "      <td>63689</td>\n",
       "      <td>2.141685</td>\n",
       "    </tr>\n",
       "  </tbody>\n",
       "</table>\n",
       "</div>"
      ],
      "text/plain": [
       "                   Variable Name  Number Missing Values  Precent Missing\n",
       "0                       parcelid                      0         0.000000\n",
       "1          airconditioningtypeid                2162261        72.710860\n",
       "2       architecturalstyletypeid                2967719        99.796185\n",
       "3                   basementsqft                2972152        99.945255\n",
       "4                    bathroomcnt                     25         0.000841\n",
       "5                     bedroomcnt                     13         0.000437\n",
       "6            buildingclasstypeid                2961151        99.575322\n",
       "7          buildingqualitytypeid                1035292        34.814008\n",
       "8              calculatedbathnbr                 117475         3.950359\n",
       "9                     decktypeid                2956684        99.425109\n",
       "10      finishedfloor1squarefeet                2771063        93.183188\n",
       "11  calculatedfinishedsquarefeet                  44128         1.483903\n",
       "12          finishedsquarefeet12                 264596         8.897632\n",
       "13          finishedsquarefeet13                2966108        99.742012\n",
       "14          finishedsquarefeet15                2782982        93.583991\n",
       "15          finishedsquarefeet50                2771063        93.183188\n",
       "16           finishedsquarefeet6                2951779        99.260167\n",
       "17                          fips                      0         0.000000\n",
       "18                  fireplacecnt                2661143        89.486882\n",
       "19                   fullbathcnt                 117475         3.950359\n",
       "20                  garagecarcnt                2090513        70.298173\n",
       "21               garagetotalsqft                2090513        70.298173\n",
       "22                hashottuborspa                2904766        97.679250\n",
       "23         heatingorsystemtypeid                1167379        39.255728\n",
       "24                      latitude                      0         0.000000\n",
       "25                     longitude                      0         0.000000\n",
       "26             lotsizesquarefeet                 264662         8.899851\n",
       "27                       poolcnt                2456246        82.596762\n",
       "28                   poolsizesum                2945820        99.059782\n",
       "29                  pooltypeid10                2936841        98.757844\n",
       "30                   pooltypeid2                2941705        98.921406\n",
       "31                   pooltypeid7                2488321        83.675356\n",
       "32     propertycountylandusecode                    840         0.028247\n",
       "33         propertylandusetypeid                      0         0.000000\n",
       "34            propertyzoningdesc                 995151        33.464177\n",
       "35        rawcensustractandblock                      0         0.000000\n",
       "36                  regionidcity                  51408         1.728709\n",
       "37                regionidcounty                      0         0.000000\n",
       "38          regionidneighborhood                1817378        61.113398\n",
       "39                   regionidzip                   2543         0.085514\n",
       "40                       roomcnt                     38         0.001278\n",
       "41                   storytypeid                2972156        99.945389\n",
       "42           threequarterbathnbr                2662149        89.520711\n",
       "43        typeconstructiontypeid                2967033        99.773117\n",
       "44                       unitcnt                 996290        33.502478\n",
       "45            yardbuildingsqft17                2893425        97.297884\n",
       "46            yardbuildingsqft26                2971133        99.910989\n",
       "47                     yearbuilt                  48491         1.630618\n",
       "48               numberofstories                2291711        77.063905\n",
       "49                 fireplaceflag                2968617        99.826383\n",
       "50    structuretaxvaluedollarcnt                  43545         1.464298\n",
       "51             taxvaluedollarcnt                  31113         1.046244\n",
       "52                assessmentyear                      2         0.000067\n",
       "53         landtaxvaluedollarcnt                  56296         1.893079\n",
       "54                     taxamount                  19813         0.666256\n",
       "55            taxdelinquencyflag                2917318        98.101339\n",
       "56            taxdelinquencyyear                2917316        98.101272\n",
       "57           censustractandblock                  63689         2.141685"
      ]
     },
     "execution_count": 7,
     "metadata": {},
     "output_type": "execute_result"
    }
   ],
   "source": [
    "missing_values = data.isnull().sum().reset_index()\n",
    "missing_values.columns = ['Variable Name', 'Number Missing Values']\n",
    "missing_values['Precent Missing'] = missing_values['Number Missing Values'] / len(data) * 100 \n",
    "missing_values['Precent Missing'] = missing_values['Precent Missing'].replace(np.inf, 0)\n",
    "missing_values"
   ]
  },
  {
   "cell_type": "markdown",
   "metadata": {},
   "source": [
    "## Examining variables for missing values and outliers individually"
   ]
  },
  {
   "cell_type": "markdown",
   "metadata": {},
   "source": [
    "### Variable: finishedsquarefeet6 - Base unfinished and finished area\n",
    "Has datatype: ratio and 99.263002 percent of values missing \n",
    "\n",
    "We will not use it in our analysis:"
   ]
  },
  {
   "cell_type": "code",
   "execution_count": 8,
   "metadata": {
    "collapsed": true
   },
   "outputs": [],
   "source": [
    "del data['finishedsquarefeet6']"
   ]
  },
  {
   "cell_type": "markdown",
   "metadata": {},
   "source": [
    "### Variable: fips - Federal Information Processing Standard code - see https://en.wikipedia.org/wiki/FIPS_county_code for more details\n",
    "Has datatype: nominal with values [6037.0, 6059.0, 6111.0] and no missing values\n",
    "\n",
    "I fix the column datatype to integer."
   ]
  },
  {
   "cell_type": "code",
   "execution_count": 9,
   "metadata": {
    "collapsed": true
   },
   "outputs": [],
   "source": [
    "data['fips'] = data['fips'].astype(np.int32)"
   ]
  },
  {
   "cell_type": "markdown",
   "metadata": {},
   "source": [
    "### Variable: fireplacecnt - Number of fireplaces in a home (if any)\n",
    "Has datatype: ordinal and 89.486882 percent of values missing \n",
    "\n",
    "In this dataset, missing value represents 0 fireplaces. We replace all missing values with zero and change the column datatype to integer."
   ]
  },
  {
   "cell_type": "code",
   "execution_count": 10,
   "metadata": {},
   "outputs": [
    {
     "name": "stdout",
     "output_type": "stream",
     "text": [
      "Before [ nan   3.   1.   2.   4.   9.   5.   7.   6.   8.]\n",
      "After [0 3 1 2 4 9 5 7 6 8]\n"
     ]
    }
   ],
   "source": [
    "print('Before', data['fireplacecnt'].unique())\n",
    "data['fireplacecnt'] = data['fireplacecnt'].fillna(0).astype(np.int32)\n",
    "print('After', data['fireplacecnt'].unique())"
   ]
  },
  {
   "cell_type": "markdown",
   "metadata": {},
   "source": [
    "### Variable: fullbathcnt - Number of full bathrooms (sink, shower + bathtub, and toilet) present in home\n",
    "Has datatype: ordinal and 3.95 percent of values missing \n",
    "\n",
    "We first replace its missing values with the valeues of bathroomcnt which is a similare measure. After that we have 25 obsorvations missing and we replace them with 0."
   ]
  },
  {
   "cell_type": "code",
   "execution_count": 11,
   "metadata": {},
   "outputs": [
    {
     "name": "stdout",
     "output_type": "stream",
     "text": [
      "Before [ nan   2.   4.   3.   1.   5.   7.   6.  10.   8.   9.  12.  11.  13.  14.\n",
      "  20.  19.  15.  18.  16.  17.]\n",
      "After [  0.     2.     4.     3.     1.     5.     7.     6.    10.     8.     9.\n",
      "  12.    11.     7.5    2.5    4.5    1.5   13.    14.    20.     3.5   19.\n",
      "   5.5   15.    18.    16.     1.75   6.5   17.     0.5    8.5 ]\n"
     ]
    }
   ],
   "source": [
    "print('Before', data['fullbathcnt'].unique())\n",
    "missing_fullbathcnt = data['fullbathcnt'].isnull()\n",
    "data.loc[missing_fullbathcnt, 'fullbathcnt'] = data['bathroomcnt'][missing_fullbathcnt].fillna(0)\n",
    "print('After', data['fullbathcnt'].unique())"
   ]
  },
  {
   "cell_type": "markdown",
   "metadata": {},
   "source": [
    "### Variable: garagecarcnt - Total number of garages on the lot including an attached garage\n",
    "\n",
    "Has datatype: ordinal and 70.298173 percent of values missing \n",
    "\n",
    "We assume a missing value will represent no garages and replace all missing values with zero."
   ]
  },
  {
   "cell_type": "code",
   "execution_count": 12,
   "metadata": {},
   "outputs": [
    {
     "name": "stdout",
     "output_type": "stream",
     "text": [
      "[ 0  2  4  1  3  5  7  6  8  9 12 11 10 13 14 15 25 21 18 17 24 19 16 20]\n"
     ]
    }
   ],
   "source": [
    "data['garagecarcnt'] = data['garagecarcnt'].fillna(0).astype(np.int32)\n",
    "print(data['garagecarcnt'].unique())"
   ]
  },
  {
   "cell_type": "markdown",
   "metadata": {},
   "source": [
    "### Variable: garagetotalsqft - Total number of garages on the lot including an attached garage\n",
    "\n",
    "Has datatype: ratio and 70.298173 percent of values missing \n",
    "\n",
    "We will first replace missing values where garagecarcnt is 0 with 0. \n",
    "We replace all outliers with a maximum value of (mean + 6 * std)"
   ]
  },
  {
   "cell_type": "code",
   "execution_count": 13,
   "metadata": {},
   "outputs": [
    {
     "data": {
      "image/png": "[encoded data removed]",
      "text/plain": [
       "<matplotlib.figure.Figure at 0x11054df98>"
      ]
     },
     "metadata": {},
     "output_type": "display_data"
    }
   ],
   "source": [
    "data.loc[data['garagecarcnt'] == 0, 'garagetotalsqft'] = 0\n",
    "\n",
    "assert data['garagetotalsqft'].isnull().sum() == 0\n",
    "\n",
    "# check for outliers\n",
    "f, ax = plt.subplots(nrows=1, ncols=2, figsize=[15, 7])\n",
    "sns.distplot(data['garagetotalsqft'], ax=ax[0]).set_title('Before');\n",
    "\n",
    "max_value = data['garagetotalsqft'].mean() + data['garagetotalsqft'].std() * 6\n",
    "data.loc[data['garagetotalsqft'] > max_value, 'garagetotalsqft'] = max_value\n",
    "\n",
    "sns.distplot(data['garagetotalsqft'].values, ax=ax[1]).set_title('After');"
   ]
  },
  {
   "cell_type": "markdown",
   "metadata": {},
   "source": [
    "### Variable: hashottuborspa - Does the home have a hot tub or spa\n",
    "\n",
    "Has datatype: ordinal and 97.679250 percent of values missing \n",
    "\n",
    "In this dataset missing values represent doesn't have a hot tub or spa. I will replace all missing values with 0 and all True values with 1."
   ]
  },
  {
   "cell_type": "code",
   "execution_count": 14,
   "metadata": {},
   "outputs": [
    {
     "name": "stdout",
     "output_type": "stream",
     "text": [
      "Before [nan True]\n",
      "After [0 1]\n"
     ]
    }
   ],
   "source": [
    "print('Before', data['hashottuborspa'].unique())\n",
    "data['hashottuborspa'] = data['hashottuborspa'].fillna(0).replace('True', 1).astype(np.int32)\n",
    "print('After', data['hashottuborspa'].unique())"
   ]
  },
  {
   "cell_type": "markdown",
   "metadata": {},
   "source": [
    "### Variable: heatingorsystemtypeid - Type of home heating system\n",
    "\n",
    "Has datatype: nominal and 39.255728 percent of values missing \n",
    "\n",
    "We replace all missing values with 0 which will represent a missing heating system type id."
   ]
  },
  {
   "cell_type": "code",
   "execution_count": 15,
   "metadata": {},
   "outputs": [
    {
     "name": "stdout",
     "output_type": "stream",
     "text": [
      "Before [ nan   2.   7.  20.   6.  13.  18.  24.  12.  10.   1.  14.  21.  11.  19.]\n",
      "After [ 0  2  7 20  6 13 18 24 12 10  1 14 21 11 19]\n"
     ]
    }
   ],
   "source": [
    "print('Before', data['heatingorsystemtypeid'].unique())\n",
    "data['heatingorsystemtypeid'] = data['heatingorsystemtypeid'].fillna(0).astype(np.int32)\n",
    "print('After', data['heatingorsystemtypeid'].unique())"
   ]
  },
  {
   "cell_type": "markdown",
   "metadata": {},
   "source": [
    "### Variables: latitude and longitude\n",
    "\n",
    "Has datatype: range and no missing values."
   ]
  },
  {
   "cell_type": "markdown",
   "metadata": {},
   "source": [
    "### Variable: lotsizesquarefeet - Area of the lot in square feet\n",
    "\n",
    "Has datatype: ratio and 8.9 percent of values missing \n",
    "\n",
    "We replace all missing values with 0 which will represent no lot.\n",
    "We replace all outliers with a maximum value of (mean + 6 * std)"
   ]
  },
  {
   "cell_type": "code",
   "execution_count": 16,
   "metadata": {},
   "outputs": [
    {
     "data": {
      "image/png": "[encoded data removed]",
      "text/plain": [
       "<matplotlib.figure.Figure at 0x116bdd438>"
      ]
     },
     "metadata": {},
     "output_type": "display_data"
    }
   ],
   "source": [
    "data['lotsizesquarefeet'] = data['lotsizesquarefeet'].fillna(0)\n",
    "\n",
    "# check for outliers\n",
    "f, ax = plt.subplots(nrows=1, ncols=2, figsize=[15, 7])\n",
    "sns.distplot(data['lotsizesquarefeet'], ax=ax[0]).set_title('Before');\n",
    "\n",
    "max_value = data['lotsizesquarefeet'].mean() + data['lotsizesquarefeet'].std() * 6\n",
    "data.loc[data['lotsizesquarefeet'] > max_value, 'lotsizesquarefeet'] = max_value\n",
    "\n",
    "sns.distplot(data['lotsizesquarefeet'].values, ax=ax[1]).set_title('After');"
   ]
  },
  {
   "cell_type": "markdown",
   "metadata": {},
   "source": [
    "### Variable: poolcnt - Number of pools on the lot (if any)\n",
    "\n",
    "Has datatype: ordinal and 82.6 percent of values missing \n",
    "\n",
    "We replace all missing values with 0 which will represent no pools."
   ]
  },
  {
   "cell_type": "code",
   "execution_count": 17,
   "metadata": {},
   "outputs": [
    {
     "name": "stdout",
     "output_type": "stream",
     "text": [
      "Before [ nan   1.]\n",
      "After [0 1]\n"
     ]
    }
   ],
   "source": [
    "print('Before', data['poolcnt'].unique())\n",
    "data['poolcnt'] = data['poolcnt'].fillna(0).astype(np.int32)\n",
    "print('After', data['poolcnt'].unique())"
   ]
  },
  {
   "cell_type": "markdown",
   "metadata": {},
   "source": [
    "### Variable: poolsizesum - Total square footage of all pools on property\n",
    "\n",
    "Has datatype: ordinal and 99 percent of values missing \n",
    "\n",
    "We replace all missing values with 0 if number of pools is 0 or with the average poolsizesum otherwise."
   ]
  },
  {
   "cell_type": "code",
   "execution_count": 18,
   "metadata": {},
   "outputs": [
    {
     "data": {
      "image/png": "[encoded data removed]",
      "text/plain": [
       "<matplotlib.figure.Figure at 0x116398d30>"
      ]
     },
     "metadata": {},
     "output_type": "display_data"
    }
   ],
   "source": [
    "data.loc[data['poolsizesum'].isnull(), 'poolsizesum'] = int(data['poolsizesum'].mean())\n",
    "data.loc[data['poolcnt'] == 0, 'poolsizesum'] = 0\n",
    "\n",
    "# check for outliers\n",
    "f, ax = plt.subplots(nrows=1, ncols=2, figsize=[15, 7])\n",
    "sns.distplot(data['poolsizesum'], ax=ax[0]).set_title('Before');\n",
    "\n",
    "max_value = data['poolsizesum'].mean() + data['poolsizesum'].std() * 6\n",
    "data.loc[data['poolsizesum'] > max_value, 'poolsizesum'] = max_value\n",
    "\n",
    "sns.distplot(data['poolsizesum'].values, ax=ax[1]).set_title('After');"
   ]
  },
  {
   "cell_type": "markdown",
   "metadata": {},
   "source": [
    "### Variable: pooltypeid10 - Spa or Hot Tub\n",
    "\n",
    "Has datatype: ordinal and 98.8 percent of values missing \n",
    "\n",
    "We replace all missing values with 0 which will represent no Spa or Hot Tub."
   ]
  },
  {
   "cell_type": "code",
   "execution_count": 19,
   "metadata": {
    "scrolled": true
   },
   "outputs": [
    {
     "name": "stdout",
     "output_type": "stream",
     "text": [
      "Before [ nan   1.]\n",
      "After [0 1]\n"
     ]
    }
   ],
   "source": [
    "print('Before', data['pooltypeid10'].unique())\n",
    "data['pooltypeid10'] = data['pooltypeid10'].fillna(0).astype(np.int32)\n",
    "print('After', data['pooltypeid10'].unique())"
   ]
  },
  {
   "cell_type": "markdown",
   "metadata": {},
   "source": [
    "### Variable: yardbuildingsqft17 - sq feet of patio in yard\n",
    "\n",
    "Has datatype: interval and 97.29 percent of values missing\n",
    "\n",
    "We replace all missing values with 0 representing no patio"
   ]
  },
  {
   "cell_type": "code",
   "execution_count": 45,
   "metadata": {},
   "outputs": [
    {
     "name": "stdout",
     "output_type": "stream",
     "text": [
      "Before [   0  450   94 ..., 2072 1079 1664]\n",
      "After [   0  450   94 ..., 2072 1079 1664]\n"
     ]
    },
    {
     "data": {
      "image/png": "[encoded data removed]",
      "text/plain": [
       "<matplotlib.figure.Figure at 0x155e31940>"
      ]
     },
     "metadata": {},
     "output_type": "display_data"
    }
   ],
   "source": [
    "print('Before', data['yardbuildingsqft17'].unique())\n",
    "data['yardbuildingsqft17'] = data['yardbuildingsqft17'].fillna(0).astype(np.int32)\n",
    "print('After', data['yardbuildingsqft17'].unique())\n",
    "\n",
    "# check for outliers\n",
    "f, ax = plt.subplots(nrows=1, ncols=2, figsize=[15, 7])\n",
    "sns.distplot(data['yardbuildingsqft17'], ax=ax[0]).set_title('Before');\n",
    "\n",
    "max_value = data['yardbuildingsqft17'].mean() + data['yardbuildingsqft17'].std() * 6\n",
    "data.loc[data['yardbuildingsqft17'] > max_value, 'yardbuildingsqft17'] = max_value\n",
    "\n",
    "sns.distplot(data['yardbuildingsqft17'].values, ax=ax[1]).set_title('After');"
   ]
  },
  {
   "cell_type": "markdown",
   "metadata": {},
   "source": [
    "### Variable: yardbuildingsqft26 - storage shed/building in yard\n",
    "\n",
    "Has datatype: interval and 99.91 percent of values missing \n",
    "\n",
    "We replace all missing values with 0 which will represent no (square ft) storage shed or building in the yard."
   ]
  },
  {
   "cell_type": "code",
   "execution_count": 24,
   "metadata": {},
   "outputs": [
    {
     "data": {
      "image/png": "[encoded data removed]",
      "text/plain": [
       "<matplotlib.figure.Figure at 0x102861748>"
      ]
     },
     "metadata": {},
     "output_type": "display_data"
    }
   ],
   "source": [
    "data['yardbuildingsqft26'] = data['yardbuildingsqft26'].fillna(0)\n",
    "\n",
    "# check for outliers\n",
    "f, ax = plt.subplots(nrows=1, ncols=2, figsize=[15, 7])\n",
    "sns.distplot(data['yardbuildingsqft26'], ax=ax[0]).set_title('Before');\n",
    "\n",
    "max_value = data['yardbuildingsqft26'].mean() + data['yardbuildingsqft26'].std() * 6\n",
    "data.loc[data['yardbuildingsqft26'] > max_value, 'yardbuildingsqft26'] = max_value\n",
    "\n",
    "sns.distplot(data['yardbuildingsqft26'].values, ax=ax[1]).set_title('After');"
   ]
  },
  {
   "cell_type": "markdown",
   "metadata": {},
   "source": [
    "### Variable: yearbuilt - The Year the residence was built\n",
    "\n",
    "Has datatype: interval and 1.63 percent of values missing \n",
    "\n",
    "We replace all missing values with the median year built of 1963 until we have a better method to impute"
   ]
  },
  {
   "cell_type": "code",
   "execution_count": 62,
   "metadata": {},
   "outputs": [
    {
     "name": "stdout",
     "output_type": "stream",
     "text": [
      "Before [ 1963.  1948.  1947.  1943.  1946.  1978.  1958.  1949.  1956.  2005.\n",
      "  1957.  1939.  1926.  1938.  1972.  1955.  2004.  2011.  1929.  2010.\n",
      "  1934.  1925.  1936.  1920.  1937.  1962.  1927.  1908.  1909.  1959.\n",
      "  1916.  1993.  1960.  1919.  1942.  1940.  1924.  2006.  1950.  1923.\n",
      "  1912.  1935.  1953.  1985.  1944.  1951.  1973.  2003.  1992.  1952.\n",
      "  1969.  1921.  1981.  2000.  1961.  1989.  1970.  2009.  1984.  1968.\n",
      "  1999.  1964.  1991.  1983.  1982.  1977.  1995.  1994.  1986.  1965.\n",
      "  1974.  1980.  1987.  1967.  1990.  2002.  1971.  1975.  1997.  1976.\n",
      "  1979.  1988.  1998.  2013.  2014.  2012.  1932.  1966.  1954.  1904.\n",
      "  1928.  1930.  1941.  1890.  2001.  1996.  2008.  1913.  1933.  2007.\n",
      "  1931.  1945.  1922.  1910.  1918.  1914.  1911.  1907.  1915.  1905.\n",
      "  1902.  1901.  1903.  1917.  1906.  1895.  1889.  1885.  1887.  1900.\n",
      "  1898.  1896.  1899.  2015.  1893.  1894.  1886.  1897.  1862.  1880.\n",
      "  1891.  1888.  1808.  1855.  1892.  1825.  1884.  1882.  1883.  1810.\n",
      "  1824.  1875.  1874.  1870.  1815.  1881.  1831.  1840.  1865.  1834.\n",
      "  1876.  1829.  1833.  1879.  1819.  1821.  1801.  1823.  1805.  1807.\n",
      "  1806.  1853.  1859.  1828.  1878.  1877.  1812.  1827.]\n",
      "After [ 1963.  1948.  1947.  1943.  1946.  1978.  1958.  1949.  1956.  2005.\n",
      "  1957.  1939.  1926.  1938.  1972.  1955.  2004.  2011.  1929.  2010.\n",
      "  1934.  1925.  1936.  1920.  1937.  1962.  1927.  1908.  1909.  1959.\n",
      "  1916.  1993.  1960.  1919.  1942.  1940.  1924.  2006.  1950.  1923.\n",
      "  1912.  1935.  1953.  1985.  1944.  1951.  1973.  2003.  1992.  1952.\n",
      "  1969.  1921.  1981.  2000.  1961.  1989.  1970.  2009.  1984.  1968.\n",
      "  1999.  1964.  1991.  1983.  1982.  1977.  1995.  1994.  1986.  1965.\n",
      "  1974.  1980.  1987.  1967.  1990.  2002.  1971.  1975.  1997.  1976.\n",
      "  1979.  1988.  1998.  2013.  2014.  2012.  1932.  1966.  1954.  1904.\n",
      "  1928.  1930.  1941.  1890.  2001.  1996.  2008.  1913.  1933.  2007.\n",
      "  1931.  1945.  1922.  1910.  1918.  1914.  1911.  1907.  1915.  1905.\n",
      "  1902.  1901.  1903.  1917.  1906.  1895.  1889.  1885.  1887.  1900.\n",
      "  1898.  1896.  1899.  2015.  1893.  1894.  1886.  1897.  1862.  1880.\n",
      "  1891.  1888.  1808.  1855.  1892.  1825.  1884.  1882.  1883.  1810.\n",
      "  1824.  1875.  1874.  1870.  1815.  1881.  1831.  1840.  1865.  1834.\n",
      "  1876.  1829.  1833.  1879.  1819.  1821.  1801.  1823.  1805.  1807.\n",
      "  1806.  1853.  1859.  1828.  1878.  1877.  1812.  1827.]\n"
     ]
    }
   ],
   "source": [
    "print('Before', data['yearbuilt'].unique())\n",
    "medYear = np.nanmedian(data['yearbuilt'])\n",
    "data['yearbuilt'] = data['yearbuilt'].fillna(medYear)\n",
    "print('After', data['yearbuilt'].unique())"
   ]
  },
  {
   "cell_type": "markdown",
   "metadata": {},
   "source": [
    "### Variable: numberofstories - number of stories or levels the home has\n",
    "\n",
    "Has datatype: ordinal and 77.06 percent of values missing\n",
    "\n",
    "We replace all missing values with 1 to represent the home being a one story house.  Although there is an outlier, we will keep it in the dataset because we believe it is a correct value and could reveal insights later."
   ]
  },
  {
   "cell_type": "code",
   "execution_count": 27,
   "metadata": {},
   "outputs": [
    {
     "name": "stdout",
     "output_type": "stream",
     "text": [
      "Before [ nan   1.   4.   2.   3.  41.   5.   6.  20.   7.  14.  17.   8.]\n",
      "After [  1.   4.   2.   3.  41.   5.   6.  20.   7.  14.  17.   8.]\n"
     ]
    }
   ],
   "source": [
    "print('Before', data['numberofstories'].unique())\n",
    "data['numberofstories'] = data['numberofstories'].fillna(1)\n",
    "print('After', data['numberofstories'].unique())"
   ]
  },
  {
   "cell_type": "markdown",
   "metadata": {},
   "source": [
    "### Variable: fireplaceflag - does the home have a fireplace\n",
    "\n",
    "Has datatype: ordinal and 99.82 percent of values missing\n",
    "\n",
    "We replace all missing values with 0 to represent that the home does not have a fireplace and replace True with 1 to represent the home does have a fireplace"
   ]
  },
  {
   "cell_type": "code",
   "execution_count": 29,
   "metadata": {},
   "outputs": [
    {
     "name": "stdout",
     "output_type": "stream",
     "text": [
      "Before [nan True]\n",
      "After [0 1]\n"
     ]
    }
   ],
   "source": [
    "print('Before', data['fireplaceflag'].unique())\n",
    "data['fireplaceflag'] = data['fireplaceflag'].fillna(0).replace('True', 1).astype(np.int32)\n",
    "print('After', data['fireplaceflag'].unique())"
   ]
  },
  {
   "cell_type": "markdown",
   "metadata": {},
   "source": [
    "### Variable: structuretaxvaluedollarcnt - the assessed value of the building\n",
    "\n",
    "Has datatype: ratio and 1.46 percent of values missing\n",
    "\n",
    "We replace all missing values with the median assessed building tax"
   ]
  },
  {
   "cell_type": "code",
   "execution_count": 59,
   "metadata": {},
   "outputs": [
    {
     "name": "stdout",
     "output_type": "stream",
     "text": [
      "Before [     nan  650756.  571346. ...,  409940.  463704.  437765.]\n",
      "After [ 122590.  650756.  571346. ...,  409940.  463704.  437765.]\n"
     ]
    }
   ],
   "source": [
    "print('Before', data['structuretaxvaluedollarcnt'].unique())\n",
    "medTax = np.nanmedian(data['structuretaxvaluedollarcnt'])\n",
    "#print(medTax)\n",
    "data['structuretaxvaluedollarcnt'] = data['structuretaxvaluedollarcnt'].fillna(medTax)\n",
    "print('After', data['structuretaxvaluedollarcnt'].unique())"
   ]
  },
  {
   "cell_type": "markdown",
   "metadata": {},
   "source": [
    "### Variable: taxvaluedollarcnt - total tax \n",
    "\n",
    "Has datatype: ratio and 1.04 percent of values missing\n",
    "\n",
    "We replace all missing values with the median total tax amount"
   ]
  },
  {
   "cell_type": "code",
   "execution_count": 57,
   "metadata": {},
   "outputs": [
    {
     "name": "stdout",
     "output_type": "stream",
     "text": [
      "Before [  9.00000000e+00   2.75160000e+04   1.41338700e+06 ...,   4.70248000e+05\n",
      "   6.43794000e+05   5.30550000e+05]\n",
      "After [  9.00000000e+00   2.75160000e+04   1.41338700e+06 ...,   4.70248000e+05\n",
      "   6.43794000e+05   5.30550000e+05]\n"
     ]
    }
   ],
   "source": [
    "print('Before', data['taxvaluedollarcnt'].unique())\n",
    "medTax = np.nanmedian(data['taxvaluedollarcnt'])\n",
    "data['taxvaluedollarcnt'] = data['taxvaluedollarcnt'].fillna(medTax)\n",
    "print('After', data['taxvaluedollarcnt'].unique())\n",
    "\n",
    "# check for outliers ?\n"
   ]
  },
  {
   "cell_type": "markdown",
   "metadata": {},
   "source": [
    "### Variable: assessmentyear - year of the property tax assessment\n",
    "\n",
    "Has datatype: interval and has 2 values missing\n",
    "\n",
    "We replace the missing values with the latest tax year which also happens to be the median tax year."
   ]
  },
  {
   "cell_type": "code",
   "execution_count": 52,
   "metadata": {},
   "outputs": [
    {
     "name": "stdout",
     "output_type": "stream",
     "text": [
      "Before [ 2015.  2014.  2003.  2012.  2001.  2011.  2013.  2016.  2010.    nan\n",
      "  2004.  2005.  2002.  2000.  2009.]\n",
      "After [ 2015.  2014.  2003.  2012.  2001.  2011.  2013.  2016.  2010.  2004.\n",
      "  2005.  2002.  2000.  2009.]\n"
     ]
    }
   ],
   "source": [
    "print('Before', data['assessmentyear'].unique())\n",
    "medAssessmentYear = np.nanmedian(data['assessmentyear'])\n",
    "data['assessmentyear'] = data['assessmentyear'].fillna(medAssessmentYear)\n",
    "print('After', data['assessmentyear'].unique())"
   ]
  },
  {
   "cell_type": "markdown",
   "metadata": {},
   "source": [
    "### Variable: landtaxvaluedollarcnt - the assessed value of the land\n",
    "\n",
    "Has datatype: ratio and 1.89 percent of values missing\n",
    "\n",
    "We replace all missing values with the median assessed land values"
   ]
  },
  {
   "cell_type": "code",
   "execution_count": 63,
   "metadata": {
    "scrolled": true
   },
   "outputs": [
    {
     "name": "stdout",
     "output_type": "stream",
     "text": [
      "Before [  9.00000000e+00   2.75160000e+04   7.62631000e+05 ...,   1.28007500e+06\n",
      "   3.61063000e+05   9.54574000e+05]\n",
      "After [  9.00000000e+00   2.75160000e+04   7.62631000e+05 ...,   1.28007500e+06\n",
      "   3.61063000e+05   9.54574000e+05]\n"
     ]
    }
   ],
   "source": [
    "print('Before', data['landtaxvaluedollarcnt'].unique())\n",
    "medLand = np.nanmedian(data['landtaxvaluedollarcnt'])\n",
    "data['landtaxvaluedollarcnt'] = data['landtaxvaluedollarcnt'].fillna(medLand)\n",
    "print('After', data['landtaxvaluedollarcnt'].unique())"
   ]
  },
  {
   "cell_type": "markdown",
   "metadata": {},
   "source": [
    "### Variable: taxamount - property tax for the assessment year\n",
    "\n",
    "Has datatype: ratio and 0.66 percent of values missing\n",
    "\n",
    "We replace all missing values with the median property taxes for the assessment year"
   ]
  },
  {
   "cell_type": "code",
   "execution_count": 64,
   "metadata": {},
   "outputs": [
    {
     "name": "stdout",
     "output_type": "stream",
     "text": [
      "Before [      nan  20800.37  14557.57 ...,  33604.04  12627.18  15546.14]\n",
      "After [  3991.78  20800.37  14557.57 ...,  33604.04  12627.18  15546.14]\n"
     ]
    }
   ],
   "source": [
    "print('Before', data['taxamount'].unique())\n",
    "medTax = np.nanmedian(data['taxamount'])\n",
    "data['taxamount'] = data['taxamount'].fillna(medTax)\n",
    "print('After', data['taxamount'].unique())"
   ]
  },
  {
   "cell_type": "markdown",
   "metadata": {},
   "source": [
    "### Variable: taxdelinquencyflag - property taxes from 2015 that are past due\n",
    "\n",
    "Has datatype: nominal and 98.10 percent of values missing\n",
    "\n",
    "We replace all missing values with 0 representing no past due property taxes and all Y values with 1 representing that there are past due property taxes"
   ]
  },
  {
   "cell_type": "code",
   "execution_count": 39,
   "metadata": {},
   "outputs": [
    {
     "name": "stdout",
     "output_type": "stream",
     "text": [
      "Before [nan 'Y']\n",
      "After [0 1]\n"
     ]
    }
   ],
   "source": [
    "print('Before', data['taxdelinquencyflag'].unique())\n",
    "data['taxdelinquencyflag'] = data['taxdelinquencyflag'].fillna(0).replace('Y', 1).astype(np.int32)\n",
    "print('After', data['taxdelinquencyflag'].unique())"
   ]
  },
  {
   "cell_type": "markdown",
   "metadata": {},
   "source": [
    "### Variable: taxdelinquencyyear - years of deliquency\n",
    "\n",
    "Has datatype: interval and 98.10 percent of values missing\n",
    "\n",
    "We replace all missing values with 0 representing no years of property tax deliquencies"
   ]
  },
  {
   "cell_type": "code",
   "execution_count": 41,
   "metadata": {},
   "outputs": [
    {
     "name": "stdout",
     "output_type": "stream",
     "text": [
      "Before [ nan  13.  15.  11.  14.   9.  10.   8.  12.   7.   6.   2.  92.   5.   3.\n",
      "   4.  95.  91.  93.  98.  82.  79.  94.  97.  90.  99.   0.   1.  87.  84.\n",
      "  86.  88.  96.]\n",
      "After [  0.  13.  15.  11.  14.   9.  10.   8.  12.   7.   6.   2.  92.   5.   3.\n",
      "   4.  95.  91.  93.  98.  82.  79.  94.  97.  90.  99.   1.  87.  84.  86.\n",
      "  88.  96.]\n"
     ]
    }
   ],
   "source": [
    "print('Before', data['taxdelinquencyyear'].unique())\n",
    "data['taxdelinquencyyear'] = data['taxdelinquencyyear'].fillna(0)\n",
    "print('After', data['taxdelinquencyyear'].unique())"
   ]
  },
  {
   "cell_type": "markdown",
   "metadata": {},
   "source": [
    "### Variable: censustractandblock - census tract and census block ID\n",
    "\n",
    "Has datatype: nominal and 2.14 percent of values missing\n",
    "\n",
    "We replace all missing values with "
   ]
  },
  {
   "cell_type": "code",
   "execution_count": 47,
   "metadata": {},
   "outputs": [
    {
     "name": "stdout",
     "output_type": "stream",
     "text": [
      "Before [             nan   6.11100100e+13   6.11100090e+13 ...,   6.05909924e+13\n",
      "   6.05906264e+13   6.03790121e+13]\n"
     ]
    }
   ],
   "source": [
    "print('Before', data['censustractandblock'].unique())\n"
   ]
  },
  {
   "cell_type": "markdown",
   "metadata": {},
   "source": [
    "### Variable: unitcnt - number of units in the building\n",
    "\n",
    "Has datatype: ordinal and 33.5 percent of values missing\n",
    "\n",
    "We replace all missing values with 1 to represent a single family home for any with no values."
   ]
  },
  {
   "cell_type": "code",
   "execution_count": 49,
   "metadata": {},
   "outputs": [
    {
     "name": "stdout",
     "output_type": "stream",
     "text": [
      "Before [   1.    2.    3.    5.    4.    9.   48.   13.   22.   26.   73.   16.\n",
      "   12.    6.    7.   29.   35.  127.   18.    8.   10.  199.   11.   77.\n",
      "   69.   21.  138.   33.   36.   14.  196.  214.   51.   30.   20.  211.\n",
      "  421.   27.   90.   28.   80.   24.   32.  131.  238.  883.   75.   74.\n",
      "  120.   37.   19.   17.  143.  464.   98.   42.   52.   65.   23.   25.\n",
      "  951.   15.  100.   58.  865.  111.   41.   38.  679.  144.   78.   39.\n",
      "  237.   45.   44.  151.  156.   50.   70.   31.   63.  125.  132.   43.\n",
      "   72.  134.  101.  693.  623.   49.   40.  614.  112.  186.   54.  206.\n",
      "   66.  685.   55.   96.   59.   56.  232.   34.  149.   87.   60.  386.\n",
      "   46.  113.  376.  252.  256.   68.  502.  279.  303.  114.  401.  105.\n",
      "  524.  383.   79.   85.   93.   53.   84.  888.   83.  997.   91.   76.\n",
      "  181.   97.   62.  583.  246.  102.  708.  179.  332.  224.  118.   61.\n",
      "   88.  130.]\n",
      "Before [   1.    2.    3.    5.    4.    9.   48.   13.   22.   26.   73.   16.\n",
      "   12.    6.    7.   29.   35.  127.   18.    8.   10.  199.   11.   77.\n",
      "   69.   21.  138.   33.   36.   14.  196.  214.   51.   30.   20.  211.\n",
      "  421.   27.   90.   28.   80.   24.   32.  131.  238.  883.   75.   74.\n",
      "  120.   37.   19.   17.  143.  464.   98.   42.   52.   65.   23.   25.\n",
      "  951.   15.  100.   58.  865.  111.   41.   38.  679.  144.   78.   39.\n",
      "  237.   45.   44.  151.  156.   50.   70.   31.   63.  125.  132.   43.\n",
      "   72.  134.  101.  693.  623.   49.   40.  614.  112.  186.   54.  206.\n",
      "   66.  685.   55.   96.   59.   56.  232.   34.  149.   87.   60.  386.\n",
      "   46.  113.  376.  252.  256.   68.  502.  279.  303.  114.  401.  105.\n",
      "  524.  383.   79.   85.   93.   53.   84.  888.   83.  997.   91.   76.\n",
      "  181.   97.   62.  583.  246.  102.  708.  179.  332.  224.  118.   61.\n",
      "   88.  130.]\n"
     ]
    },
    {
     "data": {
      "image/png": "[encoded data removed]",
      "text/plain": [
       "<matplotlib.figure.Figure at 0x103c9c828>"
      ]
     },
     "metadata": {},
     "output_type": "display_data"
    }
   ],
   "source": [
    "print('Before', data['unitcnt'].unique())\n",
    "data['unitcnt'] = data['unitcnt'].fillna(1)\n",
    "print('Before', data['unitcnt'].unique())\n",
    "\n",
    "# check for outliers\n",
    "f, ax = plt.subplots(nrows=1, ncols=2, figsize=[15, 7])\n",
    "sns.distplot(data['unitcnt'], ax=ax[0]).set_title('Before');\n",
    "\n",
    "max_value = data['unitcnt'].mean() + data['unitcnt'].std() * 6\n",
    "data.loc[data['unitcnt'] > max_value, 'unitcnt'] = max_value\n",
    "\n",
    "sns.distplot(data['unitcnt'].values, ax=ax[1]).set_title('After');"
   ]
  },
  {
   "cell_type": "markdown",
   "metadata": {},
   "source": [
    "# Simple Statistics\n",
    "<b>10 points</b>\n",
    "\n",
    "<i>\n",
    "<b>Description:</b><br/>\n",
    "Visualize appropriate statistics (e.g., range, mode, mean, median, variance, counts) for a subset of attributes. Describe anything meaningful you found from this or if you found something potentially interesting. Note: You can also use data from other sources for comparison. Explain why the statistics run are meaningful. \n",
    "</i>\n",
    "\n",
    "<b>Answer:</b><br/>\n",
    "..."
   ]
  },
  {
   "cell_type": "code",
   "execution_count": 20,
   "metadata": {
    "collapsed": true
   },
   "outputs": [],
   "source": [
    "# code here"
   ]
  },
  {
   "cell_type": "markdown",
   "metadata": {},
   "source": [
    "# Visualize Attributes\n",
    "<b>15 points</b>\n",
    "\n",
    "<i>\n",
    "<b>Description:</b><br/>\n",
    "Visualize the most interesting attributes (at least 5 attributes, your opinion on what is interesting). Important: Interpret the implications for each visualization. Explain for each attribute why the chosen visualization is appropriate.\n",
    "</i>\n",
    "\n",
    "<b>Answer:</b><br/>\n",
    "..."
   ]
  },
  {
   "cell_type": "code",
   "execution_count": 21,
   "metadata": {
    "collapsed": true
   },
   "outputs": [],
   "source": [
    "# code here"
   ]
  },
  {
   "cell_type": "markdown",
   "metadata": {},
   "source": [
    "# Explore Joint Attributes\n",
    "<b>15 points</b>\n",
    "\n",
    "<i>\n",
    "<b>Description:</b><br/>\n",
    "Visualize relationships between attributes: Look at the attributes via scatter plots, correlation, cross-tabulation, group-wise averages, etc. as appropriate. Explain any interesting relationships.\n",
    "</i>\n",
    "\n",
    "<b>Answer:</b><br/>\n",
    "..."
   ]
  },
  {
   "cell_type": "code",
   "execution_count": 22,
   "metadata": {
    "collapsed": true
   },
   "outputs": [],
   "source": [
    "# code here"
   ]
  },
  {
   "cell_type": "markdown",
   "metadata": {},
   "source": [
    "# Explore Attributes and Class\n",
    "<b>10 points</b>\n",
    "\n",
    "<i>\n",
    "<b>Description:</b><br/>\n",
    "Identify and explain interesting relationships between features and the class you are trying to predict (i.e., relationships with variables and the target classification).\n",
    "</i>\n",
    "\n",
    "<b>Answer:</b><br/>\n",
    "..."
   ]
  },
  {
   "cell_type": "code",
   "execution_count": 23,
   "metadata": {
    "collapsed": true
   },
   "outputs": [],
   "source": [
    "# code here"
   ]
  },
  {
   "cell_type": "markdown",
   "metadata": {},
   "source": [
    "# New Features\n",
    "<b>5 points</b>\n",
    "\n",
    "<i>\n",
    "<b>Description:</b><br/>\n",
    "Are there other features that could be added to the data or created from existing features? Which ones?\n",
    "</i>\n",
    "\n",
    "<b>Answer:</b><br/>\n",
    "..."
   ]
  },
  {
   "cell_type": "code",
   "execution_count": 24,
   "metadata": {
    "collapsed": true
   },
   "outputs": [],
   "source": [
    "# code here"
   ]
  },
  {
   "cell_type": "markdown",
   "metadata": {},
   "source": [
    "# Exceptional Work\n",
    "<b>10 points</b>\n",
    "\n",
    "<i>\n",
    "<b>Description:</b><br/>\n",
    "You have free reign to provide additional analyses. One idea: implement dimensionality reduction, then visualize and interpret the results.\n",
    "</i>\n",
    "\n",
    "<b>Answer:</b><br/>\n",
    "..."
   ]
  },
  {
   "cell_type": "code",
   "execution_count": 25,
   "metadata": {
    "collapsed": true
   },
   "outputs": [],
   "source": [
    "# code here"
   ]
  }
 ],
 "metadata": {
  "kernelspec": {
   "display_name": "Python 3",
   "language": "python",
   "name": "python3"
  },
  "language_info": {
   "codemirror_mode": {
    "name": "ipython",
    "version": 3
   },
   "file_extension": ".py",
   "mimetype": "text/x-python",
   "name": "python",
   "nbconvert_exporter": "python",
   "pygments_lexer": "ipython3",
   "version": "3.5.2"
  }
 },
 "nbformat": 4,
 "nbformat_minor": 2
}
